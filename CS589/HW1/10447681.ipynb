{
  "cells": [
    {
      "cell_type": "markdown",
      "metadata": {
        "id": "kLDMbffhWsW8"
      },
      "source": [
        "# Overview\n",
        "\n",
        "This assignment is designed to help you better understand TF-IDF and BM25 algorithms through implementing them from scratch, and applying them on the large-scale community Question-Answering (cQA) [LinkSO](https://dl.acm.org/doi/10.1145/3283812.3283815) dataset. Upon the successful completion of this assignment, you will develop a clear picture on how TF-IDF/BM25 algorithms work.\n",
        "\n",
        "In this assignment, you will need to **run through** (i.e., running each code cell sequentially or `Runtime -> Run all`) the following pipeline:\n",
        "\n",
        "- Step 0: load the dataset into the current environment;\n",
        "- Step 1: import the libraries and helper functions;\n",
        "- Step 2: preprocess the dataset to get the required inputs for the TF-IDF and BM25 algorithms;\n",
        "- Step 3: implement the TF-IDF and BM25 algorithms.\n",
        "\n",
        "We have already implemented Steps 1 through 3 of the pipeline. Step 4 is left for you to implement; it has three questions worthy of 30, 30, and 40 points, respectively.\n",
        "\n",
        "**Suggestion**: Even though the code for Steps 1 through 3 has been provided, reading through all the code cells is **strongly recommended** before you start coding. Once you understand the provided code, the number of lines of code is unlikely to exceed 30.\n",
        "\n",
        "**Runtime**: If you implement everything correctly, you will finish running this entire notebook within 90 minutes under `Stevens-Net`. If you are experiencing noticeable delay, check your network condition.\n",
        "\n",
        "**Library requirement**: You are **NOT** allowed to use existing libraries that have already provided TF-IDF and BM25 implementations; other than these libraries, you are free to choose your preferred libraries.\n",
        "\n",
        "**Note on Colab**: If a cell contains only a function, you should still run it (so the function compiles in Colab), even though it doesn't print any outputs.\n",
        "\n"
      ]
    },
    {
      "cell_type": "markdown",
      "metadata": {
        "id": "bgvp42c9ehAL"
      },
      "source": [
        "## Step 0 - Load Dataset\n"
      ]
    },
    {
      "cell_type": "markdown",
      "metadata": {
        "id": "4P-DBxvlWs3W"
      },
      "source": [
        "Load and unzip the dataset from our remote GitHub repository that hosts the data and starter code.\n",
        "\n",
        "\n"
      ]
    },
    {
      "cell_type": "code",
      "execution_count": 36,
      "metadata": {
        "colab": {
          "base_uri": "https://localhost:8080/"
        },
        "id": "oNy0bWqpWrCa",
        "outputId": "72559650-5378-47e7-81f0-0cdb4246897b"
      },
      "outputs": [
        {
          "name": "stdout",
          "output_type": "stream",
          "text": [
            "Cloning into 'cs589assignment1'...\n",
            "remote: Enumerating objects: 23, done.\u001b[K\n",
            "remote: Counting objects: 100% (2/2), done.\u001b[K\n",
            "remote: Compressing objects: 100% (2/2), done.\u001b[K\n",
            "remote: Total 23 (delta 0), reused 2 (delta 0), pack-reused 21\u001b[K\n",
            "Receiving objects: 100% (23/23), 109.22 MiB | 18.23 MiB/s, done.\n",
            "Resolving deltas: 100% (3/3), done.\n",
            "Updating files: 100% (8/8), done.\n",
            "Archive:  cs589assignment1/dataset/java.zip\n",
            "   creating: cs589assignment1/dataset/java/\n",
            "  inflating: cs589assignment1/dataset/java/java_test_qid.txt  \n",
            "  inflating: cs589assignment1/dataset/java/java_cosidf.txt  \n",
            "  inflating: cs589assignment1/dataset/java/java_qid2all.txt  \n",
            "\n",
            "Archive:  cs589assignment1/dataset/javascript.zip\n",
            "   creating: cs589assignment1/dataset/javascript/\n",
            "  inflating: cs589assignment1/dataset/javascript/javascript_test_qid.txt  \n",
            "  inflating: cs589assignment1/dataset/javascript/javascript_qid2all.txt  \n",
            "  inflating: cs589assignment1/dataset/javascript/javascript_cosidf.txt  \n",
            "\n",
            "Archive:  cs589assignment1/dataset/python.zip\n",
            "   creating: cs589assignment1/dataset/python/\n",
            "  inflating: cs589assignment1/dataset/python/python_test_qid.txt  \n",
            "  inflating: cs589assignment1/dataset/python/python_cosidf.txt  \n",
            "  inflating: cs589assignment1/dataset/python/python_qid2all.txt  \n",
            "\n",
            "Archive:  cs589assignment1/dataset/javascript.zip\n",
            "  inflating: cs589assignment1/dataset/javascript/javascript_test_qid.txt  \n",
            "  inflating: cs589assignment1/dataset/javascript/javascript_qid2all.txt  \n",
            "  inflating: cs589assignment1/dataset/javascript/javascript_cosidf.txt  \n",
            "\n",
            "Archive:  cs589assignment1/dataset/python.zip\n",
            "  inflating: cs589assignment1/dataset/python/python_test_qid.txt  \n",
            "  inflating: cs589assignment1/dataset/python/python_cosidf.txt  \n",
            "  inflating: cs589assignment1/dataset/python/python_qid2all.txt  \n",
            "\n",
            "5 archives were successfully processed.\n"
          ]
        }
      ],
      "source": [
        "! rm -rf cs589*\n",
        "! git clone https://github.com/guanqun-yang/cs589assignment1.git\n",
        "! unzip -o \"cs589assignment1/dataset/*.zip\" -d cs589assignment1/dataset\n"
      ]
    },
    {
      "cell_type": "markdown",
      "metadata": {
        "id": "A_KOkCPIiP-_"
      },
      "source": [
        "## Step 1 - Import Libraries\n"
      ]
    },
    {
      "cell_type": "markdown",
      "metadata": {
        "id": "8uiXyxfoW0JD"
      },
      "source": [
        "Import the required libraries here. You could use additional libraries to help with your implementation."
      ]
    },
    {
      "cell_type": "code",
      "execution_count": 37,
      "metadata": {
        "id": "5GqfSBrBWgJg"
      },
      "outputs": [],
      "source": [
        "import re\n",
        "import os\n",
        "import copy\n",
        "import math\n",
        "import random\n",
        "import string\n",
        "import pathlib\n",
        "import itertools\n",
        "\n",
        "import numpy as np\n",
        "import pandas as pd\n",
        "\n",
        "from tqdm import tqdm\n",
        "from collections import Counter, defaultdict\n",
        "from sklearn.feature_extraction.text import CountVectorizer\n",
        "\n",
        "from cs589assignment1.utils.common import save_pickle_file, load_pickle_file, load_text_file\n",
        "\n",
        "base_path = pathlib.Path(\"cs589assignment1/dataset/\")\n",
        "tqdm.pandas()"
      ]
    },
    {
      "cell_type": "code",
      "execution_count": 38,
      "metadata": {
        "id": "dIey_8x0iTM0"
      },
      "outputs": [],
      "source": [
        "def split_text(text):\n",
        "    return text.split()\n",
        "\n",
        "\n",
        "def load_qids(lang=\"java\"):\n",
        "    return [qid.strip(string.whitespace) for qid in load_text_file(base_path / pathlib.Path(f\"{lang}/{lang}_test_qid.txt\"))]\n",
        "\n",
        "\n",
        "def load_qid_dataframe(lang=\"java\"):\n",
        "    qid_dataframe = pd.read_csv(base_path / pathlib.Path(f\"{lang}/{lang}_cosidf.txt\"),\n",
        "                                sep=\"\\t\",\n",
        "                                usecols=[\"qid1\", \"qid2\", \"label\"],\n",
        "                                dtype={\"qid1\": str, \"qid2\": str, \"label\": int})\n",
        "    return qid_dataframe\n",
        "\n",
        "\n",
        "def load_corpus(lang=\"java\", verbose=False):\n",
        "    lines = load_text_file(base_path / pathlib.Path(f\"{lang}/{lang}_qid2all.txt\"))\n",
        "\n",
        "    record_list = list()\n",
        "    for line in tqdm(lines, disable=not verbose):\n",
        "        record_list.append(\n",
        "            {name: text.strip(string.whitespace) for name, text in zip([\"qid\", \"title\", \"question\", \"answer\"], line.split(\"\\t\"))}\n",
        "        )\n",
        "\n",
        "    corpus_dataframe = pd.DataFrame(record_list)\n",
        "\n",
        "    return corpus_dataframe"
      ]
    },
    {
      "cell_type": "code",
      "execution_count": 39,
      "metadata": {
        "colab": {
          "base_uri": "https://localhost:8080/"
        },
        "id": "d4rylui-wcM6",
        "outputId": "7e67d433-3ad1-4a8e-ed65-32c871bd1189"
      },
      "outputs": [
        {
          "name": "stderr",
          "output_type": "stream",
          "text": [
            "100%|██████████| 159263/159263 [00:00<00:00, 269816.08it/s]\n"
          ]
        },
        {
          "name": "stdout",
          "output_type": "stream",
          "text": [
            "        qid                                     title  \\\n",
            "0  31424546   eclipse mars starts exit code using jdk   \n",
            "1  31457289  efficient method updating observablelist   \n",
            "2  16777228                          set title jtable   \n",
            "3  27262998                  multiple websockets java   \n",
            "4  46137348      find runtime error nzec java program   \n",
            "\n",
            "                                            question  \\\n",
            "0  plan moving eclipse mars recently installed bi...   \n",
            "1  setup mysql database data makeshift server bui...   \n",
            "2  newbie java wanted set table header jtable tak...   \n",
            "3  deprecated ok opening connection specific port...   \n",
            "4  find runtime error nzec java program program r...   \n",
            "\n",
            "                                              answer  \n",
            "0  jdk bit download windows x version point vm mi...  \n",
            "1  need would work keep list instance serverlist ...  \n",
            "2  define variable containing column names must i...  \n",
            "3  trying achieve multiple function listen server...  \n",
            "4  try test code input like probably shall realiz...  \n"
          ]
        }
      ],
      "source": [
        "# take a look at the corpus\n",
        "pd.set_option(\"display.max_columns\", 10)\n",
        "\n",
        "java_corpus_dataframe = load_corpus(lang=\"java\", verbose=True)\n",
        "print(java_corpus_dataframe.head())"
      ]
    },
    {
      "cell_type": "markdown",
      "metadata": {
        "id": "ruBPtuUEjMpY"
      },
      "source": [
        "## Step 2 - Data Preprocessing"
      ]
    },
    {
      "cell_type": "markdown",
      "metadata": {
        "id": "jalvAG2AnNlE"
      },
      "source": [
        "\n",
        "\n",
        "The following cell computes the term frequency (TF) for each word in each component in each StackOverflow question (indexed by the question ID `qid`)."
      ]
    },
    {
      "cell_type": "code",
      "execution_count": 40,
      "metadata": {
        "colab": {
          "background_save": true
        },
        "id": "1A8rjYW5PZUT"
      },
      "outputs": [],
      "source": [
        "def get_corpus_tf_dict(corpus_dataframe):\n",
        "    \"\"\" Input: corpus_dataframe, e.g.,\n",
        "\n",
        "         qid         title                 question          answer\n",
        " 0  31424546   eclipse mars   eclipse moving eclipse    jdk download\n",
        "\n",
        "        Output: corpus_tf_dict, the term frequency for each word in each component of each question, e.g.,\n",
        "        {'31424546': {'title': {'eclipse': 1, 'mars': 1},\n",
        "                      'question': {'moving': 1, 'eclipse': 2},\n",
        "                      'answer': {'jdk': 1, 'download': 1}}}\n",
        "    \"\"\"\n",
        "    cnt_dataframe = copy.deepcopy(corpus_dataframe)\n",
        "    for c in [\"title\", \"question\", \"answer\"]:\n",
        "        cnt_dataframe[c] = cnt_dataframe[c].progress_apply(lambda x: Counter(split_text(x)))\n",
        "\n",
        "    corpus_tf_dict = cnt_dataframe.set_index(\"qid\").to_dict(\"index\")\n",
        "\n",
        "    return corpus_tf_dict"
      ]
    },
    {
      "cell_type": "markdown",
      "metadata": {
        "id": "tNmHc7CWPXC9"
      },
      "source": [
        "\n",
        "\n",
        "The following cell computes the document length (dl) of each component in each StackOverflow question (indexed by the question ID `qid`).\n"
      ]
    },
    {
      "cell_type": "code",
      "execution_count": 41,
      "metadata": {
        "colab": {
          "background_save": true
        },
        "id": "7BrSk87sPTvm"
      },
      "outputs": [],
      "source": [
        "def get_corpus_dl_dict(corpus_dataframe):\n",
        "    \"\"\" Input: corpus_dataframe, e.g.,\n",
        "         qid         title                 question          answer\n",
        "0  31424546   eclipse mars   eclipse moving eclipse    jdk download\n",
        "\n",
        "        Output: corpus_dl_dict, the document length for each component from each question, e.g.,\n",
        "        {'31424546': {'title': 2,\n",
        "                      'question': 3,\n",
        "                      'answer': 2}}\n",
        "    \"\"\"\n",
        "    length_dataframe = copy.deepcopy(corpus_dataframe)\n",
        "    for c in [\"title\", \"question\", \"answer\"]:\n",
        "        length_dataframe[c] = length_dataframe[c].progress_apply(lambda x: len(split_text(x)))\n",
        "\n",
        "    corpus_dl_dict = length_dataframe.set_index(\"qid\").to_dict(\"index\")\n",
        "\n",
        "    return corpus_dl_dict"
      ]
    },
    {
      "cell_type": "markdown",
      "metadata": {
        "id": "MDOb8YP_PQ4W"
      },
      "source": [
        "The following cell computes the document frequency (DF) of each word in each StackOverflow question (indexed by the question ID `qid`). The definition of document frequency is how many document a word appears in, not to be confused with the word's frequency in the entire corpus. For example, the df of \"eclipse\" below is 2 instead of 3."
      ]
    },
    {
      "cell_type": "code",
      "execution_count": 42,
      "metadata": {
        "colab": {
          "background_save": true
        },
        "id": "A-9_U7q9PKW-"
      },
      "outputs": [],
      "source": [
        "def get_corpus_df_dict(corpus_dataframe):\n",
        "    \"\"\" Input: corpus_dataframe, e.g.,\n",
        "         qid          title                 question          answer\n",
        " 0  31424546   eclipse mars   eclipse moving eclipse    jdk download\n",
        "\n",
        "        Output: corpus_df_dict, the document length for each component from each question, e.g.,\n",
        "        {'eclipse': 2, \"mars\": 1, \"moving\": 1, \"jdk\": 1, \"download\": 1}\n",
        "    \"\"\"\n",
        "    vectorizer = CountVectorizer(binary=True)\n",
        "\n",
        "    X = vectorizer.fit_transform(corpus_dataframe.title.tolist() + \\\n",
        "                                 corpus_dataframe.question.tolist() + \\\n",
        "                                 corpus_dataframe.answer.tolist())\n",
        "    corpus_df_dict = {token: doc_freq for token, doc_freq in \\\n",
        "                      zip(vectorizer.get_feature_names_out(), np.ravel(X.sum(axis=0)))}\n",
        "\n",
        "    return corpus_df_dict"
      ]
    },
    {
      "cell_type": "markdown",
      "metadata": {
        "id": "ky9DEE-3PHQ2"
      },
      "source": [
        "### Saving the Data Preprocessing Result\n",
        "\n",
        "After computing the TF, DF and dl, cache each of them in a pickle file to be loaded later:"
      ]
    },
    {
      "cell_type": "code",
      "execution_count": 43,
      "metadata": {
        "colab": {
          "background_save": true
        },
        "id": "VHnTVSnDO8a4"
      },
      "outputs": [],
      "source": [
        "pkl_path = pathlib.Path(\"pkl/\")\n",
        "if not pkl_path.exists(): pkl_path.mkdir()\n",
        "\n",
        "def save_preprocessing_results(lang):\n",
        "    print(f\"Processing {lang}...\")\n",
        "\n",
        "    lang_pkl_path = pkl_path / lang\n",
        "    if not lang_pkl_path.exists(): os.mkdir(lang_pkl_path)\n",
        "\n",
        "    # load corpus and convert corpus to various required data\n",
        "    corpus_dataframe = load_corpus(lang=lang, verbose=True)\n",
        "\n",
        "    # obtain the dictionary for the term frequency for each word in each component of each question\n",
        "    corpus_tf_dict = get_corpus_tf_dict(corpus_dataframe)\n",
        "\n",
        "    # saving the term frequency dictionary\n",
        "    save_pickle_file(corpus_tf_dict, f\"pkl/{lang}/corpus_tf_dict.pkl\")\n",
        "\n",
        "    # obtain the dictionary for the document length for each component in each question\n",
        "    corpus_dl_dict = get_corpus_dl_dict(corpus_dataframe)\n",
        "\n",
        "    # save the document length dictionary\n",
        "    save_pickle_file(corpus_dl_dict, f\"pkl/{lang}/corpus_dl_dict.pkl\")\n",
        "\n",
        "    # obtain the dictionary for the document frequency for each word in the corpus\n",
        "    corpus_df_dict = get_corpus_df_dict(corpus_dataframe)\n",
        "\n",
        "    # remove rare words\n",
        "    corpus_df_dict = {k: v for k, v in corpus_df_dict.items() if v >= 20}\n",
        "\n",
        "    # save the document frequency dictionary\n",
        "    save_pickle_file(corpus_df_dict, f\"pkl/{lang}/corpus_df_dict.pkl\")\n",
        "\n",
        "    return corpus_tf_dict, corpus_dl_dict, corpus_df_dict"
      ]
    },
    {
      "cell_type": "markdown",
      "metadata": {
        "id": "25NkbjmfLCVN"
      },
      "source": [
        "Run the data processing pipeline for the 3 languages:"
      ]
    },
    {
      "cell_type": "code",
      "execution_count": 44,
      "metadata": {
        "colab": {
          "background_save": true
        },
        "id": "plzD8Kdn84oI"
      },
      "outputs": [
        {
          "name": "stdout",
          "output_type": "stream",
          "text": [
            "Processing python...\n"
          ]
        },
        {
          "name": "stderr",
          "output_type": "stream",
          "text": [
            "100%|██████████| 128500/128500 [00:00<00:00, 292077.54it/s]\n",
            "100%|██████████| 128500/128500 [00:00<00:00, 307450.48it/s]\n",
            "100%|██████████| 128500/128500 [00:02<00:00, 53649.10it/s]\n",
            "100%|██████████| 128500/128500 [00:01<00:00, 78760.39it/s]\n",
            "100%|██████████| 128500/128500 [00:00<00:00, 446108.74it/s]\n",
            "100%|██████████| 128500/128500 [00:00<00:00, 135560.70it/s]\n",
            "100%|██████████| 128500/128500 [00:00<00:00, 139521.79it/s]\n"
          ]
        },
        {
          "name": "stdout",
          "output_type": "stream",
          "text": [
            "Processing java...\n"
          ]
        },
        {
          "name": "stderr",
          "output_type": "stream",
          "text": [
            "100%|██████████| 159263/159263 [00:00<00:00, 464278.52it/s]\n",
            "100%|██████████| 159263/159263 [00:00<00:00, 345405.39it/s]\n",
            "100%|██████████| 159263/159263 [00:02<00:00, 70208.11it/s]\n",
            "100%|██████████| 159263/159263 [00:02<00:00, 58120.65it/s]\n",
            "100%|██████████| 159263/159263 [00:00<00:00, 966048.53it/s] \n",
            "100%|██████████| 159263/159263 [00:00<00:00, 257571.17it/s]\n",
            "100%|██████████| 159263/159263 [00:00<00:00, 235132.54it/s]\n"
          ]
        },
        {
          "name": "stdout",
          "output_type": "stream",
          "text": [
            "Processing javascript...\n"
          ]
        },
        {
          "name": "stderr",
          "output_type": "stream",
          "text": [
            "100%|██████████| 174015/174015 [00:00<00:00, 383658.44it/s]\n",
            "100%|██████████| 174015/174015 [00:00<00:00, 351475.45it/s]\n",
            "100%|██████████| 174015/174015 [00:02<00:00, 63197.79it/s]\n",
            "100%|██████████| 174015/174015 [00:01<00:00, 88190.51it/s]\n",
            "100%|██████████| 174015/174015 [00:00<00:00, 747454.18it/s]\n",
            "100%|██████████| 174015/174015 [00:00<00:00, 285242.56it/s]\n",
            "100%|██████████| 174015/174015 [00:00<00:00, 314691.48it/s]\n"
          ]
        }
      ],
      "source": [
        "for lang in [\"python\", \"java\", \"javascript\"]:\n",
        "     save_preprocessing_results(lang)"
      ]
    },
    {
      "cell_type": "markdown",
      "metadata": {
        "id": "6FRLif-ZLNY4"
      },
      "source": [
        "Create the folder `result` to store results for Question 4 - 6 if it does not exist."
      ]
    },
    {
      "cell_type": "code",
      "execution_count": 45,
      "metadata": {
        "colab": {
          "background_save": true
        },
        "id": "_VnIkthWLjos"
      },
      "outputs": [],
      "source": [
        "result_path = pathlib.Path(\"result\")\n",
        "if not result_path.exists(): result_path.mkdir()"
      ]
    },
    {
      "cell_type": "markdown",
      "metadata": {
        "id": "9mmb3lSFrdNo"
      },
      "source": [
        "## Step 3 - Implement the TF-IDF and BM25 Algorithms\n",
        "\n",
        "\n",
        "\n",
        "\n"
      ]
    },
    {
      "cell_type": "markdown",
      "metadata": {
        "id": "6sRVgNEqyGws"
      },
      "source": [
        "### Question 1 (30 pts)\n",
        "Compute the cosine similarity given dictionaries of word count, `query_dict` and `candidate_dict`.\n",
        "When working with term frequencies, they are extracted from `corpus_tf_dict` using `corpus_tf_dict[qid][component]` syntax)."
      ]
    },
    {
      "cell_type": "code",
      "execution_count": 49,
      "metadata": {
        "colab": {
          "background_save": true
        },
        "id": "MEfOaOj_xqNU"
      },
      "outputs": [],
      "source": [
        "def compute_cosine_similarity(query_dict,\n",
        "                              candidate_dict):\n",
        "    \"\"\" Input: query_dict: a dict of word and its word count in query document, e.g.\n",
        "               {\"i\": 1, \"love\": 1, \"python\": 1}\n",
        "               candidate_dict: a dict of word and its word count in the candidate document, e.g.\n",
        "               {\"i\": 1, \"like\": 1, \"c++\": 1}\n",
        "        Output: score: cosine similary between query and candidate documents\n",
        "                0.33333333333333337\n",
        "\n",
        "    \"\"\"\n",
        "\n",
        "    score = 0\n",
        "    #############################################START HERE#############################################\n",
        "    # Question 1 (30 pts)\n",
        "    den_q = 0\n",
        "    den_d = 0\n",
        "    words = set(query_dict.keys()).union(set(candidate_dict.keys()))\n",
        "    for w in words:\n",
        "        # Gather necessary information for cosine similarity\n",
        "        den_q += query_dict.get(w, 0) ** 2\n",
        "        den_d += candidate_dict.get(w, 0) ** 2\n",
        "        score += query_dict.get(w, 0) * candidate_dict.get(w, 0)\n",
        "    den = (den_q * den_d) ** (1/2)\n",
        "    if den == 0:\n",
        "        # If den is 0, assume similarity is 0 because either the query or the candidate are empty\n",
        "        return 0\n",
        "    score /= den\n",
        "    ##############################################END HERE##############################################\n",
        "    return score"
      ]
    },
    {
      "cell_type": "markdown",
      "metadata": {
        "id": "-drAVVQqWOjU"
      },
      "source": [
        "Test your `compute_cosine_similarity` implementation on the Python corpus when retrieving candidate's title using query's title."
      ]
    },
    {
      "cell_type": "code",
      "execution_count": 50,
      "metadata": {
        "colab": {
          "background_save": true
        },
        "id": "vlvkvFCNWMq4"
      },
      "outputs": [],
      "source": [
        "lang = \"python\"\n",
        "\n",
        "corpus_tf_dict = load_pickle_file(f\"pkl/{lang}/corpus_tf_dict.pkl\")\n",
        "qid_dataframe = load_qid_dataframe(f\"{lang}\")\n",
        "\n",
        "result_dict = dict()\n",
        "for qid1, qid2 in list(qid_dataframe[[\"qid1\", \"qid2\"]].to_records(index=False)):\n",
        "    result_dict[(qid1, qid2)] = compute_cosine_similarity(corpus_tf_dict[qid1][\"title\"],\n",
        "                                                          corpus_tf_dict[qid2][\"title\"])\n",
        "\n",
        "\n",
        "result_filename = pathlib.Path(\"result/Q4.txt\")\n",
        "if result_filename.exists(): os.remove(result_filename)\n",
        "\n",
        "with open(result_filename, \"a\") as fp:\n",
        "    fp.write(\"qid1\\tqid2\\tscore\\n\")\n",
        "    for (qid1, qid2), score in result_dict.items():\n",
        "        fp.write(f\"{qid1}\\t{qid2}\\t{score}\\n\")"
      ]
    },
    {
      "cell_type": "markdown",
      "metadata": {
        "id": "qGMQTUNJxmr_"
      },
      "source": [
        "### Question 2 (30 pts)\n",
        "Compute the TF-IDF score of each word in `document_tf_dict` and store it in the `document_word_tfidf_dict`.\n",
        "\n",
        "For the total number of documents `N`, as our LinkSO dataset is scraped from the StackOverflow website, it is a small sample of the entire pool of posts, and the exact number of posts is constantly changing (see real-time statistics [here](https://api.stackexchange.com/docs/info#filter=default&site=stackoverflow&run=true) for all topics). For the sake of this assignment, we could set the total number of posts to a constant, for example, `N = 10 ** 6`, as an approximation.\n",
        "\n",
        "Notice the example provided as docstring is used to help you understand the input and output data structures. You are not expected to reproduce the numbers exactly."
      ]
    },
    {
      "cell_type": "code",
      "execution_count": 55,
      "metadata": {
        "colab": {
          "background_save": true
        },
        "id": "mekQGz4_xs-N"
      },
      "outputs": [],
      "source": [
        "def compute_document_tfidf(document_tf_dict,\n",
        "                           corpus_df_dict):\n",
        "    \"\"\" Input: document_tf_dict: a dict of word and its term frequency in document\n",
        "               {\"i\": 1, \"love\": 1, \"python\": 1}\n",
        "               corpus_df_dict: a dict of word and its document frequencey in the entire corpus\n",
        "               {\"i\": 2, \"you\": 1, \"we\": 3, \"love\": 1, \"like\": 1, \"hate\": 2, \"python\": 5, \"c++\": 3}\n",
        "        Output: document_word_tfidf_dict: a dict of word and its TF-IDF score in the document\n",
        "               {'i': 13.592366256649782, 'love': 14.103192380416024, 'python': 12.803907396283263}\n",
        "    \"\"\"\n",
        "    document_word_tfidf_dict = dict()\n",
        "    #############################################START HERE#############################################\n",
        "    # Question 2 (30 pts)\n",
        "    N = 10 ** 6\n",
        "    for w in document_tf_dict:\n",
        "        df = corpus_df_dict.get(w, 0)\n",
        "        if df == 0:\n",
        "            document_word_tfidf_dict[w] = 0\n",
        "            continue\n",
        "        document_word_tfidf_dict[w] = math.log(N / df) * document_tf_dict.get(w,0)\n",
        "    ##############################################END HERE##############################################\n",
        "\n",
        "    return document_word_tfidf_dict"
      ]
    },
    {
      "cell_type": "markdown",
      "metadata": {
        "id": "WxnFWDzQX65s"
      },
      "source": [
        "Test your `compute_document_tfidf` implementation on the title component of the Java corpus."
      ]
    },
    {
      "cell_type": "code",
      "execution_count": 56,
      "metadata": {
        "colab": {
          "background_save": true
        },
        "id": "ev6FSna6Wws8"
      },
      "outputs": [],
      "source": [
        "lang = \"java\"\n",
        "\n",
        "corpus_tf_dict = load_pickle_file(f\"pkl/{lang}/corpus_tf_dict.pkl\")\n",
        "corpus_df_dict = load_pickle_file(f\"pkl/{lang}/corpus_df_dict.pkl\")\n",
        "qid_dataframe = load_qid_dataframe(f\"{lang}\")\n",
        "\n",
        "result_dict = dict()\n",
        "for qid1 in qid_dataframe.qid1.tolist():\n",
        "    result_dict[qid1] = compute_document_tfidf(corpus_tf_dict[qid1][\"title\"],\n",
        "                                               corpus_df_dict)\n",
        "\n",
        "result_filename = pathlib.Path(\"result/Q5.txt\")\n",
        "if result_filename.exists(): os.remove(result_filename)\n",
        "\n",
        "with open(result_filename, \"a\") as fp:\n",
        "    fp.write(\"qid1\\ttoken\\ttfidf\\n\")\n",
        "    for qid1, d in result_dict.items():\n",
        "        for token, score in d.items():\n",
        "            fp.write(f\"{qid1}\\t{token}\\t{score}\\n\")"
      ]
    },
    {
      "cell_type": "markdown",
      "metadata": {
        "id": "m60k2-k4xhRN"
      },
      "source": [
        "### Question 3 (40 pts)\n",
        "\n",
        "Compute the BM25 score between `query_tf_dict` and `candidate_tf_dict`. `N = 10 ** 6` following Question 2.\n",
        "\n",
        "Notice the example provided as docstring is used to help you understand the input and output data structures. You are not expected to reproduce the numbers exactly."
      ]
    },
    {
      "cell_type": "code",
      "execution_count": 57,
      "metadata": {
        "colab": {
          "background_save": true
        },
        "id": "hfd6rQiGPs-N"
      },
      "outputs": [],
      "source": [
        "def compute_document_bm25(query_tf_dict,\n",
        "                          candidate_tf_dict,\n",
        "                          corpus_df_dict,\n",
        "                          candidate_length,\n",
        "                          avgdl):\n",
        "    \"\"\" Input: query_tf_dict: a dict of word and its term frequency in query document\n",
        "               {\"i\": 1, \"love\": 1, \"python\": 1}\n",
        "               candidate_tf_dict:a dict of word and its term frequency in candidate document\n",
        "               {\"i\": 1, \"like\": 1, \"c++\": 1}\n",
        "               corpus_df_dict: a dict of word and its document frequencey in the entire corpus\n",
        "               {\"i\": 2, \"you\": 1, \"we\": 3, \"love\": 1, \"like\": 1, \"hate\": 2, \"python\": 5, \"c++\": 3}\n",
        "               candidate_length: number of words in candidate document\n",
        "               3\n",
        "               avgdl: average document length in the entire corpus\n",
        "               4\n",
        "       Output: score: BM25 score between query and candidate\n",
        "               15.816571644101565\n",
        "    \"\"\"\n",
        "\n",
        "\n",
        "    # hyperparameters for BM25 algorithm\n",
        "    k1, b = 3, 0.75\n",
        "\n",
        "    score = 0\n",
        "    #############################################START HERE#############################################\n",
        "    # Question 3 (40 pts)\n",
        "    N = 10 ** 6\n",
        "    for w in query_tf_dict.keys():\n",
        "        dfi = corpus_df_dict.get(w, 0)\n",
        "        tfi = candidate_tf_dict.get(w, 0)\n",
        "        if dfi == 0:\n",
        "            continue\n",
        "        num = tfi * (k1 + 1)\n",
        "        den = k1 * (1 - b + b * (candidate_length/avgdl)) + tfi\n",
        "        if den == 0:\n",
        "            continue\n",
        "        score += math.log(N/dfi) * num/den\n",
        "    ##############################################END HERE##############################################\n",
        "\n",
        "    return score\n"
      ]
    },
    {
      "cell_type": "markdown",
      "metadata": {
        "id": "lAt0Crk9YF9x"
      },
      "source": [
        "Test your `compute_document_bm25` implementation on the `title` component of the JavaScript corpus."
      ]
    },
    {
      "cell_type": "code",
      "execution_count": 58,
      "metadata": {
        "colab": {
          "background_save": true
        },
        "id": "1R3ncHWaX4Ol"
      },
      "outputs": [
        {
          "name": "stderr",
          "output_type": "stream",
          "text": [
            "100%|██████████| 174015/174015 [00:00<00:00, 344793.09it/s]\n"
          ]
        }
      ],
      "source": [
        "lang = \"javascript\"\n",
        "\n",
        "corpus_tf_dict = load_pickle_file(f\"pkl/{lang}/corpus_tf_dict.pkl\")\n",
        "corpus_df_dict = load_pickle_file(f\"pkl/{lang}/corpus_df_dict.pkl\")\n",
        "corpus_dl_dict = load_pickle_file(f\"pkl/{lang}/corpus_dl_dict.pkl\")\n",
        "\n",
        "qid_dataframe = load_qid_dataframe(f\"{lang}\")\n",
        "\n",
        "corpus_dataframe = load_corpus(lang=lang, verbose=True)\n",
        "avgdl = corpus_dataframe[\"title\"].apply(lambda x: len(split_text(x))).sum() / len(corpus_dataframe)\n",
        "\n",
        "result_dict = dict()\n",
        "for qid1, qid2 in list(qid_dataframe[[\"qid1\", \"qid2\"]].to_records(index=False)):\n",
        "    result_dict[(qid1, qid2)] = compute_document_bm25(corpus_tf_dict[qid1][\"title\"],\n",
        "                                                      corpus_tf_dict[qid2][\"title\"],\n",
        "                                                      corpus_df_dict,\n",
        "                                                      corpus_dl_dict[qid2][\"title\"],\n",
        "                                                      avgdl)\n",
        "\n",
        "\n",
        "result_filename = pathlib.Path(\"result/Q6.txt\")\n",
        "if result_filename.exists(): os.remove(result_filename)\n",
        "\n",
        "with open(result_filename, \"a\") as fp:\n",
        "    fp.write(\"qid1\\tqid2\\tscore\\n\")\n",
        "    for (qid1, qid2), score in result_dict.items():\n",
        "        fp.write(f\"{qid1}\\t{qid2}\\t{score}\\n\")"
      ]
    },
    {
      "cell_type": "markdown",
      "metadata": {
        "id": "adiHX2tn2IXu"
      },
      "source": [
        "### Running Your Ranking Algorithms\n",
        "\n",
        "The function `run_retrieval_algorithm` puts your implementations (`compute_cosine_similarity`, `compute_document_tfidf`, and `compute_document_bm25`) together and apply them to the entire dataset. Even though the code has been provided, it is recommended to read it to get a sense of how the retrieval pipeline works."
      ]
    },
    {
      "cell_type": "code",
      "execution_count": 59,
      "metadata": {
        "colab": {
          "background_save": true
        },
        "id": "uNkmuEEjmDC7"
      },
      "outputs": [],
      "source": [
        "base_path = pathlib.Path(\"cs589assignment1/dataset/\")\n",
        "\n",
        "def run_retrieval_algorithm(lang, algo, component, qid1s=None):\n",
        "    corpus_tf_dict = load_pickle_file(f\"pkl/{lang}/corpus_tf_dict.pkl\")\n",
        "    corpus_dl_dict = load_pickle_file(f\"pkl/{lang}/corpus_dl_dict.pkl\")\n",
        "    corpus_df_dict = load_pickle_file(f\"pkl/{lang}/corpus_df_dict.pkl\")\n",
        "\n",
        "    corpus_dataframe = load_corpus(lang=lang, verbose=False)\n",
        "    available_ids = corpus_dataframe.qid.unique()\n",
        "    avgdl = corpus_dataframe[component].apply(lambda x: len(split_text(x))).sum() / len(corpus_dataframe)\n",
        "\n",
        "    qid1s = qid1s if qid1s != None else load_qids(lang=lang)\n",
        "    qid1_dataframe = load_qid_dataframe(lang=lang)\n",
        "\n",
        "    result_folder = pathlib.Path(\"result/\")\n",
        "    if not result_folder.exists(): result_folder.mkdir()\n",
        "\n",
        "    result_filename = pathlib.Path(f\"result/{lang}_{algo}_{component}.txt\")\n",
        "\n",
        "    # remove existing result file\n",
        "    if result_filename.exists():\n",
        "        os.remove(result_filename)\n",
        "\n",
        "    # write header\n",
        "    with open(result_filename, \"a\") as fp:\n",
        "        fp.write(\"qid1\\tqid2\\tscore\\tlabel\\n\")\n",
        "\n",
        "    for qid1 in tqdm(qid1s):\n",
        "        if qid1 not in available_ids: continue\n",
        "\n",
        "        cond1 = qid1_dataframe.qid1 == qid1\n",
        "        cond2 = qid1_dataframe.label == 1\n",
        "\n",
        "        qid2s = qid1_dataframe[cond1].qid2.tolist()\n",
        "        qid2s_linked = qid1_dataframe[cond1 & cond2].qid2.tolist()\n",
        "\n",
        "        qid1_tf_dict = corpus_tf_dict[qid1][\"title\"]\n",
        "        query_result = dict()\n",
        "\n",
        "        # only for BM25\n",
        "        max_bm25 = -1\n",
        "        for qid2 in qid2s:\n",
        "            if qid2 not in available_ids: continue\n",
        "\n",
        "            qid2_tf_dict = corpus_tf_dict[qid2][component]\n",
        "\n",
        "            # tfidf\n",
        "            if algo == \"tfidf\":\n",
        "                score = compute_cosine_similarity(compute_document_tfidf(qid1_tf_dict, corpus_df_dict),\n",
        "                                                  compute_document_tfidf(qid2_tf_dict, corpus_df_dict))\n",
        "\n",
        "            # bm25\n",
        "            if algo == \"bm25\":\n",
        "                candidate_length = corpus_dl_dict[qid2][component]\n",
        "                score = compute_document_bm25(qid1_tf_dict,\n",
        "                                              qid2_tf_dict,\n",
        "                                              corpus_df_dict,\n",
        "                                              candidate_length,\n",
        "                                              avgdl)\n",
        "\n",
        "                max_bm25 = max(score, max_bm25)\n",
        "\n",
        "            query_result[qid2] = score\n",
        "\n",
        "        # adjust BM25 score\n",
        "        if (algo == \"bm25\") and (max_bm25 != 0):\n",
        "            query_result = {qid: score / max_bm25 for qid, score in query_result.items()}\n",
        "\n",
        "        qid2s_sorted = sorted(query_result, key=query_result.get, reverse=True)\n",
        "\n",
        "        with open(result_filename, \"a\") as fp:\n",
        "            for qid2 in qid2s_sorted:\n",
        "                label = 1 if qid2 in qid2s_linked else 0\n",
        "                score = query_result[qid2]\n",
        "\n",
        "                fp.write(f\"{qid1}\\t{qid2}\\t{score}\\t{label}\\n\")"
      ]
    },
    {
      "cell_type": "markdown",
      "metadata": {
        "id": "n44keLmELb4D"
      },
      "source": [
        "Run the retrieval algorithms and save the ranking results for each language and each retrieval algorithms:"
      ]
    },
    {
      "cell_type": "code",
      "execution_count": 60,
      "metadata": {
        "colab": {
          "background_save": true,
          "base_uri": "https://localhost:8080/"
        },
        "id": "GWTUeO5lry_N",
        "outputId": "ef9dbc77-6003-4bde-e795-aabc645a67a7"
      },
      "outputs": [
        {
          "name": "stdout",
          "output_type": "stream",
          "text": [
            "Running bm25 on python's title...\n"
          ]
        },
        {
          "name": "stderr",
          "output_type": "stream",
          "text": [
            "100%|██████████| 1000/1000 [05:52<00:00,  2.84it/s]\n"
          ]
        },
        {
          "name": "stdout",
          "output_type": "stream",
          "text": [
            "Running bm25 on python's question...\n"
          ]
        },
        {
          "name": "stderr",
          "output_type": "stream",
          "text": [
            "100%|██████████| 1000/1000 [05:17<00:00,  3.15it/s]\n"
          ]
        },
        {
          "name": "stdout",
          "output_type": "stream",
          "text": [
            "Running bm25 on python's answer...\n"
          ]
        },
        {
          "name": "stderr",
          "output_type": "stream",
          "text": [
            "100%|██████████| 1000/1000 [05:41<00:00,  2.93it/s]\n"
          ]
        },
        {
          "name": "stdout",
          "output_type": "stream",
          "text": [
            "Running tfidf on python's title...\n"
          ]
        },
        {
          "name": "stderr",
          "output_type": "stream",
          "text": [
            "100%|██████████| 1000/1000 [05:33<00:00,  3.00it/s]\n"
          ]
        },
        {
          "name": "stdout",
          "output_type": "stream",
          "text": [
            "Running tfidf on python's question...\n"
          ]
        },
        {
          "name": "stderr",
          "output_type": "stream",
          "text": [
            "100%|██████████| 1000/1000 [05:32<00:00,  3.01it/s]\n"
          ]
        },
        {
          "name": "stdout",
          "output_type": "stream",
          "text": [
            "Running tfidf on python's answer...\n"
          ]
        },
        {
          "name": "stderr",
          "output_type": "stream",
          "text": [
            "100%|██████████| 1000/1000 [05:30<00:00,  3.03it/s]\n"
          ]
        },
        {
          "name": "stdout",
          "output_type": "stream",
          "text": [
            "Running bm25 on java's title...\n"
          ]
        },
        {
          "name": "stderr",
          "output_type": "stream",
          "text": [
            "100%|██████████| 1000/1000 [06:24<00:00,  2.60it/s]\n"
          ]
        },
        {
          "name": "stdout",
          "output_type": "stream",
          "text": [
            "Running bm25 on java's question...\n"
          ]
        },
        {
          "name": "stderr",
          "output_type": "stream",
          "text": [
            "100%|██████████| 1000/1000 [06:33<00:00,  2.54it/s]\n"
          ]
        },
        {
          "name": "stdout",
          "output_type": "stream",
          "text": [
            "Running bm25 on java's answer...\n"
          ]
        },
        {
          "name": "stderr",
          "output_type": "stream",
          "text": [
            "100%|██████████| 1000/1000 [06:10<00:00,  2.70it/s]\n"
          ]
        },
        {
          "name": "stdout",
          "output_type": "stream",
          "text": [
            "Running tfidf on java's title...\n"
          ]
        },
        {
          "name": "stderr",
          "output_type": "stream",
          "text": [
            "100%|██████████| 1000/1000 [06:10<00:00,  2.70it/s]\n"
          ]
        },
        {
          "name": "stdout",
          "output_type": "stream",
          "text": [
            "Running tfidf on java's question...\n"
          ]
        },
        {
          "name": "stderr",
          "output_type": "stream",
          "text": [
            "100%|██████████| 1000/1000 [06:27<00:00,  2.58it/s]\n"
          ]
        },
        {
          "name": "stdout",
          "output_type": "stream",
          "text": [
            "Running tfidf on java's answer...\n"
          ]
        },
        {
          "name": "stderr",
          "output_type": "stream",
          "text": [
            "100%|██████████| 1000/1000 [06:24<00:00,  2.60it/s]\n"
          ]
        },
        {
          "name": "stdout",
          "output_type": "stream",
          "text": [
            "Running bm25 on javascript's title...\n"
          ]
        },
        {
          "name": "stderr",
          "output_type": "stream",
          "text": [
            "100%|██████████| 1000/1000 [06:31<00:00,  2.55it/s]\n"
          ]
        },
        {
          "name": "stdout",
          "output_type": "stream",
          "text": [
            "Running bm25 on javascript's question...\n"
          ]
        },
        {
          "name": "stderr",
          "output_type": "stream",
          "text": [
            "100%|██████████| 1000/1000 [06:30<00:00,  2.56it/s]\n"
          ]
        },
        {
          "name": "stdout",
          "output_type": "stream",
          "text": [
            "Running bm25 on javascript's answer...\n"
          ]
        },
        {
          "name": "stderr",
          "output_type": "stream",
          "text": [
            "100%|██████████| 1000/1000 [06:30<00:00,  2.56it/s]\n"
          ]
        },
        {
          "name": "stdout",
          "output_type": "stream",
          "text": [
            "Running tfidf on javascript's title...\n"
          ]
        },
        {
          "name": "stderr",
          "output_type": "stream",
          "text": [
            "100%|██████████| 1000/1000 [06:21<00:00,  2.62it/s]\n"
          ]
        },
        {
          "name": "stdout",
          "output_type": "stream",
          "text": [
            "Running tfidf on javascript's question...\n"
          ]
        },
        {
          "name": "stderr",
          "output_type": "stream",
          "text": [
            "100%|██████████| 1000/1000 [06:24<00:00,  2.60it/s]\n"
          ]
        },
        {
          "name": "stdout",
          "output_type": "stream",
          "text": [
            "Running tfidf on javascript's answer...\n"
          ]
        },
        {
          "name": "stderr",
          "output_type": "stream",
          "text": [
            "100%|██████████| 1000/1000 [06:19<00:00,  2.64it/s]\n"
          ]
        }
      ],
      "source": [
        "langs = [\"python\", \"java\", \"javascript\"]\n",
        "algos = [\"bm25\", \"tfidf\"]\n",
        "components = [\"title\", \"question\", \"answer\"]\n",
        "\n",
        "for lang, algo, component in itertools.product(langs, algos, components):\n",
        "    print(f\"Running {algo} on {lang}'s {component}...\")\n",
        "    run_retrieval_algorithm(lang, algo, component)"
      ]
    },
    {
      "cell_type": "markdown",
      "metadata": {
        "id": "j9OSbhgeOSAz"
      },
      "source": [
        "### Preparing Submission\n",
        "You need to download and submit the zipped `pkl/` and `result/` folders named after your CWID for submission."
      ]
    },
    {
      "cell_type": "markdown",
      "metadata": {
        "id": "o4Gxo0kgPc9f"
      },
      "source": [
        "- First make sure you have obtained all required files for submission. Your `pkl/` and `result/` directory should look **exactly** like the following. You could check this using `tree pkl/` and `tree result/`, which are both provided in the following code cell.\n",
        "\n",
        "```bash\n",
        "pkl/\n",
        "├── java\n",
        "│   ├── corpus_df_dict.pkl\n",
        "│   ├── corpus_dl_dict.pkl\n",
        "│   └── corpus_tf_dict.pkl\n",
        "├── javascript\n",
        "│   ├── corpus_df_dict.pkl\n",
        "│   ├── corpus_dl_dict.pkl\n",
        "│   └── corpus_tf_dict.pkl\n",
        "└── python\n",
        "    ├── corpus_df_dict.pkl\n",
        "    ├── corpus_dl_dict.pkl\n",
        "    └── corpus_tf_dict.pkl\n",
        "\n",
        "result/\n",
        "├── java_bm25_answer.txt\n",
        "├── java_bm25_question.txt\n",
        "├── java_bm25_title.txt\n",
        "├── javascript_bm25_answer.txt\n",
        "├── javascript_bm25_question.txt\n",
        "├── javascript_bm25_title.txt\n",
        "├── javascript_tfidf_answer.txt\n",
        "├── javascript_tfidf_question.txt\n",
        "├── javascript_tfidf_title.txt\n",
        "├── java_tfidf_answer.txt\n",
        "├── java_tfidf_question.txt\n",
        "├── java_tfidf_title.txt\n",
        "├── python_bm25_answer.txt\n",
        "├── python_bm25_question.txt\n",
        "├── python_bm25_title.txt\n",
        "├── python_tfidf_answer.txt\n",
        "├── python_tfidf_question.txt\n",
        "├── python_tfidf_title.txt\n",
        "├── Q4.txt\n",
        "├── Q5.txt\n",
        "└── Q6.txt\n",
        "```"
      ]
    },
    {
      "cell_type": "code",
      "execution_count": 61,
      "metadata": {
        "colab": {
          "background_save": true
        },
        "id": "FIzJlUsgQStg",
        "outputId": "5c8f69b7-8d64-4b40-be44-4fd365cdecd1"
      },
      "outputs": [
        {
          "name": "stdout",
          "output_type": "stream",
          "text": [
            "\u001b[34;42mpkl/\u001b[0m\n"
          ]
        },
        {
          "name": "stdout",
          "output_type": "stream",
          "text": [
            "├── \u001b[34;42mjava\u001b[0m\n",
            "│   ├── \u001b[01;32mcorpus_df_dict.pkl\u001b[0m\n",
            "│   ├── \u001b[01;32mcorpus_dl_dict.pkl\u001b[0m\n",
            "│   └── \u001b[01;32mcorpus_tf_dict.pkl\u001b[0m\n",
            "├── \u001b[34;42mjavascript\u001b[0m\n",
            "│   ├── \u001b[01;32mcorpus_df_dict.pkl\u001b[0m\n",
            "│   ├── \u001b[01;32mcorpus_dl_dict.pkl\u001b[0m\n",
            "│   └── \u001b[01;32mcorpus_tf_dict.pkl\u001b[0m\n",
            "└── \u001b[34;42mpython\u001b[0m\n",
            "    ├── \u001b[01;32mcorpus_df_dict.pkl\u001b[0m\n",
            "    ├── \u001b[01;32mcorpus_dl_dict.pkl\u001b[0m\n",
            "    └── \u001b[01;32mcorpus_tf_dict.pkl\u001b[0m\n",
            "\n",
            "4 directories, 9 files\n",
            "\u001b[34;42mresult/\u001b[0m\n",
            "├── \u001b[01;32mQ4.txt\u001b[0m\n",
            "├── \u001b[01;32mQ5.txt\u001b[0m\n",
            "├── \u001b[01;32mQ6.txt\u001b[0m\n",
            "├── \u001b[01;32mjava_bm25_answer.txt\u001b[0m\n",
            "├── \u001b[01;32mjava_bm25_question.txt\u001b[0m\n",
            "├── \u001b[01;32mjava_bm25_title.txt\u001b[0m\n",
            "├── \u001b[01;32mjava_tfidf_answer.txt\u001b[0m\n",
            "├── \u001b[01;32mjava_tfidf_question.txt\u001b[0m\n",
            "├── \u001b[01;32mjava_tfidf_title.txt\u001b[0m\n",
            "├── \u001b[01;32mjavascript_bm25_answer.txt\u001b[0m\n",
            "├── \u001b[01;32mjavascript_bm25_question.txt\u001b[0m\n",
            "├── \u001b[01;32mjavascript_bm25_title.txt\u001b[0m\n",
            "├── \u001b[01;32mjavascript_tfidf_answer.txt\u001b[0m\n",
            "├── \u001b[01;32mjavascript_tfidf_question.txt\u001b[0m\n",
            "├── \u001b[01;32mjavascript_tfidf_title.txt\u001b[0m\n",
            "├── \u001b[01;32mpython_bm25_answer.txt\u001b[0m\n",
            "├── \u001b[01;32mpython_bm25_question.txt\u001b[0m\n",
            "├── \u001b[01;32mpython_bm25_title.txt\u001b[0m\n",
            "├── \u001b[01;32mpython_tfidf_answer.txt\u001b[0m\n",
            "├── \u001b[01;32mpython_tfidf_question.txt\u001b[0m\n",
            "└── \u001b[01;32mpython_tfidf_title.txt\u001b[0m\n",
            "\n",
            "1 directory, 21 files\n"
          ]
        }
      ],
      "source": [
        "! tree pkl/\n",
        "! tree result/"
      ]
    },
    {
      "cell_type": "markdown",
      "metadata": {
        "id": "agDOHzpQQ3W-"
      },
      "source": [
        "- Second, enter your Stevens CWID below and the run the following cells. After the running, open the file navigator on the left and download your `<CWID>.zip`."
      ]
    },
    {
      "cell_type": "markdown",
      "metadata": {
        "id": "Y1lfSrs17c2b"
      },
      "source": [
        "![guide.png](data:image/png;base64,iVBORw0KGgoAAAANSUhEUgAAAg4AAAGsCAYAAAC1hy9BAAAABHNCSVQICAgIfAhkiAAAABl0RVh0U29mdHdhcmUAZ25vbWUtc2NyZWVuc2hvdO8Dvz4AACAASURBVHic7N17XI73/8DxVycpciqMqczsvknIaatWGHMc5iyG1DI583XeZsZmKqbINFukMKdtxDCzGUPmfBiRMzlOmWOhw/37o8d9/bp1ukt1d3g/H48ej/u+rs/1ud7Xve/X/b4/RyONRqNBCCFEBufOnUOlUhk6DCGKFGNDByCEEEKI4kMSByGEEELoTRIHIYQQQuhNEgchhBBC6E0SByGEEELoTRIHIYQQQuhNEgchhBBC6E0SByGEEELoTRIHIYQQQuhNEgchhCjF2rVrx44dOwwdhihGTA0dgBBCCP09fPiQH374gb1795KcnEzz5s3x8vLC2tra0KEVig8//JBr165leq5u3bqEhITkue6IiAgGDx6c5+tLC0kchBCimLh79y7/+9//iI+P55133sHIyIg///yTw4cPs2bNGkOHVyg8PDx48OABAGvXrsXMzIyePXsCULly5Zeqe9WqVZI46EESByGEMAA/Pz8Apk6dqvc1CxcuJD4+nnnz5uHg4ABAhw4dmDhxYoHEWBi8vb2ZPHky9erV06t8u3btlNe//PILFhYW9O7du6DCE5mQMQ5CCFFM/P3333z66adK0gDQsGFDlixZQmpqKgC///477du3Z+3atSxYsIBOnTqRlJSklF+1ahVjx47lhx9+ICAgIMM92rdvz9SpU/nxxx9p3749CxcuLPgHy0fJycn4+voSFhbG6tWrGThwILdu3QLgypUrdOrUCUjr8unevTuQtgvq/v37Adi/fz/37t0zTPDFhLQ4CCFEMVK1atUMx2rXrg1AUlISixcvRqVS0a9fPyAtsYiMjKR3794kJiby448/8tNPP2FsnPa7Mf3AyOTkZFxcXJg5cyYAt27dYsuWLQwaPJjKlSoV8JPlj40bN3L58mW+/fZbAN59913Wrl3LqFGjqF27Nj179uT8+fNs2bKFp0+fAuhsne7i4mKQuIsTSRyEEMXGnj17cHd316vs1atXsbe3L+CI9JeYmMjVq1d13gOcPXtWOWZvb4+FhUW29ZiaZv3P9tGjR3n06JFO032bNm0YO3YsvXv35syZMzx+/FhJGl50/Phx3N3dlV/cjRs3ZtOmTZw9cyZfv1DTPzNAbGysznt9uy0y89dff1G7dm3lGUxMTDh9+rRyfvDgwYwaNYpr167Ro0ePPN+nNJOuCiFEsbBnzx7CwsLw9vZmz5492Zbz9vZm5syZ2ZYzNI1Gg0ajyfV1mc0ouH37NqmpqcoXcJ06dXTO37lzB4Dr169nW/fVq1dJSEjgwoULXLhwgbJlyzJ79mzq1q2b6zhzIy+fQ1auXbuGubm58gwXLlxg2LBhynlzc3OuXLmCpaUl/fv3z7f7libS4iCEKBbc3d0JCwsDICwsLNOWB21yAeDl5aV360RhsLCw0PklbWlpCeT+1/Xff/9Nq1atdI75+/sTGBhIzZo1gbQEwM7OTjlfvXp1AKpVq5Zt3VWrViUlJYU333wzVzHl1ovPbGdn91KtDOnZ2Njw6NGjLJ/h4cOHNG7cmPPnzxMSEpKrwakijbQ4CCGKDS8vL+X1i60J6ZMGoEglDfmlWbNm7N69m4sXLyrHTp06RXR0NABNmzbF0tKS9evXK+d3796Nm5sbkNb1YG5unmX9TZs2Ze3atcpgyrt37xIREaEMvCwOnJ2dM7SsnD9/Xnm9ZMkS/ve//+Hh4cEff/yhUy67biDx/+RTEkIUG9pkICwsTEkS0h/TSp9glCTjxo1j3LhxjB07lvbt2/Ps2TN27dqlDJgsW7Ysw4YNIzAwkB9//JF///2XX375hcjISCCt1aN///58/fXXuLq6ZhhbUL58eS5evMjIkSNp27YtmzZtwsjIiF69elGuXLlCf9686N+/P7t372bBggW89tprnDp1inr16vHGG2/wzz//sGPHDiZNmkTv3r3ZsmULKSkpmJiYAGBra8vKlStxcXHh9ddfN/CTFF1GmvzsXCoErVq14vbt25mei4mJ4c8//2Ty5Mn8/fffmJiYEBwczKJFi4iJiSnkSIUQBcnb2zvDsfzunjh37pzOiHshRC5bHOLi4li6dCkffvghNjY2Sharj/fffz/XweXFhg0bePjwIVeuXJGMUYgSzMvLK0MrQ0nsnhCiqMlV4rB3715iYmLYu3cv3bt3N2jiMHnyZJydnTO9j3Y6jhBCCCHyV64Sh+7duysrbQEsW7Ys3wPSV61atWjQoEGG48+ePSMxMVHps8qMRqOhR48eXLlyBXNzc/z8/HjnnXeU81euXGHBggX8/fffWFpa0rZtW0aNGkWFChUK5FmEELnz4uwJ+P9xD9LyIETBKnWzKlJTUxk9ejRnzpwhJSWFx48f4+vrq6wyBtCvXz+2bt3K/fv3uX79OuHh4fTt21dZsEUIYTiZTblMnyiEhYUV6fUbhCjuim3icPPmTc6ePavzp4+lS5eyY8cOVq1axcmTJzl+/DhmZmYsXLhQqeP+/fuoVCr27NnD5s2bsbW1xdbWlri4uIJ8JCFEDrJbpyH9TIr0Yx+EEPkr14Mj/f39mTJlisEHR2p3lksvp5kTqamphIeHA9C8eXMAzMzMGDRoEMuWLePnn3/m448/BtIWZ6lYsSI2NjZs27YNMzOzfI1fCJF72a3T8OK0zNwsTy2E0F+u13FIP3vTkDM5Fy5cSIcOHXJ1zd9//83du3cxNzfXWYIUoHXr1pQtWxZI2yRlzpw5NGrUiNTUVKysrBg7diyDBg3Kt/iFELmj3echuzEM2m6LPXv2sGbNGuzs7IrUfhVClAS5ShxsbGyYN2+e8j79QMnioEqVKkDaDnBLlizJslz9+vWJiIjgv/v3mTVzJtu2bePLL7+kZs2atG3btrDCFUKkY29vr/fAR3d3d0kahCggxXaMQ17UrVuXypUrk5KSonP8559/5ocffiA5ORlIW5L0zp07VK5UicDAQGUHtReXJxVCFK7cdD1I0iBEwchVi8O1a9cICAhg8uTJ2NnZFckFoLJjamrKvn37GDlyJGq1Wuecl5eXsk75999/z/z583XOV65cmZEjRxZarEIIIURRlKvE4ejRoyQkJHD06NFimThA2t7sISEh9OrViytXrmBsbMwXX3xBp06dlDLr1q0jJCSEAwcOoNFocHFxYcyYMbz66qsGjFwIIYQwvFztVREXF0doaCg+Pj7Y2NiwceNGvW9U3MZDCCGE7FUhREbFbpMrIYQoLOfOnTN0CEIUObKtthBCZMPS0hIjIyOMjIwMHYrB3bp1i379+invp0+fTrt27fS69v79+/Ts2RMnJydlDNnEiRNxdXWlZ8+eOmV//fVXvvrqK/76668M9Vy5coXBgwdjbm7Ojh07dM7FxMQwdOhQevbsybhx4wCIjo7mzJkz9OrVC4C7d+/y6aefEhwcTJkyZZRj2q3JtbF269Yt0/tPmzaN/fv3ExERgZ2dHbdu3WLAgAH8+eefOuVatmxJt27dmDhxYpafyVdffaWsHaT1/PlzevfuTbVq1QgNDQXg8ePHDBgwgE2bNgHw8OFDunTpohNfcnKyMk7vZR05coTx48fr1L9z505WrVrF0qVLJXEQQojsmJmZKYlDaU8eqlevzpw5c0hMTOT48ePY2NgoX745OXXqFCkpKXTq1Em5pkuXLjx8+DBDHaamphgZGWVad5kyZTAyMqJ169YZzu/atQsjIyOd5MbBwYG1a9fSv39/IG09nyFDhlC+fHmlzIvj17T/zTO7/4kTJ2jQoAF169YF0mbvNG3aFFNTU4yN/3+iopGREZ6entl+PiYmJhnOHzlyhAcPHuisNVS+fHmaNm2qlC1fvjwmJiY8e/YMKysr5XPJLy1atODVV1/lt99+o3Hjxly8eJFvvvmG8uXLU6ZMGUkchBAiO2ZmZpiYmJT6pAHSvpy0C+91796dt956i6VLl+Lo6JjjtfHx8UDaBoXaLzlbW1vOnj2b4UtPu0lhZl+G2l/Vr732WobzN2/eBMDDw0PneLNmzZSyN2/exNXVNdsvWu1KwS+Wefz4MU+ePKFmzZo652rWrElCQoKyVpD22tq1a2f7vxtjY+MsnyEgIICAgACdc9qyZcqUYfjw4XTp0gW1Wk2DBg2YNGlSlvfJrTJlyjB//nzlczQ1NcXHx4ddu3ZJ4iCEEDkpU6YMxsbGkjhkIiUlhcjISJo0aZJj2XLlymFkZISpqanyxWxiYoKJiUmGJf21LQ6ZLfWvPVexYsUM542NjTEzMyM0NFTnv1e5cuWUstoy2W0joG1xeLGMNoF8MWbt+/THLCwscmwF0MaS2T2mTZtGvXr1MsSlNWzYMCwsLDh69CiRkZE4OzvTpk2bbO+XGw4ODqxbt4779+/z+uuvY2NjQ0xMDGZmZpI4CCFEdszMzDA2NtZphi6Nrl+/Tq1atXSOGRkZUaVKFb2aybt260ZQUBDLli3Dzc0NgNDQ0Ey7HLLrqtB+qZuammY4P3z4cHbt2sXPP/+Mv7+/cvz27dtKWR8fH8aOHUtERATm5uZAxjEOlStXzrQbwcbGhjZt2rBjxw5Gjx5NnTp1iI2NZcuWLcyZMyfDZ5PT55LZPQYMGMD333/PunXr+OWXXzK97unTpxgZGeHj4wOkJXBeXl507NhRp9zJkyfx8PAgOjo62zgy8/z5cxo1agRAQkICAwcOVMaFSOIghBDZMDIyUlocSnOrw6lTp/jss8+oU6cOZmZmnDhxgmrVquHl5aVXUlWpYkUGDRrEt99+y6pVq/j777+Jjo7mnXfeUa6/fv06sbGxXLx4EYADBw4A8MYbb2BjYwOglNX+d0mvcePGDBgwgB9++AGVSkWZMmW4cOECDRo0UJrda9asyT///EOfPn3o3LkzV69e5fLly6xbt06px8LCAgcHByIiIrC3t8fIyAg3NzdMTU0ZNWoU+/btw9vbm/79+7N27dpMY8nsmNb+/fuBtO4b7TNC2uaLFhYWzJgxg4kTJxIcHEzVqlW5du0ae/fuVRKJy5cv4+XlxahRozAzM+O3336jW7duGe6nnTSZl6R36dKlPHr0iKSkJP744w9u375NzZo1AZlVIYQQ2dImC6U5aQBwdHTkm2++4dSpUyQlJVGjRg1+/vln5QtdH2PGjAFg7ty5NGnShC+//JJbt24p5zds2MA333yjvNdulT5//nw6d+6s1z0+++wz6tevz5dffompqSk1atTIsKnhwoULWb58OaGhodSpU4fBgwdnqGfOnDn07duXxMREAA4ePEiFChVo0KABYWFhBAYGsmTJEhwcHDKMRchJ+i3g9+7dq7zet28f1tbWdOrUCWtra0aOHMnTp0+pXr06TZs2Vcq98sordOzYkcDAQExMTKhduzZ9+/bNcJ+TJ0/mKq70GjduzNixY0lNTUWlUjFlyhTlnKzjIIQQWZAFoERxpdFoePPNN/Hw8GDChAn5Wre0OAghhBAljJGREYcOHSqQukv3aB8hhBBC5IokDkIIIYTQmyQOQgghhNCbJA5CCFGEqNVq1Gq13rMIcuOPP/5Q6t+6dWu+11/QWrVqpcSvVqsNHU6pJYmDEEIUkP9IwIg5ORdM57XXXiM8PDzDgkJPnjzB09OTZs2aoVar+e6773TO37hxg7Fjx/LWW2/h6OhIeHh4hrqbNmuW6fHiYt68eSxduhRvb+9syyUmJiprJeSkdevWDBw4MD/CKzUkcRBCiAJgxGdUYSKHGJCr68qVK4ezszONGzfWOW5mZkZ4eDgLFizI9Lo2bdrg7OzMgQMHOHXqFDt37qRJkyYkJCQoZSpXqoSzs3PuH6aIaNGiBW5ubjlOkU1ISNBZWCk7VlZWrFy5Mj/CKzUkcRBCiHx2mKtAHIeYQnPs86VOfZZ1fuedd5TXnTt3JiEhQe9f3vpYuXIlarWa06dPM3fuXBwdHWnbti1RUVFA2he2v78/77zzDi1btmTevHkkJSXp1LF582aaNm1K06ZN6dKli865rVu3cvDgQeX9J598goODg97xTZw4EbVajaurKyEhIUqXxsOHDzMtv3v3boYOHap3/SKNrOMghBB5tINo2qH7xXaYq7TAP1+TBn2Zly2rvLawsADg/PnztG3bNl/v4+fnR0JCAoGBgRw4cIC4uDieP3/OkCFDiI6Opnfv3qSkpBAWFsbNmzeZP38+AH/99RcTJ05kxowZpKamcubMmXyNy9fXl169evHo0SN+++03evXqBYClpWWm5b/77jsiIiLyNYbSQBIHIYTIg4vcpT1zeQ9XfiHtV6s2aQDrQk8aAE798w/u7u4AHDlyBIB79+7l+30ePHjATz/9hJmZGe3atQPS9jY4ceIEixYtUo69+uqrBAYGKonDzp07MTU1ZcCA3HXf6Ktu3brUrVuX+Ph4oqOjcXFxybLsiRMnOHz4sLKFt9BfqUscrl69yrFjx7It071790KKRghRXL1OVTSEEcJfGKHde6AW95hHZTL/hVuQAgMDmTBhAg8ePFDer1mzpkD22Jg+fXqG7aC1gzVHjRqV5XW+vr7s27ePli1b0rBhQ1xcXAwyMPHy5ct4eHgwYsSIQr93SVCqEoc9e/YQFhaWY7m4uDhlu1IhhMjOcFoCMIK93GOcQZIGSBvT8O6773L69GmSkpIoX748gLKjYX6ysrLK9Hj9+vX57LPPsrzulVdeYcuWLcybN499+/bx+++/M2DAgCx3b0xJScmXeF8UGhqKubk5gz09C6T+kq5UJQ6RkZF6ldMO9JHkQQihj+G0VBIIQypTpgxNmjQBIDg4GEBnV8WCZGtry927d3O8X5kyZfj4448BmD17NidOnFBiNjMz4+nTp0rZu3fvZllHdnJqZdm0aRN9+vShcqVK2ZYTmStViYO2r69bt25Zdkf4+flx7tw5oqKiiIqKYtmyZYUZIkeOHNHZVvZFlpaWTJo0CXv7wu8/zUxO8UJazIsWLSqkiIQouYKDg7l27RoA+/fv59mzZ/j4+GBhYcHQoUOxtLTEzs6Ou3fvsm3bNtauXUvDhg0LJbZVq1bxwQcfUK9ePTp37oxKpeLMmTP8+eefyvbOvr6+3L9/n169enHjxg02bNjApEmTlDratm2Lk5MTAwcOpHz58jpbbqfXoUMHatWqRUREBFZWVtSpU0dn+mqVKlWIiIigUqVK2Nvb4+7ujqlp2tfd48ePeffdd7NtGRHZK1WJQ16EhoYWastDbGxstucTEhKYO3cu7777bo51FcZYjZzihbSYN27cmGO5t99+m6pVq+ZHWEKUSOkTcO2PGw8PDywsLHj77bdZs2YNO3fuxNzcnDVr1lC/fv1Ci83c3JwVK1YQEhLCtm3b2LdvH7Vr12bkyJFKma5du7Ju3TpmzpyJtbU17du312k9MDY2pl69eqxatYrq1avTokULrly5kuFepqamLF68mN69e/P8+XP69euXYd2L+vXrExQURGJiIocOHaJChQoArF69mo8++qhgPoRSwkij0WgMHURh0a42pk+LQ3qurq6Fljxs3LiRTZs25Utd/v7+Bf5FnJ/xWlpaMmPGDEkeRJFx7ty5HBcbym89e/ZUBjW+OADxZWk0GpKSkmjYsCGBgYEFsqx1UZaUlETbtm3566+/DB1KsSYLQOkhKiqK0NBQQ4eRa0ePHjV0CDqqVKmCSqVCpVJRq1atDOcTEhKKXMxCFLbTp0/TsGFD3n///Xyve+fOnYXWdVEU3bp1i549exo6jGJPuipe0L9/f50lWvft26c0CRZml8XLjq3w9vYmMTExn6J5eSqVioSEBKZOnaoc2759O2vXrtUpV5RiFiI758+fx8jIiLp16/LgwQMqVqyYL/XGxMTkSz2Zadu2bYHWX9TZ2dkxbtw4Q4dR7EmLwwvs7e2pX7++8mdjY2PokEqE/v37065dO7Zv364c69ChA1WqVDFgVELk3f3796levToAFStW5Pnz5yQnJ3P8+HGioqKIj483cIQF59NPP2Xnzp2GDkMYiCQO6aRvaSjuVCoV1tbWhg5DoR3ZHBMTo/M59+/f34BRCZF3z58/V0bqa9/fuHGDsmXL4urqyvXr1w0YXcH67bffuHDhgqHDEAYiXRWkzZzQrt2gVquZMmWKgSPKvSNHjnDs2DFsbGyws7Nj6tSpeHt7Ex8fb/CVMPv166e8HjNmDH5+fkqXRbNmzQwVlhAvpUyZMiQlJSl7QpQpUwZ7e3tSUlL4999/s1zUSIjiThIH/n/BJyjY/sWCcPfuXZYtW5YhbrVabaCIdFWpUoUOHToo7+/evZvprJX0/w2EKA4qV67MnTt3qFChgjLG4dy5c1hYWGBra5vvGziJNNHR0QQEBHDy5EkaNGjA5MmTMx3weefOHTp16sSTJ09y/e96YmIiS5YseanxEEFBQbz11lvZ7pdRXJX6lDiz2RLFZQZFQkICM2fOJCYmBpVKxaRJk/Dy8qJWrVpFJgH68MMPdd4vXboUQOcf1QEDBii/2oQoLmrXrq1sW639/1vt2rWJj4/nwIEDRSZ5L0kuX77MoEGDOHv2LAMHDuTChQt4enpy8eLFDGX9/Px4/vx5nu6TkJBASEjIS8UaEhLCgQMHXqqOouqlWhzOnj1LXFwcNjY22NvbF7t//LVdFBYWFspofgsLi2Kz5PTChQtJSEjQWWdiz549NG3alHv37hl8zIaTk5POAjRnzpwhISEBlUpFZGSkzhLg1tbWJbpPWJQ8pqamGRYdKlOmDE5OTgaKqORbtGgRjx8/Zu3atTg5OdGxY0d69uxJcHAwQUFBOmV37txJjx49WLdunYGiLblynThcu3aNgIAA5QvAxsaGuLg4zp07h6WlJZMnT8bOzq4gYs13Pj4+NGnSBEtLS+bOnQuk7eyWkJBQLPrez507l2ExKzs7O2xsbJRfO4acFZJ+Vcnt27djaWnJrFmzMi27ceNGSRyEENn65Zdf6NChg5KcOTg40KVLFzZv3qyTOISHhxMVFUV4eHiu77F//34ePXqkvNZq0aIFpqamHD9+nA8++ABPT08mT57MvHnzWLZsGdHR0QBcuHBB2WPj+vXrSh3a60uCXD9FcHCwkjSkn5MfFxfH5MmTCQ4OZtasWcWm9aFZs2YZ+iKLQ9KQlaKyhwVAfHw8e/bswd3dnWPHjun87yW9u3fv5tvqk0KIkq1y5crZvo+Pjyc4OBjPPO586eLiokylzWx8gpOTEyNGjGDRokW0bduWZcuWMXToUOV83bp1qVu3LgC1atUqkWMccp04xMfHU6VKFcaOHatz3MbGhipVqihfFu3bt8+3IEujnPZ20H6+cXFx2dZh6P0fNm3aRNWqValXrx5nz57NtIy+u5YKIYqOBQsWsHDhQuV9dr+mrayslF/xWQkKCqJ169Y53vfFZbhffD937lxlfY2CMnz4cPbt28fkyZNp0KABo0ePLtD7FTV5ajfJajDbgAEDWLRoEfv27StWiYOlpaWyHr2lpaVBY9GuvaDPL/AqVaoQFRXF+++/nyE5OHPmDHv37i3wqZg5rRURHx9PQEAAoN8z2dra5ktcQoiC1axZM2UL7eTk5GzL3r9/n0o5bGGt7//3k5KSsnx/4sQJIiMj+fbbb/WqK6+MjY2ZO3cu7du3JywsrMR0QegrT0+b1Y5r2rEN+uyYaAjaQZCbNm3K8kts5syZmR4vrBUO3d3dcXd316ts9+7d+eGHH5R1J9RqNQkJCcrnXxhbgucmXiFEyeHm5lbou0xaWVlx8OBBnWMHDx5UlvseM2YMqampGeJycnLi+PHjet/HyMgo2/NXr16lR48edOrUia5du/Lzzz/z+uuv611/cZen6ZhZzU/W7hOf2QZGRYGHh0eery2IDWfyw4ABAxg5ciROTk7ExMQQGxuLSqXS2cpWCCFKglatWnHp0iVOnDgBpK3pEBMTg5ubGwBfffUVixcvVv66du0KkGHGxePHjxkzZgxjxozJ9D7lypXLcgGv5ORkJkyYQLly5ZgxYwaVK1dm/PjxGcoZGxvz77//5vlZi7I8tThERkYqTVTpafvltf8Rixp3d3fs7Ow4duxYrq5r0qRJkRp0+KJmzZopgzyzag0SQojibtSoUezatYthw4bRr18/1q1bh4WFhbJQ09tvv61TXru+xotjJ549e6azb86LzM3NcXBwYPny5djb22NkZISbmxumpqYEBgZy6tQpQkNDsbKywt/fnyFDhmSow8HBgV9//RWVSkXt2rWV60sCI41Go8nNBdeuXcPf35/ExETUarUy6C02NpaEhATUajVNmzalXbt2BRWzEEIUinPnzinjn8T/e/PNN/Hx8Sn0rooXOTk5YW9vT1hYmGyYV4hy3VVhZ2fHzJkzUalUxMTEEBkZqWxcFBAQQExMDKtXry6IWIUQQgjFokWL+O+//2R570KW6xaH9I4ePcq1a9ewsbGhXr162NjYsHfvXpYtW8bbb7+dYblhIYQoTqTFIXNFpcUBICUlBRMTE0OHUaq8VIdL06ZNM4x10I5v0I7ol+RBCCFEQZGkofAVyCZXbm5ueHt7s2/fPry9vbNc+EcIIYQQxUuBDfFMP7OiXr16BXUbIYQQQhSiAp0bUlSnZQohhBAibwqkq0IIIYTIb5cvX6ZZs2Y4Ozszf/58XFxcaNq0KRcvXlTKODg40KtXL52FoHIrPj5e2WE4r9RqdYaFp0qKkrEahRBCiBJv0aJFPH78mLVr1+Lk5ETHjh3p2bMnwcHBOl/S9erVY8SIEQaMtGQrdonDuXPnDB2CEKIYkGmUJc/u3bt5/fXXcXJyAtJaF9RqNX/99VeGsrdv36ZatWpZLh2dlfQtDelfHzp0CBMTE7p164aVlRXr16/HzMyMpKQk+vTpQ0REBBUqVGDixIls3rwZgJCQEEJCQpTrK1SokOtnLoqKXeIg/xgIIUTp9OjRI1xdXXWOvfHGGxlm7kVGRvLjjz9SqVIla8V3iwAAIABJREFUvLy88PX11fsey5cv59GjR4wePZrly5crxy0tLTE1NeXrr7/mgw8+IDAwkMmTJ7NgwQLOnTunJAW+vr706tWLIUOG0LVrV3r16qVcX1IUu8RBCCGE4S1YsICFCxcq77Pbh8HKyopHjx5lW19QUFCGPSUyU61atWzfR0dHK68fPXrEe++9R58+fbC2ts6xbgAXFxfi4+OV1y9ycnLin3/+YeDAgbRt25YqVapw8uRJ5XzdunWpW7cukLbhY2Z1FHeSOAghhMi1Zs2aKQsAJicnZ1v2/v37VKpUKdsytra2et03KSkp2/fpWVlZ0atXL44dO8a7776rV/36MDY2Zu7cubRv356wsLASs3mVvkrX0wohhMgXbm5uBlly+r///sv2/Ytq1KjBgwcP8j2OAwcOkJycTFRUFHZ2dvlef1Em0zGFEEIUC126dGH79u2cOHECSOuW+OWXX3jvvfcAuHTpEs+ePVPK37x5k3nz5tGxY0edeh4/fsyYMWMYM2ZMpvcpX758loMqk5OT6d27N4GBgRw+fJhvv/2Wbt26ZShnbGzMv//+m6fnLOqkxUEIIUSxMGrUKHbt2sWwYcPo168f69atw8LCgnHjxgGwfv16NmzYgIuLC2ZmZvzxxx88efKEcuXK6dTz7Nkztm/fnuV9zM3NcXBwYPny5djb22NkZISbmxumpqYEBgZy6tQpQkNDsbKywt/fnyFDhmSow8HBgV9//RWVSkXt2rWV60uCkvEUQgghSrzXXnuNiIgIAgICCA8P5+nTp6xcuVLpKnB1dSU6OpqDBw+SkJCAg4MDQ4cOzdO9/Pz86NOnD4mJiUDadMozZ86wbNky+vfvr6yM/NZbb+Hp6cmuXbt0Bnf6+fnx+eefExQURGJiYomajvlS22oLIURJJttqZ66obKvt5OSEvb09YWFhVKlSxaCxlCbS4iCEEKJYOn78OCkpKbK1diGTwZFCCCGKLUkaCp8kDkIIIXLFzc2NV1991dBhCAORxEEIIUSu7N27lxs3bhg6DGEgpXqMQ0JCAqGhocqoWS0LCwt8fHxK1NriQgghRH4o1S0OoaGhHD9+nJiYGJ2/48eP4+/vT0JCgqFDFEIIkU50dDRDhgyhadOmDBo0iH/++SfTMi1atKBRo0Z07tw51/dITEzU2aY7L4KCgti/f/9L1VFUleoWh+PHj2d5LjY2lhkzZmBjY5PpeWtra3x8fAoqNCGEEC+4fPkygwYNwszMjIEDB7J+/Xo8PT1Zv349r7/+OgCHDx/G29ubnj17UqlSpTx1qSQkJBASEqIsLJUX2u20S+ImV6V6HQdvb+8MxywsLDJ0XWRl2bJl+R2SEKIIkXUcMmeodRyaN29OtWrV2Lp1q3Ls/fffJzY2lqNHj3LkyBEGDBjAggULcHNzw8zMDHNz81zdQ61WZ3r80KFDmJiY0K1bN6ysrFi/fj1mZmYkJSXRp08fIiIiqFChAhMnTmTz5s2ZXl9SFoAq1V0VL7KwsGDy5Ml4eXkZOhQhhBAvePTokbJltdYbb7zBkydPADh27BgAVatWpVmzZjRp0gRPT89c3WP58uUEBwcrr7V/lpaWlCtXjq+//prz588TGBgIpG0vfu7cOSUp8PX1Zfny5QB07dpV5/qSolR3VaSnTRrs7e2xt7cHICwszMBRCSGESK9y5cpZvr958ybGxsZMmTKFr7/+mosXL/L999/z9OlTypYtq1f9Li4uxMfHK69f5OTkxIgRI1i0aBFt27Zl2bJlOsta161bV0luatWqVSK7KiRxQDdp0HJ3dwckeRBCiMwsXLiQxYsX61XWysqKR48eZVsmKChIZ6+HrJiZmWX5/unTp6SmpvLKK6/QpUsXIO3f961bt9KzZ0+9YtXH8OHD2bdvH5MnT6ZBgwaMHj063+ouDiRxANq1a8exY8ewtLSkatWqAJw5c4b4+HhsbW2JjY01cIRCCFF0HDx40GD3fnGr6vTva9SoAcDgwYOVY7179+aLL77I18TB2NiY3r17M23aNIYOHVpidr3Ul4xxADZt2sSmTZuIi4tTjsXExLBp06aXShqcnZ1ZtGgRAP7+/rRs2ZJ79+69dLxCCFEaWVlZcf78eZ1j58+fp2LFikDaeAeAO3fuKOfj4uKoVKlSru5jZGSU7fmrV6/y5Zdf0rVrV+bMmcPFixdzVX9xJ4lDAUpOTiY5ORmApKQkkpKSSE1NNXBUQghRPLVq1YpLly5x4sQJIG29hpiYGGWLa1dXV8qWLUtkZKRyzZYtW2jRooVOPY8fP2bMmDGMGTMm0/uUK1cOY+PMvx6Tk5OZMGEC5cqVY8aMGVSuXJnx48dnKGdsbJyhdaSkkOmY6Xh4eCj7uu/du5eoqKhsr5fpmEKUbDIds+g5ffo0AQEBnDhxgqdPn7Jy5UqaN2+unNdoNISFhTF//nzKly9P69at8fPz06kjPj4eV1dXIK11OTPnz5+nT58+yvT8Q4cOcebMGYYMGYKHhwczZsxQyvr5+eHs7KwzRuP8+fN8/vnnnD59msTExBI1HVMSh5cgiYMQJZskDkWbk5MT9vb2hIWFUaVKFUOHU2qU6q4KJycnQ4cghBAijxYtWsR///3HmTNnDB1KqVKqWxy0m1zlZU8KS0vLLPvHhBAlg7Q4FH0pKSmYmJgYOoxSpVQnDkIIkR1JHITIqFR3VQghhBAidyRxEEIIIYTe8pw4JCYmMmPGjAw7SWZ1XAghhBDFX54Sh8TERPz8/MhqeIRGo8HPz0+SByGEEKKEyXXioE0aYmNjmTZtGhYWFjrnLSwsmDZtGrGxsZI8CCGEECVMrhMHbdJQq1atDEmDloWFBbVq1ZLkQQghhChhcjUdc+HChRw/fpyAgABsbGxyLB8XF8fkyZMBWWVRCFH8yHRMITLKVYvD0KFDAQgODs6xFSExMZHg4GAAatWqlcfwhBBCCFGU5CpxeLELIjvpuzSmTZv2UkGWRs7OzqjVap2/efPmAfDw4UNmzZpFo0aN6NChA0uWLCEpKUm59syZM3h5edGsWTPGjRtXYndoE0IIUfjytHJkYmIic+bMwcjIiKlTp+qMdUg/4yKzwZNFibbrJTO2trZMmTIFS0vLQo4Krl+/Ttu2bZkzZw49e/bUOXflyhU6dOjAsGHD+N///gektQRFRUVx+vRppk+fzoYNG9iyZQv29vbs3r2bjz76KMsd4IQQWZOuCiEyMs3LRdqZE3PmzMn0fHFIGoAskwaA2NhYZsyYkeVYDmtra3x8fLKt//nz5wQHB7Np0yYqVaqEr68vnTp1AuDJkycEBQXx22+/UalSJYYNG0bnzp0BuHPnDpB5F4+2i6h69erKsRo1aiivjx49SuPGjbG3twfS9q+vU6dOtnEKIYQQ+srzAlDa5CGr6ZgFmTRcvXq1wOpOLz4+npiYmEz/oqKicrx+7NixhIaG4uLiQsWKFRk3bhyRkZEATJgwgTVr1tChQwfMzc0ZP34827ZtA1C6FpYuXUrDhg354IMPOHXqFAD16tXDycmJJUuWcO3aNTZs2EBkZCS9e/cG4OnTp5QtW1YnDjs7u3z7TIQQQpRuL7XkdHbTMQvSsWPHCA0NLdB75IedO3cyYcIE/Pz8CA8Pp2nTpsqA0V27djFgwAA+/vhjVqxYQdWqVVm7di3w/y0O2i6LY8eO4enpSVxcHEZGRoSGhmJlZUW7du2YOnUqLVu25LPPPgPSkoTTp0/z9OlTIK31R1ufEEII8bKK7V4VUVFRRT55sLGxUbozjIyMWL16Nb///jsAc+bMYc2aNTRo0ICIiAgiIyNZvnw5AEOGDCEmJoYtW7YQFBREdHQ0lSpVYsyYMRw5coTmzZvTt29fpfWjbNmyNGvWDICwsDB69+5Ns2bNUKvVTJ06lfLlyxvk+YUQQpQ8xTZxgKKfPBgZGWV5rkePHvz555988sknfPPNN7Rv3z7b7o8aNWpw+/ZtpUyHDh2Ucx07dtSZHjtx4kR27drF9u3b8ff35/r16/nwNEIIIUQxTxwgLXnYs2ePocPIVHx8vNJlAHDr1i0OHjxISkoKFy5coHz58gwYMIDffvuNcuXKMXfuXAAmTZrEokWLdOr677//sLKyUqZdpk9KMktQqlatSu3atTlx4gS3bt0qiMcTQghRCuVpVkVR4erqmuPMBkNycXGhSZMm9OrVizt37vDXX3/xxRdf8OabbzJ69Gj+/fdf+vbty+3bt7lz5w4eHh4AjBw5ku7du7N161Y6duzIqlWrSE1NJTIykldeeYWoqCjatGnDlClTOHz4MNu3b6dHjx7KfR89esSPP/7I4sWLefbsGUuWLDHURyCEEKKEKdYtDkU5aQBYvHgxgwcPZvfu3dy+fZuvv/6avn37AhAREcG7777Lxo0bOXv2LNOmTWP48OEA1K5dm9WrV/PKK68QFhaGo6Mjq1atombNmhgbGyvjGPz9/Tl16hRjx45l9uzZyn3j4uL4+uuvadOmDRs2bKB169aGeHwhhBAlUJ4WgDK0jRs3EhcX99KJg7e390tdL/tvCFGyyQJQBevs2bMcPnyYgQMH6hzfsGEDU6dOLfEL102ZMgV/f39Dh5FrxbLFoUmTJkW+tUEIIUqaqKgo+vTpQ6NGjXBxceHJkyeGDqlAJCYmEhQUZOgwDGru3Lk4OzvTqFEjOnbsqPN5FMsWh/yS3ZLT+pAWByFKNmlx0NWwYUO2b99OzZo1AVCr1SxduhQ3N7c81ZdVi4OhxcfH4+rqWuJbPLKj0Wh0Bt4HBQXRqFEj2rRpUzxbHPKLj48PTk5OqFSqXP85OTkZOnwhhCg0Dx8+xNXVVUkatLZv3653HampqQQGBtKoUSMGDRrEjRs3MpRJv7FfZi5cuIBarSY8PJzOnTvj6OiIi4uLTpk1a9bQsGFDWrRowfjx4zPUsWPHDgYMGEDTpk3p27cvmzdv1rm/q6trhlgePnyolDl69CgDBw7EycmJDz74gMOHD2e4x5tvvsndu3cZN24cjRo14v333yc+Pl6vZwQ4cOAATZs2pXHjxgwcOJATJ07onP/3339p2bIljo6OuLm5cenSpSzryosXZ+vZ2dkRFxcHFPNZFS/L0tKSMWPGGDoMIYQo8s6fP0/9+vV1jllaWnLu3Dm96/D392f58uV88skn7N+/n48//pjRo0frlFm+fDl79+7NcY2e33//nd69e2Nvb8+FCxeU47NnzyYiIoJPP/2U+Ph4Vq1aRWJios6KxqNGjaJu3bp8+OGHXLp0ibCwMLp27arc/9GjR4wePVpZlE/7rACnT5/G09NT2WNozZo1DBkyRNkWQCs1NRUfHx9ee+01Zs+ezbZt25T1drT1ZvWMv/32G+PGjeN///sfRkZG/PzzzwwaNIiTJ0/qPEPPnj2pVasWt2/f5sKFC/m+L1FsbCzPnj0jOjqaoKAgwsLC0k5ohBBCZComJsbQIRQZW7du1axYsUJz8eJFjbOzs+aTTz7RvPPOO5o2bdrodX1cXJzGwcFB4+npqRzz9vbWrFixIkPZn3/+WaNSqTKt5/z58xqVSqVp2LBhhnP//POPRqVSaWbNmqUcO3bsmCYiIkJ5f+vWLU3v3r01T58+1Tn2YqxZ3d/X11dTr149zcWLFzUajUZz7do1jYODQ4ZyKpVKM3369Ezr0Jo8eXKGY0+fPtU4Oztrunfvrhx7+PChxtnZWXl/77//MsSXlJSU7b3yQqVSKX/u7u7K8VLd4iCEECJ36tSpw9y5c3n99df12uxPa/PmzSQnJ+Pr66scGzlyJNHR0XmK46OPPspwLCQkBICVK1eycuVK5XiLFi0YNGgQkDY2LSAgAHNzc+X8K6+8otc9Hz9+zM6dO+ncubPy697W1lbphrC2tlbKmpmZMXPmzFw/19q1a7l37x737t3LsiujcqVKjB8/HkdHRxo0aEDDhg359NNPc32vnKQf47Fy5UpOnjxJo0aNSndXhRBCCP1Uq1ZN+SLRDob877//9B48+uKuvZA2AC+vrKysMj1uampKRESETh/9i/v1ZLcdQHZyE6+lpWWe7wPw2WefZegaSs/X1xdzc3MOHz7M+vXrcXZ25t13383z/XLy/vvv4+fnJ4mDEEII/ahUKr777judYwkJCXonDq+++ioAN2/eVI6lf50f7OzsSE5OpmrVqtjZ2WVZ5ty5c9SuXTvLerL6wreysqJ8+fIZ4r5x4waVKlXKc9zp2dvbA2ktFk2bNs22rJeXF15eXly/fp3p06dnSByePXvGzZs3ee211146rqdPn8rgSCGEEPqzsrJi7969tGvXDg8PD65du4aLiwtffPGFXte7u7szfPhwpk2bxpMnT9i/fz9Hjx5l1KhRSpnr168TGxurDHbcv38/AG+88QY2NjY53mPKlCk8e/aMdu3aMXHiRMqUKcP58+dxdHRUlvQfOHAgarWaunXr8t5773HlyhUuX77M+vXrlXqqVKmCo6Mjy5cvx97eHiMjI9zc3JTWDA8PD9zd3RkwYABr1qwhPj4eExMTvT9L7XPFxcUprwGaN29Oq1atCAoKYsKECdy6dYuqVaty7do19uzZw5YtW4C0AZpDhgxh9OjRmJmZsX37djp37pzhPtHR0Xh4eOR6WunWrVuZNGkS/fr1w8zMjOPHj3P8+HH27t0LSOIghBBCT9999x3z588nKCiIcuXK8fvvv+fqeu0stoCAAJo0acLs2bN1NuHbsGGDzgZ/Q4YMASAwMDDTL8bMaJv4v/jiC0xNTalRo4bOuAqA4OBgwsLC+P7776lTpw6enp4Z6vHz86NPnz7KTIhDhw5RoUIFGjRowPLly5k/fz7ffvstDg4OygaF+tI+F6B8GUPaAlvW1tZ06tQJa2trRowYwdOnT6levbpO68Mrr7xCx44dmT9/PiYmJtSuXVvZziC99LMwcsPR0ZEePXoQGRlJUlISNWrUYODAgVStWhUo5QtACSFEdmQBKFGcDR8+nIMHD3LkyJF8rbdULwAlhBBClEQajYbDhw8zYMCAfK9bEgcDmT17Nmq1mmfPnmU4Fx4ejlqt1lnURAghhNCXkZERhw4dYsKECfled6ZjHC5N+v8RpXXmltyejISEBEJDQ5U+LC0LCwt8fHyUlcKEEEIIkaZUD44MDQ3NcpMrf39/pkyZIsmDEEIIkU6xTByuXr2qzHV9GdntjBkbG6szTSgzOe2OqVarsbCwYOTIkVy7do1169bRrVu3DCNwv/zyS1asWMHnn39O//799X8AIYQQopAVy8Th2LFj7NixAx8fH0OHkqPJkycrg1MSEhLYvHkzY8eO1SmzYsUKvL29JWkQQghR5BXbwZG5WSPdkNJvQdunTx80Gg0HDhxQjv3555+0a9eOyZMnGyI8IYQQIleKbeIAWW9JWlTVqlULgDt37ijHPvnkEzp06PBSa5oLIYQQhaVYJw5RUVF4e3uzZ88eQ4eiF+2yn+nXSP/pp5+YOnVqpju9CSGEEEVNsU4cAFxdXXF3dzd0GFnSJgsajYYffvgBMzMzmjdvrpyvUaMGQ4cOZffu3axbt85QYQohhBB6KZaDI7VcXV2L/ADJhQsXcv36dW7cuMG+ffvw8PCgWrVqOmVGjRrFnj178PPzw8XFxUCRCiGEEDnLdK+Kor4A1MaNG4mLi3vppMHb2/ulrtdnOuaSJUto3br1S91HCGEYsleFEBkVyxaHJk2a5Ms6DkIIIYTInWI5xkGSBiGEEMIwimXikF+cnJwMHYIQQghRrOS6qyLur+kZjlVx/h/GZSrnS0CFacyYMQVav3ZGhRBCCFFS5CpxuLN9JE9+X5zheMI/a6g19GCxTB6EEEIIob9cJQ6ZJQ0AyVcucP37N7Fs6JHpefMaTbB6o2fuoxNCCCFEkZLrrooKXT7J+mTGmZ0A3P2uF1ZFcFqnEEIIIXIn14mDTasvc32Th7/MzvU1QgghhCh6SvWsCiGEEELkjiQOQgghhNCbJA5CCCGE0JskDkIIIYTQmyQOJUB4eDhqtdrQYQghhCgFJHEogX766SfCw8MNHYYQQogSKF+WnC6uFi5cyPHjxzM9Z2try5QpU7C0tMyXe6WmpmJsXDh52oYNG/j333/x9PQslPsJIYQoPXKVOJR7dwQPN+d+HYeiKqukASA2NpYZM2ZgY2OT6Xlra2t8fHyyrV+tVjNx4kQiIyOZN28e9erV4+HDhwQEBLB582YaNmzIlClTaNiwIQBXr14lICCAAwcO4OjoyMSJE3F0dGTTpk1MmjSJ5cuX4+LiAsD48eMJDAzUuV94eDhfffWV8n7WrFl89tlnen0WQgghhD5ylThU7/ANcWVzvx9FmRpNcn1Ndq5evVooW2vHx8cTHx+f5fmcEgeAwMBAOnfujI2NDc+fP2fgwIHcunULX19f1q1bh6enJ0ePHuXRo0cMHjwYjUaDt7c3a9aswdPTkyNHjugdb5s2bahVqxaBgYE8fPgQD4/MlwAXQggh8qpQVo7Mb8eOHWPmzJksW7bM0KHkaPHixbRu3RqAvn37otFo2LJlCwC9evVixIgRAJw6dYrbt28zaNAgRowYwYgRI3j27Fmu7mVra4utrS1hYWE8f/4clUqVr88ihBBC5DpxKEpCQ0P1+tVfVMTGxnLv3j3c3d0znHN2dqZ///6sXLmSmzdv0r59ezp37myAKIUQQoisFevEISoqCtCvy6AoSEpKonHjxkorQ3pGRkZ8/vnnDB48mOnTpzNt2jRCQkLYvn27ASIVQgghMlesEwdISx7UanWmv+KLmurVq/PgwQOl6yK9W7du8fTpU+rUqcOqVas4ePAggwYNAqBMmTIAJCcnF2a4QgghRAbFeh0HV1dXli1bViySBoDVq1eTnJxMgwYNWLFiBePHj1cWbnry5Ak9evSgbdu2hIeHM3fuXExN0/K6du3aYWtry+jRowkKCqJDhw7ZtkSo1WquXr3Kjh07CuW5hBBClB7FOnEoLl0UWhUqVGDNmjW89957+Pv7c/78eebMmQNA3bp1WblyJXZ2dixcuBBjY2NCQkIAMDEx4ZtvvsHBwYE1a9bw9ttv061btyzv4+PjQ6NGjTh27FihPJcQQojSw0ij0WhePHhpkpHyus7cDKcNbuPGjcTFxb104uDt7f1S1xeHWR1CiLw7d+6czE4S4gXFcoxD9+7dDR2CEEIIUSoV666Kl+Xk5GToEIQQQohipVi2OOQXHx8fQkNDSUhIyPW1+bWHhRBCFFeDBw8mOjqap0+f0qdPH3x9falevbqhw8rR4sWLWbBgAXPnzs12vJjIXKlOHCwtLRkzZoyhwxBCiGJn/vz5nDp1irfeeovy5cvzww8/8MsvvxAREUH9+vUNHV6RcuDAAfbv30+XLl2oW7euocN5aaW6q0IIIUTuffvttyxZsoSjR48SEhLC3LlziYmJwcHBge7du3Pq1ClDh1ikHDx4kJCQEC5evJjnOorKOj4pKSmZJw515mqUPyGEEEIfw4cP5+OPP6ZixYoApKamsmzZMhwdHWnZsiWzZs3i0aNHOtdMmTIFd3d3HB0dadeuHSkpKTrnt2/fjoeHB82aNWPgwIHs3btXORcbG4tareaTTz6hb9++NGrUiJYtW2bYFXjjxo289957Shy5/RL+7/59Zs2ahaOjI506dSIsLAzthMT169ejVqtZsWIFHTp0oGHDhnTo0EE5v3LlShYtWgTAmDFjlLV7tJ9Pp06ddD6f9M82fvx45s2bh7OzM02aZNwsUq1W8/HHH+scmzRpks49oqOjcXZ2pmHDhnTt2pUVK1ZkqOPy5cvK+wsXLqBWq5XW+IkTJ6JWq9m2bRuOjo4sWbJEWhyEEELkzjvvvIOxsTF//PGHznFnZ2c8PT2xtbVFo9EwatQo/P396du3L7Vq1WLVqlUMGTJEKX/58mU2bdpE/fr16du3L2XKlGH8+PHK+cWLFzNmzBhu3LhBly5diImJwcfHh3Xr1unc98CBA1haWtK+fXsA1q5dq3N+ypQp3LhxgzZt2tCsWTPCwsL0ftb4+Hj69e3LDz/8QO/evUlJScHPz4+vvvpKp9zXX3+NWq2mTZs23Llzh02bNgHQokULZZHCnj17Kl/02s+nXLlyOp9P+qRmx44drFixgiZNmmS6d5GFhQU7d+5Ukq3U1FT27NlDhQoVANi3bx8eHh64ubnRt29fnj17xpdf5m2jykmTJtGpUyfeeOMN0AghhMhUTEyMoUMoEB999JFGpVIpfxMmTMhTPUOGDNGo1WqNSqXSeHl5aU6ePKmc69Gjh8bBwUHz8OFD5ditW7c0KpVKo9FoNHfu3NGo1eoMdbZp00azdOlSjUaj0ahUKs3mzZt1zi9fvlyjUqk0wcHBmmvXrmlUKpXmww8/1Cnj6+uriY2N1Wg0Gk1kZKTm448/1jn/zTffaFQqlSYyMjLb53vw4IGmQYMGmh49eugc37Bhg/Ic69atU16n16pVK+X1woULNSqVSvPrr78qx7SfT3q3bt3SDBs2TKPRaDTXrl3T+Pr6Zhvfzp07NSqVSjN9+nSNRqPR+Pn5aVQqlWbPnj2a7du3a1QqleaTTz7RuSY6OlozcOBA5b1KpdJcunRJeX/+/HmNSqXSjB49WqPRaDQTJkzQqFQqTXR0tFKmVA+OFEKI0mjXrl3ZvtdXWFgYt2/fZtu2bfj5+XHgwAH8/f3p0qULZ8+epXz58ixZskTnGu1S+jExMUpzfnqZtWJk9v7UqVO8//77wP/v56NVrlw5Hj9+DKQt4tWiRYs8Pd/p06dJSkoiJSWFefPmKcfv3LmT47XZzdZLSUlRPp/09UJaF4WWkZHRi5fqcHd3p3LlyuzcuZNZs2axa9cuqlSpgouLC/PnzwfAxcVF55r69etz5syZHON/UfpYJHEQQohSLrMvcH298soreHl5Ub16dSZNmsT06dNp1apvfPefAAAgAElEQVQVKSkpPHjwgO+//z7T6x4+fJhj3aamptjY2Ogc075/caxEVp48eZKhDn3du3cPgLNnz3L27Nk81ZGZ//77L8vPp0aNGnrXY2pqSseOHVm9ejVXr17l0qVLeHh4YGJiwv379wGoVq1ahuseP36MRqPJMTHJ8r55ukoIIUSx1bp1a51WhnfeeSdX169evZqUlBQGDhyoHOvcuTO//fYb27Zt49ChQwDUq1ePyMjITOsoV65cjvdJTk7m4cOHSp89wL///gugDMDMSfny5fVOMl5UtmxZAAYNGsSnn36apzoyo10HKLvPR1/vv/8+q1ev5vfffwegS5cuAMpnpk1+0qtQoUKekwaQ6ZilQnh4OBcuXMjXOhcvXszNmzfztU4hROFYsmQJMTExyt+LzeU5SUhI4IsvvuDBgwfKsYsXL7Jv3z7MzMxwdHRk9OjRnD17llGjRill4uPj+fDDD4G05KVFixY6XRMajQa1Wq3MnDA2NqZ///7KF//du3cZNmwY5ubmGWYTZMXX15fZs2frJA/pZ2Zkp23btrz55pusWLGCpUuXKsdPnjyJp6enXnXA/ycK2lYWS0tL5fN5/vy5Ui4+Pl7v2LSaNGnC8OHDCQgIYMiQIUq3zLhx47C2tmbSpElK2eTkZLy9vfn888916ti8ebPyOjQ0NMd7SouDKHDXr1/n8ePH1KtXz9ChCCHygZeXF6dOnaJt27a0aNECa2trNmzYQHJyMlOnTqVatWp89NFHREVFsWPHDqZPn05qaio7d+7U6aKYNWsWXbp0wd3dnVdffZWjR4/y3nvv4ebmBsCIESNYtGgR7733Hm3atOHXX3/lwYMHzJw5k1q1aumMB8hKuXLluHv3Ln379qVv376YmJhw/PhxnTL9+vXj+PHjnD59WhmDoTV79mwGDBhAQEAAN2/eJC4ujj///FPvFg+ARo0aAbBgwQIOHTpEQECA8vm89957ODs7K59PQECA3vVqdevWjZCQEKW1AcDc3JyAgACGDx/OpEmTqFixIvv27ePSpUs6GzRaWFiwePFioqOjqVy5Mlu3bs3xfqU6cUhISCA0NJTExESd4xYWFvj4+Miy0vnk5s2b3L59WxIHIUoIY2NjAgMD+eijjzh27BiPHj3i7bffZsiQIbi6ugJpAxbDwsIIDQ0lJCQES0tLmjRpotMCUadOHTp06MD+/fvZt28f9vb2Oq0fo0eP5vXXXycsLIwNGzbg5OSEr69vhgF/OZk7dy5Llizh66+/pkKFCkyZMkVnOmVqairGxsYYG2dshLezs+Onn34iODiYNWvWYG1tTbdu3Rg7dqze92/RogXDhg1j7dq1SheR9vPp1q0bGzZsUD4f7dTN3KhTpw62trY0bNhQ57ibmxurV69myJAhJCUlUbt2bWbOnKlTZvny5fj5+XHw4EGMjIwIDQ1l0KBB2d4v0221S4ucttW2trbOclCNtbV1jtt6X716lYCAAI4cOUK9evWYOHEijo6OAMTFxTF//nz+/PNPqlWrxvDhw+nYsSOQ1kdVo0YNWrVqhZ+fH/b29kydOpVGjRrRtm1bjIyMaNGiBYsXLwbSRiGPGDGC5s2b888//1C2bFk6d+6sNEeFh4fz9ttvK0udajQa3n33Xe7cuYO9vT1btmzJ8bN6+PAhM2fOZPfu3bRu3ZqqVasyaNAgatasqTxP165dSUhIoHbt2srzvPnmmzrNmYcOHaJChQp88803bNiwgTt37uDr68v/tXfn8TldiR/HP092sZXQ1K6WRpDYYo117FUR1C5pmigSioxYh1FUR4kyhqDoDLUM2traWlpCG1RrVxVK7RprbQnZf3/klzt5ZPGEaITv+/XySu49dzn3JpJvzjn33AEDBqRL+iK5Ta/Vfv5FREQQEBDA4MGDeffdd3O7Oo9l1KhRDBgwgAoVKvwp58uTYxzOnTv3p5znxo0bZv2Aaf/t3r37kfv7+vpy9OhRfH19+e2333jrrbeMuvv4+LB161Z69OiBnZ0dw4YNY8+ePca+e/fu5dNPP8XHx4crV64wdOhQfHx8CAgIoHnz5oSHh6c7X/PmzZk9ezZt27Zl5cqVmdbr73//Ow0aNCA4OJjChQtb1DQ1ePBgvvzySwICAoiKimLJkiVGWWxsLD4+PvTo0YOQkBDjegBCQ0MJDg7m7bffJiwszGjFmTNnDg0bNmTs2LHMnj2buXPnPrIOIiI57dy5c1SrVo133nknt6uSbePHj6dr166sW7fuTwsNkEe7Kg4ePMg333zzyL/4c1tUVBTz5s3jL3/5Cy1atMDb25uvvvqKoKAgYmJimDp1Kq1atSIgIABPT0/WrVtnNME5OjqyZs0aChUqRJUqVRg5ciS2trYEBgYCKYNcYmNjsbe3N86X+o3fvHlzYmJiuHjxIqVLlzar09GjR1m9ejUnTpwAUvoqO3bsmOGsZKl++ukn9u7di7+/P4GBgUYLQap9+/YRExNjhAVvb288PT0BaNq0KQ4ODkRFRdGyZUsgpYvI39/fGLSzbt06NmzYkK2mPxGRnNCnTx969+79RE8Z5JY9e/Zw69YtunXr9qeeN08GB4Ddu3c/88EBUurZuHFjXF1dOXLkCNbW1gDs3LnT2KZgwYI4OzubPaVQrlw543Ga1H6rtI9Mubq6cvnyZV599dUMz9utWzf27t2bLjhs3rwZKysr45EmSJmb/N69exQoUCDDY3333XcAxihik8lEzZo1jXJPT88Mryczjo6OZiN9K1asqJfiiEiuyYuhATAewfyz5cmuilT+/v4WPTqSW06cOEHv3r1ZvHgxrq6ueHl5cePGDQA8PDzo0KEDn3/+uTE7WWbDTWxtbQHz2dGsra3TvQwmrZdffjnD53dPnz6Ng4MDv/zyi/FvwYIFRqDJyNmzZylcuDCvvPJKhuUXL17Ew8ODzz//nP379xvXk5nExETq1avH4sWL+eGHH7h9+/YTTUAjIiJ/njzb4pBq9+7duLi4PNZI1KftzJkzVKhQgcDAQOrUqYOPjw+ffPIJY8aM4e7du6xdu5YyZcoA6adMzYlzlypVKt16Z2dnYmJiaN68ucXHKlGiBLdv3yY6OjrDSVvWr1/P3bt36dq1q7Euq+s5ePAgI0aMMJrX0j5DLCIiz7Y83eIA0KhRo2cyNEDKTGqp3Q/u7u7Y2try4MEDozz188jISKKionLsvMnJyaxYsQIPD490ZanjDNJau3Ztlsdr1qxZuu3Svob14VfUPnw9dnZ2ZtskJiaa3YeDBw+qxUFEJI/I0y0OjRo1eqbHOdjb2+Pj40O3bt3Ytm0bycnJdOjQAUiZY7x///506NCB5cuXk5SU9NjToqYaP348lStXZseOHezatSvDOcqbNm1Ky5Yteeedd2jcuDGXL1/m/PnzdO7cOdPjenp60qBBA6ZOnUrJkiXZuXMnGzduNF5/26pVKz7++GNCQ0O5efMmmzZtIikpydi/bNmyTJgwgaioKPr27Yu7uzsDBw7kt99+w87OjvPnz5OUlJTlOAsREXk25Ml5HNatW8f169efODQ8ah6HR0k7+1ZuSp3HIfVJicdx4MABevXqlW69t7c3H3744ZNUTyTP0jwOIunlyRaHWrVqUa5cudyuxnOlUqVK6V5/C9l7U5uIiDz/8mRwUGjIeYUKFcrWgEkREXkx5cmuipyS+q6KmJiYbO/r6OjIkCFDnkKtRORZoa6KZ1tcXJzZeCrJWVZWVtjY2KR7h8cLHRxERLKi4PBsS/t0ljwdJpPJbIZieA4exxQRkReP/ub9cyQnJ6e71woOIiKS5+TVaaJzw8iRI59o/4fvtboqREQyoa6KZ0diYmK6qfGz21Vx69YtAgICKFOmDO7u7kRHR3PixAnmzJnDRx99xJIlSzh8+HC6/Tp37syDBw9YvHgx69evB1Je7lesWDHKly8PQGBgINHR0TRq1IgyZcrQunVrDh06xIEDB9ixYwdFihR5vAvPAfHx8carCx6Hg4OD2bJaHERExGLr1q3DxcWFsWPHmq13cXFh27ZtxnJQUBANGjTAzc2NTz/91Ky5OygoCBcXF7MZaE+dOoWLi4uxHBISwqZNm+jevTvVq1fP8HHx7Jo2bRqnTp1i1qxZ+Pv78+677xIUFARgBICMREVFUbZsWUqWLElgYCCBgYF4eHjQrl07YzktZ2dnhg4dyr///W/Gjx+f63PhPEloyIiCg4iIWKxNmzbky5eP7du3G+uSkpIoVKgQTZs2BWDXrl3s2rWLxo0b0717d95///3Hai4fMWIE0dHRtG/fnsqVK2d7/1OnThm/tK9fv86WLVuoUqWK2TZVq1YFzIPDunXrqFGjBpDSShETE5NlsMjKm2++yTfffMMff/wBwMqVKzl27NhjHSstPz8/atSoYfZvzZo1RvmcOXOM9Rnd+82bN1OjRg0CAwOpX78+jRs3ZsyYMRadO0/O4yAiIrnD0dGRmTNnMnDgQGPd9OnTmTlzJra2tmzdupV3333XbCbbN998E29vb6Kiovj0008tPteaNWtwdXW1ePtjx46xZs0atm7dSsWKFenYsaPRovD555+TkJBAjx49Mty3du3aFCxY0Divp6cnV69e5ciRIwBPNM9NQkICW7ZsoWfPnvTq1YsNGzbw0UcfceDAAdq1a0fXrl0zfLdQVv7zn/8Yn0dERBAeHm68OBBg8ODBDB48GMh6jMO8efOMzz/77DO++eYbWrduneW51eIgIiLZ0qRJE4oUKWJ0P+zYsYOGDRsCZDhGwNXVlZdeeonjx49n6zzZGQD55ptv0rt3b3bv3k2PHj349NNP6d69uxEG7t+/D0C+fPkyPUa5cuVITEzk1KlTdOnShWPHjvH7778D8Oqrr2ar7g9LO1+Ql5cXixcv5quvvuLo0aMEBATQqVMnVq9ene3jXrp0iTFjxjB69Ognqh+khKPdu3c/cjsFBxERyRYbGxvatWvHvn37OHfuHL/99psxcPHWrVsZ7uPk5MS9e/ee2mOUv/76K40bN2bZsmUMHTo0XXlqYEgNEBkpW7Ysv/76Kw8ePKBmzZocO3aMy5cvky9fPl555ZUnqp+jo2O6dSVLlmTZsmW8/vrrnD17llWrVmXrmLGxsQQHB2NjY5Mj4xicnJy4cuXKI7dTcHgGTZkyBRcXF2JjY3O7KiIiGerUqRObN2/m22+/NVtfqFChDLe/du0ahQoVemqPUXp5eXHgwAHat29PUFAQcXFxZuVly5YF4OLFi5keo3z58hw+fJgSJUpQrFgxo8WhdOnST1y/h9/7k5CQwI4dO2jVqhXffvstbdu2TTfg9FEmT57M6dOnc2zwZWJiokXB7oUe45A65fTDCTRfvnz069cvw4SYF6UOCHqSd3xcunQJHx8fswFRIvLiqlWrFj179gRSBuqlGjZsGOvXrycyMtIYiOjv78+dO3eYOXMmAO7u7mzbto2NGzcyZMgQkpOTWbRo0RPVZ/LkyUyePNlYnjJlCps2beLu3bscPnyY9u3bEx4ezuLFi81eF/DLL78YAyRbtGhBr169jBaL3bt3Y2tra3Z92bVq1Sratm1Ls2bNAPj0008JCwujdevWdO3alX379mW67/Dhw4GUMSQPT/t89OhRYmJi2L9//2PXDcwf1QwLC8PLyyvD7W7evEnRokWBFzw4LFq0iEOHDmVY9uGHHzJq1KjnIjy0bdv2iY9RqlQphQYRydAbb7xhfG5vb8+0adPo0aMHbdq0oXDhwuzatQsvLy9ef/11ALp27cr8+fMJCwvj999/5+DBg1y+fDlH6/S3v/2NESNGsGXLFmPd6NGjOXHiBMHBwbi5uRETE0NkZCRz5swBUsY4JCQkGE9UODs7c+XKFeOJisuXL5vN43D27FkiIyMBzB7JjIqKYubMmRw8eJDDhw8THh5ulJUoUYJvv/2W/PnzP/IaUltzkpKS0gWHkSNHEhgYaNbi4+rqSqlSpQDYu3evsf7GjRvGsoODg3F9AAEBAbRp04azZ8/y+eefZxhkYmNjadOmDdu2baNw4cIvdnDILDQAXLhwgQkTJlCsWLEMy52cnOjXr1+Wxz937hzTpk1j//79VKlShZCQEKpXrw6kPPP8n//8xxhQFBwczHfffWeWHn/66ScGDhxIsWLF8PPzM1LvG2+8QYkSJThz5gxRUVGUK1eO0aNHs2HDBsLDwzGZTNStW5ewsDAAlixZgqenJ5UqVTLq1aNHDxISEqhevbrZ6NzMyiIjI+nUqZPZSOmuXbvy66+/kj9/flq1amWk/ejoaGrXrs2gQYNYs2YN0dHRrF27Vm81FXnOlClTBgA3Nzez9Y0bN6ZBgwaEh4cTHx/PxIkTjdYJgOLFi/Of//yHqVOnsnXrVjw8PJg0aRI+Pj45Wj87Ozs6duxoLBctWpRly5bRq1cvvv/+exwdHZk0aZJRbm9vj42NjdEC4ebmli44zJ8/P8NzpQ0OFy9eZM2aNZQrV47Bgwcbf6kDtGrVKkeu7dq1a4wfP95s3bhx44wnK/r3729WlhoIypYty8aNG431L7/8MnPmzMHa2po2bdqkm2QLwNraGmdnZ6NlIk8Gh3Xr1nH9+vVH/uJ+Ujdu3ODGjRuZlj/q/G3atGHevHnMnTuX48eP4+3tzdChQ43Hgx7lwYMH/Pzzz8TExPDGG2+wYsUKtm7dCqQ0U/3www8ArF+/nn79+nH8+HEjlQYHBxMbG5vu5STffvstgwYNMgLA8ePHCQsLIygoKMuytGJjY2ncuDG7du3Czs4OgA0bNrB48WICAgKM7d555x2jSdDFxYVdu3ZlGsREJO+5dOkSX331VYZlj5qwqWbNmvz3v/81W5f2D5PQ0NAnr2AGChYsyJdffplpedo/3mbMmGFW5uHhkeFTI6ny58+fZXl2ZXWsrLo4HrVvWpbcZxsbG7Ovc54dHGnJIyPPgt27dxMXF4erqytHjhxJlwKz0qRJEyBlNG6nTp04d+6cUZb2r/fUtJ+2KcvV1TXDpr/U5rHUgUOurq5GnbIqS2vXrl3cuXPHCA2QMjApNdSkevixp5xuihSR3DF+/Hi6du2Kl5cXFSpUyO3qyFOU0WDWPBscgCceTPO09erVi2XLltGwYUPWrVuHyWTCxubxGnmyaubP6DEca2trEhMT061v0KABvXr1omHDhgQFBbFu3TqjTlmVpXX+/PkM63HhwoUsryEhISHLchHJG/bs2cO5c+fMmvlzg1509XRl9jsrT3ZVpEptdXjaXRaP67333sPX15ctW7YwZswY5s2bx9KlS3F2ds72sXLql67JZOK9997D2dmZiIgIxowZQ8OGDXF2ds6yLK2MAgmQbvCOiDyfHn4EM7c83BUrlvP29sbb2/ux9tVP+qfI1dUVBwcHAgMDOXjwIJcuXTIGLALGVKb379/PcO7y1KcYoqOj+de//vXEM5dBSphxdXUlMDCQ5cuXc/DgQaNOWZWl1bNnTwoUKEB8fLyx7uuvv36iR5ZERCRvyNMtDo0aNXpmWxsgJQ37+PjQrVs3tm3bRnJyMh06dABSRiPPmzePW7dusX37di5evGg2JsDa2prx48dz4sQJtm7dSlRUFNOnT3/iOvXt25d169Yxf/588uXLx5dffsmIESMeWZZW/vz5GTlyJL1796Zdu3ZcvnyZVatWPfHzxCIi8uzL0y0Oz3JoAFi2bBlly5Zl4cKFWFlZMW/ePOrVqwfA3LlzqVq1KitXrsTT0zPdpBuOjo6EhYWxaNEioqOjGTduXKYTc2RHpUqVWLZsGQsXLmT27NlYWVkZdcqq7GE9evQgNjaWmTNnsmXLFrp27apmQxGRF4Ap+WlNHP4UnTt3LkfmBPD393+i/T/55JMnroOIPLtOnjzJa6+9ltvVEHmm5MkWB00kJCIikjvyZHDIKTVr1sztKoiIiOQpeXpw5JPq168fixYtMntPuqWeh3dYiIiIZFeeHOMgIvJn0BgHkfRe6K4KERERyR4FBxEREbGYgoOIiIhYTMFBRERELPbMPVVx9uzZ3K6CiAjly5fP7SqIPJPU4iAiIiIWU3AQERERiz1zXRW5YdWqVZw4cSLDMgcHB3x9fXnllVf+5FqJiIg8exQcINPQAPDgwQOWLl36ROHh2LFj/Pe//2Xy5Mlm63/99Vf+/e9/ExkZSdmyZfH19aV27dpG+ZEjR5g0aRLJycmULVuW3r17U7du3XTH37dvH3/729/YsmWL2fq2bduaLXfv3p2AgABj+dy5c/z3v/8lIiKCjRs3ZrpfKi8vLwYNGsSFCxdYvHgxhw4donTp0vTs2ZPGjRtbfkOAy5cvM3jwYAYOHEibNm2yta+IiOQeBYdHcHd358iRI48VHtasWcOWLVu4cOEC7u7uZmWnTp1i+PDhFCpUiO7du7Np0ybGjh3LxIkTqV+/Pj/88AMTJ07Ez88Pk8nEzp07+fvf/86mTZvMjhMfH8/cuXPTnTshIYFq1apRuXJlY52bm5vx+e7du5kyZQr58+fHx8fHbN/g4GCz5QsXLvDZZ5/h5ubGzZs3CQkJITExkT59+hAeHs7kyZMZMWIErVq1svje2NjYUKBAAb2KW0Qkj1FweARvb2+8vb1Zt24dH3/8Mf3797c4PLRp04Zu3boBMGLECLOycePGUaNGDaMVomfPngwbNoxFixZRv359KlWqxPLlyylatCgA3bp1o2fPnmbHuHr1Ku+88w69e/c2azGAlFYUPz+/dIEl1cyZM1m9ejW2trbY2dmZlbVr1874/NatW8yZMwc/Pz+aNm3KF198wa1bt1i0aBFlypShW7du9OvXj6+++ipdcFi7di3z589Pd+7XX38dLy8vrly5wu3bt7l//z7e3t707NmT33//nT179uDu7s6QIUNwdnbO9P6KiMifT4MjLeTt7Y27uztLly4lKirKon0KFy6cadnDXRfJyclcv37deGV4sWLFKFq0KDdv3uTUqVOEhoYSHR1tdoywsDCcnJzo2rVruuPfuHGDNWvW0KNHD9544w1+/fVXs/JXX32VqVOn4u3tTVBQEKdPn86wnhs2bMBkMvH6668D0KxZMwoWLMg///lPLl68yKJFi7h48SKdOnVKt2+tWrUYMmSI8a9q1aoAVK9ePcNzrVq1ymgBOXLkCKNHj87s9omISC5RcMgGb29vHjx4wObNm3P82Nu2bePatWt07NjRbH2vXr0YNGgQO3bsYNy4cWZle/bsYdCgQdjYpG84un79OlFRUTRv3pyGDRsyatQobt26BaR0Yxw+fJg//viDv/71r0RFRTFu3DhiY2PTHeerr76iWbNmRghycnJi2rRp/PrrrwQEBLBmzRoGDBhA8+bN0+1bvnx5OnToQIcOHahSpQonT56kUaNGtGzZMsN70KRJE4YOHUr37t0JCgri8uXLFt07ERH586ir4hEmTZr01M/h6+tLvnz5WLduHfny5TMrSx3weOfOHfz9/fnss88AWL58OUuWLMm026RLly506dLF7ByTJk3io48+4vr16/j6+tKnTx8AWrZsSefOnZk9e3a6LpVSpUoREhJiLC9fvpxly5YxZ84cKlasSEJCAu+88w7bt2/nX//6V6bXGBQUxMSJE2nQoEGm2xQvXtz4vH379qxcuTLTbUWyK7svAk5OTjb+ibyITCZThusVHHLZgwcPSExM5P33308XGtIqVKgQLi4uAFy5coVVq1bRvn17bt68CUBSUhI3b97E0dERBweHdPs7Oztz5coVAOzt7bl3755RZjKZKFSoEH/88YfZPgcOHEjXBXHo0CGcnZ2pWLEikDLIsV69eqxbty7Tuh8+fJh27dplGRoyEhcXl63tRTKT9pd/6uePCgRJSUnGP5EXQWpQSP2YnJycYXhQcMhFiYmJTJkyhSlTppj9tQ3Qr18/KlSowNixY822B9i4cSOxsbH06tXLbJ9evXrxzjvv8OabbzJt2jRGjhxplN26dYsCBQoA8NJLL3HmzBmz496+fZtq1aqZHe/zzz9P1+KSkJCQ7hvJyirzHq/o6GimT5/OwoULM90ms/3u3LmTrX1EHiW1BSH1/1JWTp8+jbW1dabjf0SeR6l/FGbW2gAKDrlqzpw5HDp0KMM58YsVK8a+ffuM5du3bxvzTbRt2zbd0xKhoaGEhIRQtmxZIOUH5L1794ywcP78eby8vICUb4jDhw9z5swZXn31VcLDw3nw4AE1a9Y0jnfhwgX279+PtbW12XkqV67Mxo0bjX0TExP58ccf0wWftNd48+bNLFtTUp07d874fMOGDRb9cBd5lLQtDKmtB6+99lpuVknkmRUfH4/JZMLKygqTyZRhq4OCQy4ZPXo0Bw8eBNJPuLRlyxamTp3Kzz//bPyyd3V15cMPPwSgTJkylClTxmwfOzs76tWrZyyPGjWKsWPHcvLkSeLj41mwYIFZQJk/fz7z58/n2LFjNGrUiFWrVvHSSy8BKeMpBg0alOEgxqCgIDp27MjChQvZv38/5cuX56233qJp06ZAypMeO3fuZMGCBaxbt47t27enu8aSJUvy97//Pd2xX375ZT766CPCw8Nxd3dn2bJllt1MkUdISkoyWhoUSEUyd/v2baxtbLCxtjYG3j8cHEzJz9jIn9x4O2Z2B0CWLVsWPz+/p1OZF1DqPA5du3alf//+uV0deY6k/nhLHauQkJBAQkKC2WRoIvI/UVFR2NraYmtri42NTbpxD6DHMUXkBZA6tkGDHUWylvr/JKs2BQUHEXkhZGdgpMiLKiEhISVgZxEcNMZBcl2+fPnSvaBLJKdpXgaRRzP+n2TRMqcWh8eQ0TwJIiIiLwIFB7L3aNZrr72Gt7f3U6yNiIjIs0tdFZDurZMiIiKSMbU4iIiIiMUUHERERMRiCg4iIiJisWdujENG720QEXkcqY9eps4YGRcXx4MHD3K5ViJ5m1ocREREBCE7c08AACAASURBVIAfhv/vZYPXt37AzhourHF0ZGW+fByYdoA4nsEWBxGRvOLUqVN06NABAEdHR8qXL0/37t3p2bNnlq8lzikREREEBASwevVqatSokWPH9fPzIy4ujhUrVuTYMSVvcOpczvj8+85TAB9e+0c9HBxvc3CoJ9G/71dwEBF5UlOnTqVz585Ayi/zKlWqcOLEiVyulUj2VW6c8jHR8Rzx9KXZ9QW84pjykqs/ho7j0vzN6qoQEclJjRs3xtPT02ydn58ftWvXxsPDg+DgYABiYmKoXr26sc2JEydwcXExliMiIvjll184c+YMLi4ufPHFF9SsWZMmTZowe/bsDM998+ZNRo4cSYMGDejbty9Hjhwxys6dO8e7775L3bp16dGjBz/99JNRdufOHYKDg6lVqxaTJk0iISEhR+6F5F3WMeVIYhk/B3zO9eO/c/viAS5RnHIzeik4iIjktPr163Pjxg0AfvvtN2JiYpg0aRIhISH89NNP3L9/H0dHR7Puhe3bt5sd48cff8TV1dVYnjhxIv/4xz/w8PBg7ty5fP/992bbx8bG4uPjw+7duxk6dCjx8fH4+Phw4sQJ7t+/T9++fYmKiuKDDz6gaNGiDBw4kKtXrwIQEhLCt99+S79+/fj999/NQoW8uKp3eY0b6334pk5FvqrsyWsf76VuUAl1VYiI5LRSpUpx9epVnJycmDVrFkuXLjXecePu7s6qVavw8/PD09OT5ORkTCYTO3bsoGrVqiQlJWFlZcW+ffvMxkn07t2b9u3b07p1a3bu3MkPP/xAw4YNjfI1a9Zw6tQpPv/8c6pXr06XLl1o1aoVs2bNYvr06bz33nu4u7tTvHhxatSoQZMmTfjxxx+pWLEiO3fu5G9/+xu+vr4kJyfj5eX1p98zefbkr1iV4vVbU9K3OfleOsuePt2wcdioFgcRkZx24cIFihUrRmJiIlu2bDF7MV7VqlXZtGkTAIGBgSxdupR169Zx48YN1q5dy7Rp0/jxxx85cOCA2THd3NwAsLGxoUiRIly/ft2sfOPGjdSrV8/o/rC3t6dXr15s374dGxsb/vGPf/D222+zdetWozXk1q1bhIeHY2VlhY+PD5DSl+3k5PR0bozkGbF2a/h5eh+ahU+nytsdKN9lMI367eewb0e1OIiI5LS9e/cSGBgIQIECBdKVFylSBEj5Jb13715sbW1p1qwZADt27KBAgQJUqVIlW+csXLgwly9fNlt37do1ChYsSEREBBcuXOCLL76gWrVq3Llzx9imePHiJCUlce/ePQoWLJitc8pz7OofJJPfbJUpLuWjWhxERHLQ9u3b2bNnj7Fct25d4uLijOWTJ0/SqFEjY3n//v3s2rWLv/zlLwCcOXOGDRs2pBtg+SgNGjTg9OnTnDx5EoC4uDi2bdtG/fr1jfNbWaX8yD906JCxX2pLRkREhLEuOjo6W+eW51CJ8jxgC5cv/W/VpaVgRVUFBxGRJzV69Gjq1KlD586duXTpEsePHzfK5s+fz9tvv427uzv16tVjwYIF+Pr6GuUvv/wyDRo0MIJC//79uX79OsOGDctWHfz9/dm5cyfz5s3Dw8ODgIAA5syZw9y5c3n99ddZsmQJo0ePxs3Njfj4eKpVq8aVK1eoUqUKP/30E1u2bKFmzZqMGzdOXRWC/f02NPm4ICfalTImgMo/eT+d73+MKTl1TlYRkedMZlNOOzs753LNRJ5N58+fx87ODjs7OxwcHIwBumkH6qrFQURERCym4CAiIiIWU3AQERERiyk4iIiIiMUUHERERMRiCg4iIiJiMQUHERERsZiCg4iIiFhMwUFEREQspuAgIiIiFlNwEBEREYspOIiIiIjFFBxERETEYgoOIiIiYjGb3K6AiMif7dq1a7ldBZE8S8FBRF44xYsXz+0qiDyTrly5goODA3Z2dtjb22MymQCMj6CuChEREckGBQcRERGxmIKDiIiIWEzBQURERCym4CAiIiIWU3AQERERiyk4iIiIiMUUHERERMRiCg4iIiJiMQUHERERsZiCg4iIiFhM76oQERERAGJjY0lOTiYxMZHk5GS9q0JERDK2fPlyGjVqhIeHB3PmzMnt6sgzTMFBROQxRUZG4uLigouLC66urjRt2pRBgwbx66+/5nbVsuXHH39k0qRJNGnShOHDh1O6dGkAEhIScHFx4eOPP87lGsqzRF0VIiJPaOrUqXTu3BmAixcv0rZtW44dO5bLtbLcypUrqVixIh9++GFuV0XyALU4iIjkoNKlS1OiRAlj+c6dO9StW5c6deowdOhQrl+/DkCTJk2YOnUqDRo0wMPDg+DgYO7evQtATEwM77//PtWrV6dt27asWrXKOF6TJk14//33GTVqFLVq1SI4OJh79+7RtGlTatWqRZ8+fTh16pSxfWRkJDVr1sTT05Pp06eTmJhoVl8XFxe+/vprTp8+jYuLi7EuLCws3bUlJSURFhZG06ZNcXNz4+jRozl34yTPUHAQEclB0dHRRjiIj4/Hx8eHMWPGMHbsWA4cOEBQUJCx7YoVK5gwYQK+vr5s3ryZ+fPnAzB8+HA2bdrEwoULadeuHRMmTCA8PNxsvwIFCtCzZ0++/vprvLy8CAkJYeTIkZw9e5aQkBAAzp07R58+fZg6dSp9+vRhyZIlzJgxw6y+69evp0mTJpQpU4b169dneW0TJ05k3rx59OrVi+nTp/P2229z7dq1HLlvkneoq0JE5AnFxcVx7949zp8/T2hoKAkJCQB88cUXREZG0qVLFwCcnJwYMGCAsZ+rqyvt27enffv2HDx4kJ9++gmAXr16ERwczGuvvUbDhg3ZtGkT27Zto0WLFgD85S9/Yfz48QAcOnSII0eO4OXlBaS0VkybNg2AWbNmYW9vT7t27QC4e/cu//3vfxk5cqRRhypVqlCwYEHs7OyoUqVKlte5atUqhg8fzjvvvAPA6NGjWb16NYMGDXqyGyh5ioKDiMgTunTpEr/88gtTp04lPj7eaMJP/Qs+tQvgYWnXv/zyy+zbtw+AtWvXEhERwdKlSylQoABWVlbcuXPH2LZo0aLG56VKleLq1avGcmo3SXJyMps2bSI5OTnT82dXcnIyoaGhhIaGGusiIiIUHF4wCg4iIk/o1VdfpV69egwfPhx/f382bNhAp06dcHR0pFKlSnzwwQcWH+vOnTts3ryZkJAQXF1dAbCxyf6PapPJRL58+WjVqhV9+/bN9v6ZHfPTTz/Fzs7OWFegQIEcObbkHQoOIiI5xNPTk7p16zJ79mw6deqEh4cHYWFh1KhRw9gmbetARuLj40lKSsLKKmUI2rVr14iKiqJChQrZrk+tWrU4fvy42fmfZExCcnIy169fp3379saxihUr9tjHk7xJgyNFRHLQsmXLqFy5MjExMQwcOJCtW7fi4eGBm5sbXbt25ZdffslyfycnJ7Zt20ZERASNGzfms88+o127dmZdFZb65JNPmDRpEu7u7tSpU4f+/fsbT248jqNHj3L06FGaNm1KtWrV2LBhw2MfS/IuU3JycnJuV0JE5GlI/fGWkJBAQkICcXFxPHjwAGdn51yumciz6fz589jZ2WFnZ4eDgwMmk4mtIxwZMdePI/fnAWpxEBERkWxQi4OIPLfU4iCSPRm1OBD3/y+5+v8xsWpxEBERkXS65s+Po6Mjji854l440Fiv4CAiIiLpTP7mS778+ismdbM3W6/HMUVERCSdqo1aUM1kIuGrWLP1anEQERERiyk4iIiICAAPTI/eRsFBREREAPj+waNjgYKDiIiIWEzzOIjIc0vzOIhkT+o8Drb571OsUPr3o5ThdT1VISIiIuZM8YWJjo5OmfgJjI+grgoRERHJBgUHERERsZiCg4iIiFhMwUFEREQspuAgIvKci4uLy+0qyHNEwUFE5DGdOnUKFxcXXFxcqFWrFp07d2blypVY8pR7QkICLi4uT7V+ffv2pUmTJoSHhzN16lRiYmIACA0NpWbNmk/13PL8UnAQEXlCffr0YeLEidSoUYMpU6YwaNCgHDv25cuXcXFxYe3atdna7/79++zbtw9/f3/atm3L6NGjcXR0zLF6yYtLwUFE5Am5ubnh5eXFe++9x/z589m2bVtuV4krV66QnJysya7ksdXMH8TW5PQvr1BwEBHJQY0bN8bT09Ns3VtvvUXNmjXx9PRk+vTpGe6XlJREWFgYbm5u9OjRg6NHjxIUFESLFi0AGD16dJbbPqxt27YABAcHc+PGDWbNmkX16tUzPHdkZKRRx+nTp5OYmPhY1y4vBgUHEZEc1qVLF44fPw6k/OIOCwvj0KFD7Nq1i6SkJGJjY822P3PmDFWrVsXW1pajR48yb948fHx8CAsLIzw8HICpU6dmue3DNm/eDMDMmTNxcnLKtK7BwcH4+/sbdUxKSqJu3brp6iiSSsFBRCSHpR0cuWfPHuzt7Y33ZTRs2JDTp0+bbR8REUFycjLt27cnISGBQoUKZTpwMjvbWmLPnj00btzYqGPDhg2Jjo5OV0d5Mczd8r+uiUQecObgLPzauFG+bAne/1ckD0DvqhARyWkXL16kQYMGJCcnc+vWLapVq2ZW/u9//9ts+caNGwC0bNnykcfOzraWuHXrFuvXr2f9+vXp1suL7YrDHv7Z+xi1Xx/E+D6xjA7sxG27nQoOIiI5afv27cyaNYvAwEAAGjVqxMKFC7G2tjbbLiEhwfi8efPmzJs3j1mzZtG+fXsArl27BoCVVUrDcGorRlbbPo5GjRpx9epV1q9fb9Tx2rVrFC9e/LGPKc+Hwg8qMWzDV/R/LRmTycRrZxbgNyxAXRUiIk/q5MmTbNmyhYkTJzJkyBCaNm1qlA0dOpR+/frxzTffsHPnTgYNGkR8fLzZ/jVr1qRly5aMGzeOPXv2sHz5cjp06ABAsWLFsLe3Z9OmTY/c9nEMHTqUs2fPGnUcNGgQPXr0SFdHefE4UJwS5f63XLZCCRK5qhYHEZEn9cknn1CgQAHKli3LqFGj6NOnj1FWo0YN4uLiGD58OLa2ttSpUwdbW1uzFgeAWbNmMWvWLPr160eJEiUYMGAAADY2NowYMYJ//vOfj9z2cdSoUYOlS5cyY8YMhg8fToMGDVi0aBG2traPfUx5vpmSLZniTEQkD0r98ZY6MDEuLo4HDx5obgORTIxaeIHgjrbY2dnh5tSNkYf+11Xx/QRX/KZVUIuDiIiIpHfb4RSzvOryg/fbNK4Rx8RptvSYtVjBQURERNJzftCQd1fUZM/oMCYvvUH/aeGEDHhFXRUi8vxSV4VI9pw/fx47Ozvs7OxwcHDAZEqZ1yH1I2gCKBEREckGBQcRERGxmIKDiIiIWEzBQURERCym4CAiIiIWU3AQERERiyk4iIiIiMUUHERERASAf22LfeQ2Cg4iIiICgHdrh0duo+AgIiIiAJRJevRk0goOIiIiYjEFBxEREbGYgoOIiIhYTMFBRERELKbgICIiIhZTcBARERGLKTiIiIiIxRQcRERExGIKDiIiImIxBQcRERGxmIKDiIiIWEzBQURERCym4CAiIiIWU3AQERERiyk4iIiIiMUUHEREntDhw4epV68ebm5ueHt7s3HjxtyuUrYEBwfz+uuv53Y1JI9QcBAReQI7d+6kT58+jBgxgkmTJlGqVClCQkJyu1pZWrt2LS4uLly+fDm3qyJ5kE1uV0BEJK+Ki4tj3LhxVKtWjW7dugHQuXNnBg4cSHx8PLa2trlcQ5GcpxYHEZHHFBERwdWrVwkMDDRb361bN3755Rdj2cvLCzc3N5o2bcqMGTOM9cHBwYSGhtKiRQvc3Nzw8fEBYMWKFbi4uBjbxcbGUqtWrXTnb9KkCRMmTGDYsGHUqVOHUaNGcf/+faP8008/5fXXX6dp06Z88MEHxMbGAjB69GgAWrRoYXa8NWvWUKNGDXr27MmpU6ce97bIc07BQUTkMe3evRsbGxuaN29utr5ly5bUqFGDpKQkGjduzIYNGzh69CjfffcdTk5OHD9+3Ng2JCSE8PBwjh49SlBQEN988w29e/emVatWxjaTJ0/Gyckpwzrcv3+fWbNmsX//fkqUKEHdunW5ceMGR44cwcXFha+//prvvvuO6OhoOnXqBMDUqVMBCA8PN45z9epVmjZtyuHDh2nWrBlvvPFGTt0mec4oOIiIPKbk5OQsy0+cOMG1a9fM1nXp0oU9e/ZkuH3Dhg2NUOHt7c2vv/4KwHfffZfp4EUHBwfj8xYtWhAfH8/p06dxd3fn7t27+Pn5UadOHdavX8/t27czrevLL7+Ms7MzAK+88sojr01eXAoOIiKPqWDBgiQkJPDHrVsZlt+4cSPdukKFCvHHH39keszUoNG8eXM2b97Mzz//zJUrV/Dy8npkfQoXLmwcY9WqVQwaNAg3NzfWrl1L+/btLbkkecEdTDI9chsFBxGRxxQYGEiRIkUYOmSI2fohQ4YQHx9P/fr1KVKkiFnZsmXLzLoBEhMTjc+//fZbmjVrBoCtrS1z5swhKCiIv/71r1SqVCnDOty9e9fs2La2tjRo0IAlS5bQokULhg8fTqlSpTh//ryxncmU8stBrQrysFpWj/6e0FMVIiKPyd7enokTJxIcHMyXX35JYmIiO3bsYMuWLcyePRuAYcOGMX78eFq3bs3JkyeZPXs2R44cMY4xePBg+vTpw+XLl5kxY4ZZN0bZsmW5cOFCluMNNm/eTKlSpbC1tWXFihV06dIFJycnmjZtypIlS/joo4/Yv38/hw8fNro1SpUqBcDy5csZOXLk07g18pyIi9/OR4OXcuaeKx+vSBlUq+AgIvIE2rZty6JFiwgMDMTe3p7KlSuzcOFCo7xnz5506NCBtWvXUrRoUfz9/c32r1SpEiNHjuTOnTvUqlULK6v/NQTXrl2bYsWKGb/oM9KmTRsuXLhAREQEXl5ejBs3DkgJLDExMaxevZqmTZvSqlUr1qxZw5UrV6hbty4dO3ZkxYoVCg6SpaSEM/z46WqO8b8xNqZktVWJyHMq9cdbQkICCQkJxMXF8eDBA2MQYG4LDg5m5syZmZY3aNCAd999lz59+mRY3qRJE1q0aMGkSZOeVhXlBXP+/Hns7Oyws7PDwcGB2Aef0NvpXY7xOifvfw6oxUFE5Jlz+/ZtmjRpwr///W/q1KmT29WRF5hDvgC+iAkwxsWAWhxE5Dn2rLc4iDxrHm5xSA0MaYODnqoQERERiyk4iIiIiMUUHERERMRiCg4iIiJiMQUHERERsZiCg4iIiFhMwUFEREQspuAgIiIiFlNwEBEREYspOIiIiIjFFBxERETEYgoOIiIiYjEFBxGRXJSYmJjbVRDJFgUHEZFccvz4cdzc3Bg1alRuV0UEAHt7e/Lly0e+fPlwcHDI8J9NbldSRCSvioyMpFOnTgBYWVlRvHhx3NzcGDZsGJUrV37k/sHBwcyePZvSpUvnWJ2aNGlCixYtmDRpUo4dUyQtBQcRkSfUp08f6tWrx6VLl1i2bBndu3fn4MGDWe5z5coVzpw5Q6tWrf6kWorkDHVViIg8ITc3N9q1a0dAQADh4eE4OTkZZXfu3KFu3brUqVOHoUOHcv36dT788EOaNm0KgIuLC2fOnOHMmTO4uLjQtm1bqlSpQkJCAlu3bqVjx45Ur16dNm3amJ3z/PnzeHh4UL9+fYKCgszKEhMTadCgAR4eHgQHBz/9GyAvFAUHEZEcFB0dzfXr1wGIj4/Hx8eHMWPGMHbsWA4cOEBQUBD+/v7Mnj0bgPXr11OqVClj/65duzJz5kysra0ZMmQIbm5uzJw5k1q1arFz504gJRj4+/szefJkxowZQ2RkJPHx8cYx1q9fz4QJE/D19WXz5s1/4tXLi0BdFSIiTyguLo579+5x/vx5QkNDSUhIAOCLL74gMjKSLl26AODk5MSAAQMoXrw45cqVA6BKlSpmx+rfvz8AycnJNG7cmA8++ACA1q1b4+vrS7NmzThz5gwXLlygffv2AJQsWZKoqCjKlCkDQLVq1Wjfvj3t27d/ZJeJSHYpOIiIPKFLly7xyy+/MHXqVOLj4zl69CiQ8pc/pHRHZNcPP/zA999/n27fpKQkKlWqxLZt26hbty53796lVq1arFy50tgm7T4vv/zy41ySSKYUHEREntCrr75KvXr1GD58OP7+/mzYsIFOnTrh6OhIpUqVjFaD7MifPz9jx46lZs2aZuutrFJ6mEuXLs3evXs5cuQIM2fO5OLFizn6dIZIZjTGQUQkh3h6elK3bl1j/IKHhwcXLlygRo0axr8SJUpYdKwqVarw22+/me1bsWJFIKULpG3btlhZWVGzZk1CQkI4ffr0U7sukbQUHEREclBISAgXL14EoHfv3hQrVowvvviCPXv2EBoayl/+8heLjmNnZ8fq1at57733+P7779m0aRPjx48HoH79+ly/fp1t27axY8cOQkNDqV69+lO7JpG0TMnJycm5XQkRkach9cdbQkICCQkJxMXF8eDBA5ydnXO5ZiLPpitXruDg4ICdnR329vaYTCYA4yOoxUFERESyQcFBRERELKanKkRERMRMREQES5YsoX379iQlJREZGcmUKVMABQcRERF5yI4dO1i0aBH29vaAxjiIiIhIFhwdHdm1a1eGZWpxEBERETN9+vShbdu2ODs74+bmRsOGDenbty+g4CAiIiIPcXZ25vjx40YXxQcffMDBgwepVauWuipERETE3O3bt82WK1SoYLyBVS0OIiIiYmbcuHG4ublRokQJLl26xPLly9m9ezegmSNF5DmmmSNFskczR4qIiEiOUnAQERERiyk4iIiIiMUUHERERMRiCg4i8kIwmUzGPxHJmCX/T/Q4pog899KODDeZTJw8eTKXayTybCpSpMgjw7WCg4i8EFJDg7W1NQ4ODsYjmomJiZnuc+7cOcqVK/cn1lLSev/99zl+/DjLly/PdJuePXvi7u7O2LFjzda/8cYb9OnTh169ej3tav7pwsPDmTFjBl9++eUTH+uNN95gxowZuLu7Y2Njg7W1tVocROTFZTKZSE5OxmQyYWVlhY2NDSaTiaSkJBITE0lKSiIpKSnT/QsUKEChQoX+xBpLWjY2NlhZWWX5NbC2tsbOzi7dNt99993Trl6ucXR0xGQy5cj35vfff2/8/7C2tsbe3h5ra2usrKwynMMBFBxE5AWQ+oMxlb29vREespoDz97eHgcHhz+jii+E3bt3s27dOvbs2YOjoyN169bl/fffN9tmwIABHD9+nEKFClG1alVMJpPZ12Dr1q0sXryYy5cvExoaataKBBAaGspnn30GQP/+/fH39zc7/tSpU+nUqRMzZ84kMjKSwYMH0717d6P89u3bhIaGsmvXLlq1akWZMmWYO3cuK1eu5NVXX82R+3Ds2DEWLFjAiRMncHR0pE6dOowcORI7OzsgpRWlaNGihIWFAXD9+nXeeOMNfvjhBwBsbW0xmUyMGTOGAwcOkC9fPjZu3Iitra1xD+Lj49m0aRMeHh6cOnWK+Ph4hg0bRtu2bYGUl1idPn0agIULF6a8g+L/w0NqcOjcuTPnz58HoGTJkkYLh4KDiDz30v7lZG1tDUBSUhI2NjZZBgdbW1vs7e3/lDq+CL7++muioqIYMWIEUVFRfP755yQkJJA/f34AoqKiOH/+PAEBAZhMJlasWIGVlZXxNdixYwcTJkygcuXKDBkyhHHjxhEbG2v8pQzQt29fWrduzYABA7CxsUn39bO2tua9996jX79+lClTBj8/PypWrEijRo0A+Nvf/sb+/fvp3Lkzx48fJyIiAsCYSTHVzZs3admyJdu2baNo0aLZug/BwcEULlwYf39/bty4wdatW0lOTjaOb2VlZXbdqYEidTk1IJhMJoYMGcKhQ4eYOXMm48ePN67R1tYWLy8vPvvsM0JCQti6dSuzZs3Cy8sLgAkTJnD//n0GDhyIra0ttra2RnAwmUx8//33FCxYkOHDh5OcnMzx48eN+is4iMhzLW13hbW1NcnJycbHR7G3tydfvnx/Qi1fDHPmzAFSQlt8fDxvvfUWS5cu5a9//SsAQ4cOZc+ePcb2mzZt4s6dO8bXYPjw4XTq1ImpU6cC4O3tTbNmzbCxsTG2qVKlClWqVMHKygpbW9t0Xz9bW1tWrlxp/LIvWbIkK1eupGXLlgAcOHCArVu3UqZMGQD+/ve/89lnn6X7XnjppZfo0KEDL730Ura/R+7du0f37t0JCAjAxsYm3fiM1OCQelwHBwezZTs7O6ysrPjkk0+MfapWrUrdunXp3LkzNjY2Roj45ptv6NevH9WqVSMgIICzZ8/i6upKvXr1gJT/H/b29umml967dy9+fn7GfUlLwUFEnnup4SH187Qfs5L6A1xyxsWLF1mwYAFr164lISEBAF9fX+MeX7161ex+lyxZkrt376Zbl7rs7OyMnZ1duq6oVBmtN5lMFCtWzFi2t7cnPj7e2M7KyorSpUsbyyVLljTWpz1WwYIFmTlz5mPdh2bNmvHJJ5+wevVq3nrrLd58801KlChhVse0dX/4Y+r37sPXduXKFWNsQmpZaktCaitFYmJihvfk4XW+vr40b94cZ2dn3NzcaNiwIX379gUUHETkBZE2KOjdfn+++/fv06dPH+Li4pg/fz6Ojo7cv3+fHTt2GNs8PJ7Ekq9TTn8t/4x5PhYsWMDBgwf5/vvvCQsLY9myZaxdu9YIKQ/L6smftCwZj/Oo+5V6/SVKlCAsLIy9e/eya9cuvv32W3r37p0yyNii2oiIPEcs/eWgCaNyzg8//MCVK1eYOXMmTZo0AeD48eNm97hEiRJm9zsqKgowbyX6/fffjeVr164RHx9vtk1amX39slqXmJhIVFQUpUuXTleHnPxeqF27NrVr16ZatWoMGjSIDRs2EBgYCKQ8TRIbG2t2nWnrmFmrWenSpTOcwCntckbXz0BjuAAAAkJJREFUkdm1tWzZ0uiqmDJlCocPH6ZWrVoKDiIi8vR5eHhQpEgRpkyZwh9//EF4eDi///67MSgRYMHHH9OgQQN8fX2BlCcc0v5CW7x4MQEBAZw4cQJvb2/mzp1rDBwEuHPnDseOHTOWL1y4wJ49e3B2dqZChQoW17N169b07t2bn3/+md9//z3D7W7cuEGjRo3YvXs3Tk5O2boXrVq1onXr1pQvX55PPvkEW1tbWrdubZT37duX8ePHs3jxYiIjI/nll18yPE6/fv1o1qwZ+/btw9fX13hi4lEuXrzIhQsXjOVjx44RGxsLQMOGDQEYOHAgVatWpUSJEly6dIm1a9cyYsQIQFNOi4jIn6BQoUIsXLiQ8uXLM3PmTAoUKMCCBQvMtiny0ktUqFCBefPmsXLlSmrXrm1W7unpyYwZM4iLi2PGjBn885//NBuYGBkZiZ+fH35+fgB88cUX+Pn58Z///Mfiev7rX/+iXbt2rF27ltdee83o1099GicnVKtWja+++orJkydTunRpli9fTqVKlYzyN998kwEDBjB37lxiY2P56KOPMjxOcnIy06dP58cff2TUqFEWn3/t2rVm9+n99983Wwbo2LEjK1euZOLEiaxdu5Y2bdoYIc2UrM4+EZEMnTx5ktdeey23qyG5KDQ0lIULF/Ljjz9SuHDh3K7OM0FdFSIiIv9vzJgxxMTE4OnpyY4dO9i2bRvTpk1TaEhDwUFEROT/1alTh2XLlhEREUHJkiWZNm0anTp1yu1qPVP+D3cnhHi7fxLMAAAAAElFTkSuQmCC)"
      ]
    },
    {
      "cell_type": "code",
      "execution_count": 62,
      "metadata": {
        "colab": {
          "background_save": true
        },
        "id": "eCVQlmDSPMM0"
      },
      "outputs": [],
      "source": [
        "CWID = \"10447681\""
      ]
    },
    {
      "cell_type": "code",
      "execution_count": 64,
      "metadata": {
        "id": "L8r09j33RXIT"
      },
      "outputs": [
        {
          "name": "stdout",
          "output_type": "stream",
          "text": [
            "mkdir: cannot create directory ‘submission/’: File exists\n"
          ]
        },
        {
          "name": "stdout",
          "output_type": "stream",
          "text": [
            "  adding: submission/ (stored 0%)\n",
            "  adding: submission/pkl/ (stored 0%)\n",
            "  adding: submission/pkl/java/ (stored 0%)\n",
            "  adding: submission/pkl/java/corpus_df_dict.pkl (deflated 77%)\n",
            "  adding: submission/pkl/java/corpus_dl_dict.pkl (deflated 68%)\n",
            "  adding: submission/pkl/java/corpus_tf_dict.pkl (deflated 71%)\n",
            "  adding: submission/pkl/javascript/ (stored 0%)\n",
            "  adding: submission/pkl/javascript/corpus_df_dict.pkl (deflated 77%)\n",
            "  adding: submission/pkl/javascript/corpus_dl_dict.pkl (deflated 67%)\n",
            "  adding: submission/pkl/javascript/corpus_tf_dict.pkl (deflated 72%)\n",
            "  adding: submission/pkl/python/ (stored 0%)\n",
            "  adding: submission/pkl/python/corpus_df_dict.pkl (deflated 77%)\n",
            "  adding: submission/pkl/python/corpus_dl_dict.pkl (deflated 67%)\n",
            "  adding: submission/pkl/python/corpus_tf_dict.pkl (deflated 71%)\n",
            "  adding: submission/result/ (stored 0%)\n",
            "  adding: submission/result/javascript_bm25_answer.txt (deflated 63%)\n",
            "  adding: submission/result/javascript_bm25_question.txt (deflated 61%)\n",
            "  adding: submission/result/javascript_bm25_title.txt (deflated 69%)\n",
            "  adding: submission/result/javascript_tfidf_answer.txt (deflated 63%)\n",
            "  adding: submission/result/javascript_tfidf_question.txt (deflated 61%)\n",
            "  adding: submission/result/javascript_tfidf_title.txt (deflated 61%)\n",
            "  adding: submission/result/java_bm25_answer.txt (deflated 62%)\n",
            "  adding: submission/result/java_bm25_question.txt (deflated 61%)\n",
            "  adding: submission/result/java_bm25_title.txt (deflated 70%)\n",
            "  adding: submission/result/java_tfidf_answer.txt (deflated 62%)\n",
            "  adding: submission/result/java_tfidf_question.txt (deflated 61%)\n",
            "  adding: submission/result/java_tfidf_title.txt (deflated 61%)\n",
            "  adding: submission/result/python_bm25_answer.txt (deflated 63%)\n",
            "  adding: submission/result/python_bm25_question.txt (deflated 61%)\n",
            "  adding: submission/result/python_bm25_title.txt (deflated 69%)\n",
            "  adding: submission/result/python_tfidf_answer.txt (deflated 63%)\n",
            "  adding: submission/result/python_tfidf_question.txt (deflated 61%)\n",
            "  adding: submission/result/python_tfidf_title.txt (deflated 62%)\n",
            "  adding: submission/result/Q4.txt (deflated 76%)\n",
            "  adding: submission/result/Q5.txt (deflated 70%)\n",
            "  adding: submission/result/Q6.txt (deflated 67%)\n"
          ]
        }
      ],
      "source": [
        "! mkdir submission/\n",
        "! cp -r pkl/ submission/\n",
        "! cp -r result/ submission/\n",
        "! zip -r {CWID}.zip submission/"
      ]
    }
  ],
  "metadata": {
    "colab": {
      "provenance": []
    },
    "kernelspec": {
      "display_name": "Python 3 (ipykernel)",
      "language": "python",
      "name": "python3"
    },
    "language_info": {
      "codemirror_mode": {
        "name": "ipython",
        "version": 3
      },
      "file_extension": ".py",
      "mimetype": "text/x-python",
      "name": "python",
      "nbconvert_exporter": "python",
      "pygments_lexer": "ipython3",
      "version": "3.11.5"
    }
  },
  "nbformat": 4,
  "nbformat_minor": 0
}
