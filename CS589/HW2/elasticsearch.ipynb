{
 "cells": [
  {
   "cell_type": "markdown",
   "metadata": {},
   "source": [
    "Name: Aidan Fischer\n",
    "\n",
    "Date: 10/18/2023\n",
    "\n",
    "I pledge my honor that I have abided by the Stevens Honor System\n",
    "\n",
    "The code in this notebook has been written to be repeatable (generated data/files are reset before being regenerated)"
   ]
  },
  {
   "cell_type": "code",
   "execution_count": 6,
   "metadata": {},
   "outputs": [
    {
     "name": "stdout",
     "output_type": "stream",
     "text": [
      "Defaulting to user installation because normal site-packages is not writeable\n",
      "Requirement already satisfied: elasticsearch==7.9.1 in c:\\users\\aidan\\appdata\\roaming\\python\\python311\\site-packages (7.9.1)\n",
      "Requirement already satisfied: urllib3>=1.21.1 in c:\\users\\aidan\\appdata\\roaming\\python\\python311\\site-packages (from elasticsearch==7.9.1) (1.26.16)\n",
      "Requirement already satisfied: certifi in c:\\users\\aidan\\appdata\\roaming\\python\\python311\\site-packages (from elasticsearch==7.9.1) (2023.7.22)\n",
      "Note: you may need to restart the kernel to use updated packages.\n"
     ]
    }
   ],
   "source": [
    "# Make sure elasticsearch package is added\n",
    "%pip install elasticsearch==7.9.1"
   ]
  },
  {
   "cell_type": "code",
   "execution_count": 7,
   "metadata": {},
   "outputs": [],
   "source": [
    "# Define indices\n",
    "\n",
    "DLM = {\n",
    "    \"analysis\": {\n",
    "      \"analyzer\": {\n",
    "        \"my_analyzer\": {\n",
    "          \"tokenizer\": \"whitespace\",\n",
    "          \"filter\": [\n",
    "            \"lowercase\",\n",
    "            \"porter_stem\"\n",
    "          ]\n",
    "        }\n",
    "      }\n",
    "    },\n",
    "    \"index\": {\n",
    "      \"similarity\": {\n",
    "        \"default\": {\n",
    "          \"type\": \"LMDirichlet\"\n",
    "        }\n",
    "      }\n",
    "    }\n",
    "  }\n",
    "\n",
    "BM25 = {\n",
    "    \"analysis\": {\n",
    "      \"analyzer\": {\n",
    "        \"my_analyzer\": {\n",
    "          \"tokenizer\": \"whitespace\",\n",
    "          \"filter\": [\n",
    "            \"lowercase\",\n",
    "            \"porter_stem\"\n",
    "          ]\n",
    "        }\n",
    "      }\n",
    "    },\n",
    "    \"index\": {\n",
    "      \"similarity\": {\n",
    "        \"default\": {\n",
    "          \"type\": \"BM25\"\n",
    "        }\n",
    "\n",
    "      }\n",
    "    }\n",
    "  }\n",
    "\n",
    "TFIDF = {\n",
    "    \"number_of_shards\": 1,\n",
    "    \"analysis\": {\n",
    "      \"analyzer\": {\n",
    "        \"my_analyzer\": {\n",
    "          \"tokenizer\": \"whitespace\",\n",
    "          \"filter\": [\n",
    "            \"lowercase\",\n",
    "            \"porter_stem\"\n",
    "          ]\n",
    "        }\n",
    "      }\n",
    "    },\n",
    "    \"index\": {\n",
    "      \"similarity\": {\n",
    "        \"scripted_tfidf\": {\n",
    "          \"type\": \"scripted\",\n",
    "          \"weight_script\": {\n",
    "            \"source\": \"double idf = Math.log((field.docCount+1.0)/(term.docFreq+1.0)) + 1.0; return query.boost * idf;\"\n",
    "          },\n",
    "          \"script\": {\n",
    "            \"source\": \"double tf = Math.sqrt(doc.freq); double norm = 1/Math.sqrt(doc.length); return weight * tf * norm;\"\n",
    "          }\n",
    "        }\n",
    "      }\n",
    "    }\n",
    "  }\n",
    "\n",
    "map = {\n",
    "    \"properties\": {\n",
    "      \"title\": {\n",
    "        \"type\": \"text\",\n",
    "        \"analyzer\": \"my_analyzer\"\n",
    "      },\n",
    "      \"body\": {\n",
    "        \"type\": \"text\",\n",
    "        \"analyzer\": \"my_analyzer\"\n",
    "      },\n",
    "      \"answer\": {\n",
    "        \"type\": \"text\",\n",
    "        \"analyzer\": \"my_analyzer\"\n",
    "      }\n",
    "    }\n",
    "  }\n",
    "\n",
    "baseURL = \"http://localhost:9200/\"\n",
    "\n",
    "langs = [\"python\",\"java\",\"javascript\"]\n",
    "\n",
    "indices = {\"dlm\": DLM, \"bm25\": BM25, \"tfidf\": TFIDF}"
   ]
  },
  {
   "cell_type": "code",
   "execution_count": 8,
   "metadata": {},
   "outputs": [
    {
     "name": "stdout",
     "output_type": "stream",
     "text": [
      "{'acknowledged': True}\n",
      "{'acknowledged': True, 'shards_acknowledged': True, 'index': 'python_dlm'}\n",
      "{'acknowledged': True, 'shards_acknowledged': True, 'index': 'python_bm25'}\n",
      "{'acknowledged': True, 'shards_acknowledged': True, 'index': 'python_tfidf'}\n",
      "{'acknowledged': True, 'shards_acknowledged': True, 'index': 'java_dlm'}\n",
      "{'acknowledged': True, 'shards_acknowledged': True, 'index': 'java_bm25'}\n",
      "{'acknowledged': True, 'shards_acknowledged': True, 'index': 'java_tfidf'}\n",
      "{'acknowledged': True, 'shards_acknowledged': True, 'index': 'javascript_dlm'}\n",
      "{'acknowledged': True, 'shards_acknowledged': True, 'index': 'javascript_bm25'}\n",
      "{'acknowledged': True, 'shards_acknowledged': True, 'index': 'javascript_tfidf'}\n"
     ]
    }
   ],
   "source": [
    "import requests\n",
    "\n",
    "# Use requests to delete existing indices and put indices on server\n",
    "\n",
    "response = requests.delete(baseURL+\"_all\")\n",
    "print(response.json())\n",
    "\n",
    "for lang in langs:\n",
    "    for name, settings in indices.items():\n",
    "        url = baseURL+lang+\"_\"+name\n",
    "        data = {\"settings\": settings, \"mappings\": map}\n",
    "        response = requests.put(url, json=data)\n",
    "        print(response.json())"
   ]
  },
  {
   "cell_type": "code",
   "execution_count": 9,
   "metadata": {},
   "outputs": [
    {
     "name": "stderr",
     "output_type": "stream",
     "text": [
      "C:\\Users\\Aidan\\AppData\\Local\\Temp\\ipykernel_26908\\521557672.py:5: TqdmExperimentalWarning: Using `tqdm.autonotebook.tqdm` in notebook mode. Use `tqdm.tqdm` instead to force console mode (e.g. in jupyter console)\n",
      "  from tqdm.autonotebook import tqdm, trange\n"
     ]
    },
    {
     "data": {
      "application/vnd.jupyter.widget-view+json": {
       "model_id": "c332c6c40ab9479799948620a2369532",
       "version_major": 2,
       "version_minor": 0
      },
      "text/plain": [
       "  0%|          | 0/3 [00:00<?, ?it/s]"
      ]
     },
     "metadata": {},
     "output_type": "display_data"
    },
    {
     "data": {
      "application/vnd.jupyter.widget-view+json": {
       "model_id": "fe4d222560e14ffc89cdbdc2d5f5eae1",
       "version_major": 2,
       "version_minor": 0
      },
      "text/plain": [
       "0it [00:00, ?it/s]"
      ]
     },
     "metadata": {},
     "output_type": "display_data"
    },
    {
     "data": {
      "application/vnd.jupyter.widget-view+json": {
       "model_id": "0ed2a4e3503443b0a6e1d3b5709a9fa0",
       "version_major": 2,
       "version_minor": 0
      },
      "text/plain": [
       "0it [00:00, ?it/s]"
      ]
     },
     "metadata": {},
     "output_type": "display_data"
    },
    {
     "data": {
      "application/vnd.jupyter.widget-view+json": {
       "model_id": "8bedfac9021743bebe558ca261249a5a",
       "version_major": 2,
       "version_minor": 0
      },
      "text/plain": [
       "0it [00:00, ?it/s]"
      ]
     },
     "metadata": {},
     "output_type": "display_data"
    },
    {
     "data": {
      "application/vnd.jupyter.widget-view+json": {
       "model_id": "6d8205e95a75476ca48493923c15fe05",
       "version_major": 2,
       "version_minor": 0
      },
      "text/plain": [
       "0it [00:00, ?it/s]"
      ]
     },
     "metadata": {},
     "output_type": "display_data"
    },
    {
     "data": {
      "application/vnd.jupyter.widget-view+json": {
       "model_id": "58389f1def784b33b6af4f29e5b9069a",
       "version_major": 2,
       "version_minor": 0
      },
      "text/plain": [
       "0it [00:00, ?it/s]"
      ]
     },
     "metadata": {},
     "output_type": "display_data"
    },
    {
     "data": {
      "application/vnd.jupyter.widget-view+json": {
       "model_id": "5b77baff4b774422b578d8b99632a591",
       "version_major": 2,
       "version_minor": 0
      },
      "text/plain": [
       "0it [00:00, ?it/s]"
      ]
     },
     "metadata": {},
     "output_type": "display_data"
    }
   ],
   "source": [
    "import pandas as pd\n",
    "import json\n",
    "import math\n",
    "import numpy as np\n",
    "from tqdm.autonotebook import tqdm, trange\n",
    "# Create JSON files from dataset\n",
    "\n",
    "qids_missing_data = {}\n",
    "\n",
    "for lang in tqdm(langs):\n",
    "    qidmap = pd.read_csv(lang+\"/\"+lang+\"_qid2all.txt\", sep=\"\\t\", header=None)\n",
    "    qidmap.columns=[\"id\", \"title\", \"body\", \"answer\"]\n",
    "    qids_missing_data.update({f\"{lang}\": []})\n",
    "    for row in qidmap[qidmap.isnull().any(axis=1)].itertuples():\n",
    "        qids_missing_data[lang].append(row.id)\n",
    "    qidmap.dropna(inplace=True)\n",
    "    half = int(math.floor(len(qidmap.index)/2))\n",
    "    with open(lang+\"1.json\",\"w+\") as ljson:\n",
    "        ljson.seek(0)\n",
    "        ljson.truncate(0)\n",
    "        for row in tqdm(qidmap.iloc[:half].itertuples(index=False), leave=False):\n",
    "            ljson.write(json.dumps({\"index\": {\"_id\": row.id}}) + \"\\n\")\n",
    "            ljson.write(json.dumps({col: getattr(row, col) for col in qidmap.columns if col != \"id\"}) + \"\\n\")\n",
    "    with open(lang+\"2.json\",\"w+\") as ljson:\n",
    "        ljson.seek(0)\n",
    "        ljson.truncate(0)\n",
    "        for row in tqdm(qidmap.iloc[half:].itertuples(index=False), leave=False):\n",
    "            ljson.write(json.dumps({\"index\": {\"_id\": row.id}}) + \"\\n\")\n",
    "            ljson.write(json.dumps({col: getattr(row, col) for col in qidmap.columns if col != \"id\"}) + \"\\n\")"
   ]
  },
  {
   "cell_type": "code",
   "execution_count": 10,
   "metadata": {},
   "outputs": [
    {
     "data": {
      "application/vnd.jupyter.widget-view+json": {
       "model_id": "cf21fb363f184799b7174c8aaeba14f8",
       "version_major": 2,
       "version_minor": 0
      },
      "text/plain": [
       "  0%|          | 0/3 [00:00<?, ?it/s]"
      ]
     },
     "metadata": {},
     "output_type": "display_data"
    },
    {
     "data": {
      "application/vnd.jupyter.widget-view+json": {
       "model_id": "7ad08df9ff864faa9f43616f3d10df33",
       "version_major": 2,
       "version_minor": 0
      },
      "text/plain": [
       "  0%|          | 0/3 [00:00<?, ?it/s]"
      ]
     },
     "metadata": {},
     "output_type": "display_data"
    },
    {
     "data": {
      "application/vnd.jupyter.widget-view+json": {
       "model_id": "e1c6a3a36fff49478c45e3541274cb1c",
       "version_major": 2,
       "version_minor": 0
      },
      "text/plain": [
       "  0%|          | 0/2 [00:00<?, ?it/s]"
      ]
     },
     "metadata": {},
     "output_type": "display_data"
    },
    {
     "data": {
      "application/vnd.jupyter.widget-view+json": {
       "model_id": "d6d95241f7984fafb247cb63de7228c9",
       "version_major": 2,
       "version_minor": 0
      },
      "text/plain": [
       "  0%|          | 0/2 [00:00<?, ?it/s]"
      ]
     },
     "metadata": {},
     "output_type": "display_data"
    },
    {
     "data": {
      "application/vnd.jupyter.widget-view+json": {
       "model_id": "41137f8b28894e3092b0150ade243807",
       "version_major": 2,
       "version_minor": 0
      },
      "text/plain": [
       "  0%|          | 0/2 [00:00<?, ?it/s]"
      ]
     },
     "metadata": {},
     "output_type": "display_data"
    },
    {
     "data": {
      "application/vnd.jupyter.widget-view+json": {
       "model_id": "947549892b7347f0a15a4a7e49214fce",
       "version_major": 2,
       "version_minor": 0
      },
      "text/plain": [
       "  0%|          | 0/3 [00:00<?, ?it/s]"
      ]
     },
     "metadata": {},
     "output_type": "display_data"
    },
    {
     "data": {
      "application/vnd.jupyter.widget-view+json": {
       "model_id": "1b6ab158bcfa4aeaa2907610a4af50ce",
       "version_major": 2,
       "version_minor": 0
      },
      "text/plain": [
       "  0%|          | 0/2 [00:00<?, ?it/s]"
      ]
     },
     "metadata": {},
     "output_type": "display_data"
    },
    {
     "data": {
      "application/vnd.jupyter.widget-view+json": {
       "model_id": "7d2722ae1a4c4ab9a243714e560471e4",
       "version_major": 2,
       "version_minor": 0
      },
      "text/plain": [
       "  0%|          | 0/2 [00:00<?, ?it/s]"
      ]
     },
     "metadata": {},
     "output_type": "display_data"
    },
    {
     "data": {
      "application/vnd.jupyter.widget-view+json": {
       "model_id": "229d02d054a84e8da0e126aba11f3158",
       "version_major": 2,
       "version_minor": 0
      },
      "text/plain": [
       "  0%|          | 0/2 [00:00<?, ?it/s]"
      ]
     },
     "metadata": {},
     "output_type": "display_data"
    },
    {
     "data": {
      "application/vnd.jupyter.widget-view+json": {
       "model_id": "6930fef4e6354b4ba89847330c6d4a48",
       "version_major": 2,
       "version_minor": 0
      },
      "text/plain": [
       "  0%|          | 0/3 [00:00<?, ?it/s]"
      ]
     },
     "metadata": {},
     "output_type": "display_data"
    },
    {
     "data": {
      "application/vnd.jupyter.widget-view+json": {
       "model_id": "f3ae37c8851f4de3b43032ca0c885fa5",
       "version_major": 2,
       "version_minor": 0
      },
      "text/plain": [
       "  0%|          | 0/2 [00:00<?, ?it/s]"
      ]
     },
     "metadata": {},
     "output_type": "display_data"
    },
    {
     "data": {
      "application/vnd.jupyter.widget-view+json": {
       "model_id": "6f426ec3fc484fdea30c87b4a9a22e65",
       "version_major": 2,
       "version_minor": 0
      },
      "text/plain": [
       "  0%|          | 0/2 [00:00<?, ?it/s]"
      ]
     },
     "metadata": {},
     "output_type": "display_data"
    },
    {
     "data": {
      "application/vnd.jupyter.widget-view+json": {
       "model_id": "b63d1147ad8b4ede93e345179374fe4d",
       "version_major": 2,
       "version_minor": 0
      },
      "text/plain": [
       "  0%|          | 0/2 [00:00<?, ?it/s]"
      ]
     },
     "metadata": {},
     "output_type": "display_data"
    },
    {
     "name": "stdout",
     "output_type": "stream",
     "text": [
      "Done!\n"
     ]
    }
   ],
   "source": [
    "# Use curl to bulk index.\n",
    "for lang in tqdm(langs):\n",
    "    for index in tqdm(indices.keys(), leave=False):\n",
    "        for i in trange(1,3, leave=False):\n",
    "            url = baseURL+lang+\"_\"+index+\"/_doc/_bulk\"\n",
    "            file = \"@\" + lang + str(i) + \".json\"\n",
    "            !curl -s -H \"Content-Type: application/json\" -XPOST {url} --data-binary {file} >> curl.log\n",
    "print(\"Done!\")"
   ]
  },
  {
   "cell_type": "code",
   "execution_count": 12,
   "metadata": {},
   "outputs": [
    {
     "data": {
      "application/vnd.jupyter.widget-view+json": {
       "model_id": "c7fd2866780743e5b7008622e3e372e9",
       "version_major": 2,
       "version_minor": 0
      },
      "text/plain": [
       "  0%|          | 0/3 [00:00<?, ?it/s]"
      ]
     },
     "metadata": {},
     "output_type": "display_data"
    },
    {
     "data": {
      "application/vnd.jupyter.widget-view+json": {
       "model_id": "6c78f13bd48242e3888f7fb759a7c52f",
       "version_major": 2,
       "version_minor": 0
      },
      "text/plain": [
       "  0%|          | 0/3 [00:00<?, ?it/s]"
      ]
     },
     "metadata": {},
     "output_type": "display_data"
    },
    {
     "data": {
      "application/vnd.jupyter.widget-view+json": {
       "model_id": "d8c8ddd4ba6e44078debe89ef88b02a2",
       "version_major": 2,
       "version_minor": 0
      },
      "text/plain": [
       "  0%|          | 0/6410 [00:00<?, ?it/s]"
      ]
     },
     "metadata": {},
     "output_type": "display_data"
    },
    {
     "data": {
      "application/vnd.jupyter.widget-view+json": {
       "model_id": "6af8b7455c9942f3a79ac10d19616d82",
       "version_major": 2,
       "version_minor": 0
      },
      "text/plain": [
       "  0%|          | 0/6410 [00:00<?, ?it/s]"
      ]
     },
     "metadata": {},
     "output_type": "display_data"
    },
    {
     "data": {
      "application/vnd.jupyter.widget-view+json": {
       "model_id": "aec7c7e9473248449781f99e704f31fd",
       "version_major": 2,
       "version_minor": 0
      },
      "text/plain": [
       "  0%|          | 0/6410 [00:00<?, ?it/s]"
      ]
     },
     "metadata": {},
     "output_type": "display_data"
    },
    {
     "data": {
      "application/vnd.jupyter.widget-view+json": {
       "model_id": "856ba5321e3d4990804825d130a0995e",
       "version_major": 2,
       "version_minor": 0
      },
      "text/plain": [
       "  0%|          | 0/3 [00:00<?, ?it/s]"
      ]
     },
     "metadata": {},
     "output_type": "display_data"
    },
    {
     "data": {
      "application/vnd.jupyter.widget-view+json": {
       "model_id": "54baab20485a40ff95fc44a5329208c0",
       "version_major": 2,
       "version_minor": 0
      },
      "text/plain": [
       "  0%|          | 0/8448 [00:00<?, ?it/s]"
      ]
     },
     "metadata": {},
     "output_type": "display_data"
    },
    {
     "data": {
      "application/vnd.jupyter.widget-view+json": {
       "model_id": "e61bc3f831a54b9b8e5dc2a359a1d3de",
       "version_major": 2,
       "version_minor": 0
      },
      "text/plain": [
       "  0%|          | 0/8448 [00:00<?, ?it/s]"
      ]
     },
     "metadata": {},
     "output_type": "display_data"
    },
    {
     "data": {
      "application/vnd.jupyter.widget-view+json": {
       "model_id": "64df78477be9462fa0f8c2b22cdf58a7",
       "version_major": 2,
       "version_minor": 0
      },
      "text/plain": [
       "  0%|          | 0/8448 [00:00<?, ?it/s]"
      ]
     },
     "metadata": {},
     "output_type": "display_data"
    },
    {
     "data": {
      "application/vnd.jupyter.widget-view+json": {
       "model_id": "8ae46aac36eb4e1aaa2043e2b6869a70",
       "version_major": 2,
       "version_minor": 0
      },
      "text/plain": [
       "  0%|          | 0/3 [00:00<?, ?it/s]"
      ]
     },
     "metadata": {},
     "output_type": "display_data"
    },
    {
     "data": {
      "application/vnd.jupyter.widget-view+json": {
       "model_id": "a51c52c8c104490d988ab57437f2b3d3",
       "version_major": 2,
       "version_minor": 0
      },
      "text/plain": [
       "  0%|          | 0/8069 [00:00<?, ?it/s]"
      ]
     },
     "metadata": {},
     "output_type": "display_data"
    },
    {
     "data": {
      "application/vnd.jupyter.widget-view+json": {
       "model_id": "d1a317e7caac494184782b6c4613a79b",
       "version_major": 2,
       "version_minor": 0
      },
      "text/plain": [
       "  0%|          | 0/8069 [00:00<?, ?it/s]"
      ]
     },
     "metadata": {},
     "output_type": "display_data"
    },
    {
     "data": {
      "application/vnd.jupyter.widget-view+json": {
       "model_id": "1d75ca2f960b436e9413f687a28a4075",
       "version_major": 2,
       "version_minor": 0
      },
      "text/plain": [
       "  0%|          | 0/8069 [00:00<?, ?it/s]"
      ]
     },
     "metadata": {},
     "output_type": "display_data"
    }
   ],
   "source": [
    "# Compute ratings for each language\n",
    "\n",
    "import os\n",
    "\n",
    "for lang in tqdm(langs):\n",
    "    for index in tqdm(indices.keys(), leave=False):\n",
    "        os.makedirs(lang+\"_\"+index+\"_ratings/\", exist_ok=True)\n",
    "        cosidf = pd.read_csv(lang+\"/\"+lang+\"_cosidf.txt\", sep=\"\\t\", header=0)\n",
    "        for qid1 in tqdm(cosidf.qid1.unique(), leave=False):\n",
    "            # Skip qids that we deleted due to missing columns. \n",
    "            if qid1 in qids_missing_data[lang]:\n",
    "                continue\n",
    "            ratings = []\n",
    "            qid2s = cosidf.loc[cosidf.qid1 == qid1]\n",
    "            for qid2 in qid2s.itertuples():\n",
    "                # Skip qids that we deleted due to missing columns. \n",
    "                if qid2 in qids_missing_data[lang]:\n",
    "                    continue\n",
    "                ratings.append({\"_index\": lang+\"_\"+index, \"_id\":str(qid2.qid2), \"rating\": int(qid2.label)})\n",
    "            with open(lang+\"_\"+index+\"_ratings/\"+str(qid1)+\".json\",\"w\") as rf:\n",
    "                rf.seek(0)\n",
    "                rf.truncate(0)\n",
    "                json.dump(ratings, rf, indent=1)\n",
    "    "
   ]
  },
  {
   "cell_type": "code",
   "execution_count": 13,
   "metadata": {},
   "outputs": [],
   "source": [
    "# NCDG@10 function\n",
    "from elasticsearch import Elasticsearch\n",
    "import numpy as np\n",
    "\n",
    "def ranking(qid1, qid1_title, ratings):\n",
    "    _search = {\n",
    "        \"requests\": [\n",
    "            {\n",
    "                \"id\": str(qid1),\n",
    "                \"request\": {\n",
    "                    \"query\": {\n",
    "                        \"bool\": {\n",
    "                            \"must_not\": {\n",
    "                                \"match\": {\n",
    "                                    \"_id\": qid1\n",
    "                                }\n",
    "                            },\n",
    "                            \"should\": [\n",
    "                                {\n",
    "                                    \"match\" : {\n",
    "                                        \"title\": {\n",
    "                                            \"query\": qid1_title,\n",
    "                                            \"boost\": 3.0,\n",
    "                                            \"analyzer\": \"my_analyzer\"\n",
    "                                }}},\n",
    "                                {\n",
    "                                    \"match\" : {\n",
    "                                        \"body\": {\n",
    "                                            \"query\": qid1_title,\n",
    "                                            \"boost\": 3.0,\n",
    "                                            \"analyzer\": \"my_analyzer\"\n",
    "                                }}},\n",
    "                                {\n",
    "                                    \"match\" : {\n",
    "                                        \"answer\": {\n",
    "                                            \"query\": qid1_title,\n",
    "                                            \"boost\": 3.0,\n",
    "                                            \"analyzer\": \"my_analyzer\"\n",
    "                                }}}\n",
    "                            ]}}\n",
    "                },\n",
    "                \"ratings\": ratings\n",
    "            }\n",
    "        ],\n",
    "        \"metric\":{\n",
    "            \"dcg\":{\n",
    "               \"k\": 10,\n",
    "               \"normalize\": True \n",
    "            }\n",
    "        }\n",
    "    }\n",
    "    return _search\n",
    "\n",
    "def ndcg(index, lang):\n",
    "    cosidf = pd.read_csv(lang+\"/\"+lang+\"_cosidf.txt\", sep=\"\\t\", header=0)\n",
    "    es = Elasticsearch()\n",
    "    ndcg_list=[]\n",
    "    for qid1 in tqdm(cosidf.qid1.unique(),leave=False):\n",
    "        if qid1 in qids_missing_data[lang]:\n",
    "            continue\n",
    "        qid1_title = es.get(index=lang+\"_\"+index, doc_type=\"_doc\", id=qid1)[\"_source\"][\"title\"]\n",
    "        with open(lang+\"_\"+index+\"_ratings/\"+str(qid1)+\".json\",\"r\") as rf:\n",
    "            ratings = json.load(rf)\n",
    "            _search = ranking(qid1, qid1_title, ratings)\n",
    "            result = es.rank_eval(index=lang+\"_\"+index, body=_search)\n",
    "            ndcg = result[\"metric_score\"]\n",
    "            ndcg_list.append(ndcg)\n",
    "    return np.mean(np.array(ndcg_list))"
   ]
  },
  {
   "cell_type": "code",
   "execution_count": 14,
   "metadata": {},
   "outputs": [
    {
     "data": {
      "application/vnd.jupyter.widget-view+json": {
       "model_id": "dbb24e564a5b430486dbd5a54bf4506a",
       "version_major": 2,
       "version_minor": 0
      },
      "text/plain": [
       "  0%|          | 0/3 [00:00<?, ?it/s]"
      ]
     },
     "metadata": {},
     "output_type": "display_data"
    },
    {
     "data": {
      "application/vnd.jupyter.widget-view+json": {
       "model_id": "2e7907937738441cbcbc4f58e9297756",
       "version_major": 2,
       "version_minor": 0
      },
      "text/plain": [
       "  0%|          | 0/3 [00:00<?, ?it/s]"
      ]
     },
     "metadata": {},
     "output_type": "display_data"
    },
    {
     "data": {
      "application/vnd.jupyter.widget-view+json": {
       "model_id": "cfc3cb78be8a49da9ca025ef146a9a4c",
       "version_major": 2,
       "version_minor": 0
      },
      "text/plain": [
       "  0%|          | 0/6410 [00:00<?, ?it/s]"
      ]
     },
     "metadata": {},
     "output_type": "display_data"
    },
    {
     "data": {
      "application/vnd.jupyter.widget-view+json": {
       "model_id": "7469c5cb5b1a4f3784db89f870362afd",
       "version_major": 2,
       "version_minor": 0
      },
      "text/plain": [
       "  0%|          | 0/6410 [00:00<?, ?it/s]"
      ]
     },
     "metadata": {},
     "output_type": "display_data"
    },
    {
     "data": {
      "application/vnd.jupyter.widget-view+json": {
       "model_id": "86275e68a76d4422be97589d2b2e0bd4",
       "version_major": 2,
       "version_minor": 0
      },
      "text/plain": [
       "  0%|          | 0/6410 [00:00<?, ?it/s]"
      ]
     },
     "metadata": {},
     "output_type": "display_data"
    },
    {
     "data": {
      "application/vnd.jupyter.widget-view+json": {
       "model_id": "fb8208d3d7d24e2b89cbe2fd830c644e",
       "version_major": 2,
       "version_minor": 0
      },
      "text/plain": [
       "  0%|          | 0/3 [00:00<?, ?it/s]"
      ]
     },
     "metadata": {},
     "output_type": "display_data"
    },
    {
     "data": {
      "application/vnd.jupyter.widget-view+json": {
       "model_id": "a07119bdc319460fa7c0fa92af71ee49",
       "version_major": 2,
       "version_minor": 0
      },
      "text/plain": [
       "  0%|          | 0/8448 [00:00<?, ?it/s]"
      ]
     },
     "metadata": {},
     "output_type": "display_data"
    },
    {
     "data": {
      "application/vnd.jupyter.widget-view+json": {
       "model_id": "cefd6365f72d4080aa885a503986d26e",
       "version_major": 2,
       "version_minor": 0
      },
      "text/plain": [
       "  0%|          | 0/8448 [00:00<?, ?it/s]"
      ]
     },
     "metadata": {},
     "output_type": "display_data"
    },
    {
     "data": {
      "application/vnd.jupyter.widget-view+json": {
       "model_id": "8c26fe6f557449de8694ad299a70ae4c",
       "version_major": 2,
       "version_minor": 0
      },
      "text/plain": [
       "  0%|          | 0/8448 [00:00<?, ?it/s]"
      ]
     },
     "metadata": {},
     "output_type": "display_data"
    },
    {
     "data": {
      "application/vnd.jupyter.widget-view+json": {
       "model_id": "631ba83a09074ec884782a7cb9110e51",
       "version_major": 2,
       "version_minor": 0
      },
      "text/plain": [
       "  0%|          | 0/3 [00:00<?, ?it/s]"
      ]
     },
     "metadata": {},
     "output_type": "display_data"
    },
    {
     "data": {
      "application/vnd.jupyter.widget-view+json": {
       "model_id": "5d25a2363c8043c3b3c4e32228c2a005",
       "version_major": 2,
       "version_minor": 0
      },
      "text/plain": [
       "  0%|          | 0/8069 [00:00<?, ?it/s]"
      ]
     },
     "metadata": {},
     "output_type": "display_data"
    },
    {
     "data": {
      "application/vnd.jupyter.widget-view+json": {
       "model_id": "f0bece3e9bd0483eb8a83fb4ef3a1617",
       "version_major": 2,
       "version_minor": 0
      },
      "text/plain": [
       "  0%|          | 0/8069 [00:00<?, ?it/s]"
      ]
     },
     "metadata": {},
     "output_type": "display_data"
    },
    {
     "data": {
      "application/vnd.jupyter.widget-view+json": {
       "model_id": "4700c9d76e844bee92bbe6eda5514d08",
       "version_major": 2,
       "version_minor": 0
      },
      "text/plain": [
       "  0%|          | 0/8069 [00:00<?, ?it/s]"
      ]
     },
     "metadata": {},
     "output_type": "display_data"
    }
   ],
   "source": [
    "# Generate report\n",
    "with open(\"report.txt\", \"w+\") as report:\n",
    "    report.seek(0)\n",
    "    report.truncate(0)\n",
    "    report.write(\"Name: Aidan Fischer\\n\")\n",
    "    report.write(\"Date: 10/18/2023\\n\")\n",
    "    report.write(\"I pledge my honor that I have abided by the Stevens Honor System\\n\\n\")\n",
    "    report.write(\"Note: All commands run as part of this homework were executed through the submitted Python notebook. \\n\\n\")\n",
    "    for lang in tqdm(langs):\n",
    "        report.write(\"Lang: \"+lang+\"\\n\")\n",
    "        for index in tqdm(indices.keys(), leave=False):\n",
    "            report.write(\"\\t\"+index+\": NDCG@10=\"+str(ndcg(index, lang))+\"\\n\")"
   ]
  }
 ],
 "metadata": {
  "kernelspec": {
   "display_name": "Python 3",
   "language": "python",
   "name": "python3"
  },
  "language_info": {
   "codemirror_mode": {
    "name": "ipython",
    "version": 3
   },
   "file_extension": ".py",
   "mimetype": "text/x-python",
   "name": "python",
   "nbconvert_exporter": "python",
   "pygments_lexer": "ipython3",
   "version": "3.11.5"
  }
 },
 "nbformat": 4,
 "nbformat_minor": 2
}
