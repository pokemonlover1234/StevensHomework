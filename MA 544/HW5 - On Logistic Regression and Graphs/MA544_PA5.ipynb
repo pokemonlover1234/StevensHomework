{
 "cells": [
  {
   "attachments": {},
   "cell_type": "markdown",
   "metadata": {},
   "source": [
    "<h1> Programming Assignment - 5</h1>\n",
    "<hr>\n"
   ]
  },
  {
   "cell_type": "code",
   "execution_count": 8,
   "metadata": {},
   "outputs": [],
   "source": [
    "# Import required packages\n",
    "import numpy as np\n",
    "import pandas as pd\n",
    "from sklearn.preprocessing import MinMaxScaler, Normalizer\n",
    "from sklearn.model_selection import train_test_split\n",
    "from sklearn.linear_model import LogisticRegression\n",
    "from sklearn.metrics import precision_score, recall_score, f1_score\n",
    "from datetime import datetime\n",
    "from scipy.sparse import coo_matrix, csr_matrix\n",
    "import matplotlib.pyplot as plt"
   ]
  },
  {
   "attachments": {},
   "cell_type": "markdown",
   "metadata": {},
   "source": [
    "## Question 1\n",
    "<hr>\n",
    "Setup a logistic regression model on the data at [adultUCI](http://archive.ics.uci.edu/ml/datasets/Adult).  Discuss the performance of your model using appropriate statistics. Use dummy variables to handle categorical variables. \n",
    "\n",
    "1. Prepare the data. Create dummy variables for categorical variables. [See this](https://queirozf.com/entries/one-hot-encoding-a-feature-on-a-pandas-dataframe-an-example)\n",
    "1. Get feature matrix X, and target variable y (>50k or <50k)\n",
    "1. Split data into training and testing\n",
    "1. Normalize data using MinMaxScaler\n",
    "1. Creat a LogisticRegression object for modeling\n",
    "1. Train the model with training data\n",
    "1. Compare the precision, recall, and F1-score on the train and test data.\n",
    "1. Improve the performance of the model on the test dataset."
   ]
  },
  {
   "cell_type": "code",
   "execution_count": 18,
   "metadata": {},
   "outputs": [
    {
     "name": "stdout",
     "output_type": "stream",
     "text": [
      "Stats for the training set:\n",
      "\tPrecison: 0.7404851114178663\n",
      "\tRecall: 0.6005117543579082\n",
      "\tF1 Score: 0.6631932179441894\n",
      "Stats for the test set:\n",
      "\tPrecison: 0.7386363636363636\n",
      "\tRecall: 0.5730478589420654\n",
      "\tF1 Score: 0.6453900709219859\n"
     ]
    }
   ],
   "source": [
    "# Your code comes here\n",
    "cols = [\"age\", \"workclass\", \"fnlwgt\", \"education\", \"education-num\", \n",
    "        \"marital-status\", \"occupation\", \"relationship\", \"race\", \"sex\", \n",
    "        \"capital-gain\", \"capital-loss\", \"hours-per-week\", \"native-country\", \"y\"]\n",
    "categorical = [\"workclass\", \"education\", \"marital-status\", \"occupation\", \"relationship\",\n",
    "               \"race\", \"sex\", \"native-country\"]\n",
    "df = pd.read_csv(\"data/adult.data\", header=None, names=cols, sep=\", \", engine='python')\n",
    "# Create dummies\n",
    "for col in categorical:\n",
    "    df = pd.concat([df, pd.get_dummies(df[col], prefix=col, drop_first=True)], axis=1)\n",
    "    df.drop([col], axis=1, inplace=True)\n",
    "# Change y to 0,1\n",
    "df[\"y\"] = df[\"y\"].replace({\"<=50K\": 0, \">50K\": 1})\n",
    "X = df.drop(\"y\", axis=1)\n",
    "y = df[\"y\"]\n",
    "trainX, testX, trainY, testY = train_test_split(X, y, test_size = 0.2, random_state=1337)\n",
    "scaler = MinMaxScaler()\n",
    "scaler.fit(trainX)\n",
    "trainX = scaler.transform(trainX)\n",
    "testX = scaler.transform(testX)\n",
    "model = LogisticRegression(random_state=1337, max_iter=1000).fit(trainX, trainY)\n",
    "print(\"Stats for the training set:\")\n",
    "print(f\"\\tPrecison: {precision_score(trainY, model.predict(trainX))}\")\n",
    "print(f\"\\tRecall: {recall_score(trainY, model.predict(trainX))}\")\n",
    "print(f\"\\tF1 Score: {f1_score(trainY, model.predict(trainX))}\")\n",
    "print(\"Stats for the test set:\")\n",
    "print(f\"\\tPrecison: {precision_score(testY, model.predict(testX))}\")\n",
    "print(f\"\\tRecall: {recall_score(testY, model.predict(testX))}\")\n",
    "print(f\"\\tF1 Score: {f1_score(testY, model.predict(testX))}\")"
   ]
  },
  {
   "attachments": {},
   "cell_type": "markdown",
   "metadata": {},
   "source": [
    "## Question 2\n",
    "<hr>\n",
    "Create the sparse COO representation ( [ref](https://docs.scipy.org/doc/scipy/reference/generated/scipy.sparse.coo_matrix.html#scipy.sparse.coo_matrix)) of the adjacency matrix (no need to find the dense representation) of the following graph. Find its CSR representation using appropriate Python function. Visualize this matrix by using spy() function. Refer to the notebook of Lecture 10 live session. \n",
    "\n",
    "<img src=\"https://in.mathworks.com/help/examples/matlab/win64/buckydem_02.png\" width=\"60%\" />\n",
    "\n",
    "[Image source: Mathworks](https://in.mathworks.com/help/examples/matlab/win64/buckydem_02.png)"
   ]
  },
  {
   "cell_type": "code",
   "execution_count": 10,
   "metadata": {},
   "outputs": [
    {
     "data": {
      "image/png": "[encoded data removed]",
      "text/plain": [
       "<Figure size 2000x1000 with 1 Axes>"
      ]
     },
     "metadata": {},
     "output_type": "display_data"
    }
   ],
   "source": [
    "# Your code comes here\n",
    "row = np.array([i // 3 for i in range(180)]) # fill up the entries by hand or by some other clever means\n",
    "\n",
    "col = np.array([2, 5, 6, 1, 3, 11, 2, 4, 16, 3, 5, 21, 1, 4, 26, 1, 7, 10, 6, 8, 30, 7, 9, 42, 8, 10, 38, 6, 9, 12, \\\n",
    "                2, 12, 15, 10, 11, 13, 12, 14, 37, 13, 15, 33, 11, 14, 17, 3, 17, 20, 15, 16, 18, 17, 19, 32, 18, 20, 53, 16, 19, 22, \\\n",
    "                4, 22, 25, 20, 21, 23, 22, 24, 52, 23, 25, 48, 21, 24, 27, 5, 27, 30, 25, 26, 28, 27, 29, 47, 28, 30, 43, 7, 26, 29, \\\n",
    "                32, 35, 54, 18, 31, 33, 14, 32, 34, 33, 35, 36, 31, 34, 56, 34, 37, 40, 13, 36, 38, 9, 37, 39, 38, 40, 41, 36, 39, 57, \\\n",
    "                39, 42, 45, 8, 41, 43, 29, 42, 44, 43, 45, 46, 41, 44, 58, 44, 47, 50, 28, 46, 48, 24, 47, 49, 48, 50, 51, 46, 49, 59, \\\n",
    "                49, 52, 55, 23, 51, 53, 19, 52, 54, 31, 53, 55, 51, 54, 60, 35, 57, 60, 40, 56, 58, 45, 57, 59, 50, 58, 60, 55, 56, 59]) - 1\n",
    "\n",
    "data = np.array([1]*180)\n",
    "\n",
    "coo = coo_matrix((data, (row, col)), shape=(60,60))\n",
    "\n",
    "csr = coo.tocsr()\n",
    "plt.figure(figsize=(20,10))\n",
    "#plt.axis(\"off\")\n",
    "plt.spy(csr, marker='s', markersize=2)\n",
    "plt.title(\"Sparse Matrix\");"
   ]
  },
  {
   "attachments": {},
   "cell_type": "markdown",
   "metadata": {},
   "source": [
    "## Question 3\n",
    "<hr>\n",
    "The adjacency matrix of toy world-wide-web has been provided as a text file on the assignment page. Implement the page-ranking algorithm that displays the index of the 10 highest ranking web-pages. Also report on the time it takes to perform these calculations."
   ]
  },
  {
   "cell_type": "code",
   "execution_count": 94,
   "metadata": {},
   "outputs": [
    {
     "name": "stdout",
     "output_type": "stream",
     "text": [
      "[[704 158 288 758 460 647 643 604 153]]\n",
      "Time taken: 0:00:00.021634\n"
     ]
    }
   ],
   "source": [
    "www = np.array(pd.read_csv(\"data/toy_www_1000.csv\", header=None)).astype(dtype=np.float64)\n",
    "start = datetime.now()\n",
    "counts = np.sum(www, axis=0)\n",
    "counts[counts == 0] = 1\n",
    "Q = www / (counts)\n",
    "# Replace zero\n",
    "P = Q.copy()\n",
    "P[:, np.sum(Q, axis=0) == 0] = 1 / www.shape[0]\n",
    "alpha = 0.85\n",
    "e = np.array([[1] * www.shape[0]]).T\n",
    "A = alpha * P + (1 - alpha) * 1 / www.shape[0] * (e @ e.T)\n",
    "r = 1/www.shape[0] * e\n",
    "old_r = 0 * e\n",
    "while(np.linalg.norm(r - old_r) > 0.00000001):\n",
    "    old_r = r\n",
    "    # PageRank pdf says normalization not required for pagerank\n",
    "    r = A @ r\n",
    "pagerank = np.argsort(r.T)[:,:-10:-1]\n",
    "end = datetime.now()\n",
    "print(pagerank)\n",
    "print(f\"Time taken: {end - start}\")"
   ]
  }
 ],
 "metadata": {
  "kernelspec": {
   "display_name": "Python 3 (ipykernel)",
   "language": "python",
   "name": "python3"
  },
  "language_info": {
   "codemirror_mode": {
    "name": "ipython",
    "version": 3
   },
   "file_extension": ".py",
   "mimetype": "text/x-python",
   "name": "python",
   "nbconvert_exporter": "python",
   "pygments_lexer": "ipython3",
   "version": "3.10.5"
  }
 },
 "nbformat": 4,
 "nbformat_minor": 4
}
