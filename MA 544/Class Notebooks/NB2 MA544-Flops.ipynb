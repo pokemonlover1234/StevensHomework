{
 "cells": [
  {
   "cell_type": "markdown",
   "metadata": {
    "slideshow": {
     "slide_type": "slide"
    }
   },
   "source": [
    "## Finite Precesion Arithmetic\n",
    "---\n",
    "**Agenda**\n",
    "1. Finite Precision Mathematics on a Computer\n",
    "2. Issues of stability, efficiency and accuracy."
   ]
  },
  {
   "cell_type": "code",
   "execution_count": 12,
   "metadata": {
    "slideshow": {
     "slide_type": "skip"
    }
   },
   "outputs": [],
   "source": [
    "#IMPORT\n",
    "import numpy as np\n",
    "import matplotlib.pyplot as plt\n",
    "import matplotlib.image as mpimg\n",
    "%matplotlib inline\n",
    "\n",
    "#from ipywidgets import interact, interactive, fixed, interact_manual\n",
    "#import ipywidgets as widgets\n",
    "\n",
    "## Set a seed for the random number generator\n",
    "np.random.seed(100)"
   ]
  },
  {
   "cell_type": "markdown",
   "metadata": {},
   "source": [
    "## Floating Point Representation: A Discussion\n",
    "---"
   ]
  },
  {
   "cell_type": "code",
   "execution_count": 11,
   "metadata": {},
   "outputs": [
    {
     "name": "stdout",
     "output_type": "stream",
     "text": [
      "False\n"
     ]
    }
   ],
   "source": [
    "print(0.1+0.2==0.3)\n",
    "#a=1/3\n",
    "#print(\"a is {0:0.25f}\".format(a))bb"
   ]
  },
  {
   "cell_type": "markdown",
   "metadata": {},
   "source": [
    "**Example** What should be the output of $x_{20}$ when $x_1 = 1/10$ and $x_{n+1}  =f(x_n)$.\n",
    "\n",
    "[Following Example Source](https://nbviewer.jupyter.org/github/fastai/numerical-linear-algebra/blob/master/nbs/1.%20Why%20are%20we%20here.ipynb#Accuracy)"
   ]
  },
  {
   "cell_type": "code",
   "execution_count": 13,
   "metadata": {},
   "outputs": [],
   "source": [
    "def f(x):\n",
    "    if x <= 0.5:\n",
    "        return 2 * x\n",
    "    else:\n",
    "        return 2*x - 1"
   ]
  },
  {
   "cell_type": "code",
   "execution_count": 15,
   "metadata": {},
   "outputs": [
    {
     "name": "stdout",
     "output_type": "stream",
     "text": [
      "0.1\n",
      "0.2\n",
      "0.4\n",
      "0.8\n",
      "0.6000000000000001\n",
      "0.20000000000000018\n",
      "0.40000000000000036\n",
      "0.8000000000000007\n",
      "0.6000000000000014\n",
      "0.20000000000000284\n",
      "0.4000000000000057\n",
      "0.8000000000000114\n",
      "0.6000000000000227\n",
      "0.20000000000004547\n",
      "0.40000000000009095\n",
      "0.8000000000001819\n",
      "0.6000000000003638\n",
      "0.2000000000007276\n",
      "0.4000000000014552\n",
      "0.8000000000029104\n",
      "0.6000000000058208\n",
      "0.20000000001164153\n",
      "0.40000000002328306\n",
      "0.8000000000465661\n",
      "0.6000000000931323\n",
      "0.20000000018626451\n",
      "0.40000000037252903\n",
      "0.8000000007450581\n",
      "0.6000000014901161\n",
      "0.20000000298023224\n",
      "0.4000000059604645\n",
      "0.800000011920929\n",
      "0.6000000238418579\n",
      "0.20000004768371582\n",
      "0.40000009536743164\n",
      "0.8000001907348633\n",
      "0.6000003814697266\n",
      "0.20000076293945312\n",
      "0.40000152587890625\n",
      "0.8000030517578125\n",
      "0.600006103515625\n",
      "0.20001220703125\n",
      "0.4000244140625\n",
      "0.800048828125\n",
      "0.60009765625\n",
      "0.2001953125\n",
      "0.400390625\n",
      "0.80078125\n",
      "0.6015625\n",
      "0.203125\n",
      "0.40625\n",
      "0.8125\n",
      "0.625\n",
      "0.25\n",
      "0.5\n",
      "1.0\n",
      "1.0\n",
      "1.0\n",
      "1.0\n",
      "1.0\n",
      "1.0\n",
      "1.0\n",
      "1.0\n",
      "1.0\n",
      "1.0\n",
      "1.0\n",
      "1.0\n",
      "1.0\n",
      "1.0\n",
      "1.0\n",
      "1.0\n",
      "1.0\n",
      "1.0\n",
      "1.0\n",
      "1.0\n",
      "1.0\n",
      "1.0\n",
      "1.0\n",
      "1.0\n",
      "1.0\n",
      "1.0\n",
      "1.0\n",
      "1.0\n",
      "1.0\n",
      "1.0\n",
      "1.0\n",
      "1.0\n",
      "1.0\n",
      "1.0\n",
      "1.0\n",
      "1.0\n",
      "1.0\n",
      "1.0\n",
      "1.0\n",
      "1.0\n",
      "1.0\n",
      "1.0\n",
      "1.0\n",
      "1.0\n",
      "1.0\n"
     ]
    }
   ],
   "source": [
    "x = 1/10\n",
    "for i in range(100):\n",
    "    print(x)\n",
    "    x = f(x)\n",
    "    "
   ]
  },
  {
   "cell_type": "code",
   "execution_count": 5,
   "metadata": {},
   "outputs": [
    {
     "data": {
      "image/jpeg": "[encoded data removed]",
      "text/html": [
       "\n",
       "        <iframe\n",
       "            width=\"400\"\n",
       "            height=\"300\"\n",
       "            src=\"https://www.youtube.com/embed/gp_D8r-2hwk\"\n",
       "            frameborder=\"0\"\n",
       "            allowfullscreen\n",
       "            \n",
       "        ></iframe>\n",
       "        "
      ],
      "text/plain": [
       "<IPython.lib.display.YouTubeVideo at 0x7ff7a9f05e50>"
      ]
     },
     "execution_count": 5,
     "metadata": {},
     "output_type": "execute_result"
    }
   ],
   "source": [
    "\n",
    "from IPython.display import YouTubeVideo\n",
    "YouTubeVideo(\"gp_D8r-2hwk\")"
   ]
  },
  {
   "cell_type": "markdown",
   "metadata": {},
   "source": [
    "[Some insight on Arian 5 disaster here](http://www-users.math.umn.edu/~arnold/disasters/ariane.html)\n",
    "\n",
    "#### Stability: An example"
   ]
  },
  {
   "cell_type": "code",
   "execution_count": 6,
   "metadata": {},
   "outputs": [
    {
     "name": "stdout",
     "output_type": "stream",
     "text": [
      "[[ 1.00000000e+00  3.33333333e-01  1.11111111e-01  3.70370370e-02\n",
      "   1.23456790e-02  4.11522634e-03  1.37174211e-03  4.57247371e-04\n",
      "   1.52415789e-04  5.08052602e-05  1.69350748e-05  5.64497734e-06\n",
      "   1.88146872e-06  6.26394672e-07  2.05751947e-07  5.63988754e-08\n",
      "  -2.99408028e-08 -2.04941979e-07 -8.48160840e-07 -3.40210767e-06\n",
      "  -1.36115854e-05 -5.44473934e-05 -2.17789924e-04 -8.71159813e-04\n",
      "  -3.48463929e-03 -1.39385572e-02 -5.57542287e-02 -2.23016915e-01\n",
      "  -8.92067659e-01 -3.56827064e+00 -1.42730825e+01 -5.70923302e+01\n",
      "  -2.28369321e+02 -9.13477283e+02 -3.65390913e+03 -1.46156365e+04\n",
      "  -5.84625461e+04 -2.33850184e+05 -9.35400738e+05 -3.74160295e+06]]\n"
     ]
    }
   ],
   "source": [
    "# The following difference equation has the solution x_n = =1/3^n. \n",
    "x=np.zeros((40,1),dtype=float)\n",
    "x[0]=1.0\n",
    "x[1]=1.0/3\n",
    "for n in range(1,39):\n",
    "    x[n+1]= (13.0/3.0) * x[n] - (4.0/3.0) * x[n-1]\n",
    "\n",
    "print(x.T)"
   ]
  },
  {
   "cell_type": "code",
   "execution_count": 7,
   "metadata": {},
   "outputs": [
    {
     "name": "stdout",
     "output_type": "stream",
     "text": [
      "[[ 1.00000000e+00  3.33333333e-01  1.11111111e-01  3.70370370e-02\n",
      "   1.23456790e-02  4.11522634e-03  1.37174211e-03  4.57247371e-04\n",
      "   1.52415790e-04  5.08052625e-05  1.69350842e-05  5.64501473e-06\n",
      "   1.88161826e-06  6.26992820e-07  2.08144541e-07  6.59692518e-08\n",
      "   8.34070274e-09 -5.18159572e-08 -2.35656751e-07 -9.52091313e-07\n",
      "  -3.81152002e-06 -1.52471317e-05 -6.09888772e-05 -2.43955626e-04\n",
      "  -9.75822542e-04 -3.90329018e-03 -1.56131607e-02 -6.24526429e-02\n",
      "  -2.49810572e-01 -9.99242287e-01 -3.99696915e+00 -1.59878766e+01\n",
      "  -6.39515064e+01 -2.55806025e+02 -1.02322410e+03 -4.09289641e+03\n",
      "  -1.63715856e+04 -6.54863425e+04 -2.61945370e+05 -1.04778148e+06]]\n"
     ]
    }
   ],
   "source": [
    "#  Rearrangement of the expression\n",
    "x=np.zeros((40,1),dtype=float)\n",
    "x[0]=1.0\n",
    "x[1]=1.0/3\n",
    "for n in range(1,39):#  x[n+1]= 4 * x[n] -   x[n-1] + ( x[n] -   x[n-1])/3\n",
    "    x[n+1]=  3*x[n] +   4*((x[n] - x[n-1])/3)\n",
    "\n",
    "print(x.T)"
   ]
  },
  {
   "cell_type": "markdown",
   "metadata": {},
   "source": [
    "#### Care that should be taken while writing numerical algorithms\n",
    "---\n",
    ">- Loss of precision: avoid subtraction of close quantities by mathematical manipulations.\n",
    ">- Minimize the introduction of roundoff errors.\n",
    ">- Be careful converting large integers.\n",
    ">- Extra care when iteration is being used.\n",
    ">- Minimize truncation errors in mathematical terms."
   ]
  },
  {
   "cell_type": "markdown",
   "metadata": {},
   "source": [
    "#### IEEE 754 Normalized Binary Form\n",
    "---\n",
    "Represents the following binary number\n",
    "$$\\Large\n",
    "(-1)^s \\left( 1+ f\\right) \\times 2^{e-1023}\n",
    "$$\n",
    "<img src=\"./images/64bit.png\" width=\"800xp\" />\n",
    "\n",
    "[Image](https://en.wikipedia.org/wiki/Double-precision_floating-point_format#/media/File:IEEE_754_Double_Floating_Point_Format.svg)\n",
    "\n",
    ">- One sign bit, denoted by s.\n",
    ">- Biased exponent, e, takes 11 bits.\n",
    ">- The fractional part (mantissa), f, in the normalized form takes 52 bits."
   ]
  },
  {
   "cell_type": "markdown",
   "metadata": {},
   "source": [
    "**Example**\n",
    "\\begin{aligned}\n",
    "(152.356425)_{10} &= (1001 1000 .0101 1011 0011 1110 1011)_2\\\\\n",
    "&= (1.001 1000 0101 1011 0011 1110 1011)_2 \\times 2^7\n",
    "\\end{aligned}\n",
    "\n",
    "On comparison with the standard form, we have $e-1023 = 7$, implying that the biased exponent is $$e = 1030 = (1000 0000 110)_2.$$ \n",
    "The sign bit should be 0 for a positive number. And the fractional part is   \n",
    "$$f=.001 100 0101 1010 0111 1101 011$$\n",
    "Hence $ 152.356425$ in 64-bits is given by\n",
    " $$ 0 ~ 100~ 0000~ 0110~  0011~ 0010~ 0001~ 0110~ 1001~ 1111~ 0101~ 1000~ 0000~ 0000~ 0000~ 0000~ 0000.$$ \n",
    "(That is  4063 2169 F580 0000 is hexadecimal representation. How? Make groups of four bits to get 16 hexadecimal numbers. For example 0100 is 4, 1111 is F, and so on.)\n"
   ]
  },
  {
   "cell_type": "markdown",
   "metadata": {},
   "source": [
    ">- The biased exponent for decimal numbers satisfy: $-1023 < e -1023 < 1024$, or $0<e<2047$.\n",
    "\n",
    ">- The  value $e=0$ is reserved for some special cases.\n",
    ">>- When $e=0$ (all zero bits) with $f=0$, it represents **plus or minus zero**.\n",
    ">>- When $e=0$ with $f \\ne 0$, it represents **subnormals** that are small numbers quite close to zero, even smaller than the smallest normalized binary numbers. They are used to handle underflow in floating point arithmetics.\n",
    "\n",
    ">- The value $e=2047$ is reserved for some special cases.\n",
    ">>- When $e = 2047$ (all 1 bits) with $f=0$, it represent **plus or minus infinity**\n",
    ">>- When $e=2047$ (all 1 bits) and $f \\ne 0$, it represents  **NaN** (not a number)\n",
    "\n",
    ">- **Overflow**: When the resulting number from some mathematical operation is larger then the largest possible number, we say that an overflow has occurred.\n",
    "\n",
    ">- **Underflow**: When the result of an arithmetic operation is quite close to zero beyond the normalized representation, it is called an underflow."
   ]
  },
  {
   "cell_type": "markdown",
   "metadata": {},
   "source": [
    "**EXAMPLE** Write the following expressions in ways that avoid the loss of significance due to subtraction of close quantities.\n",
    "\n",
    "(A) $f(x) = \\sqrt{x+1/x} - \\sqrt{x - 1/x}.$\n",
    "\n",
    "(B) $f(x) = \\tan{x} - \\sin{x}.$"
   ]
  },
  {
   "cell_type": "code",
   "execution_count": null,
   "metadata": {},
   "outputs": [],
   "source": []
  }
 ],
 "metadata": {
  "kernelspec": {
   "display_name": "Python 3 (ipykernel)",
   "language": "python",
   "name": "python3"
  },
  "language_info": {
   "codemirror_mode": {
    "name": "ipython",
    "version": 3
   },
   "file_extension": ".py",
   "mimetype": "text/x-python",
   "name": "python",
   "nbconvert_exporter": "python",
   "pygments_lexer": "ipython3",
   "version": "3.9.7"
  }
 },
 "nbformat": 4,
 "nbformat_minor": 2
}
