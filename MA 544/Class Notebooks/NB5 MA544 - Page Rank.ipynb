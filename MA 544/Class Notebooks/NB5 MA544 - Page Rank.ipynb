{
 "cells": [
  {
   "cell_type": "markdown",
   "id": "d7e88109",
   "metadata": {},
   "source": [
    "### Applications of Spectral Graphs Theory: Google Page Ranking\n",
    "---\n",
    "Read the hand-written notes on Page ranking on Module 2 content. \n",
    "\n",
    "Reference 1: Numerical Linear Algebra in Data Mining-[Elden](http://www.cato.tzo.com/brad_bbk/teaching/datamining/research_surveys/elden.pdf), Page 40-46.\n",
    "\n",
    "Reference 2: Please see [this link](https://rstudio-pubs-static.s3.amazonaws.com/239261_8a607707294341c4b7e26acf728c28bd.html) on power iteration and page-rank.\n",
    "\n",
    "---"
   ]
  },
  {
   "cell_type": "code",
   "execution_count": 20,
   "id": "b838c052",
   "metadata": {},
   "outputs": [],
   "source": [
    "import numpy as np\n",
    "from scipy.sparse import coo_matrix\n",
    "from scipy.sparse import csr_matrix\n",
    "\n",
    "np.set_printoptions(precision=5)"
   ]
  },
  {
   "cell_type": "markdown",
   "id": "b002af63",
   "metadata": {},
   "source": [
    "**Power-iteration** [C-Engage Chapter](https://college.cengage.com/mathematics/larson/elementary_linear/5e/students/ch08-10/chap_10_3.pdf)\n",
    "\n",
    "An iterative algorithm to find the dominant eigenvalue and associated eigenvector of certain matrices.\n",
    "\n",
    "Start with a random initialization $v_0$ repeat until convergence\n",
    "\n",
    "$$\\large\n",
    "v_{k+1} = \\frac{Av_k}{\\|Av_k\\|} ;\\qquad \\lambda_{k} = \\frac{v_{k+1}Av_{k}}{v_{k+1}v_{k}}\n",
    "$$\n",
    "\n",
    "Necessary and sufficient condition for convergence\n",
    ">1. The dominant eigenvalue must  be larger than every other eigenvalue in magnitude. rate of convergence is proportional to $|\\lambda_2/\\lambda_1|$\n",
    ">2. The initialization $v_0$ must have a nonzero component along the eigenvector associated with the dominant eigenvalue."
   ]
  },
  {
   "cell_type": "code",
   "execution_count": 27,
   "id": "88164f87",
   "metadata": {},
   "outputs": [],
   "source": [
    "# Implementation of Vanilla power method\n",
    "def power_method(A, max_iter):\n",
    "    # Input A: the stochastic matrix after adjusting for teleportation\n",
    "    v_old = np.random.rand(A.shape[1]) # Why should you choose randomly\n",
    "    #csrA = csr_matrix(A)\n",
    "    for k in range(max_iter):\n",
    "        v_new = A.dot(v_old)\n",
    "\n",
    "        # Need to normalize\n",
    "        v_new = v_new / np.linalg.norm(v_new)\n",
    "        # Once can break the loop based on some tolerance criteria. Otherwsie\n",
    "        v_old = v_new\n",
    "        \n",
    "    evalue = np.dot(v_new,A.dot(v_new))/np.linalg.norm(v_new)\n",
    "    return v_new, evalue"
   ]
  },
  {
   "cell_type": "code",
   "execution_count": 51,
   "id": "265c1c29",
   "metadata": {},
   "outputs": [],
   "source": [
    "## Implementation of power method customized for page ranking. See Elden.\n",
    "def power_method_ranking(Q, max_iter):\n",
    "    # Input Q: The link matrix without any adjustments\n",
    "    n = Q.shape[1]\n",
    "    Q_csr = csr_matrix(Q)\n",
    "    z = np.random.rand(n) # Why should you choose randomly\n",
    "    z = z / np.linalg.norm(z,ord=1) # z should be of unit 1-norm.\n",
    "    #print(z.shape)\n",
    "    alpha=0.85 # Damping factor\n",
    "    # Peronalization vector must be of unit norm\n",
    "    v = np.ones((Q.shape[1],), dtype=float)\n",
    "    v = v / np.linalg.norm(v,ord=1) \n",
    "\n",
    "    # Power iteration loop\n",
    "    for k in range(max_iter):\n",
    "        y=alpha*Q_csr.dot(z)\n",
    "        #print(y.shape)\n",
    "        beta = 1.0 - np.linalg.norm(y,ord=1)\n",
    "        #print(beta.shape)\n",
    "        z = y + beta * v\n",
    "        #print(z.shape)\n",
    "        residual = np.linalg.norm(y-z,ord=1)\n",
    "        if residual < 0.0001:\n",
    "            break\n",
    "    return z"
   ]
  },
  {
   "cell_type": "markdown",
   "id": "81796d8a",
   "metadata": {},
   "source": [
    "**Example** Consider the following toy worldwide web to answer the following.\n",
    "<img src=\"./images/PageRankingProb1.png\" width=\"60%\"/>\n",
    "- Create the link matrix $Q$ from the toy worldwide web.\n",
    "- Find the modified link matrix $P$ and page-rank $A$ by assuming a damping factor of $\\alpha=0.85$. \n",
    "- Find the dominant eigenvector of $A$.\n",
    "- Arrange the webpages in the decreasing order of their page rank."
   ]
  },
  {
   "cell_type": "markdown",
   "id": "a18458b8",
   "metadata": {},
   "source": [
    "<strong>Link Matrix</strong>\n",
    "<div style=\"display:\" >\n",
    "    $$\n",
    "Q = \n",
    "\\begin{pmatrix}\n",
    "0 & 1 & 0 & 0 & 0 & 0 & 0 & 0 \\\\\n",
    "1/2 & 0 & 1 & 0 & 0 & 0 & 0 & 0 \\\\\n",
    "1/2 & 0 & 0 & 0 & 1/2 & 0 & 1/3 & 0 \\\\\n",
    "0 & 0 & 0 & 0 & 0 & 1/3 & 0 & 1 \\\\\n",
    "0 & 0 & 0 & 0 & 0 & 1/3 & 0 & 0 \\\\\n",
    "0 & 0 & 0 & 0 & 0 & 0 & 1/3 & 0 \\\\\n",
    "0 & 0 & 0 & 0 & 1/2 & 0 & 0 & 0 \\\\\n",
    "0 & 0 & 0 & 0 & 0 & 1/3 & 1/3 & 0 \\\\\n",
    "\\end{pmatrix}\n",
    "$$\n",
    "</div>\n"
   ]
  },
  {
   "cell_type": "markdown",
   "id": "65b163ce",
   "metadata": {},
   "source": [
    "<strong>Transition Probability Matrix:</strong> What is wrong in the following?\n",
    "$$\n",
    "P = \n",
    "\\begin{pmatrix}\n",
    "0 & 1 & 0 & 1/8 & 0 & 0 & 0 & 0 \\\\\n",
    "1/2 & 0 & 1 & 1/8 & 0 & 0 & 0 & 0 \\\\\n",
    "1/2 & 0 & 0 & 1/8 & 1/2 & 0 & 1/3 & 0 \\\\\n",
    "0 & 0 & 0 & 1/8 & 0 & 1/3 & 0 & 1 \\\\\n",
    "0 & 0 & 0 & 1/8 & 0 & 1/3 & 0 & 0 \\\\\n",
    "0 & 0 & 0 & 1/8 & 0 & 0 & 1/3 & 0 \\\\\n",
    "0 & 0 & 0 & 1/8 & 1/2 & 0 & 0 & 0 \\\\\n",
    "0 & 0 & 0 & 1/8 & 0 & 1/3 & 1/3 & 0 \\\\\n",
    "\\end{pmatrix}\n",
    "$$"
   ]
  },
  {
   "cell_type": "markdown",
   "id": "85664dc9",
   "metadata": {},
   "source": [
    "<div class=\"alert alert-success\">\n",
    "<strong>Page Ranking Matrix</strong>\n",
    "$$\n",
    "A = \\alpha P + \\frac{1-\\alpha}{n} e e^T =  0.85 P + \\frac{0.15}{n} e e^T\n",
    "$$\n",
    "    </div>"
   ]
  },
  {
   "cell_type": "code",
   "execution_count": 52,
   "id": "d4fd8127",
   "metadata": {},
   "outputs": [
    {
     "name": "stdout",
     "output_type": "stream",
     "text": [
      "The modified link matrix:\n",
      " [[0.      1.      0.      0.125   0.      0.      0.      0.     ]\n",
      " [0.5     0.      1.      0.125   0.      0.      0.      0.     ]\n",
      " [0.5     0.      0.      0.125   0.5     0.      0.33333 0.     ]\n",
      " [0.      0.      0.      0.125   0.      0.33333 0.      1.     ]\n",
      " [0.      0.      0.      0.125   0.      0.33333 0.      0.     ]\n",
      " [0.      0.      0.      0.125   0.      0.      0.33333 0.     ]\n",
      " [0.      0.      0.      0.125   0.5     0.      0.      0.     ]\n",
      " [0.      0.      0.      0.125   0.      0.33333 0.33333 0.     ]]\n"
     ]
    }
   ],
   "source": [
    "## Number of nodes (pages)\n",
    "n = 8\n",
    "# Please note that one could directly create the 8x8 square matrix P from the graph\n",
    "\n",
    "# Create the relevant matrices for eigenvector calculation and page ranking\n",
    "row= [0,0,1,1,1,2,2,2,2,3,3,3,4,4,5,5,6,6,7,7,7]\n",
    "col = [1,3,0,2,3,0,3,4,6,3,5,7,3,5,3,6,3,4,3,5,6]\n",
    "val = [1,1/8,1/2,1,1/8,1/2,1/8,1/2,1/3,1/8,1/3,1,1/8,1/3,1/8,1/3,1/8,1/2,1/8,1/3,1/3]\n",
    "\n",
    "P_coo = coo_matrix((val,(row,col)),(n,n), dtype=float)\n",
    "P = P_coo.toarray()\n",
    "print(\"The modified link matrix:\\n\",P)\n",
    "P_csr = P_coo.tocsc()"
   ]
  },
  {
   "cell_type": "code",
   "execution_count": 54,
   "id": "3c66e3b7",
   "metadata": {},
   "outputs": [
    {
     "name": "stdout",
     "output_type": "stream",
     "text": [
      "[[0.01875 0.86875 0.01875 0.125   0.01875 0.01875 0.01875 0.01875]\n",
      " [0.44375 0.01875 0.86875 0.125   0.01875 0.01875 0.01875 0.01875]\n",
      " [0.44375 0.01875 0.01875 0.125   0.44375 0.01875 0.30208 0.01875]\n",
      " [0.01875 0.01875 0.01875 0.125   0.01875 0.30208 0.01875 0.86875]\n",
      " [0.01875 0.01875 0.01875 0.125   0.01875 0.30208 0.01875 0.01875]\n",
      " [0.01875 0.01875 0.01875 0.125   0.01875 0.01875 0.30208 0.01875]\n",
      " [0.01875 0.01875 0.01875 0.125   0.44375 0.01875 0.01875 0.01875]\n",
      " [0.01875 0.01875 0.01875 0.125   0.01875 0.30208 0.30208 0.01875]]\n"
     ]
    }
   ],
   "source": [
    "# The page ranking matrix\n",
    "alpha=0.85\n",
    "A = alpha*P + (1.0-alpha)*np.ones_like(P)/P.shape[0]\n",
    "\n",
    "print(A)"
   ]
  },
  {
   "cell_type": "code",
   "execution_count": 55,
   "id": "adf4b1f8",
   "metadata": {},
   "outputs": [
    {
     "name": "stdout",
     "output_type": "stream",
     "text": [
      "\n",
      " The eigenvalues are:\n",
      " [ 1.     +0.j       0.62835+0.j      -0.425  +0.425j   -0.425  -0.425j\n",
      " -0.11835+0.24013j -0.11835-0.24013j -0.1427 +0.21923j -0.1427 -0.21923j]\n",
      "\n",
      " The dominant eigenvector after normalization:\n",
      " [-0.27649 -0.29291 -0.174   -0.08245 -0.03884 -0.03998 -0.04402 -0.05131]\n",
      "\n",
      " Raking from lower to higher:\n",
      " [5 6 7 8 4 3 1 2]\n"
     ]
    }
   ],
   "source": [
    "# Ranking by using Numpy for eigenvector calculation\n",
    "e,v = np.linalg.eig(A)\n",
    "print(\"\\n The eigenvalues are:\\n\",e)\n",
    "#print(\"The dominant eigenvector:\\n\", v[:,0])\n",
    "print(\"\\n The dominant eigenvector after normalization:\\n\", np.real(v[:,0])/np.linalg.norm(v[:,0],ord=1))\n",
    "print(\"\\n Raking from lower to higher:\\n\",np.argsort(np.abs(v[:,0]))+1)"
   ]
  },
  {
   "cell_type": "code",
   "execution_count": 56,
   "id": "8fb4e6d8",
   "metadata": {},
   "outputs": [
    {
     "name": "stdout",
     "output_type": "stream",
     "text": [
      "The dominant eigenvector:\n",
      " [0.27649 0.29291 0.174   0.08245 0.03884 0.03998 0.04402 0.05131]\n",
      "\n",
      " Raking from lower to higher: [5 6 7 8 4 3 1 2]\n"
     ]
    }
   ],
   "source": [
    "# Vanila power method defined below\n",
    "z,_ = power_method(A,1000)\n",
    "#print(z.shape)\n",
    "z = z / np.linalg.norm(z,ord=1)\n",
    "print(\"The dominant eigenvector:\\n\", z)\n",
    "print(\"\\n Raking from lower to higher:\",np.argsort(z)+1)"
   ]
  },
  {
   "cell_type": "code",
   "execution_count": 57,
   "id": "6b405c2e",
   "metadata": {},
   "outputs": [
    {
     "name": "stdout",
     "output_type": "stream",
     "text": [
      "The dominant eigenvector:\n",
      " [0.27649 0.29291 0.174   0.08245 0.03884 0.03998 0.04402 0.05131]\n",
      "Raking from lower to higher: [5 6 7 8 4 3 1 2]\n"
     ]
    }
   ],
   "source": [
    "# By using optimized power method. You need to pass the link matrix Q.\n",
    "Q = np.copy(P)\n",
    "Q[:,3] = np.zeros(Q.shape[0],dtype=float)\n",
    "z = power_method_ranking(Q,1000)\n",
    "\n",
    "print(\"The dominant eigenvector:\\n\", z)\n",
    "print(\"Raking from lower to higher:\",np.argsort(z)+1)\n",
    "\n",
    "## Hello everyone, please check that both power methods provide the same dominant eigenvectors now."
   ]
  },
  {
   "cell_type": "markdown",
   "id": "095f1312",
   "metadata": {},
   "source": [
    "## Second Example\n",
    "---"
   ]
  },
  {
   "cell_type": "code",
   "execution_count": 46,
   "id": "67cf72b7",
   "metadata": {},
   "outputs": [
    {
     "name": "stdout",
     "output_type": "stream",
     "text": [
      "The link matrix \n",
      " [[0.      0.25    0.      0.      0.      0.      0.      0.     ]\n",
      " [0.25    0.      0.5     0.      0.      0.      1.      0.     ]\n",
      " [0.      0.      0.      0.      0.5     0.      0.      0.5    ]\n",
      " [0.25    0.      0.      0.      0.      0.      0.      0.     ]\n",
      " [0.      0.25    0.      0.33333 0.      0.33333 0.      0.     ]\n",
      " [0.25    0.25    0.5     0.      0.      0.      0.      0.5    ]\n",
      " [0.25    0.      0.      0.33333 0.5     0.33333 0.      0.     ]\n",
      " [0.      0.25    0.      0.33333 0.      0.33333 0.      0.     ]]\n"
     ]
    }
   ],
   "source": [
    "\n",
    "Q = np.array([[0, 1/4, 0, 0, 0, 0, 0, 0],\n",
    "              [1/4, 0, 1/2, 0, 0, 0, 1, 0],\n",
    "              [0, 0, 0, 0, 1/2, 0, 0, 1/2],\n",
    "              [1/4, 0, 0, 0, 0, 0, 0, 0],\n",
    "              [0, 1/4, 0, 1/3, 0, 1/3, 0, 0],\n",
    "              [1/4, 1/4, 1/2, 0, 0, 0, 0, 1/2],\n",
    "              [1/4, 0, 0, 1/3, 1/2, 1/3, 0, 0],\n",
    "              [0, 1/4, 0, 1/3, 0, 1/3, 0, 0]],dtype=float)\n",
    "print (\"The link matrix \\n\",Q)"
   ]
  },
  {
   "cell_type": "code",
   "execution_count": 47,
   "id": "cfb46a4a",
   "metadata": {},
   "outputs": [
    {
     "name": "stdout",
     "output_type": "stream",
     "text": [
      "Check v and Pv must be the same\n",
      "  [0.13949+0.j 0.55798+0.j 0.31386+0.j 0.03487+0.j 0.31386+0.j 0.48823+0.j\n",
      " 0.36617+0.j 0.31386+0.j]\n",
      "[0.13949+0.j 0.55798+0.j 0.31386+0.j 0.03487+0.j 0.31386+0.j 0.48823+0.j\n",
      " 0.36617+0.j 0.31386+0.j]\n"
     ]
    }
   ],
   "source": [
    "#Example\n",
    "P = np.copy(Q)\n",
    "n=P.shape[0]\n",
    "alpha = 0.85\n",
    "A = alpha * P + np.ones_like(P, dtype=float)*(1-alpha)/n\n",
    "#print(P)\n",
    "#print(A)\n",
    "lmbda,V = np.linalg.eig(P)\n",
    "print(\"Check v and Pv must be the same\\n \",V[:,0])\n",
    "print(P@V[:,0])"
   ]
  },
  {
   "cell_type": "code",
   "execution_count": 48,
   "id": "3e0998ea",
   "metadata": {},
   "outputs": [
    {
     "name": "stdout",
     "output_type": "stream",
     "text": [
      "The dominant eigenvector:\n",
      " [0.06295 0.20799 0.12367 0.03213 0.12343 0.18134 0.14507 0.12343]\n",
      "Raking from lower to higher: [4 1 5 8 3 7 6 2]\n"
     ]
    }
   ],
   "source": [
    "#v,eig_1 = power_method(P,1000)\n",
    "#print(v)\n",
    "#print(P@v)\n",
    "z= power_method_ranking(Q,1000)\n",
    "print(\"The dominant eigenvector:\\n\",z)\n",
    "print(\"Raking from lower to higher:\",np.argsort(z)+1)"
   ]
  },
  {
   "cell_type": "code",
   "execution_count": 50,
   "id": "77ef75e5",
   "metadata": {},
   "outputs": [
    {
     "name": "stdout",
     "output_type": "stream",
     "text": [
      "The dominant eigenvector:\n",
      " [0.06295 0.20799 0.12367 0.03213 0.12343 0.18134 0.14507 0.12343]\n",
      "Raking from lower to higher: [4 1 5 8 3 7 6 2]\n"
     ]
    }
   ],
   "source": [
    "z,_ = power_method(A,1000)\n",
    "#print(z.shape)\n",
    "z = z / np.linalg.norm(z,ord=1)\n",
    "print(\"The dominant eigenvector:\\n\", z)\n",
    "print(\"Raking from lower to higher:\",np.argsort(z)+1)"
   ]
  }
 ],
 "metadata": {
  "kernelspec": {
   "display_name": "Python 3 (ipykernel)",
   "language": "python",
   "name": "python3"
  },
  "language_info": {
   "codemirror_mode": {
    "name": "ipython",
    "version": 3
   },
   "file_extension": ".py",
   "mimetype": "text/x-python",
   "name": "python",
   "nbconvert_exporter": "python",
   "pygments_lexer": "ipython3",
   "version": "3.9.7"
  }
 },
 "nbformat": 4,
 "nbformat_minor": 5
}
