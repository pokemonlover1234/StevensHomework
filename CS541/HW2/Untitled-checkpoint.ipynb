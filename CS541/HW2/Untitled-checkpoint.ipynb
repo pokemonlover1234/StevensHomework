{
 "cells": [
  {
   "cell_type": "code",
   "execution_count": 123,
   "id": "b57c1f8a-3c3b-4e88-9add-acca9d71a319",
   "metadata": {},
   "outputs": [
    {
     "name": "stdout",
     "output_type": "stream",
     "text": [
      "1a.pklz\n"
     ]
    }
   ],
   "source": [
    "!ls 'new_models'"
   ]
  },
  {
   "cell_type": "code",
   "execution_count": 122,
   "id": "cc6c33a1-c2bf-4e22-b054-1f0820edbda0",
   "metadata": {},
   "outputs": [
    {
     "ename": "KeyboardInterrupt",
     "evalue": "",
     "output_type": "error",
     "traceback": [
      "\u001b[0;31m---------------------------------------------------------------------------\u001b[0m",
      "\u001b[0;31mKeyboardInterrupt\u001b[0m                         Traceback (most recent call last)",
      "\u001b[0;32m/var/folders/lj/bxgdpvqx27vfn_t2j5d6x8km0000gn/T/ipykernel_4826/82208761.py\u001b[0m in \u001b[0;36m<module>\u001b[0;34m\u001b[0m\n\u001b[1;32m      1\u001b[0m \u001b[0;32mfrom\u001b[0m \u001b[0mnipype\u001b[0m\u001b[0;34m.\u001b[0m\u001b[0mutils\u001b[0m\u001b[0;34m.\u001b[0m\u001b[0mfilemanip\u001b[0m \u001b[0;32mimport\u001b[0m \u001b[0mloadpkl\u001b[0m\u001b[0;34m,\u001b[0m \u001b[0msavepkl\u001b[0m\u001b[0;34m\u001b[0m\u001b[0;34m\u001b[0m\u001b[0m\n\u001b[0;32m----> 2\u001b[0;31m \u001b[0mres\u001b[0m \u001b[0;34m=\u001b[0m \u001b[0mloadpkl\u001b[0m\u001b[0;34m(\u001b[0m\u001b[0;34m'new_models/11a.pklz'\u001b[0m\u001b[0;34m)\u001b[0m\u001b[0;34m\u001b[0m\u001b[0;34m\u001b[0m\u001b[0m\n\u001b[0m",
      "\u001b[0;32m~/opt/anaconda3/lib/python3.9/site-packages/nipype/utils/filemanip.py\u001b[0m in \u001b[0;36mloadpkl\u001b[0;34m(infile)\u001b[0m\n\u001b[1;32m    610\u001b[0m             \u001b[0;32mbreak\u001b[0m\u001b[0;34m\u001b[0m\u001b[0;34m\u001b[0m\u001b[0m\n\u001b[1;32m    611\u001b[0m         \u001b[0mfmlogger\u001b[0m\u001b[0;34m.\u001b[0m\u001b[0mdebug\u001b[0m\u001b[0;34m(\u001b[0m\u001b[0;34m\"'{}' missing; waiting 2s\"\u001b[0m\u001b[0;34m.\u001b[0m\u001b[0mformat\u001b[0m\u001b[0;34m(\u001b[0m\u001b[0minfile\u001b[0m\u001b[0;34m)\u001b[0m\u001b[0;34m)\u001b[0m\u001b[0;34m\u001b[0m\u001b[0;34m\u001b[0m\u001b[0m\n\u001b[0;32m--> 612\u001b[0;31m         \u001b[0msleep\u001b[0m\u001b[0;34m(\u001b[0m\u001b[0;36m2\u001b[0m\u001b[0;34m)\u001b[0m\u001b[0;34m\u001b[0m\u001b[0;34m\u001b[0m\u001b[0m\n\u001b[0m\u001b[1;32m    613\u001b[0m     \u001b[0;32mif\u001b[0m \u001b[0mtimed_out\u001b[0m\u001b[0;34m:\u001b[0m\u001b[0;34m\u001b[0m\u001b[0;34m\u001b[0m\u001b[0m\n\u001b[1;32m    614\u001b[0m         error_message = (\n",
      "\u001b[0;31mKeyboardInterrupt\u001b[0m: "
     ]
    }
   ],
   "source": [
    "from nipype.utils.filemanip import loadpkl, savepkl\n",
    "res = loadpkl('new_models/11a.pklz')"
   ]
  },
  {
   "cell_type": "code",
   "execution_count": null,
   "id": "0012acd4-6df0-4e9a-8a13-07e084cff3b8",
   "metadata": {
    "scrolled": true,
    "tags": []
   },
   "outputs": [],
   "source": [
    "res"
   ]
  },
  {
   "cell_type": "code",
   "execution_count": 99,
   "id": "085080dd-01ca-4a6d-a63b-ae9518963b2f",
   "metadata": {},
   "outputs": [],
   "source": [
    "targetModels = pickle.load(gzip.open('models/1c.pklz'))"
   ]
  },
  {
   "cell_type": "code",
   "execution_count": 93,
   "id": "9cf94bb2-b150-4a33-9178-b202e022bbae",
   "metadata": {},
   "outputs": [
    {
     "data": {
      "text/plain": [
       "[]"
      ]
     },
     "execution_count": 93,
     "metadata": {},
     "output_type": "execute_result"
    }
   ],
   "source": [
    "objects"
   ]
  },
  {
   "cell_type": "code",
   "execution_count": 97,
   "id": "86230bdb-0911-4a67-b541-aa23d424b191",
   "metadata": {},
   "outputs": [
    {
     "data": {
      "text/plain": [
       "([], [{Night}, {Day}])"
      ]
     },
     "execution_count": 97,
     "metadata": {},
     "output_type": "execute_result"
    }
   ],
   "source": [
    "targetModels"
   ]
  },
  {
   "cell_type": "code",
   "execution_count": 71,
   "id": "075e094e-1e73-41da-a64b-6f5b311fa18c",
   "metadata": {},
   "outputs": [
    {
     "data": {
      "text/plain": [
       "set"
      ]
     },
     "execution_count": 71,
     "metadata": {},
     "output_type": "execute_result"
    }
   ],
   "source": [
    "type(res[1][0])a"
   ]
  },
  {
   "cell_type": "code",
   "execution_count": 46,
   "id": "a3dcd404-9fd9-4d6d-968f-b8cd42526f8a",
   "metadata": {},
   "outputs": [],
   "source": [
    "([], [set(), {Day}, {Night}])\n"
   ]
  },
  {
   "cell_type": "code",
   "execution_count": 84,
   "id": "5cef3351-4ed3-46ff-8a68-e1a2157c17e6",
   "metadata": {},
   "outputs": [
    {
     "ename": "NameError",
     "evalue": "name 'Tomorrow' is not defined",
     "output_type": "error",
     "traceback": [
      "\u001b[0;31m---------------------------------------------------------------------------\u001b[0m",
      "\u001b[0;31mNameError\u001b[0m                                 Traceback (most recent call last)",
      "\u001b[0;32m/var/folders/lj/bxgdpvqx27vfn_t2j5d6x8km0000gn/T/ipykernel_4826/1681063248.py\u001b[0m in \u001b[0;36m<module>\u001b[0;34m\u001b[0m\n\u001b[0;32m----> 1\u001b[0;31m \u001b[0mres\u001b[0m \u001b[0;34m=\u001b[0m \u001b[0;34m(\u001b[0m\u001b[0;34m[\u001b[0m\u001b[0;34m]\u001b[0m\u001b[0;34m,\u001b[0m \u001b[0;34m[\u001b[0m\u001b[0;34m{\u001b[0m\u001b[0mTomorrow\u001b[0m\u001b[0;34m}\u001b[0m\u001b[0;34m,\u001b[0m \u001b[0;34m{\u001b[0m\u001b[0mProductive\u001b[0m\u001b[0;34m}\u001b[0m\u001b[0;34m,\u001b[0m \u001b[0;34m{\u001b[0m\u001b[0mTV\u001b[0m\u001b[0;34m}\u001b[0m\u001b[0;34m,\u001b[0m \u001b[0;34m{\u001b[0m\u001b[0mTomorrow\u001b[0m\u001b[0;34m,\u001b[0m \u001b[0mProductive\u001b[0m\u001b[0;34m}\u001b[0m\u001b[0;34m,\u001b[0m \u001b[0;34m{\u001b[0m\u001b[0mTV\u001b[0m\u001b[0;34m,\u001b[0m \u001b[0mTomorrow\u001b[0m\u001b[0;34m}\u001b[0m\u001b[0;34m,\u001b[0m \u001b[0;34m{\u001b[0m\u001b[0mTV\u001b[0m\u001b[0;34m,\u001b[0m \u001b[0mProductive\u001b[0m\u001b[0;34m}\u001b[0m\u001b[0;34m,\u001b[0m \u001b[0;34m{\u001b[0m\u001b[0mProductive\u001b[0m\u001b[0;34m,\u001b[0m \u001b[0mTomorrow\u001b[0m\u001b[0;34m,\u001b[0m \u001b[0mTV\u001b[0m\u001b[0;34m}\u001b[0m\u001b[0;34m]\u001b[0m\u001b[0;34m)\u001b[0m\u001b[0;34m\u001b[0m\u001b[0;34m\u001b[0m\u001b[0m\n\u001b[0m",
      "\u001b[0;31mNameError\u001b[0m: name 'Tomorrow' is not defined"
     ]
    }
   ],
   "source": [
    "res = ([], [{Tomorrow}, {Productive}, {TV}, {Tomorrow, Productive}, {TV, Tomorrow}, {TV, Productive}, {Productive, Tomorrow, TV}])"
   ]
  },
  {
   "cell_type": "code",
   "execution_count": 59,
   "id": "c6b34d23-5dd7-4808-8c98-78f82dfdda47",
   "metadata": {},
   "outputs": [
    {
     "ename": "NameError",
     "evalue": "name 'Rain' is not defined",
     "output_type": "error",
     "traceback": [
      "\u001b[0;31m---------------------------------------------------------------------------\u001b[0m",
      "\u001b[0;31mNameError\u001b[0m                                 Traceback (most recent call last)",
      "\u001b[0;32m/var/folders/lj/bxgdpvqx27vfn_t2j5d6x8km0000gn/T/ipykernel_4826/1093468021.py\u001b[0m in \u001b[0;36m<module>\u001b[0;34m\u001b[0m\n\u001b[1;32m      1\u001b[0m res = ([],\n\u001b[1;32m      2\u001b[0m  [set(),\n\u001b[0;32m----> 3\u001b[0;31m   \u001b[0;34m{\u001b[0m\u001b[0mRain\u001b[0m\u001b[0;34m}\u001b[0m\u001b[0;34m,\u001b[0m\u001b[0;34m\u001b[0m\u001b[0;34m\u001b[0m\u001b[0m\n\u001b[0m\u001b[1;32m      4\u001b[0m   \u001b[0;34m{\u001b[0m\u001b[0mCalifornia\u001b[0m\u001b[0;34m}\u001b[0m\u001b[0;34m,\u001b[0m\u001b[0;34m\u001b[0m\u001b[0;34m\u001b[0m\u001b[0m\n\u001b[1;32m      5\u001b[0m   \u001b[0;34m{\u001b[0m\u001b[0mCalifornia\u001b[0m\u001b[0;34m,\u001b[0m \u001b[0mRain\u001b[0m\u001b[0;34m}\u001b[0m\u001b[0;34m,\u001b[0m\u001b[0;34m\u001b[0m\u001b[0;34m\u001b[0m\u001b[0m\n",
      "\u001b[0;31mNameError\u001b[0m: name 'Rain' is not defined"
     ]
    }
   ],
   "source": [
    "res = ([],\n",
    " [set(),\n",
    "  {Rain},\n",
    "  {California},\n",
    "  {California, Rain},\n",
    "  {Summer},\n",
    "  {Rain, Summer},\n",
    "  {California, Summer}])"
   ]
  },
  {
   "cell_type": "code",
   "execution_count": 47,
   "id": "cd2c75f3-3baf-427f-af5b-d24c9588ec13",
   "metadata": {},
   "outputs": [],
   "source": [
    "savepkl('new_models/1a.pklz',res)"
   ]
  },
  {
   "cell_type": "code",
   "execution_count": 48,
   "id": "af66a607-8d06-42bf-a8fa-e9b691067471",
   "metadata": {},
   "outputs": [
    {
     "data": {
      "text/plain": [
       "([],\n",
       " [set(),\n",
       "  {'Rain'},\n",
       "  {'California'},\n",
       "  {'California', 'Rain'},\n",
       "  {'Summer'},\n",
       "  {'Rain', 'Summer'},\n",
       "  {'California', 'Summer'}])"
      ]
     },
     "execution_count": 58,
     "metadata": {},
     "output_type": "execute_result"
    }
   ],
   "source": [
    "res = loadpkl('new_models/1a.pklz')\n",
    "res"
   ]
  },
  {
   "cell_type": "code",
   "execution_count": null,
   "id": "481a256a-5ad3-43c8-8a31-109095547d3b",
   "metadata": {},
   "outputs": [],
   "source": [
    "\n",
    "\n",
    "([], [set(), {Run}, {Gym}, {Gym, Run}])\n",
    "\n",
    "([], [set(), {Open}, {Lights}, {Store}, {Open, Store}, {Lights, Store}, {Lights, Open}, {Lights, Open, Store}])"
   ]
  },
  {
   "cell_type": "code",
   "execution_count": 74,
   "id": "b17d2995-92e0-4bd1-99e7-bc718852bca9",
   "metadata": {},
   "outputs": [
    {
     "ename": "NameError",
     "evalue": "name 'Run' is not defined",
     "output_type": "error",
     "traceback": [
      "\u001b[0;31m---------------------------------------------------------------------------\u001b[0m",
      "\u001b[0;31mNameError\u001b[0m                                 Traceback (most recent call last)",
      "\u001b[0;32m/var/folders/lj/bxgdpvqx27vfn_t2j5d6x8km0000gn/T/ipykernel_4826/1259671586.py\u001b[0m in \u001b[0;36m<module>\u001b[0;34m\u001b[0m\n\u001b[1;32m      5\u001b[0m \u001b[0;34m\u001b[0m\u001b[0m\n\u001b[1;32m      6\u001b[0m \u001b[0;32mwith\u001b[0m \u001b[0mgzip\u001b[0m\u001b[0;34m.\u001b[0m\u001b[0mopen\u001b[0m\u001b[0;34m(\u001b[0m\u001b[0;34m'data.pklz'\u001b[0m\u001b[0;34m,\u001b[0m \u001b[0;34m'wb'\u001b[0m\u001b[0;34m)\u001b[0m \u001b[0;32mas\u001b[0m \u001b[0mf\u001b[0m\u001b[0;34m:\u001b[0m\u001b[0;34m\u001b[0m\u001b[0;34m\u001b[0m\u001b[0m\n\u001b[0;32m----> 7\u001b[0;31m     \u001b[0mpickle\u001b[0m\u001b[0;34m.\u001b[0m\u001b[0mdump\u001b[0m\u001b[0;34m(\u001b[0m\u001b[0;34m(\u001b[0m\u001b[0;34m[\u001b[0m\u001b[0;34m]\u001b[0m\u001b[0;34m,\u001b[0m \u001b[0;34m[\u001b[0m\u001b[0mset\u001b[0m\u001b[0;34m(\u001b[0m\u001b[0;34m)\u001b[0m\u001b[0;34m,\u001b[0m \u001b[0;34m{\u001b[0m\u001b[0mRun\u001b[0m\u001b[0;34m}\u001b[0m\u001b[0;34m,\u001b[0m \u001b[0;34m{\u001b[0m\u001b[0mGym\u001b[0m\u001b[0;34m}\u001b[0m\u001b[0;34m,\u001b[0m \u001b[0;34m{\u001b[0m\u001b[0mGym\u001b[0m\u001b[0;34m,\u001b[0m \u001b[0mRun\u001b[0m\u001b[0;34m}\u001b[0m\u001b[0;34m]\u001b[0m\u001b[0;34m)\u001b[0m\u001b[0;34m,\u001b[0m \u001b[0mf\u001b[0m\u001b[0;34m)\u001b[0m\u001b[0;34m\u001b[0m\u001b[0;34m\u001b[0m\u001b[0m\n\u001b[0m\u001b[1;32m      8\u001b[0m     \u001b[0mf\u001b[0m\u001b[0;34m.\u001b[0m\u001b[0mclose\u001b[0m\u001b[0;34m(\u001b[0m\u001b[0;34m)\u001b[0m\u001b[0;34m\u001b[0m\u001b[0;34m\u001b[0m\u001b[0m\n",
      "\u001b[0;31mNameError\u001b[0m: name 'Run' is not defined"
     ]
    }
   ],
   "source": [
    "import pickle\n",
    "import gzip\n",
    "\n",
    "# data = \n",
    "\n",
    "with gzip.open('data.pklz', 'wb') as f:\n",
    "    pickle.dump(([], [set(), {Run}, {Gym}, {Gym, Run}]), f)\n",
    "    f.close()"
   ]
  },
  {
   "cell_type": "code",
   "execution_count": 79,
   "id": "9b618b4e-df4b-4363-8532-e209ccd2f76e",
   "metadata": {},
   "outputs": [],
   "source": [
    "import pickle\n",
    "import gzip\n",
    "\n",
    "Day = 'Day'\n",
    "Night = 'Night'\n",
    "\n",
    "data = ([], [set(), {Day}, {Night}])\n",
    "\n",
    "with gzip.open('data.pklz', 'wb') as f:\n",
    "    pickle.dump(data, f)\n",
    "    f.close()"
   ]
  },
  {
   "cell_type": "code",
   "execution_count": 81,
   "id": "dbf27b68-6cd9-4c07-952c-36aec5bd93cc",
   "metadata": {},
   "outputs": [
    {
     "data": {
      "text/plain": [
       "([], [set(), {'Day'}, {'Night'}])"
      ]
     },
     "execution_count": 81,
     "metadata": {},
     "output_type": "execute_result"
    }
   ],
   "source": [
    "loadpkl('data.pklz')"
   ]
  },
  {
   "cell_type": "code",
   "execution_count": 83,
   "id": "28d650d9-42c3-4265-9957-685e2649a46f",
   "metadata": {},
   "outputs": [
    {
     "name": "stdout",
     "output_type": "stream",
     "text": [
      "[], [set, {'Day'}, {'Night'}]\n"
     ]
    }
   ],
   "source": [
    "output = ([], [set(), {'Day'}, {'Night'}])\n",
    "output_str = str(output).replace(\"(\", \"\").replace(\")\", \"\")\n",
    "print(output_str)"
   ]
  },
  {
   "cell_type": "code",
   "execution_count": 89,
   "id": "4932f5d0-5700-4727-9e0b-ed4c647a96c4",
   "metadata": {},
   "outputs": [],
   "source": [
    "def performModelChecking(allForms, findAll, objects=None, verbose=0):\n",
    "    if verbose >= 3:\n",
    "        print(('performModelChecking', rstr(allForms)))\n",
    "    # Propositionalize, convert to CNF, dedup\n",
    "    allForms = propositionalize(allForms, objects)\n",
    "    # Convert to CNF: actually makes things slower\n",
    "    #allForms = [f for form in allForms for f in ToCNFRule().applyRule(form)]\n",
    "    #if any(x == AtomFalse for x in allForms): return []\n",
    "    #if all(x == AtomTrue for x in allForms): return [set()]\n",
    "    #allForms = [x for x in allForms if x != AtomTrue]\n",
    "    #allForms = reduceFormulas(allForms, And)\n",
    "    allForms = [universalInterpret(form) for form in allForms]\n",
    "    allForms = list(set(allForms) - set([AtomTrue, AtomFalse]))\n",
    "    if verbose >= 3:\n",
    "        print(('All Forms:', rstr(allForms)))\n",
    "\n",
    "    if allForms == []: return [set()]  # One model\n",
    "    if allForms == [AtomFalse]: return []  # No models\n",
    "\n",
    "    # Atoms are the variables\n",
    "    atoms = set()\n",
    "    for form in allForms:\n",
    "        for f in allSubexpressions(form):\n",
    "            if f.isa(Atom): atoms.add(f)\n",
    "    atoms = list(atoms)\n",
    "\n",
    "    if verbose >= 3:\n",
    "        print(('Atoms:', rstr(atoms)))\n",
    "        print(('Constraints:', rstr(allForms)))\n",
    "\n",
    "    # For each atom, list the set of formulas\n",
    "    # atom index => list of formulas\n",
    "    atomForms = [\n",
    "        (atom, [form for form in allForms if atom in allSubexpressions(form)]) \\\n",
    "        for atom in atoms \\\n",
    "    ]\n",
    "    # Degree heuristic\n",
    "    atomForms.sort(key = lambda x : -len(x[1]))\n",
    "    atoms = [atom for atom, form in atomForms]\n",
    "\n",
    "    # Keep only the forms for an atom if it only uses atoms up until that point.\n",
    "    atomPrefixForms = []\n",
    "    for i, (atom, forms) in enumerate(atomForms):\n",
    "        prefixForms = []\n",
    "        for form in forms:\n",
    "            useAtoms = set(x for x in allSubexpressions(form) if x.isa(Atom))\n",
    "            if useAtoms <= set(atoms[0:i+1]):\n",
    "                prefixForms.append(form)\n",
    "        atomPrefixForms.append((atom, prefixForms))\n",
    "\n",
    "    if verbose >= 3:\n",
    "        print('Plan:')\n",
    "        for atom, forms in atomForms:\n",
    "            print((\"  %s: %s\" % (rstr(atom), rstr(forms))))\n",
    "    assert sum(len(forms) for atom, forms in atomPrefixForms) == len(allForms)\n",
    "\n",
    "    # Build up an interpretation\n",
    "    N = len(atoms)\n",
    "    models = []  # List of models which are true\n",
    "    model = set()  # Set of true atoms, mutated over time\n",
    "    def recurse(i): # i: atom index\n",
    "        if not findAll and len(models) > 0: return\n",
    "        if i == N:  # Found a model on which the formulas are true\n",
    "            models.append(set(model))\n",
    "            return\n",
    "        atom, forms = atomPrefixForms[i]\n",
    "        result = universalInterpretAtom(atom)\n",
    "        if result == None or result == False:\n",
    "            if interpretForms(forms, model): recurse(i+1)\n",
    "        if result == None or result == True:\n",
    "            model.add(atom)\n",
    "            if interpretForms(forms, model): recurse(i+1)\n",
    "            model.remove(atom)\n",
    "    recurse(0)\n",
    "\n",
    "    if verbose >= 5:\n",
    "        print('Models:')\n",
    "        for model in models:\n",
    "            print((\"  %s\" % rstr(model)))\n",
    "\n",
    "    return models"
   ]
  },
  {
   "cell_type": "code",
   "execution_count": 91,
   "id": "76366ce6-2b18-4e51-a871-d4ce0c6a772b",
   "metadata": {},
   "outputs": [
    {
     "ename": "NameError",
     "evalue": "name 'Implies' is not defined",
     "output_type": "error",
     "traceback": [
      "\u001b[0;31m---------------------------------------------------------------------------\u001b[0m",
      "\u001b[0;31mNameError\u001b[0m                                 Traceback (most recent call last)",
      "\u001b[0;32m/var/folders/lj/bxgdpvqx27vfn_t2j5d6x8km0000gn/T/ipykernel_4826/1677769368.py\u001b[0m in \u001b[0;36m<module>\u001b[0;34m\u001b[0m\n\u001b[0;32m----> 1\u001b[0;31m \u001b[0mperformModelChecking\u001b[0m\u001b[0;34m(\u001b[0m\u001b[0mImplies\u001b[0m\u001b[0;34m(\u001b[0m\u001b[0mAnd\u001b[0m\u001b[0;34m(\u001b[0m\u001b[0mtomorrow\u001b[0m\u001b[0;34m,\u001b[0m \u001b[0mTV\u001b[0m\u001b[0;34m)\u001b[0m\u001b[0;34m,\u001b[0m \u001b[0mNot\u001b[0m\u001b[0;34m(\u001b[0m\u001b[0mproductive\u001b[0m\u001b[0;34m)\u001b[0m\u001b[0;34m)\u001b[0m\u001b[0;34m,\u001b[0m \u001b[0mfindAll\u001b[0m\u001b[0;34m=\u001b[0m\u001b[0;32mTrue\u001b[0m\u001b[0;34m,\u001b[0m \u001b[0mobjects\u001b[0m\u001b[0;34m=\u001b[0m\u001b[0;34m[\u001b[0m\u001b[0;34m]\u001b[0m\u001b[0;34m,\u001b[0m \u001b[0mverbose\u001b[0m\u001b[0;34m=\u001b[0m\u001b[0;36m0\u001b[0m\u001b[0;34m)\u001b[0m\u001b[0;34m\u001b[0m\u001b[0;34m\u001b[0m\u001b[0m\n\u001b[0m",
      "\u001b[0;31mNameError\u001b[0m: name 'Implies' is not defined"
     ]
    }
   ],
   "source": [
    "performModelChecking(Implies(And(tomorrow, TV), Not(productive)), findAll=True, objects=[], verbose=0)"
   ]
  },
  {
   "cell_type": "code",
   "execution_count": null,
   "id": "5341cff4-9632-40ee-b0ae-3337e16ea056",
   "metadata": {},
   "outputs": [],
   "source": []
  }
 ],
 "metadata": {
  "kernelspec": {
   "display_name": "Python 3 (ipykernel)",
   "language": "python",
   "name": "python3"
  },
  "language_info": {
   "codemirror_mode": {
    "name": "ipython",
    "version": 3
   },
   "file_extension": ".py",
   "mimetype": "text/x-python",
   "name": "python",
   "nbconvert_exporter": "python",
   "pygments_lexer": "ipython3",
   "version": "3.9.13"
  },
  "vscode": {
   "interpreter": {
    "hash": "aee8b7b246df8f9039afb4144a1f6fd8d2ca17a180786b69acc140d282b71a49"
   }
  }
 },
 "nbformat": 4,
 "nbformat_minor": 5
}
