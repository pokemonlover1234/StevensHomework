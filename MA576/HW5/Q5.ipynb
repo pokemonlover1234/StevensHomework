{
 "cells": [
  {
   "cell_type": "code",
   "execution_count": 110,
   "metadata": {},
   "outputs": [],
   "source": [
    "import numpy as np\n",
    "from matplotlib import pyplot as plt\n",
    "from tqdm.autonotebook import tqdm, trange\n",
    "import math"
   ]
  },
  {
   "cell_type": "code",
   "execution_count": 111,
   "metadata": {},
   "outputs": [],
   "source": [
    "def generate_problem(m,n):\n",
    "    rand = np.random.default_rng(seed=1)\n",
    "    return rand.normal(size=(m,n)), np.zeros((n,))[np.newaxis].T\n",
    "\n",
    "def gen_f(A):\n",
    "    m, n = A.shape\n",
    "    return lambda xk: -np.sum(np.log(1 - (A @ xk))) \\\n",
    "                      -np.sum(np.log(1 + xk)) \\\n",
    "                      -np.sum(np.log(1 - xk))\n",
    "\n",
    "def gen_df(A):\n",
    "    m, n = A.shape\n",
    "    return lambda xk: np.sum(A / (1 - A @ xk), axis=0)[np.newaxis].T \\\n",
    "                     -1 / (1 + xk) \\\n",
    "                     +1 / (1 - xk)\n",
    "    \n",
    "def gen_hf(A):\n",
    "    m, n = A.shape\n",
    "    def hf(xk):\n",
    "        # The sum of outer products of rows is equivalent to matrix multiplication\n",
    "        # (i.e, the sum of the outer product of column i of A and row i of B)\n",
    "        # Therefore, A^TA can be written as the sum of the outer products of its rows with themselves\n",
    "        \n",
    "        # The numerator of the fractional part of the sum in the Hessian formula is exactly the outer\n",
    "        # product of the rows of A. However, the division makes this a bit more complicated. \n",
    "        \n",
    "        # However, it is exactly this division that makes the hessian function so slow. If we can optimize\n",
    "        # this to one matrix-wide division and a matrix multiplication, it should be must faster.\n",
    "        \n",
    "        # If we take a copy of A, name it B and divide it each row j by (1-A[j] @ xk), then perform \n",
    "        # B^TA, that should give the same output. \n",
    "        \n",
    "        # Get the denominators into a vector\n",
    "        denom = 1 - A @ xk\n",
    "        # Divide each row of A by the denominators. Because of numpy behaviour, dividing an m x n \n",
    "        # matrix by an m x 1 vector has the effect of dividing each row in the matrix by the \n",
    "        # corresponding vector element\n",
    "        B = A.copy() / denom\n",
    "        # Perform the sum of outer products by converting to the corresponding matrix multiply\n",
    "        return B.T @ A\n",
    "    # return lambda xk: sum_func(m, lambda j: np.outer(A[j],A[j]) / ((1 - A[j] @ xk) ** 2)) \\\n",
    "    #                  +np.diag(1 / ((1 + xk) ** 2).flatten()) \\\n",
    "    #                  +np.diag(1 / ((1 - xk) ** 2).flatten())"
   ]
  },
  {
   "cell_type": "code",
   "execution_count": 113,
   "metadata": {},
   "outputs": [],
   "source": [
    "def gen_stepsize(A, sigma, beta, f, df):\n",
    "    def helper(dk, xk):\n",
    "        s = 1\n",
    "        alpha = s \n",
    "        while np.any(A @ (xk + alpha * dk) >= 1) or \\\n",
    "        np.any(np.abs(xk + alpha * dk) >= 1) or \\\n",
    "        f(xk + alpha * dk) - f(xk) >= sigma * alpha * df(xk).T @ dk:\n",
    "            alpha *= beta\n",
    "        return alpha\n",
    "    return helper\n",
    "epsilon = 1e-3\n",
    "stopcond = lambda xk, df: np.linalg.norm(df(xk),ord=2) <= epsilon\n",
    "\n",
    "sigma = 1/10\n",
    "beta = 1/2\n",
    "m=20000\n",
    "n=10000"
   ]
  },
  {
   "cell_type": "code",
   "execution_count": 114,
   "metadata": {},
   "outputs": [
    {
     "ename": "ValueError",
     "evalue": "operands could not be broadcast together with shapes (20000,1) (10000,1) ",
     "output_type": "error",
     "traceback": [
      "\u001b[1;31m---------------------------------------------------------------------------\u001b[0m",
      "\u001b[1;31mValueError\u001b[0m                                Traceback (most recent call last)",
      "Cell \u001b[1;32mIn[114], line 14\u001b[0m\n\u001b[0;32m     12\u001b[0m xk \u001b[38;5;241m=\u001b[39m x0\n\u001b[0;32m     13\u001b[0m \u001b[38;5;28;01mwhile\u001b[39;00m \u001b[38;5;28;01mTrue\u001b[39;00m:\n\u001b[1;32m---> 14\u001b[0m     plotdata_steepest[curalg]\u001b[38;5;241m.\u001b[39mappend(\u001b[43mf\u001b[49m\u001b[43m(\u001b[49m\u001b[43mxk\u001b[49m\u001b[43m)\u001b[49m)\n\u001b[0;32m     15\u001b[0m     grad \u001b[38;5;241m=\u001b[39m df(xk)\n\u001b[0;32m     16\u001b[0m     dk \u001b[38;5;241m=\u001b[39m \u001b[38;5;241m-\u001b[39mnp\u001b[38;5;241m.\u001b[39mlinalg\u001b[38;5;241m.\u001b[39minv(hf(xk)) \u001b[38;5;241m@\u001b[39m grad\n",
      "Cell \u001b[1;32mIn[111], line 7\u001b[0m, in \u001b[0;36mgen_f.<locals>.<lambda>\u001b[1;34m(xk)\u001b[0m\n\u001b[0;32m      5\u001b[0m \u001b[38;5;28;01mdef\u001b[39;00m \u001b[38;5;21mgen_f\u001b[39m(A):\n\u001b[0;32m      6\u001b[0m     m, n \u001b[38;5;241m=\u001b[39m A\u001b[38;5;241m.\u001b[39mshape\n\u001b[1;32m----> 7\u001b[0m     \u001b[38;5;28;01mreturn\u001b[39;00m \u001b[38;5;28;01mlambda\u001b[39;00m xk: np\u001b[38;5;241m.\u001b[39msum(\u001b[38;5;241;43m-\u001b[39;49m\u001b[43mnp\u001b[49m\u001b[38;5;241;43m.\u001b[39;49m\u001b[43mlog\u001b[49m\u001b[43m(\u001b[49m\u001b[38;5;241;43m1\u001b[39;49m\u001b[43m \u001b[49m\u001b[38;5;241;43m-\u001b[39;49m\u001b[43m \u001b[49m\u001b[43m(\u001b[49m\u001b[43mA\u001b[49m\u001b[43m \u001b[49m\u001b[38;5;241;43m@\u001b[39;49m\u001b[43m \u001b[49m\u001b[43mxk\u001b[49m\u001b[43m)\u001b[49m\u001b[43m)\u001b[49m\u001b[43m \u001b[49m\u001b[43m\\\u001b[49m\n\u001b[0;32m      8\u001b[0m \u001b[43m                      \u001b[49m\u001b[38;5;241;43m-\u001b[39;49m\u001b[43mnp\u001b[49m\u001b[38;5;241;43m.\u001b[39;49m\u001b[43mlog\u001b[49m\u001b[43m(\u001b[49m\u001b[38;5;241;43m1\u001b[39;49m\u001b[43m \u001b[49m\u001b[38;5;241;43m+\u001b[39;49m\u001b[43m \u001b[49m\u001b[43mxk\u001b[49m\u001b[43m)\u001b[49m \\\n\u001b[0;32m      9\u001b[0m                       \u001b[38;5;241m-\u001b[39mnp\u001b[38;5;241m.\u001b[39mlog(\u001b[38;5;241m1\u001b[39m \u001b[38;5;241m-\u001b[39m xk))\n",
      "\u001b[1;31mValueError\u001b[0m: operands could not be broadcast together with shapes (20000,1) (10000,1) "
     ]
    }
   ],
   "source": [
    "\n",
    "# Run each stepsize, stopcond pair, storing data necessary for plotting\n",
    "np.seterr(all='raise')\n",
    "plotdata_steepest = {}\n",
    "k = 0\n",
    "A, x0 = generate_problem(m, n)\n",
    "f = gen_f(A)\n",
    "df = gen_df(A)\n",
    "hf = gen_hf(A)\n",
    "stepsize = gen_stepsize(A, sigma, beta, f, df)\n",
    "curalg = (sigma, beta)\n",
    "plotdata_steepest.update({curalg: []})\n",
    "xk = x0\n",
    "while True:\n",
    "    plotdata_steepest[curalg].append(f(xk))\n",
    "    grad = df(xk)\n",
    "    dk = -np.linalg.inv(hf(xk)) @ grad\n",
    "    #dk = -grad\n",
    "    step = stepsize(dk, xk)\n",
    "    if stopcond(xk, df):\n",
    "        break\n",
    "    print(f\"{k} - {step} - {np.linalg.norm(df(xk),ord=2)}\", end=\"\\r\")\n",
    "    k += 1\n",
    "    xk = xk + step * dk"
   ]
  },
  {
   "cell_type": "code",
   "execution_count": null,
   "metadata": {},
   "outputs": [],
   "source": [
    "colors = ['r', 'g', 'b', 'y']\n",
    "def data_graph(plotname, sigma):\n",
    "    fig, axs = plt.subplots(4,4, figsize=(10,10))\n",
    "    for i, m in enumerate(ms):\n",
    "        for j, n in enumerate(ns):\n",
    "            # select xstar as average over all values of this \n",
    "            xstar = 0\n",
    "            for beta in betas:\n",
    "                for sigma in sigmas:\n",
    "                    alg = (sigma, beta, m, n)\n",
    "                    xstar += plotdata_steepest[alg][-1]\n",
    "            xstar /= 16\n",
    "            for k, beta in enumerate(betas):\n",
    "                alg = (sigma, beta, m, n)\n",
    "                y = abs(np.array(plotdata_steepest[alg]) - xstar)\n",
    "                x = range(len(plotdata_steepest[alg]))\n",
    "                axs[i,j].scatter(x, y, c=colors[k], label=f\"beta={beta}\",s=plt.rcParams['lines.markersize'] ** 2 * 2, marker = '.', alpha=0.3)\n",
    "            if j == 0:\n",
    "                axs[i,j].set(ylabel=f\"m={m}\")\n",
    "            if i == 3:\n",
    "                axs[i,j].set(xlabel=f\"n={n}\")\n",
    "            axs[i,j].set_yscale(\"log\")\n",
    "    handles, labels = fig.gca().get_legend_handles_labels()\n",
    "    by_label = dict(zip(labels, handles))\n",
    "    fig.legend(by_label.values(), by_label.keys(), loc=\"upper right\")\n",
    "    fig.suptitle(plotname)\n",
    "for sigma in sigmas:\n",
    "    data_graph(f\"Error vs iteration, sigma={sigma}\", sigma)"
   ]
  }
 ],
 "metadata": {
  "kernelspec": {
   "display_name": "Python 3",
   "language": "python",
   "name": "python3"
  },
  "language_info": {
   "codemirror_mode": {
    "name": "ipython",
    "version": 3
   },
   "file_extension": ".py",
   "mimetype": "text/x-python",
   "name": "python",
   "nbconvert_exporter": "python",
   "pygments_lexer": "ipython3",
   "version": "3.12.0"
  }
 },
 "nbformat": 4,
 "nbformat_minor": 2
}
