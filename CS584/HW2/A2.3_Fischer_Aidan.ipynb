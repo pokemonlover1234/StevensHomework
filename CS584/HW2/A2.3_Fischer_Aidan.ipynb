{
 "cells": [
  {
   "cell_type": "markdown",
   "metadata": {},
   "source": [
    "# CS 584 Assignment 2 -- MLP and Word Vectors\n",
    "\n",
    "#### Name: (Your Name, double click this cell to edit)\n",
    "#### Stevens ID: (Your ID, double click this cell to edit)"
   ]
  },
  {
   "cell_type": "markdown",
   "metadata": {},
   "source": [
    "## Part B: Word2Vec (50 Points)\n",
    "\n",
    "## In this assignment, you are required to follow the steps below:\n",
    "1. Review the lecture slides.\n",
    "2. Implement the data loading, preprocessing, tokenization, and word pair extraction.\n",
    "3. Implement skip-gram and evaluation metrics with MLP.\n",
    "5. Analysis the results in the Conlusion part.\n",
    "\n",
    "**Before you start**\n",
    "- Please read the code very carefully.\n",
    "- Install these packages (jupyterlab, matplotlib, nltk, numpy, scikit-learn, tensorflow, tensorflow_addons) using the following command.\n",
    "```console\n",
    "pip install -r requirements.txt\n",
    "```\n",
    "- It's better to train the Tensorflow model with GPU and CUDA. If they are not available on your local machine, please consider Google CoLab. You can check `CoLab.md` in this assignments.\n",
    "- You are **NOT** allowed to use other packages unless otherwise specified.\n",
    "- You are **ONLY** allowed to edit the code between `# Start your code here` and `# End` for each block."
   ]
  },
  {
   "cell_type": "code",
   "execution_count": 22,
   "metadata": {},
   "outputs": [
    {
     "name": "stdout",
     "output_type": "stream",
     "text": [
      "Requirement already satisfied: jupyterlab in /home/aidan/.pyenv/versions/3.11.8/lib/python3.11/site-packages (from -r requirements.txt (line 1)) (4.1.2)\n",
      "Requirement already satisfied: matplotlib in /home/aidan/.pyenv/versions/3.11.8/lib/python3.11/site-packages (from -r requirements.txt (line 2)) (3.8.3)\n",
      "Requirement already satisfied: nltk in /home/aidan/.pyenv/versions/3.11.8/lib/python3.11/site-packages (from -r requirements.txt (line 3)) (3.8.1)\n",
      "Requirement already satisfied: numpy in /home/aidan/.pyenv/versions/3.11.8/lib/python3.11/site-packages (from -r requirements.txt (line 4)) (1.26.4)\n",
      "Requirement already satisfied: scikit-learn in /home/aidan/.pyenv/versions/3.11.8/lib/python3.11/site-packages (from -r requirements.txt (line 5)) (1.4.1.post1)\n",
      "Requirement already satisfied: tensorflow in /home/aidan/.pyenv/versions/3.11.8/lib/python3.11/site-packages (from -r requirements.txt (line 6)) (2.15.0.post1)\n",
      "Requirement already satisfied: tensorflow_addons in /home/aidan/.pyenv/versions/3.11.8/lib/python3.11/site-packages (from -r requirements.txt (line 7)) (0.23.0)\n",
      "Requirement already satisfied: async-lru>=1.0.0 in /home/aidan/.pyenv/versions/3.11.8/lib/python3.11/site-packages (from jupyterlab->-r requirements.txt (line 1)) (2.0.4)\n",
      "Requirement already satisfied: httpx>=0.25.0 in /home/aidan/.pyenv/versions/3.11.8/lib/python3.11/site-packages (from jupyterlab->-r requirements.txt (line 1)) (0.27.0)\n",
      "Requirement already satisfied: ipykernel in /home/aidan/.pyenv/versions/3.11.8/lib/python3.11/site-packages (from jupyterlab->-r requirements.txt (line 1)) (6.29.2)\n",
      "Requirement already satisfied: jinja2>=3.0.3 in /home/aidan/.pyenv/versions/3.11.8/lib/python3.11/site-packages (from jupyterlab->-r requirements.txt (line 1)) (3.1.3)\n",
      "Requirement already satisfied: jupyter-core in /home/aidan/.pyenv/versions/3.11.8/lib/python3.11/site-packages (from jupyterlab->-r requirements.txt (line 1)) (5.7.1)\n",
      "Requirement already satisfied: jupyter-lsp>=2.0.0 in /home/aidan/.pyenv/versions/3.11.8/lib/python3.11/site-packages (from jupyterlab->-r requirements.txt (line 1)) (2.2.2)\n",
      "Requirement already satisfied: jupyter-server<3,>=2.4.0 in /home/aidan/.pyenv/versions/3.11.8/lib/python3.11/site-packages (from jupyterlab->-r requirements.txt (line 1)) (2.12.5)\n",
      "Requirement already satisfied: jupyterlab-server<3,>=2.19.0 in /home/aidan/.pyenv/versions/3.11.8/lib/python3.11/site-packages (from jupyterlab->-r requirements.txt (line 1)) (2.25.3)\n",
      "Requirement already satisfied: notebook-shim>=0.2 in /home/aidan/.pyenv/versions/3.11.8/lib/python3.11/site-packages (from jupyterlab->-r requirements.txt (line 1)) (0.2.4)\n",
      "Requirement already satisfied: packaging in /home/aidan/.pyenv/versions/3.11.8/lib/python3.11/site-packages (from jupyterlab->-r requirements.txt (line 1)) (23.2)\n",
      "Requirement already satisfied: tornado>=6.2.0 in /home/aidan/.pyenv/versions/3.11.8/lib/python3.11/site-packages (from jupyterlab->-r requirements.txt (line 1)) (6.4)\n",
      "Requirement already satisfied: traitlets in /home/aidan/.pyenv/versions/3.11.8/lib/python3.11/site-packages (from jupyterlab->-r requirements.txt (line 1)) (5.14.1)\n",
      "Requirement already satisfied: contourpy>=1.0.1 in /home/aidan/.pyenv/versions/3.11.8/lib/python3.11/site-packages (from matplotlib->-r requirements.txt (line 2)) (1.2.0)\n",
      "Requirement already satisfied: cycler>=0.10 in /home/aidan/.pyenv/versions/3.11.8/lib/python3.11/site-packages (from matplotlib->-r requirements.txt (line 2)) (0.12.1)\n",
      "Requirement already satisfied: fonttools>=4.22.0 in /home/aidan/.pyenv/versions/3.11.8/lib/python3.11/site-packages (from matplotlib->-r requirements.txt (line 2)) (4.49.0)\n",
      "Requirement already satisfied: kiwisolver>=1.3.1 in /home/aidan/.pyenv/versions/3.11.8/lib/python3.11/site-packages (from matplotlib->-r requirements.txt (line 2)) (1.4.5)\n",
      "Requirement already satisfied: pillow>=8 in /home/aidan/.pyenv/versions/3.11.8/lib/python3.11/site-packages (from matplotlib->-r requirements.txt (line 2)) (10.2.0)\n",
      "Requirement already satisfied: pyparsing>=2.3.1 in /home/aidan/.pyenv/versions/3.11.8/lib/python3.11/site-packages (from matplotlib->-r requirements.txt (line 2)) (3.1.1)\n",
      "Requirement already satisfied: python-dateutil>=2.7 in /home/aidan/.pyenv/versions/3.11.8/lib/python3.11/site-packages (from matplotlib->-r requirements.txt (line 2)) (2.8.2)\n",
      "Requirement already satisfied: click in /home/aidan/.pyenv/versions/3.11.8/lib/python3.11/site-packages (from nltk->-r requirements.txt (line 3)) (8.1.7)\n",
      "Requirement already satisfied: joblib in /home/aidan/.pyenv/versions/3.11.8/lib/python3.11/site-packages (from nltk->-r requirements.txt (line 3)) (1.3.2)\n",
      "Requirement already satisfied: regex>=2021.8.3 in /home/aidan/.pyenv/versions/3.11.8/lib/python3.11/site-packages (from nltk->-r requirements.txt (line 3)) (2023.12.25)\n",
      "Requirement already satisfied: tqdm in /home/aidan/.pyenv/versions/3.11.8/lib/python3.11/site-packages (from nltk->-r requirements.txt (line 3)) (4.66.2)\n",
      "Requirement already satisfied: scipy>=1.6.0 in /home/aidan/.pyenv/versions/3.11.8/lib/python3.11/site-packages (from scikit-learn->-r requirements.txt (line 5)) (1.12.0)\n",
      "Requirement already satisfied: threadpoolctl>=2.0.0 in /home/aidan/.pyenv/versions/3.11.8/lib/python3.11/site-packages (from scikit-learn->-r requirements.txt (line 5)) (3.3.0)\n",
      "Requirement already satisfied: absl-py>=1.0.0 in /home/aidan/.pyenv/versions/3.11.8/lib/python3.11/site-packages (from tensorflow->-r requirements.txt (line 6)) (2.1.0)\n",
      "Requirement already satisfied: astunparse>=1.6.0 in /home/aidan/.pyenv/versions/3.11.8/lib/python3.11/site-packages (from tensorflow->-r requirements.txt (line 6)) (1.6.3)\n",
      "Requirement already satisfied: flatbuffers>=23.5.26 in /home/aidan/.pyenv/versions/3.11.8/lib/python3.11/site-packages (from tensorflow->-r requirements.txt (line 6)) (23.5.26)\n",
      "Requirement already satisfied: gast!=0.5.0,!=0.5.1,!=0.5.2,>=0.2.1 in /home/aidan/.pyenv/versions/3.11.8/lib/python3.11/site-packages (from tensorflow->-r requirements.txt (line 6)) (0.5.4)\n",
      "Requirement already satisfied: google-pasta>=0.1.1 in /home/aidan/.pyenv/versions/3.11.8/lib/python3.11/site-packages (from tensorflow->-r requirements.txt (line 6)) (0.2.0)\n",
      "Requirement already satisfied: h5py>=2.9.0 in /home/aidan/.pyenv/versions/3.11.8/lib/python3.11/site-packages (from tensorflow->-r requirements.txt (line 6)) (3.10.0)\n",
      "Requirement already satisfied: libclang>=13.0.0 in /home/aidan/.pyenv/versions/3.11.8/lib/python3.11/site-packages (from tensorflow->-r requirements.txt (line 6)) (16.0.6)\n",
      "Requirement already satisfied: ml-dtypes~=0.2.0 in /home/aidan/.pyenv/versions/3.11.8/lib/python3.11/site-packages (from tensorflow->-r requirements.txt (line 6)) (0.2.0)\n",
      "Requirement already satisfied: opt-einsum>=2.3.2 in /home/aidan/.pyenv/versions/3.11.8/lib/python3.11/site-packages (from tensorflow->-r requirements.txt (line 6)) (3.3.0)\n",
      "Requirement already satisfied: protobuf!=4.21.0,!=4.21.1,!=4.21.2,!=4.21.3,!=4.21.4,!=4.21.5,<5.0.0dev,>=3.20.3 in /home/aidan/.pyenv/versions/3.11.8/lib/python3.11/site-packages (from tensorflow->-r requirements.txt (line 6)) (4.25.3)\n",
      "Requirement already satisfied: setuptools in /home/aidan/.pyenv/versions/3.11.8/lib/python3.11/site-packages (from tensorflow->-r requirements.txt (line 6)) (65.5.0)\n",
      "Requirement already satisfied: six>=1.12.0 in /home/aidan/.pyenv/versions/3.11.8/lib/python3.11/site-packages (from tensorflow->-r requirements.txt (line 6)) (1.16.0)\n",
      "Requirement already satisfied: termcolor>=1.1.0 in /home/aidan/.pyenv/versions/3.11.8/lib/python3.11/site-packages (from tensorflow->-r requirements.txt (line 6)) (2.4.0)\n",
      "Requirement already satisfied: typing-extensions>=3.6.6 in /home/aidan/.pyenv/versions/3.11.8/lib/python3.11/site-packages (from tensorflow->-r requirements.txt (line 6)) (4.10.0)\n",
      "Requirement already satisfied: wrapt<1.15,>=1.11.0 in /home/aidan/.pyenv/versions/3.11.8/lib/python3.11/site-packages (from tensorflow->-r requirements.txt (line 6)) (1.14.1)\n",
      "Requirement already satisfied: tensorflow-io-gcs-filesystem>=0.23.1 in /home/aidan/.pyenv/versions/3.11.8/lib/python3.11/site-packages (from tensorflow->-r requirements.txt (line 6)) (0.36.0)\n",
      "Requirement already satisfied: grpcio<2.0,>=1.24.3 in /home/aidan/.pyenv/versions/3.11.8/lib/python3.11/site-packages (from tensorflow->-r requirements.txt (line 6)) (1.62.0)\n",
      "Requirement already satisfied: tensorboard<2.16,>=2.15 in /home/aidan/.pyenv/versions/3.11.8/lib/python3.11/site-packages (from tensorflow->-r requirements.txt (line 6)) (2.15.2)\n",
      "Requirement already satisfied: tensorflow-estimator<2.16,>=2.15.0 in /home/aidan/.pyenv/versions/3.11.8/lib/python3.11/site-packages (from tensorflow->-r requirements.txt (line 6)) (2.15.0)\n",
      "Requirement already satisfied: keras<2.16,>=2.15.0 in /home/aidan/.pyenv/versions/3.11.8/lib/python3.11/site-packages (from tensorflow->-r requirements.txt (line 6)) (2.15.0)\n",
      "Requirement already satisfied: typeguard<3.0.0,>=2.7 in /home/aidan/.pyenv/versions/3.11.8/lib/python3.11/site-packages (from tensorflow_addons->-r requirements.txt (line 7)) (2.13.3)\n",
      "Requirement already satisfied: wheel<1.0,>=0.23.0 in /home/aidan/.pyenv/versions/3.11.8/lib/python3.11/site-packages (from astunparse>=1.6.0->tensorflow->-r requirements.txt (line 6)) (0.42.0)\n",
      "Requirement already satisfied: anyio in /home/aidan/.pyenv/versions/3.11.8/lib/python3.11/site-packages (from httpx>=0.25.0->jupyterlab->-r requirements.txt (line 1)) (4.3.0)\n",
      "Requirement already satisfied: certifi in /home/aidan/.pyenv/versions/3.11.8/lib/python3.11/site-packages (from httpx>=0.25.0->jupyterlab->-r requirements.txt (line 1)) (2024.2.2)\n",
      "Requirement already satisfied: httpcore==1.* in /home/aidan/.pyenv/versions/3.11.8/lib/python3.11/site-packages (from httpx>=0.25.0->jupyterlab->-r requirements.txt (line 1)) (1.0.4)\n",
      "Requirement already satisfied: idna in /home/aidan/.pyenv/versions/3.11.8/lib/python3.11/site-packages (from httpx>=0.25.0->jupyterlab->-r requirements.txt (line 1)) (3.6)\n",
      "Requirement already satisfied: sniffio in /home/aidan/.pyenv/versions/3.11.8/lib/python3.11/site-packages (from httpx>=0.25.0->jupyterlab->-r requirements.txt (line 1)) (1.3.1)\n",
      "Requirement already satisfied: h11<0.15,>=0.13 in /home/aidan/.pyenv/versions/3.11.8/lib/python3.11/site-packages (from httpcore==1.*->httpx>=0.25.0->jupyterlab->-r requirements.txt (line 1)) (0.14.0)\n",
      "Requirement already satisfied: MarkupSafe>=2.0 in /home/aidan/.pyenv/versions/3.11.8/lib/python3.11/site-packages (from jinja2>=3.0.3->jupyterlab->-r requirements.txt (line 1)) (2.1.5)\n",
      "Requirement already satisfied: argon2-cffi in /home/aidan/.pyenv/versions/3.11.8/lib/python3.11/site-packages (from jupyter-server<3,>=2.4.0->jupyterlab->-r requirements.txt (line 1)) (23.1.0)\n",
      "Requirement already satisfied: jupyter-client>=7.4.4 in /home/aidan/.pyenv/versions/3.11.8/lib/python3.11/site-packages (from jupyter-server<3,>=2.4.0->jupyterlab->-r requirements.txt (line 1)) (8.6.0)\n",
      "Requirement already satisfied: jupyter-events>=0.9.0 in /home/aidan/.pyenv/versions/3.11.8/lib/python3.11/site-packages (from jupyter-server<3,>=2.4.0->jupyterlab->-r requirements.txt (line 1)) (0.9.0)\n",
      "Requirement already satisfied: jupyter-server-terminals in /home/aidan/.pyenv/versions/3.11.8/lib/python3.11/site-packages (from jupyter-server<3,>=2.4.0->jupyterlab->-r requirements.txt (line 1)) (0.5.2)\n",
      "Requirement already satisfied: nbconvert>=6.4.4 in /home/aidan/.pyenv/versions/3.11.8/lib/python3.11/site-packages (from jupyter-server<3,>=2.4.0->jupyterlab->-r requirements.txt (line 1)) (7.16.1)\n",
      "Requirement already satisfied: nbformat>=5.3.0 in /home/aidan/.pyenv/versions/3.11.8/lib/python3.11/site-packages (from jupyter-server<3,>=2.4.0->jupyterlab->-r requirements.txt (line 1)) (5.9.2)\n",
      "Requirement already satisfied: overrides in /home/aidan/.pyenv/versions/3.11.8/lib/python3.11/site-packages (from jupyter-server<3,>=2.4.0->jupyterlab->-r requirements.txt (line 1)) (7.7.0)\n",
      "Requirement already satisfied: prometheus-client in /home/aidan/.pyenv/versions/3.11.8/lib/python3.11/site-packages (from jupyter-server<3,>=2.4.0->jupyterlab->-r requirements.txt (line 1)) (0.20.0)\n",
      "Requirement already satisfied: pyzmq>=24 in /home/aidan/.pyenv/versions/3.11.8/lib/python3.11/site-packages (from jupyter-server<3,>=2.4.0->jupyterlab->-r requirements.txt (line 1)) (25.1.2)\n",
      "Requirement already satisfied: send2trash>=1.8.2 in /home/aidan/.pyenv/versions/3.11.8/lib/python3.11/site-packages (from jupyter-server<3,>=2.4.0->jupyterlab->-r requirements.txt (line 1)) (1.8.2)\n",
      "Requirement already satisfied: terminado>=0.8.3 in /home/aidan/.pyenv/versions/3.11.8/lib/python3.11/site-packages (from jupyter-server<3,>=2.4.0->jupyterlab->-r requirements.txt (line 1)) (0.18.0)\n",
      "Requirement already satisfied: websocket-client in /home/aidan/.pyenv/versions/3.11.8/lib/python3.11/site-packages (from jupyter-server<3,>=2.4.0->jupyterlab->-r requirements.txt (line 1)) (1.7.0)\n",
      "Requirement already satisfied: platformdirs>=2.5 in /home/aidan/.pyenv/versions/3.11.8/lib/python3.11/site-packages (from jupyter-core->jupyterlab->-r requirements.txt (line 1)) (4.2.0)\n",
      "Requirement already satisfied: babel>=2.10 in /home/aidan/.pyenv/versions/3.11.8/lib/python3.11/site-packages (from jupyterlab-server<3,>=2.19.0->jupyterlab->-r requirements.txt (line 1)) (2.14.0)\n",
      "Requirement already satisfied: json5>=0.9.0 in /home/aidan/.pyenv/versions/3.11.8/lib/python3.11/site-packages (from jupyterlab-server<3,>=2.19.0->jupyterlab->-r requirements.txt (line 1)) (0.9.17)\n",
      "Requirement already satisfied: jsonschema>=4.18.0 in /home/aidan/.pyenv/versions/3.11.8/lib/python3.11/site-packages (from jupyterlab-server<3,>=2.19.0->jupyterlab->-r requirements.txt (line 1)) (4.21.1)\n",
      "Requirement already satisfied: requests>=2.31 in /home/aidan/.pyenv/versions/3.11.8/lib/python3.11/site-packages (from jupyterlab-server<3,>=2.19.0->jupyterlab->-r requirements.txt (line 1)) (2.31.0)\n",
      "Requirement already satisfied: google-auth<3,>=1.6.3 in /home/aidan/.pyenv/versions/3.11.8/lib/python3.11/site-packages (from tensorboard<2.16,>=2.15->tensorflow->-r requirements.txt (line 6)) (2.28.1)\n",
      "Requirement already satisfied: google-auth-oauthlib<2,>=0.5 in /home/aidan/.pyenv/versions/3.11.8/lib/python3.11/site-packages (from tensorboard<2.16,>=2.15->tensorflow->-r requirements.txt (line 6)) (1.2.0)\n",
      "Requirement already satisfied: markdown>=2.6.8 in /home/aidan/.pyenv/versions/3.11.8/lib/python3.11/site-packages (from tensorboard<2.16,>=2.15->tensorflow->-r requirements.txt (line 6)) (3.5.2)\n",
      "Requirement already satisfied: tensorboard-data-server<0.8.0,>=0.7.0 in /home/aidan/.pyenv/versions/3.11.8/lib/python3.11/site-packages (from tensorboard<2.16,>=2.15->tensorflow->-r requirements.txt (line 6)) (0.7.2)\n",
      "Requirement already satisfied: werkzeug>=1.0.1 in /home/aidan/.pyenv/versions/3.11.8/lib/python3.11/site-packages (from tensorboard<2.16,>=2.15->tensorflow->-r requirements.txt (line 6)) (3.0.1)\n",
      "Requirement already satisfied: comm>=0.1.1 in /home/aidan/.pyenv/versions/3.11.8/lib/python3.11/site-packages (from ipykernel->jupyterlab->-r requirements.txt (line 1)) (0.2.1)\n",
      "Requirement already satisfied: debugpy>=1.6.5 in /home/aidan/.pyenv/versions/3.11.8/lib/python3.11/site-packages (from ipykernel->jupyterlab->-r requirements.txt (line 1)) (1.8.1)\n",
      "Requirement already satisfied: ipython>=7.23.1 in /home/aidan/.pyenv/versions/3.11.8/lib/python3.11/site-packages (from ipykernel->jupyterlab->-r requirements.txt (line 1)) (8.22.1)\n",
      "Requirement already satisfied: matplotlib-inline>=0.1 in /home/aidan/.pyenv/versions/3.11.8/lib/python3.11/site-packages (from ipykernel->jupyterlab->-r requirements.txt (line 1)) (0.1.6)\n",
      "Requirement already satisfied: nest-asyncio in /home/aidan/.pyenv/versions/3.11.8/lib/python3.11/site-packages (from ipykernel->jupyterlab->-r requirements.txt (line 1)) (1.6.0)\n",
      "Requirement already satisfied: psutil in /home/aidan/.pyenv/versions/3.11.8/lib/python3.11/site-packages (from ipykernel->jupyterlab->-r requirements.txt (line 1)) (5.9.8)\n",
      "Requirement already satisfied: cachetools<6.0,>=2.0.0 in /home/aidan/.pyenv/versions/3.11.8/lib/python3.11/site-packages (from google-auth<3,>=1.6.3->tensorboard<2.16,>=2.15->tensorflow->-r requirements.txt (line 6)) (5.3.2)\n",
      "Requirement already satisfied: pyasn1-modules>=0.2.1 in /home/aidan/.pyenv/versions/3.11.8/lib/python3.11/site-packages (from google-auth<3,>=1.6.3->tensorboard<2.16,>=2.15->tensorflow->-r requirements.txt (line 6)) (0.3.0)\n",
      "Requirement already satisfied: rsa<5,>=3.1.4 in /home/aidan/.pyenv/versions/3.11.8/lib/python3.11/site-packages (from google-auth<3,>=1.6.3->tensorboard<2.16,>=2.15->tensorflow->-r requirements.txt (line 6)) (4.9)\n",
      "Requirement already satisfied: requests-oauthlib>=0.7.0 in /home/aidan/.pyenv/versions/3.11.8/lib/python3.11/site-packages (from google-auth-oauthlib<2,>=0.5->tensorboard<2.16,>=2.15->tensorflow->-r requirements.txt (line 6)) (1.3.1)\n",
      "Requirement already satisfied: decorator in /home/aidan/.pyenv/versions/3.11.8/lib/python3.11/site-packages (from ipython>=7.23.1->ipykernel->jupyterlab->-r requirements.txt (line 1)) (5.1.1)\n",
      "Requirement already satisfied: jedi>=0.16 in /home/aidan/.pyenv/versions/3.11.8/lib/python3.11/site-packages (from ipython>=7.23.1->ipykernel->jupyterlab->-r requirements.txt (line 1)) (0.19.1)\n",
      "Requirement already satisfied: prompt-toolkit<3.1.0,>=3.0.41 in /home/aidan/.pyenv/versions/3.11.8/lib/python3.11/site-packages (from ipython>=7.23.1->ipykernel->jupyterlab->-r requirements.txt (line 1)) (3.0.43)\n",
      "Requirement already satisfied: pygments>=2.4.0 in /home/aidan/.pyenv/versions/3.11.8/lib/python3.11/site-packages (from ipython>=7.23.1->ipykernel->jupyterlab->-r requirements.txt (line 1)) (2.17.2)\n",
      "Requirement already satisfied: stack-data in /home/aidan/.pyenv/versions/3.11.8/lib/python3.11/site-packages (from ipython>=7.23.1->ipykernel->jupyterlab->-r requirements.txt (line 1)) (0.6.3)\n",
      "Requirement already satisfied: pexpect>4.3 in /home/aidan/.pyenv/versions/3.11.8/lib/python3.11/site-packages (from ipython>=7.23.1->ipykernel->jupyterlab->-r requirements.txt (line 1)) (4.9.0)\n",
      "Requirement already satisfied: attrs>=22.2.0 in /home/aidan/.pyenv/versions/3.11.8/lib/python3.11/site-packages (from jsonschema>=4.18.0->jupyterlab-server<3,>=2.19.0->jupyterlab->-r requirements.txt (line 1)) (23.2.0)\n",
      "Requirement already satisfied: jsonschema-specifications>=2023.03.6 in /home/aidan/.pyenv/versions/3.11.8/lib/python3.11/site-packages (from jsonschema>=4.18.0->jupyterlab-server<3,>=2.19.0->jupyterlab->-r requirements.txt (line 1)) (2023.12.1)\n",
      "Requirement already satisfied: referencing>=0.28.4 in /home/aidan/.pyenv/versions/3.11.8/lib/python3.11/site-packages (from jsonschema>=4.18.0->jupyterlab-server<3,>=2.19.0->jupyterlab->-r requirements.txt (line 1)) (0.33.0)\n",
      "Requirement already satisfied: rpds-py>=0.7.1 in /home/aidan/.pyenv/versions/3.11.8/lib/python3.11/site-packages (from jsonschema>=4.18.0->jupyterlab-server<3,>=2.19.0->jupyterlab->-r requirements.txt (line 1)) (0.18.0)\n",
      "Requirement already satisfied: python-json-logger>=2.0.4 in /home/aidan/.pyenv/versions/3.11.8/lib/python3.11/site-packages (from jupyter-events>=0.9.0->jupyter-server<3,>=2.4.0->jupyterlab->-r requirements.txt (line 1)) (2.0.7)\n",
      "Requirement already satisfied: pyyaml>=5.3 in /home/aidan/.pyenv/versions/3.11.8/lib/python3.11/site-packages (from jupyter-events>=0.9.0->jupyter-server<3,>=2.4.0->jupyterlab->-r requirements.txt (line 1)) (6.0.1)\n",
      "Requirement already satisfied: rfc3339-validator in /home/aidan/.pyenv/versions/3.11.8/lib/python3.11/site-packages (from jupyter-events>=0.9.0->jupyter-server<3,>=2.4.0->jupyterlab->-r requirements.txt (line 1)) (0.1.4)\n",
      "Requirement already satisfied: rfc3986-validator>=0.1.1 in /home/aidan/.pyenv/versions/3.11.8/lib/python3.11/site-packages (from jupyter-events>=0.9.0->jupyter-server<3,>=2.4.0->jupyterlab->-r requirements.txt (line 1)) (0.1.1)\n",
      "Requirement already satisfied: beautifulsoup4 in /home/aidan/.pyenv/versions/3.11.8/lib/python3.11/site-packages (from nbconvert>=6.4.4->jupyter-server<3,>=2.4.0->jupyterlab->-r requirements.txt (line 1)) (4.12.3)\n",
      "Requirement already satisfied: bleach!=5.0.0 in /home/aidan/.pyenv/versions/3.11.8/lib/python3.11/site-packages (from nbconvert>=6.4.4->jupyter-server<3,>=2.4.0->jupyterlab->-r requirements.txt (line 1)) (6.1.0)\n",
      "Requirement already satisfied: defusedxml in /home/aidan/.pyenv/versions/3.11.8/lib/python3.11/site-packages (from nbconvert>=6.4.4->jupyter-server<3,>=2.4.0->jupyterlab->-r requirements.txt (line 1)) (0.7.1)\n",
      "Requirement already satisfied: jupyterlab-pygments in /home/aidan/.pyenv/versions/3.11.8/lib/python3.11/site-packages (from nbconvert>=6.4.4->jupyter-server<3,>=2.4.0->jupyterlab->-r requirements.txt (line 1)) (0.3.0)\n",
      "Requirement already satisfied: mistune<4,>=2.0.3 in /home/aidan/.pyenv/versions/3.11.8/lib/python3.11/site-packages (from nbconvert>=6.4.4->jupyter-server<3,>=2.4.0->jupyterlab->-r requirements.txt (line 1)) (3.0.2)\n",
      "Requirement already satisfied: nbclient>=0.5.0 in /home/aidan/.pyenv/versions/3.11.8/lib/python3.11/site-packages (from nbconvert>=6.4.4->jupyter-server<3,>=2.4.0->jupyterlab->-r requirements.txt (line 1)) (0.9.0)\n",
      "Requirement already satisfied: pandocfilters>=1.4.1 in /home/aidan/.pyenv/versions/3.11.8/lib/python3.11/site-packages (from nbconvert>=6.4.4->jupyter-server<3,>=2.4.0->jupyterlab->-r requirements.txt (line 1)) (1.5.1)\n",
      "Requirement already satisfied: tinycss2 in /home/aidan/.pyenv/versions/3.11.8/lib/python3.11/site-packages (from nbconvert>=6.4.4->jupyter-server<3,>=2.4.0->jupyterlab->-r requirements.txt (line 1)) (1.2.1)\n",
      "Requirement already satisfied: fastjsonschema in /home/aidan/.pyenv/versions/3.11.8/lib/python3.11/site-packages (from nbformat>=5.3.0->jupyter-server<3,>=2.4.0->jupyterlab->-r requirements.txt (line 1)) (2.19.1)\n",
      "Requirement already satisfied: charset-normalizer<4,>=2 in /home/aidan/.pyenv/versions/3.11.8/lib/python3.11/site-packages (from requests>=2.31->jupyterlab-server<3,>=2.19.0->jupyterlab->-r requirements.txt (line 1)) (3.3.2)\n",
      "Requirement already satisfied: urllib3<3,>=1.21.1 in /home/aidan/.pyenv/versions/3.11.8/lib/python3.11/site-packages (from requests>=2.31->jupyterlab-server<3,>=2.19.0->jupyterlab->-r requirements.txt (line 1)) (2.2.1)\n",
      "Requirement already satisfied: ptyprocess in /home/aidan/.pyenv/versions/3.11.8/lib/python3.11/site-packages (from terminado>=0.8.3->jupyter-server<3,>=2.4.0->jupyterlab->-r requirements.txt (line 1)) (0.7.0)\n",
      "Requirement already satisfied: argon2-cffi-bindings in /home/aidan/.pyenv/versions/3.11.8/lib/python3.11/site-packages (from argon2-cffi->jupyter-server<3,>=2.4.0->jupyterlab->-r requirements.txt (line 1)) (21.2.0)\n",
      "Requirement already satisfied: webencodings in /home/aidan/.pyenv/versions/3.11.8/lib/python3.11/site-packages (from bleach!=5.0.0->nbconvert>=6.4.4->jupyter-server<3,>=2.4.0->jupyterlab->-r requirements.txt (line 1)) (0.5.1)\n",
      "Requirement already satisfied: parso<0.9.0,>=0.8.3 in /home/aidan/.pyenv/versions/3.11.8/lib/python3.11/site-packages (from jedi>=0.16->ipython>=7.23.1->ipykernel->jupyterlab->-r requirements.txt (line 1)) (0.8.3)\n",
      "Requirement already satisfied: fqdn in /home/aidan/.pyenv/versions/3.11.8/lib/python3.11/site-packages (from jsonschema[format-nongpl]>=4.18.0->jupyter-events>=0.9.0->jupyter-server<3,>=2.4.0->jupyterlab->-r requirements.txt (line 1)) (1.5.1)\n",
      "Requirement already satisfied: isoduration in /home/aidan/.pyenv/versions/3.11.8/lib/python3.11/site-packages (from jsonschema[format-nongpl]>=4.18.0->jupyter-events>=0.9.0->jupyter-server<3,>=2.4.0->jupyterlab->-r requirements.txt (line 1)) (20.11.0)\n",
      "Requirement already satisfied: jsonpointer>1.13 in /home/aidan/.pyenv/versions/3.11.8/lib/python3.11/site-packages (from jsonschema[format-nongpl]>=4.18.0->jupyter-events>=0.9.0->jupyter-server<3,>=2.4.0->jupyterlab->-r requirements.txt (line 1)) (2.4)\n",
      "Requirement already satisfied: uri-template in /home/aidan/.pyenv/versions/3.11.8/lib/python3.11/site-packages (from jsonschema[format-nongpl]>=4.18.0->jupyter-events>=0.9.0->jupyter-server<3,>=2.4.0->jupyterlab->-r requirements.txt (line 1)) (1.3.0)\n",
      "Requirement already satisfied: webcolors>=1.11 in /home/aidan/.pyenv/versions/3.11.8/lib/python3.11/site-packages (from jsonschema[format-nongpl]>=4.18.0->jupyter-events>=0.9.0->jupyter-server<3,>=2.4.0->jupyterlab->-r requirements.txt (line 1)) (1.13)\n",
      "Requirement already satisfied: wcwidth in /home/aidan/.pyenv/versions/3.11.8/lib/python3.11/site-packages (from prompt-toolkit<3.1.0,>=3.0.41->ipython>=7.23.1->ipykernel->jupyterlab->-r requirements.txt (line 1)) (0.2.13)\n",
      "Requirement already satisfied: pyasn1<0.6.0,>=0.4.6 in /home/aidan/.pyenv/versions/3.11.8/lib/python3.11/site-packages (from pyasn1-modules>=0.2.1->google-auth<3,>=1.6.3->tensorboard<2.16,>=2.15->tensorflow->-r requirements.txt (line 6)) (0.5.1)\n",
      "Requirement already satisfied: oauthlib>=3.0.0 in /home/aidan/.pyenv/versions/3.11.8/lib/python3.11/site-packages (from requests-oauthlib>=0.7.0->google-auth-oauthlib<2,>=0.5->tensorboard<2.16,>=2.15->tensorflow->-r requirements.txt (line 6)) (3.2.2)\n",
      "Requirement already satisfied: cffi>=1.0.1 in /home/aidan/.pyenv/versions/3.11.8/lib/python3.11/site-packages (from argon2-cffi-bindings->argon2-cffi->jupyter-server<3,>=2.4.0->jupyterlab->-r requirements.txt (line 1)) (1.16.0)\n",
      "Requirement already satisfied: soupsieve>1.2 in /home/aidan/.pyenv/versions/3.11.8/lib/python3.11/site-packages (from beautifulsoup4->nbconvert>=6.4.4->jupyter-server<3,>=2.4.0->jupyterlab->-r requirements.txt (line 1)) (2.5)\n",
      "Requirement already satisfied: executing>=1.2.0 in /home/aidan/.pyenv/versions/3.11.8/lib/python3.11/site-packages (from stack-data->ipython>=7.23.1->ipykernel->jupyterlab->-r requirements.txt (line 1)) (2.0.1)\n",
      "Requirement already satisfied: asttokens>=2.1.0 in /home/aidan/.pyenv/versions/3.11.8/lib/python3.11/site-packages (from stack-data->ipython>=7.23.1->ipykernel->jupyterlab->-r requirements.txt (line 1)) (2.4.1)\n",
      "Requirement already satisfied: pure-eval in /home/aidan/.pyenv/versions/3.11.8/lib/python3.11/site-packages (from stack-data->ipython>=7.23.1->ipykernel->jupyterlab->-r requirements.txt (line 1)) (0.2.2)\n",
      "Requirement already satisfied: pycparser in /home/aidan/.pyenv/versions/3.11.8/lib/python3.11/site-packages (from cffi>=1.0.1->argon2-cffi-bindings->argon2-cffi->jupyter-server<3,>=2.4.0->jupyterlab->-r requirements.txt (line 1)) (2.21)\n",
      "Requirement already satisfied: arrow>=0.15.0 in /home/aidan/.pyenv/versions/3.11.8/lib/python3.11/site-packages (from isoduration->jsonschema[format-nongpl]>=4.18.0->jupyter-events>=0.9.0->jupyter-server<3,>=2.4.0->jupyterlab->-r requirements.txt (line 1)) (1.3.0)\n",
      "Requirement already satisfied: types-python-dateutil>=2.8.10 in /home/aidan/.pyenv/versions/3.11.8/lib/python3.11/site-packages (from arrow>=0.15.0->isoduration->jsonschema[format-nongpl]>=4.18.0->jupyter-events>=0.9.0->jupyter-server<3,>=2.4.0->jupyterlab->-r requirements.txt (line 1)) (2.8.19.20240106)\n"
     ]
    }
   ],
   "source": [
    "# you may not run this cell after the first installation\n",
    "!pip install -r requirements.txt"
   ]
  },
  {
   "cell_type": "code",
   "execution_count": 23,
   "metadata": {},
   "outputs": [
    {
     "data": {
      "text/plain": [
       "[]"
      ]
     },
     "execution_count": 23,
     "metadata": {},
     "output_type": "execute_result"
    }
   ],
   "source": [
    "import tensorflow as tf\n",
    "\n",
    "\n",
    "# If you are going to use GPU, make sure the GPU in in the output\n",
    "tf.config.list_physical_devices('GPU')"
   ]
  },
  {
   "cell_type": "markdown",
   "metadata": {},
   "source": [
    "## 1. Data Processing (5 points)"
   ]
  },
  {
   "cell_type": "code",
   "execution_count": 24,
   "metadata": {},
   "outputs": [],
   "source": [
    "import sys\n",
    "\n",
    "\n",
    "def print_line(*args):\n",
    "    \"\"\" Inline print and go to the begining of line\n",
    "    \"\"\"\n",
    "    args1 = [str(arg) for arg in args]\n",
    "    str_ = ' '.join(args1)\n",
    "    print('\\r' + str_, end='')"
   ]
  },
  {
   "cell_type": "code",
   "execution_count": 25,
   "metadata": {},
   "outputs": [],
   "source": [
    "from typing import List, Tuple, Union\n",
    "\n",
    "import numpy as np"
   ]
  },
  {
   "cell_type": "markdown",
   "metadata": {},
   "source": [
    "### 1.1 Load data"
   ]
  },
  {
   "cell_type": "code",
   "execution_count": 26,
   "metadata": {},
   "outputs": [
    {
     "name": "stdout",
     "output_type": "stream",
     "text": [
      "['watching time chasers it obvious that it was made by a bunch of friends', 'maybe they were sitting around one day in film school and said hey let s pool our money together and make a really bad movie or something like that', 'what ever they said they still ended up making a really bad movie dull story bad script lame acting poor cinematography bottom of the barrel stock music etc', 'all corners were cut except the one that would have prevented this film s release', 'life s like that', 'i saw this film about years ago and remember it as being particularly nasty', 'i believe it is based on a true incident a young man breaks into a nurses home and rapes tortures and kills various women it is in black and white but saves the colour for one shocking shot at the end the film seems to be trying to make some political statement but it just comes across as confused and obscene avoid', 'minor spoilersin new york joan barnard elvire audrey is informed that her husband the archeologist arthur barnard john saxon was mysteriously murdered in italy while searching an etruscan tomb', 'joan decides to travel to italy in the company of her colleague who offers his support', 'once in italy she starts having visions relative to an ancient people and maggots many maggots']\n"
     ]
    }
   ],
   "source": [
    "import os\n",
    "import pickle\n",
    "\n",
    "# In this imdb review, each line is a sentence seperated by a space.\n",
    "sentences = pickle.load(open(os.path.join('a2-data', 'imdb_review.pickle'), 'rb'))\n",
    "print(sentences[:10])"
   ]
  },
  {
   "cell_type": "markdown",
   "metadata": {},
   "source": [
    "### 1.3 Tokenization (5 Points)\n",
    "\n",
    "In this section, you will implement a Tokenizer than can record all tokens in a vocabulary."
   ]
  },
  {
   "cell_type": "code",
   "execution_count": 27,
   "metadata": {},
   "outputs": [],
   "source": [
    "class Tokenizer:\n",
    "    def __init__(self, sos_token='<s>', eos_token='</s>', pad_token='<pad>', unk_token='<unk>', mask_token='<mask>'):\n",
    "        # Special tokens. Not used in Word2Vec\n",
    "        self.sos_token = sos_token\n",
    "        self.eos_token = eos_token\n",
    "        self.pad_token = pad_token\n",
    "        self.unk_token = unk_token\n",
    "        self.mask_token = mask_token\n",
    "        \n",
    "        self.vocab = { sos_token: 0, eos_token: 1, pad_token: 2, unk_token: 3, mask_token: 4 }  # token -> id\n",
    "        self.inverse_vocab = { 0: sos_token, 1: eos_token, 2: pad_token, 3: unk_token, 4: mask_token }  # id -> token\n",
    "        self.token_occurrence = { sos_token: 0, eos_token: 0, pad_token: 0, unk_token: 0, mask_token: 0 }  # token -> occurrence\n",
    "        \n",
    "    def __len__(self):\n",
    "        \"\"\" A magic method that enable program to know the number of tokens by calling:\n",
    "            ```python\n",
    "            tokenizer = Tokenizer()\n",
    "            num_tokens = len(tokenizer)\n",
    "            ```\n",
    "        \"\"\"\n",
    "        return len(self.vocab)\n",
    "        \n",
    "    def fit(self, sentences: List[str]):\n",
    "        \"\"\" Fit the tokenizer using all sentences.\n",
    "        1. Tokenize the sentence by splitting with spaces.\n",
    "        2. Record the occurrence of all tokens\n",
    "        3. Construct the token to index (self.vocab) map and the inversed map (self.inverse_vocab) based on the occurrence. The token with a higher occurrence has the smaller index\n",
    "        \n",
    "        Args:\n",
    "            sentences: All sentences in the dataset.\n",
    "        \"\"\"\n",
    "        n = len(sentences)\n",
    "        for i, sentence in enumerate(sentences):\n",
    "            if i % 100 == 0 or i == n - 1:\n",
    "                print_line('Fitting Tokenizer:', (i + 1), '/', n)\n",
    "            # Start your code here (Step 1 and 2)\n",
    "            # Split then record occurences\n",
    "            tokens = sentence.split(\" \")\n",
    "            for token in tokens:\n",
    "                self.token_occurrence[token] = self.token_occurrence.get(token, 0) + 1\n",
    "            # End\n",
    "        print_line('\\n')\n",
    "        \n",
    "        token_occurrence = sorted(self.token_occurrence.items(), key=lambda e: e[1], reverse=True)\n",
    "        # Start your code here (Step 3, update self.vocab and self.inverse_vocab)\n",
    "        # Similarly to problem 1 with vocab, update indices by using a sorted list of \n",
    "        # kv pairs from token_occurrence\n",
    "        # However, keep special tokens in their place (only update ids 5 onwards)\n",
    "        special_tokens = [self.sos_token, self.eos_token, self.pad_token, self.unk_token]\n",
    "        self.vocab.update({token: index + 5 for index, (token, _) in \n",
    "                             enumerate(sorted(list(self.token_occurrence.items()), key=lambda kv: kv[1],\n",
    "                             reverse=True)) if token not in special_tokens})\n",
    "        # Invert self.vocab\n",
    "        self.inverse_vocab.update({v: k for k, v in self.vocab.items()})\n",
    "        # End\n",
    "        \n",
    "        print('The number of distinct tokens:', len(self.vocab))\n",
    "        \n",
    "    def encode(self, sentences: List[str]) -> List[List[int]]:\n",
    "        \"\"\" Encode the sentences into token ids\n",
    "            Note: 1. if a token in a sentence does not exist in the fit encoder, we will use the <unk> token to replace it.\n",
    "                  2. If the number of tokens in a sentence is less than two, we ignore this sentence.\n",
    "        Args:\n",
    "            sentences: Raw sentences\n",
    "        Returns:\n",
    "            sent_token_ids: A list of id list\n",
    "        \"\"\"\n",
    "        n = len(sentences)\n",
    "        sent_token_ids = []\n",
    "        for i, sentence in enumerate(sentences):\n",
    "            if i % 100 == 0 or i == n - 1:\n",
    "                print_line('Encoding with Tokenizer:', (i + 1), '/', n)\n",
    "            token_ids = []\n",
    "            # Start your code (encode)\n",
    "            # Split into tokens the convert\n",
    "            # Replace unseen tokens with unk_token\n",
    "            for token in sentence.split(\" \"):\n",
    "                token_ids.append(self.vocab.get(token, self.unk_token))\n",
    "            # If shorter than 2 tokens, ignore, otherwise add to sent_token_ids\n",
    "            if len(token_ids) >= 2:\n",
    "                sent_token_ids.append(token_ids)\n",
    "            # End\n",
    "        print_line('\\n')\n",
    "        return sent_token_ids"
   ]
  },
  {
   "cell_type": "markdown",
   "metadata": {},
   "source": [
    "#### Test your implementation by running the following cell."
   ]
  },
  {
   "cell_type": "code",
   "execution_count": 28,
   "metadata": {},
   "outputs": [
    {
     "name": "stdout",
     "output_type": "stream",
     "text": [
      "Fitting Tokenizer: 2 / 2\n",
      "The number of distinct tokens: 44\n",
      "\n",
      "it : 2\n",
      "that : 2\n",
      "a : 2\n",
      "and : 2\n",
      "watching : 1\n",
      "time : 1\n",
      "chasers : 1\n",
      "obvious : 1\n",
      "was : 1\n",
      "made : 1\n",
      "\n",
      "Encoding with Tokenizer: 2 / 2\n",
      "\n",
      "watching time chasers it obvious that it was made by a bunch of friends ['watching', 'time', 'chasers', 'it', 'obvious', 'that', 'it', 'was', 'made', 'by', 'a', 'bunch', 'of', 'friends'] \n",
      "\n",
      "maybe they were sitting around one day in film school and said hey let s pool our money together and make a really bad movie or something like that ['maybe', 'they', 'were', 'sitting', 'around', 'one', 'day', 'in', 'film', 'school', 'and', 'said', 'hey', 'let', 's', 'pool', 'our', 'money', 'together', 'and', 'make', 'a', 'really', 'bad', 'movie', 'or', 'something', 'like', 'that'] \n",
      "\n"
     ]
    }
   ],
   "source": [
    "test_sentences = sentences[:2]\n",
    "tokenizer = Tokenizer()\n",
    "tokenizer.fit(test_sentences)\n",
    "print()\n",
    "\n",
    "token_occurrence = sorted(tokenizer.token_occurrence.items(), key=lambda e: e[1], reverse=True)\n",
    "for token, occurrence in token_occurrence[:10]:\n",
    "    print(token, ':', occurrence)\n",
    "print()\n",
    "sent_token_ids = tokenizer.encode(test_sentences)\n",
    "print()\n",
    "for test_sentence, token_ids in zip(test_sentences, sent_token_ids):\n",
    "    sentence = [tokenizer.inverse_vocab[token] for token in token_ids]\n",
    "    print(test_sentence, sentence, '\\n')"
   ]
  },
  {
   "cell_type": "markdown",
   "metadata": {},
   "source": [
    "Encode all sentences"
   ]
  },
  {
   "cell_type": "code",
   "execution_count": 29,
   "metadata": {},
   "outputs": [
    {
     "name": "stdout",
     "output_type": "stream",
     "text": [
      "Fitting Tokenizer: 528199 / 528199\n",
      "The number of distinct tokens: 102300\n",
      "Encoding with Tokenizer: 528199 / 528199\n"
     ]
    }
   ],
   "source": [
    "tokenizer = Tokenizer()\n",
    "tokenizer.fit(sentences)\n",
    "sent_token_ids = tokenizer.encode(sentences)\n",
    "\n",
    "# Note: if you implement correctly, there will be about 100k tokens."
   ]
  },
  {
   "cell_type": "code",
   "execution_count": 30,
   "metadata": {},
   "outputs": [
    {
     "name": "stdout",
     "output_type": "stream",
     "text": [
      "max token number in a sentence: 767\n",
      "min token number in a sentence: 2\n",
      "avg token number in a sentence: 22.813560657451482\n"
     ]
    }
   ],
   "source": [
    "print('max token number in a sentence:', max(map(lambda e: len(e), sent_token_ids)))\n",
    "print('min token number in a sentence:', min(map(lambda e: len(e), sent_token_ids)))\n",
    "print('avg token number in a sentence:', sum(map(lambda e: len(e), sent_token_ids)) / len(sent_token_ids))"
   ]
  },
  {
   "cell_type": "code",
   "execution_count": 31,
   "metadata": {},
   "outputs": [
    {
     "name": "stdout",
     "output_type": "stream",
     "text": [
      "the : 678333\n",
      "and : 329979\n",
      "a : 328341\n",
      "of : 293903\n",
      "to : 271514\n",
      "is : 214380\n",
      "it : 191411\n",
      "in : 188920\n",
      "i : 170761\n",
      "this : 150693\n"
     ]
    }
   ],
   "source": [
    "token_occurrence = sorted(tokenizer.token_occurrence.items(), key=lambda e: e[1], reverse=True)\n",
    "for token, occurrence in token_occurrence[:10]:\n",
    "    print(token, ':', occurrence)"
   ]
  },
  {
   "cell_type": "markdown",
   "metadata": {},
   "source": [
    "## 2. Training Data Generation (10 Points)\n",
    "\n",
    "### Positive Samples (5 Points)\n",
    "In this section, you are required to generate the positive training data for skip-gram.\n",
    "\n",
    "- Given a token sequence, for every center token, you need to use a window whose size is **2** to retrieve context words as positive pairs.\n",
    "    \n",
    "For example, given the token sequence \"The quick brown fox jumps over the lazy dog .\", when the center word is \"fox\", the context words are:\n",
    "$$\\text{The}~\\underbrace{\\text{quick brown}}_\\text{context words}~\\underbrace{\\text{fox}}_{\\text{center word}}~\\underbrace{\\text{jumps over}}_\\text{context words}~\\text{the lazy dog .}$$\n",
    "We can generate four positive pairs: (fox, quick), (fox, brown), (fox, jumps), (fox, over)."
   ]
  },
  {
   "cell_type": "code",
   "execution_count": 32,
   "metadata": {},
   "outputs": [],
   "source": [
    "import random\n",
    "\n",
    "\n",
    "def positive_pairs_generator(sent_token_ids: List[List[int]], window_size: int = 2) -> np.ndarray:\n",
    "    \"\"\" Generate positive pairs: (center word, context word)\n",
    "    \n",
    "    Args:\n",
    "        sent_token_ids: List of token list. Each element is a token list (sentence)\n",
    "        window_size: the context window size. You should retrieve window size context words in the left and window size context words in the right.\n",
    "        \n",
    "    Yield:\n",
    "        center_word, context_word: a positive pair\n",
    "        \n",
    "    Note: this is a generator function which yields pairs. Do not return anything.\n",
    "    \"\"\"\n",
    "    n = len(sent_token_ids)\n",
    "    for t, token_ids in enumerate(sent_token_ids):\n",
    "        if t % 100 == 0 or t == n - 1:\n",
    "            print_line('Positive Pair Generation:', (t + 1), '/', n)\n",
    "        for i, center_word in enumerate(token_ids):\n",
    "            context_words = []\n",
    "            # Start your code here\n",
    "            # Append context words of center_word to context_words\n",
    "            # Get context words from either side of center word and combine into context_words\n",
    "            left_window = token_ids[max(0, i - window_size): i]\n",
    "            right_window = token_ids[i + 1: min(i + window_size + 1, len(token_ids))]\n",
    "            context_words.extend(left_window)\n",
    "            context_words.extend(right_window)\n",
    "            # End\n",
    "            for context_word in context_words:\n",
    "                yield center_word, context_word\n",
    "\n",
    "\n",
    "def save_train_file(sent_token_ids: List[List[int]], window_size: int = 2):\n",
    "    generator = positive_pairs_generator(sent_token_ids, window_size)\n",
    "    buffer_size = 100000\n",
    "    buffer = []\n",
    "    count = 0\n",
    "    with open(os.path.join('a2-data', 'word2vec_train_file.txt'), 'w') as train_file:\n",
    "        for center_word, context_words in generator:\n",
    "            count += 1\n",
    "            line = f'{center_word} {context_words}\\n'\n",
    "            buffer.append(line)\n",
    "            if len(buffer) == buffer_size:\n",
    "                random.shuffle(buffer)\n",
    "                train_file.writelines(buffer)\n",
    "                buffer = []\n",
    "        if len(buffer) > 0:\n",
    "            train_file.writelines(buffer)\n",
    "    print('\\n')\n",
    "    print(f'There are {count} pairs')\n",
    "    return count"
   ]
  },
  {
   "cell_type": "code",
   "execution_count": 33,
   "metadata": {},
   "outputs": [
    {
     "name": "stdout",
     "output_type": "stream",
     "text": [
      "Positive Pair Generation: 1 / 520373"
     ]
    },
    {
     "name": "stdout",
     "output_type": "stream",
     "text": [
      "Positive Pair Generation: 520373 / 520373\n",
      "\n",
      "There are 44364006 pairs\n"
     ]
    }
   ],
   "source": [
    "window_size = 2\n",
    "num_samples = save_train_file(sent_token_ids, window_size)\n",
    "\n",
    "# Note: if you implement correctly, there will be about 44M pairs."
   ]
  },
  {
   "cell_type": "markdown",
   "metadata": {},
   "source": [
    "### Negative Samples (5 Points)\n",
    "\n",
    "We randomly select $K$ words from the vocabulary as negative samples."
   ]
  },
  {
   "cell_type": "code",
   "execution_count": 34,
   "metadata": {},
   "outputs": [],
   "source": [
    "def get_negative_samples(vocab_size: int, batch_size: int, negative_sample_num: int) -> np.ndarray:\n",
    "    \"\"\" Generate negative words\n",
    "    \n",
    "    Args:\n",
    "        vocab_size: number of tokens in the vocabulary\n",
    "        batch_size: number of samples (center word) in a batch\n",
    "        negative_sample_num: number of negative words sampled for a center word\n",
    "        \n",
    "    Return:\n",
    "        negative_words: Shape of (batch_size x negative_sample_num)\n",
    "        \n",
    "    Note: 1. You should NOT sample special token in the vocabulary, i.e., the token ids range should be [5, vocab_size)\n",
    "          2. Hint: See numpy.random.choice. Read carefully for each parameter of this function\n",
    "    \"\"\"\n",
    "    negative_words = None\n",
    "    # Start your code here\n",
    "    r = np.random.default_rng(seed=6666)\n",
    "    negative_words = r.choice(np.arange(5, vocab_size), size=(batch_size, negative_sample_num))\n",
    "    # End\n",
    "    return negative_words\n",
    "\n",
    "\n",
    "def train_data_generator(batch_size, vocab_size, negative_sample_num):\n",
    "    with open(os.path.join('a2-data', 'word2vec_train_file.txt')) as train_file:\n",
    "        while True:\n",
    "            batch_center_words, batch_context_words = [], []\n",
    "            for line in train_file:\n",
    "                center_word, context_word = line.strip().split()\n",
    "                batch_center_words.append(int(center_word))\n",
    "                batch_context_words.append(int(context_word))\n",
    "                if len(batch_center_words) == batch_size:\n",
    "                    negative_words = get_negative_samples(vocab_size, batch_size, negative_sample_num)\n",
    "                    yield batch_center_words, batch_context_words, negative_words\n",
    "                    batch_center_words, batch_context_words = [], []\n",
    "            train_file.seek(0)\n",
    "            if len(batch_center_words) > 0:\n",
    "                real_batch_size = len(batch_center_words)\n",
    "                negative_words = get_negative_samples(vocab_size, real_batch_size, negative_sample_num)\n",
    "                yield batch_center_words, batch_context_words, negative_words\n",
    "            "
   ]
  },
  {
   "cell_type": "markdown",
   "metadata": {},
   "source": [
    "## 3. Skip-gram Model (20 Points)\n",
    "\n",
    "- Loss: 10 Points\n",
    "- Model: 10 Points"
   ]
  },
  {
   "cell_type": "code",
   "execution_count": 35,
   "metadata": {},
   "outputs": [],
   "source": [
    "from tensorflow.keras import Model\n",
    "from tensorflow.keras.losses import Loss\n",
    "\n",
    "        \n",
    "def negative_sampling_loss(center_embeddings, context_embeddings, negative_embeddings):\n",
    "    \"\"\" Calculate the negative sampling loss\n",
    "    \n",
    "    Args:\n",
    "        center_embeddings: v_c, (batch_size x embedding_dim)\n",
    "        context_embeddings: u_o, (batch_size x embedding_dim)\n",
    "        negative_embeddings: u_k, (batch_size x negative_sample_num x embedding_dim)\n",
    "    \"\"\"\n",
    "    loss = 0\n",
    "    # Start your code here\n",
    "    # 1. Calculate positive dot product\n",
    "    # 2. loss for the positive pairs\n",
    "    # 3. Calculate negative dot product\n",
    "    # 4. loss for the negative words\n",
    "    # Hint: See tf.reduce_sum, tf.expand_dims, tf.reduce_mean for help\n",
    "    \n",
    "    # tf.clip_by_values used to avoid overflows\n",
    "    \n",
    "    # Take the element-wise multiplication of the center and context tensors, then\n",
    "    # reduce the sum of those products to get the dot products\n",
    "    # pos_dot is (batch_size x 1)\n",
    "    pos_dot = tf.reduce_sum(tf.multiply(context_embeddings, center_embeddings), 1)\n",
    "    \n",
    "    # Loss for the positive pairs is = the average of the logs of the sigmoids of the dot products\n",
    "    pos_loss = tf.reduce_mean(tf.math.log(tf.clip_by_value(tf.math.sigmoid(pos_dot), 1e-15, 1-1e15)))\n",
    "    # Negative dot products\n",
    "    # Expand dimensions of center embeddings between batch_size and embedding_dim dimensions, then take\n",
    "    # row-wise dot product\n",
    "    # tf.multiply will do broadcasting similarly to numpy, but doing it manually like this avoids a \n",
    "    # warning about function retracing due to tensors with different sizes. \n",
    "    neg_dot = -tf.reduce_sum(tf.multiply(negative_embeddings, tf.broadcast_to(tf.expand_dims(center_embeddings, 1),\n",
    "                                         negative_embeddings.shape)), 2)\n",
    "    \n",
    "    # Loss for the negative pairs is the average of the sums of the log-sigmoids of the dot products\n",
    "    neg_loss = tf.reduce_mean(tf.math.reduce_sum(tf.math.log(tf.clip_by_value(tf.math.sigmoid(neg_dot), 1e-10, 1-1e10)), 1))\n",
    "    # Add the losses. Average was already taken.\n",
    "    loss = pos_loss + neg_loss\n",
    "    # End\n",
    "    return loss\n",
    "\n",
    "\n",
    "class SkipGram(Model):\n",
    "    def __init__(self, vocab_size: int, embedding_dim: int):\n",
    "        \"\"\" Skip-gram model.\n",
    "        \"\"\"\n",
    "        super().__init__()\n",
    "        self.vocab_size = vocab_size\n",
    "        self.embedding_dim = embedding_dim\n",
    "\n",
    "        # Start your code here\n",
    "        # Initialize embedding layers\n",
    "        # self.center_embeddings = \n",
    "        # self.context_embeddings =\n",
    "        # Hint: See tf.keras.layers.Embedding\n",
    "        self.center_embeddings = tf.keras.layers.Embedding(vocab_size, embedding_dim)\n",
    "        self.context_embeddings = tf.keras.layers.Embedding(vocab_size, embedding_dim)\n",
    "        # End\n",
    "        \n",
    "    def call(self, center_words, context_words, negative_words):\n",
    "        \"\"\" Forward of the skip-gram model\n",
    "        \n",
    "        Args:\n",
    "            center_words: tensor (batch_size, )\n",
    "            context_words: tensor (batch_size, )\n",
    "            negative_words: tensor (batch_size, negative_embeddings)\n",
    "            \n",
    "        Return:\n",
    "            center_embeddings, context_embeddings, negative_embeddings: The input for the negative_sampling_loss.\n",
    "        \"\"\"\n",
    "        # Start your code here\n",
    "        center_embeddings = self.center_embeddings(center_words)\n",
    "        context_embeddings = self.context_embeddings(context_words)\n",
    "        negative_embeddings = self.context_embeddings(negative_words)\n",
    "        # End\n",
    "        \n",
    "        return center_embeddings, context_embeddings, negative_embeddings"
   ]
  },
  {
   "cell_type": "code",
   "execution_count": 36,
   "metadata": {},
   "outputs": [],
   "source": [
    "vocab_size = len(tokenizer)\n",
    "embedding_dim = 64\n",
    "num_epoch = 2\n",
    "batch_size = 1024\n",
    "negative_sample_num = 5"
   ]
  },
  {
   "cell_type": "code",
   "execution_count": 37,
   "metadata": {},
   "outputs": [],
   "source": [
    "model = SkipGram(vocab_size, embedding_dim)\n",
    "optimizer = tf.keras.optimizers.Adam(learning_rate=1e-3)"
   ]
  },
  {
   "cell_type": "code",
   "execution_count": 38,
   "metadata": {},
   "outputs": [
    {
     "name": "stdout",
     "output_type": "stream",
     "text": [
      "Epoch 1 / 2 - Step 1 / 43325 - loss: -149.6680"
     ]
    },
    {
     "name": "stdout",
     "output_type": "stream",
     "text": [
      "Epoch 1 / 2 - Step 43325 / 43325 - loss: -149.6294\n",
      "Epoch 2 / 2 - Step 43325 / 43325 - loss: -149.6294\n"
     ]
    }
   ],
   "source": [
    "n_batch = int(np.ceil(num_samples / batch_size))\n",
    "train_gen = train_data_generator(batch_size, vocab_size, negative_sample_num)\n",
    "for epoch in range(num_epoch):\n",
    "    epoch_loss = 0.0\n",
    "    for batch_idx in range(n_batch):\n",
    "        batch = next(train_gen)\n",
    "        real_batch_size = len(batch[0])\n",
    "        batch = [tf.convert_to_tensor(d, tf.int64) for d in batch]\n",
    "\n",
    "        with tf.GradientTape() as tape:\n",
    "            output = model(*batch)\n",
    "            loss = negative_sampling_loss(*output)\n",
    "\n",
    "        if batch_idx % 10 == 0 or batch_idx == num_samples - 1:\n",
    "            print_line(f'Epoch {epoch + 1} / {num_epoch} - Step {batch_idx + 1} / {n_batch} - loss: {loss:.4f}')\n",
    "            \n",
    "        trainable_vars = model.trainable_variables\n",
    "        gradients = tape.gradient(loss, trainable_vars)\n",
    "\n",
    "        # Update weights\n",
    "        optimizer.apply_gradients(zip(gradients, trainable_vars))\n",
    "        epoch_loss += loss * real_batch_size\n",
    "    print(f'\\rEpoch {epoch + 1} / {num_epoch} - Step {n_batch} / {n_batch} - loss: {epoch_loss / num_samples:.4f}')"
   ]
  },
  {
   "cell_type": "markdown",
   "metadata": {},
   "source": [
    "## 4. Visualization (5 Points)"
   ]
  },
  {
   "cell_type": "code",
   "execution_count": 41,
   "metadata": {},
   "outputs": [
    {
     "data": {
      "text/plain": [
       "(102300, 64)"
      ]
     },
     "execution_count": 41,
     "metadata": {},
     "output_type": "execute_result"
    }
   ],
   "source": [
    "# word_vecs = tf.concat([model.center_embeddings.weights[0], model.context_embeddings.weights[0]], axis=-1).numpy()\n",
    "center_vecs = model.center_embeddings.weights[0].numpy()\n",
    "center_vecs.shape"
   ]
  },
  {
   "cell_type": "code",
   "execution_count": 42,
   "metadata": {},
   "outputs": [
    {
     "data": {
      "image/png": "[encoded data removed]",
      "text/plain": [
       "<Figure size 640x480 with 1 Axes>"
      ]
     },
     "metadata": {},
     "output_type": "display_data"
    }
   ],
   "source": [
    "from matplotlib import pyplot as plt\n",
    "\n",
    "\n",
    "visualize_words = [\n",
    "    \"movie\", \"film\", \"story\",\n",
    "    \"good\", \"enjoyable\", \"great\", \"bad\",\n",
    "    \"coffee\", \"tea\", \"milk\"\n",
    "]\n",
    "visualize_idx = [tokenizer.vocab[word] for word in visualize_words]\n",
    "visualize_vecs = center_vecs[visualize_idx, :]\n",
    "\n",
    "temp = (visualize_vecs - np.mean(visualize_vecs, axis=0))\n",
    "covariance = 1.0 / len(visualize_idx) * temp.T.dot(temp)\n",
    "U, S, V = np.linalg.svd(covariance)\n",
    "coord = temp.dot(U[:, 0:2])\n",
    "\n",
    "for i in range(len(visualize_words)):\n",
    "    plt.text(coord[i, 0], coord[i, 1], visualize_words[i],\n",
    "             bbox=dict(facecolor='green', alpha=0.1))\n",
    "\n",
    "plt.xlim((np.min(coord[:, 0]), np.max(coord[:, 0])))\n",
    "plt.ylim((np.min(coord[:, 1]), np.max(coord[:, 1])))\n",
    "\n",
    "plt.savefig('word_vectors.png')\n",
    "plt.show()"
   ]
  },
  {
   "cell_type": "code",
   "execution_count": 68,
   "metadata": {},
   "outputs": [],
   "source": [
    "def knn(vec, mat, k):\n",
    "    \"\"\" Implement the KNN algorithm based on cosine similarity, which will be used for analysis.\n",
    "\n",
    "        Args:\n",
    "            vec: numpy ndarray, the target vector\n",
    "            mat: numpy ndarray, a matrix contains all the vectors (each row is a vector)\n",
    "            k: the number of the nearest neighbors you want to find.\n",
    "            \n",
    "        Return:\n",
    "            indices: the k indices of the matrix's rows that are closest to the vec\n",
    "    \"\"\"\n",
    "    indices = []\n",
    "    # Start your code here\n",
    "    # Note: DO NOT use for loop to calculate the similarity between two vectors. You are required to vectorize the calculation.\n",
    "    # Hint: See np.argsort\n",
    "    # Take the matrix multiplication, which is equivalent to dot product of each row of the matrix with the vector\n",
    "    dot = mat @ vec.reshape((vec.shape[0],1))\n",
    "    # Get the product of the vector length\n",
    "    # Vector norm\n",
    "    vec_norm = np.linalg.norm(vec, ord=2)\n",
    "    # Norms of each row in the matrix\n",
    "    mat_norms = np.linalg.norm(mat, ord=2, axis=1, keepdims=True)\n",
    "    # Product\n",
    "    prod_norm = mat_norms * vec_norm\n",
    "    # Cosine similarities\n",
    "    cos_sims = dot / prod_norm\n",
    "    # Get the k closest\n",
    "    # We want closest to one, so take the negative of the cos_sims\n",
    "    # That way, the cosine similarities closest to 1 (closest vectors) become the smallest entries.\n",
    "    indices = np.argsort(-cos_sims.flatten())[:k]\n",
    "    # End\n",
    "    return indices"
   ]
  },
  {
   "cell_type": "code",
   "execution_count": 69,
   "metadata": {},
   "outputs": [
    {
     "name": "stdout",
     "output_type": "stream",
     "text": [
      "Word: \"movie\" is close to ['movie', 'matlock', 'nikitajust', 'capitvated', 'barbulesco', 'trend', 'epileptics', 'ericsson', 'vandal', 'comforting']\n",
      "Word: \"film\" is close to ['film', 'tvn', 'telemann', 'unbiblical', 'elfman', 'ninthly', 'metroids', 'fumbelers', 'memorialise', 'readdress']\n",
      "Word: \"story\" is close to ['story', 'welle', 'sympathising', 'schenk', 'perpetrators', 'sidekicks', 'attests', 'deplored', 'fives', 'scud']\n",
      "Word: \"good\" is close to ['good', 'emporer', 'junglee', 'starkweather', 'pepped', 'sumter', 'past', 'wayyy', 'embezzling', 'meggie']\n",
      "Word: \"enjoyable\" is close to ['enjoyable', 'prater', 'asajii', 'peri', 'parrying', 'robotics', 'fourteen', 'contendor', 'jokers', 'nahreeb']\n",
      "Word: \"great\" is close to ['great', 'impales', 'offences', 'provokes', 'dopiest', 'presumable', 'ruse', 'bounced', 'octopussy', 'jowl']\n",
      "Word: \"bad\" is close to ['bad', 'lilliard', 'enya', 'ning', 'baldrick', 'funnythis', 'smashed', 'acerbic', 'lifeguarding', 'burqa']\n",
      "Word: \"coffee\" is close to ['coffee', 'rothberg', 'destinations', 'waterbury', 'arisen', 'aristrocracy', 'hanna', 'personna', 'dreyfuss', 'dawlat']\n",
      "Word: \"tea\" is close to ['tea', 'carlito', 'soisson', 'verdoux', 'nefetari', 'contemplatively', 'kornkold', 'saviola', 'meters', 'brenn']\n",
      "Word: \"milk\" is close to ['milk', 'conclusioni', 'dofler', 'buttonholing', 'huggers', 'hubba', 'whets', 'killikrates', 'hideous', 'homely']\n",
      "Word: \"milk\" is close to ['milk', 'conclusioni', 'dofler', 'buttonholing', 'huggers', 'hubba', 'whets', 'killikrates', 'hideous', 'homely']\n"
     ]
    }
   ],
   "source": [
    "for word in visualize_words:\n",
    "    idx = tokenizer.vocab[word]\n",
    "    vec = center_vecs[idx]\n",
    "    indices = knn(vec, center_vecs, 10)\n",
    "    closed_words = [tokenizer.inverse_vocab[i] for i in indices]\n",
    "    print('Word: \"{}\" is close to {}'.format(word, closed_words))"
   ]
  },
  {
   "cell_type": "markdown",
   "metadata": {},
   "source": [
    "## 5. Conclusion (5 Points)\n",
    "\n",
    "Provide an analysis for all the results"
   ]
  },
  {
   "cell_type": "markdown",
   "metadata": {},
   "source": [
    "Answer:\n",
    "\n",
    "At first I was a bit suspicious that the algorithm converged so fast (I had to add clipping because the error because so negatively large it was going to infinity), and\n",
    "after that it got stuck at a limiting point that I assume is based on my clipping after only a couple of iterations. \n",
    "\n",
    "However it seems the suspicion might've been unfounded.\n",
    "The visualization showed related words close together (directionally, at least) (story, movie) for example. So, I am confident that the right information\n",
    "was learned."
   ]
  }
 ],
 "metadata": {
  "kernelspec": {
   "display_name": "Python 3",
   "language": "python",
   "name": "python3"
  },
  "language_info": {
   "codemirror_mode": {
    "name": "ipython",
    "version": 3
   },
   "file_extension": ".py",
   "mimetype": "text/x-python",
   "name": "python",
   "nbconvert_exporter": "python",
   "pygments_lexer": "ipython3",
   "version": "3.11.8"
  }
 },
 "nbformat": 4,
 "nbformat_minor": 5
}
