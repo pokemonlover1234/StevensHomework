{
 "cells": [
  {
   "cell_type": "markdown",
   "metadata": {},
   "source": [
    "# CS 584 Assignment 4 -- Sequence to Sequence Models\n",
    "\n",
    "#### Name: Aidan Fischer\n",
    "#### Stevens ID: 10447681"
   ]
  },
  {
   "cell_type": "markdown",
   "metadata": {},
   "source": [
    "## In this assignment, you are required to follow the steps below:\n",
    "1. Review the lecture slides.\n",
    "2. Implement the seq2seq (translation) model.\n",
    "\n",
    "**Before you start**\n",
    "- Please read the code very carefully.\n",
    "- Install these packages using the following command.\n",
    "```console\n",
    "pip install -r requirements.txt\n",
    "```\n",
    "- It's better to train the Tensorflow model with GPU and CUDA. If they are not available on your local machine, please consider Google CoLab. You can check `CoLab.md` in this assignments.\n",
    "- You are **NOT** allowed to use other packages unless otherwise specified.\n",
    "- You are **ONLY** allowed to edit the code between `# Start your code here` and `# End` for each block."
   ]
  },
  {
   "cell_type": "code",
   "execution_count": 63,
   "metadata": {
    "metadata": {}
   },
   "outputs": [],
   "source": [
    "import sys\n",
    "import os\n",
    "\n",
    "\n",
    "def print_line(*args):\n",
    "    \"\"\" Inline print and go to the begining of line\n",
    "    \"\"\"\n",
    "    args1 = [str(arg) for arg in args]\n",
    "    str_ = ' '.join(args1)\n",
    "    print('\\r' + str_, end='')"
   ]
  },
  {
   "cell_type": "code",
   "execution_count": 64,
   "metadata": {
    "metadata": {}
   },
   "outputs": [
    {
     "data": {
      "text/plain": [
       "[PhysicalDevice(name='/physical_device:GPU:0', device_type='GPU')]"
      ]
     },
     "execution_count": 64,
     "metadata": {},
     "output_type": "execute_result"
    }
   ],
   "source": [
    "import tensorflow as tf\n",
    "\n",
    "\n",
    "# If you are going to use GPU, make sure the GPU in in the output\n",
    "tf.config.list_physical_devices('GPU')"
   ]
  },
  {
   "cell_type": "code",
   "execution_count": 65,
   "metadata": {
    "metadata": {}
   },
   "outputs": [],
   "source": [
    "from typing import List, Tuple, Union, Dict\n",
    "\n",
    "import numpy as np"
   ]
  },
  {
   "cell_type": "markdown",
   "metadata": {},
   "source": [
    "## 1. Data preparation (5 Points)"
   ]
  },
  {
   "cell_type": "markdown",
   "metadata": {},
   "source": [
    "### 1.1 Load and describe data"
   ]
  },
  {
   "cell_type": "markdown",
   "metadata": {},
   "source": [
    "Here, we use the [iwslt2017](https://huggingface.co/datasets/iwslt2017) dataset. More specifically, this translation task is from French to English: fr-en."
   ]
  },
  {
   "cell_type": "code",
   "execution_count": 66,
   "metadata": {
    "metadata": {}
   },
   "outputs": [
    {
     "name": "stderr",
     "output_type": "stream",
     "text": [
      "/home/aidan/.pyenv/versions/3.9.19/lib/python3.9/site-packages/datasets/load.py:2524: FutureWarning: 'ignore_verifications' was deprecated in favor of 'verification_mode' in version 2.9.1 and will be removed in 3.0.0.\n",
      "You can remove this warning by passing 'verification_mode=no_checks' instead.\n",
      "  warnings.warn(\n"
     ]
    }
   ],
   "source": [
    "from datasets import load_dataset\n",
    "# The load_dataset function is provided by the huggingface datasets\n",
    "# https://huggingface.co/docs/datasets/index\n",
    "\n",
    "\n",
    "dataset_path = os.path.join('a4-data', 'dataset')\n",
    "dataset = load_dataset('iwslt2017', 'iwslt2017-en-fr', cache_dir=dataset_path, ignore_verifications=True)"
   ]
  },
  {
   "cell_type": "markdown",
   "metadata": {},
   "source": [
    "Let's first print some basic statistics of this dataset"
   ]
  },
  {
   "cell_type": "code",
   "execution_count": 67,
   "metadata": {
    "metadata": {}
   },
   "outputs": [
    {
     "name": "stdout",
     "output_type": "stream",
     "text": [
      "DatasetDict({\n",
      "    train: Dataset({\n",
      "        features: ['translation'],\n",
      "        num_rows: 232825\n",
      "    })\n",
      "    test: Dataset({\n",
      "        features: ['translation'],\n",
      "        num_rows: 8597\n",
      "    })\n",
      "    validation: Dataset({\n",
      "        features: ['translation'],\n",
      "        num_rows: 890\n",
      "    })\n",
      "})\n",
      "232825 890 8597\n"
     ]
    }
   ],
   "source": [
    "print(dataset)\n",
    "print(len(dataset['train']['translation']), len(dataset['validation']['translation']), len(dataset['test']['translation']))"
   ]
  },
  {
   "cell_type": "code",
   "execution_count": 68,
   "metadata": {
    "metadata": {}
   },
   "outputs": [
    {
     "name": "stdout",
     "output_type": "stream",
     "text": [
      "{'en': \"Thank you so much, Chris. And it's truly a great honor to have the opportunity to come to this stage twice; I'm extremely grateful.\", 'fr': \"Merci beaucoup, Chris. C'est vraiment un honneur de pouvoir venir sur cette scène une deuxième fois. Je suis très reconnaissant.\"}\n"
     ]
    }
   ],
   "source": [
    "print(dataset['train']['translation'][0])"
   ]
  },
  {
   "cell_type": "code",
   "execution_count": 69,
   "metadata": {
    "metadata": {}
   },
   "outputs": [],
   "source": [
    "from tokenizers import Tokenizer\n",
    "# The tokenizer is provided by the huggingface tokenizers\n",
    "# https://huggingface.co/docs/tokenizers/index\n",
    "# Here, I already pretrained a BPE tokenizer and you can simply load the json\n",
    "# The token numbers of both English and French are 10,000\n",
    "# All tokens should be lower-case.\n",
    "\n",
    "\n",
    "en_tokenizer = Tokenizer.from_file('a4-data/en_tokenizer.json')\n",
    "fr_tokenizer = Tokenizer.from_file('a4-data/fr_tokenizer.json')"
   ]
  },
  {
   "cell_type": "code",
   "execution_count": 70,
   "metadata": {
    "metadata": {}
   },
   "outputs": [
    {
     "name": "stdout",
     "output_type": "stream",
     "text": [
      "[0, 122, 279, 4987, 17, 1]\n",
      "['<s>', 'Ġi', 'Ġlike', 'Ġsports', '.', '</s>']\n"
     ]
    }
   ],
   "source": [
    "encoding = en_tokenizer.encode(\"i like sports.\")\n",
    "print(encoding.ids)\n",
    "print(encoding.tokens)\n",
    "# >>> [0, 122, 279, 4987, 17, 1] \n",
    "# >>> ['<s>', 'Ġi', 'Ġlike', 'Ġsports', '.', '</s>']"
   ]
  },
  {
   "cell_type": "markdown",
   "metadata": {},
   "source": [
    "Extract English and French sentences for training, validation, and test sets.\n",
    "\n",
    "Note: Every sentence is lower-case."
   ]
  },
  {
   "cell_type": "code",
   "execution_count": 71,
   "metadata": {
    "metadata": {}
   },
   "outputs": [],
   "source": [
    "train_en_sentences, train_fr_sentences = zip(*[(pair['en'].lower(), pair['fr'].lower()) for pair in dataset['train']['translation']])\n",
    "valid_en_sentences, valid_fr_sentences = zip(*[(pair['en'].lower(), pair['fr'].lower()) for pair in dataset['validation']['translation']])\n",
    "test_en_sentences, test_fr_sentences = zip(*[(pair['en'].lower(), pair['fr'].lower()) for pair in dataset['test']['translation']])"
   ]
  },
  {
   "cell_type": "markdown",
   "metadata": {},
   "source": [
    "### 1.2 Encode data (5 Points)"
   ]
  },
  {
   "cell_type": "code",
   "execution_count": 72,
   "metadata": {
    "metadata": {}
   },
   "outputs": [],
   "source": [
    "def encode(tokenizer: 'Tokenizer', sentences: List[str]) -> List[List[int]]:\n",
    "    \"\"\" Encode the sentences with the pretrained tokenizer.\n",
    "        You can directly call `tokenizer.encode()` to encode the sentences.\n",
    "        It will automatically add the <s> and </s> token.\n",
    "        \n",
    "        Note: Please be carefull with the return value of the encode function.\n",
    "    \n",
    "    Args:\n",
    "        tokenizer: A pretrained en/fr tokenizer\n",
    "        sentences: A list of strings\n",
    "    Return:\n",
    "        sent_token_ids: A list of token ids\n",
    "    \"\"\"\n",
    "    sent_token_ids = []\n",
    "    n = len(sentences)\n",
    "    for i, sentence in enumerate(sentences):\n",
    "        if i % 100 == 0 or i == n - 1:\n",
    "            print_line('Encoding with Tokenizer:', (i + 1), '/', n)\n",
    "        # Start your code here\n",
    "        # Encode a sentence, and add that list to sent_token_ids\n",
    "        sent_token_ids.append(tokenizer.encode(sentence).ids)\n",
    "        # End\n",
    "    print_line('\\n')\n",
    "    return sent_token_ids"
   ]
  },
  {
   "cell_type": "code",
   "execution_count": 73,
   "metadata": {
    "metadata": {}
   },
   "outputs": [
    {
     "name": "stdout",
     "output_type": "stream",
     "text": [
      "en\n",
      "Encoding with Tokenizer: 232825 / 232825\n",
      "Encoding with Tokenizer: 890 / 890\n",
      "Encoding with Tokenizer: 8597 / 8597\n",
      "fr\n",
      "Encoding with Tokenizer: 232825 / 232825\n",
      "Encoding with Tokenizer: 890 / 890\n",
      "Encoding with Tokenizer: 8597 / 8597\n"
     ]
    }
   ],
   "source": [
    "print('en')\n",
    "train_en = encode(en_tokenizer, train_en_sentences)\n",
    "valid_en = encode(en_tokenizer, valid_en_sentences)\n",
    "test_en = encode(en_tokenizer, test_en_sentences)\n",
    "print('fr')\n",
    "train_fr = encode(fr_tokenizer, train_fr_sentences)\n",
    "valid_fr = encode(fr_tokenizer, valid_fr_sentences)\n",
    "test_fr = encode(fr_tokenizer, test_fr_sentences)"
   ]
  },
  {
   "cell_type": "markdown",
   "metadata": {},
   "source": [
    "Check your implementation with an example"
   ]
  },
  {
   "cell_type": "code",
   "execution_count": 74,
   "metadata": {
    "metadata": {}
   },
   "outputs": [
    {
     "name": "stdout",
     "output_type": "stream",
     "text": [
      "{'en': \"Thank you so much, Chris. And it's truly a great honor to have the opportunity to come to this stage twice; I'm extremely grateful.\", 'fr': \"Merci beaucoup, Chris. C'est vraiment un honneur de pouvoir venir sur cette scène une deuxième fois. Je suis très reconnaissant.\"}\n",
      "[0, 658, 162, 188, 494, 15, 2843, 17, 138, 165, 178, 2775, 121, 630, 4502, 140, 222, 124, 1930, 140, 625, 140, 185, 2122, 3446, 30, 122, 400, 2576, 5818, 17, 1] [0, 763, 478, 15, 3016, 17, 145, 10, 178, 487, 169, 8981, 152, 1038, 2055, 266, 323, 2425, 220, 1760, 586, 17, 214, 459, 378, 9952, 17, 1]\n",
      " thank you so much, chris. and it's truly a great honor to have the opportunity to come to this stage twice; i'm extremely grateful.  merci beaucoup, chris. c'est vraiment un honneur de pouvoir venir sur cette scène une deuxième fois. je suis très reconnaissant.\n"
     ]
    }
   ],
   "source": [
    "print(dataset['train']['translation'][0])\n",
    "print(train_en[0], train_fr[0])\n",
    "print(en_tokenizer.decode(train_en[0]), fr_tokenizer.decode(train_fr[0]))"
   ]
  },
  {
   "cell_type": "markdown",
   "metadata": {},
   "source": [
    "## 2. Sequence to sequence model (40 Points)"
   ]
  },
  {
   "cell_type": "markdown",
   "metadata": {},
   "source": [
    "### 2.1 Encoder (10 Points)"
   ]
  },
  {
   "cell_type": "code",
   "execution_count": 75,
   "metadata": {},
   "outputs": [],
   "source": [
    "from tensorflow.keras.models import Model\n",
    "from tensorflow.keras.layers import Layer, GRU, Dense, Embedding, Dropout, GRUCell\n",
    "from tensorflow.keras.initializers import GlorotUniform\n",
    "\n",
    "\n",
    "class Encoder(Model):\n",
    "    def __init__(self, vocab_size: int, embedding_size: int, units: int):\n",
    "        \"\"\" The encoder model for the src sentences.\n",
    "            It contains an embedding part and a GRU part.\n",
    "        \n",
    "        Args:\n",
    "            vocab_size: The src vocabulary size\n",
    "            embedding_size: The embedding size for the embedding layer\n",
    "            units: Number of hidden units in the RNN (GRU) layer\n",
    "        \"\"\"\n",
    "        super().__init__()\n",
    "        # Start your code here\n",
    "        # Note: Please know what the decoder needs from encoder. This determines the parameters of the GRU layer\n",
    "        # Determine whether the model is in training mode.\n",
    "        self.training = None\n",
    "        # Set up the required layers. \n",
    "        self.embedding = Embedding(vocab_size, embedding_size)\n",
    "        self.GRU = GRU(units, return_sequences = True, return_state = True)\n",
    "        # End\n",
    "\n",
    "    def call(self, src_ids, src_mask):\n",
    "        \"\"\" Encoder forward\n",
    "        Args:\n",
    "            src_ids: Tensor, (batch_size x max_len), the token ids of input sentences in a batch\n",
    "            src_mask: Tensor, (batch_size x max_len), the mask of the src input. True value in the mask means this timestep is valid, otherwise this timestep is ignored\n",
    "        Returns:\n",
    "            enc_output: Tensor, (batch_size x max_len x units), the output of GRU for all timesteps\n",
    "            final_state: Tensor, (batch_size x units), the state of the final valid timestep\n",
    "        \"\"\"\n",
    "        # Start your code here\n",
    "        # Step 1. Retrieve embedding\n",
    "        #      2. GRU\n",
    "        # Please refer to the calling arguments of GRU: https://www.tensorflow.org/api_docs/python/tf/keras/layers/GRU#call-arguments\n",
    "        # Pass the input tokens through the embedding layer and then apply the GRU layer. Return the output of the GRU layer.\n",
    "        emb_outputs = self.embedding(src_ids)\n",
    "        enc_outputs, final_state = self.GRU(inputs = emb_outputs, mask = src_mask, training = self.training)\n",
    "        # End\n",
    "        return enc_outputs, final_state"
   ]
  },
  {
   "cell_type": "markdown",
   "metadata": {},
   "source": [
    "### 2.2 Decoder (15 Points)"
   ]
  },
  {
   "cell_type": "code",
   "execution_count": 76,
   "metadata": {},
   "outputs": [],
   "source": [
    "# Decoder with attention layer\n",
    "\n",
    "class Decoder(Model):\n",
    "    def __init__(self, vocab_size: int, embedding_size: int, units: int, dropout_rate: float):\n",
    "        \"\"\" The decoder model for the tgt sentences.\n",
    "            It contains an embedding part, a GRU part, a dropout part, and a classifier part.\n",
    "            \n",
    "        Args:\n",
    "            vocab_size: The tgt vocabulary size\n",
    "            embedding_size: The embedding size for the embedding layer\n",
    "            units: Number of hidden units in the RNN (GRU) layer\n",
    "            dropout_rate: The classifier has a (units x vocab_size) weight. This is a large weight matrix. We apply a dropout layer to avoid overfitting.\n",
    "        \"\"\"\n",
    "        super().__init__()\n",
    "        # Start your code here\n",
    "        # Note: 1. Please correctly set the parameter of GRU\n",
    "        #       2. No softmax here because we will need the sequence to sequence loss later\n",
    "        # Define the required layers\n",
    "        self.embedding = Embedding(vocab_size, embedding_size)\n",
    "        self.GRU = GRU(units, return_sequences = True, return_state = True)\n",
    "        self.dropout = Dropout(dropout_rate)\n",
    "        self.dense = Dense(vocab_size)\n",
    "        self.training = None\n",
    "        # End\n",
    "\n",
    "    def call(self, tgt_ids, initial_state, tgt_mask):\n",
    "        \"\"\" Decoder forward.\n",
    "            It is called by decoder(tgt_ids=..., initial_state=..., tgt_mask=...)\n",
    "\n",
    "        Args:\n",
    "            tgt_ids: Tensor, (batch_size x max_len), the token ids of input sentences in a batch\n",
    "            initial_state: Tensor, (batch_size x units), the state of the final valid timestep from the encoder\n",
    "            tgt_mask: Tensor, (batch_size x max_len), the mask of the tgt input. True value in the mask means this timestep is valid, otherwise this timestep is ignored\n",
    "        Return:\n",
    "            dec_outputs: Tensor, (batch_size x max_len x vocab_size), the output of GRU for all timesteps\n",
    "        \"\"\"\n",
    "        # Start your code here\n",
    "        # Step 1. Retrieve embedding\n",
    "        #      2. GRU\n",
    "        #      3. Apply dropout to the GRU output\n",
    "        #      4. Classifier\n",
    "        # Note: Please refer to the calling arguments of GRU: https://www.tensorflow.org/api_docs/python/tf/keras/layers/GRU#call-arguments\n",
    "        # Pass information through the model's layers. \n",
    "        emb_outputs = self.embedding(tgt_ids)\n",
    "        gru_outputs, final_state = self.GRU(inputs = emb_outputs, mask = tgt_mask, initial_state = initial_state, training = self.training)\n",
    "        dropout_outputs = self.dropout(gru_outputs, training = self.training)\n",
    "        dec_outputs = self.dense(dropout_outputs)\n",
    "        # End\n",
    "        return dec_outputs\n",
    "\n",
    "    def predict(self, tgt_ids, initial_state):\n",
    "        \"\"\" Decoder prediction.\n",
    "            This is a step in recursive prediction. We use the previous prediction and state to predict current token.\n",
    "            Note that we only need to use the gru_cell instead of GRU becasue we only need to calculate one timestep.\n",
    "            \n",
    "        Args:\n",
    "            tgt_ids: Tensor, (batch_size, ) -> (1, ), the token id of the current timestep in the current sentence.\n",
    "            initial_state: Tensor, (batch_size x units) -> (1 x units), the state of the final valid timestep from the encoder or the previous hidden state in prediction.\n",
    "        Return:\n",
    "            dec_outputs: Tensor, (batch_size x vocab_size) -> (1 x vocab_size), the output of GRU for this timestep.\n",
    "            state: Tensor, (batch_size x units) -> (1 x units), the state of this timestep.\n",
    "        \"\"\"\n",
    "        gru_cell = self.GRU.cell\n",
    "        # Start your code here\n",
    "        # Step 1. Retrieve embedding\n",
    "        #      2. GRU Cell, see https://www.tensorflow.org/api_docs/python/tf/keras/layers/GRUCell#call-arguments\n",
    "        #      3. Classifier (No dropout)\n",
    "        emb_outputs = self.embedding(tgt_ids)\n",
    "        gru_outputs, state = gru_cell(inputs = emb_outputs, states = initial_state, training = self.training)\n",
    "        dec_outputs = self.dense(gru_outputs)\n",
    "        # End\n",
    "        return dec_outputs, state"
   ]
  },
  {
   "cell_type": "code",
   "execution_count": 77,
   "id": "d1e99e40",
   "metadata": {},
   "outputs": [],
   "source": [
    "from tensorflow.keras.layers import Attention, Concatenate\n",
    "class AttentionDecoder(Model):\n",
    "    def __init__(self, vocab_size: int, embedding_size: int, units: int, dropout_rate: float):\n",
    "        \"\"\" The attention decoder model for the tgt sentences.\n",
    "            It contains an embedding part, a GRU part, an attention part, a dropout part, and a classifier part.\n",
    "            \n",
    "        Args:\n",
    "            vocab_size: The tgt vocabulary size\n",
    "            embedding_size: The embedding size for the embedding layer\n",
    "            units: Number of hidden units in the RNN (GRU) layer\n",
    "            dropout_rate: The classifier has a (units x vocab_size) weight. This is a large weight matrix. We apply a dropout layer to avoid overfitting.\n",
    "        \"\"\"\n",
    "        super().__init__()\n",
    "        # Start your code here\n",
    "        # Note: 1. Please correctly set the parameter of GRU\n",
    "        #       2. No softmax here because we will need the sequence to sequence loss later\n",
    "        # Set up the required layers for a decoder, with a new attention layer and concatenation layer\n",
    "        self.embedding = Embedding(vocab_size, embedding_size)\n",
    "        self.GRU = GRU(units, return_sequences = True, return_state = True)\n",
    "        self.attention = Attention()\n",
    "        self.dropout = Dropout(dropout_rate)\n",
    "        self.dense = Dense(vocab_size)\n",
    "        self.concat = Concatenate()\n",
    "        self.training = None\n",
    "        # End\n",
    "\n",
    "    def call(self, tgt_ids, initial_state, tgt_mask, enc_outputs):\n",
    "        \"\"\" Decoder forward.\n",
    "            It is called by decoder(tgt_ids=..., initial_state=..., tgt_mask=...)\n",
    "\n",
    "        Args:\n",
    "            tgt_ids: Tensor, (batch_size x max_len), the token ids of input sentences in a batch\n",
    "            initial_state: Tensor, (batch_size x units), the state of the final valid timestep from the encoder\n",
    "            tgt_mask: Tensor, (batch_size x max_len), the mask of the tgt input. True value in the mask means this timestep is valid, otherwise this timestep is ignored\n",
    "            enc_outputs: Tensor, (batch_size x max_len x units), the output of the encoder GRU for all timesteps. Used as the values in the attention layer\n",
    "        Return:\n",
    "            dec_outputs: Tensor, (batch_size x max_len x vocab_size), the output of GRU for all timesteps\n",
    "        \"\"\"\n",
    "        # Start your code here\n",
    "        # Step 1. Retrieve embedding\n",
    "        #      2. GRU\n",
    "        #      3. Attention layer. Decoder attends to encoder output\n",
    "        #      4. Concatenate GRU and Attention outputs\n",
    "        #      5. Apply dropout\n",
    "        #      6. Classifier\n",
    "        # Note: Please refer to the calling arguments of GRU: https://www.tensorflow.org/api_docs/python/tf/keras/layers/GRU#call-arguments\n",
    "        # Same as decoder, but GRU output is passed through an attention layer as well, \n",
    "        # where the query is the output of the GRU layer and the values are the encoder outputs\n",
    "        emb_outputs = self.embedding(tgt_ids)\n",
    "        gru_outputs, final_state = self.GRU(inputs = emb_outputs, mask = tgt_mask, initial_state = initial_state, training = self.training)\n",
    "        attention_outputs = self.attention([gru_outputs, enc_outputs], use_causal_mask = False, training = self.training)\n",
    "        # Concatenate the GRU and attention outputs to form y_hats\n",
    "        concat_outputs = self.concat([gru_outputs, attention_outputs])\n",
    "        dropout_outputs = self.dropout(concat_outputs, training = self.training)\n",
    "        dec_outputs = self.dense(dropout_outputs)\n",
    "        # End\n",
    "        return dec_outputs\n",
    "\n",
    "    def predict(self, tgt_ids, initial_state, enc_outputs):\n",
    "        \"\"\" Decoder prediction.\n",
    "            This is a step in recursive prediction. We use the previous prediction and state to predict current token.\n",
    "            Note that we only need to use the gru_cell instead of GRU becasue we only need to calculate one timestep.\n",
    "            \n",
    "        Args:\n",
    "            tgt_ids: Tensor, (batch_size, ) -> (1, ), the token id of the current timestep in the current sentence.\n",
    "            initial_state: Tensor, (batch_size x units) -> (1 x units), the state of the final valid timestep from the encoder or the previous hidden state in prediction.\n",
    "            enc_outputs: Tensor, (batch_size x max_len x units), the output of the encoder GRU for all timesteps. Used as the values in the attention layer\n",
    "        Return:\n",
    "            dec_outputs: Tensor, (batch_size x vocab_size) -> (1 x vocab_size), the output of GRU for this timestep.\n",
    "            state: Tensor, (batch_size x units) -> (1 x units), the state of this timestep.\n",
    "        \"\"\"\n",
    "        gru_cell = self.GRU.cell\n",
    "        # Start your code here\n",
    "        # Step 1. Retrieve embedding\n",
    "        #      2. GRU Cell, see https://www.tensorflow.org/api_docs/python/tf/keras/layers/GRUCell#call-arguments\n",
    "        #      3. Attention\n",
    "        #      4. Concat\n",
    "        #      5. Classifier (No dropout)\n",
    "        # Same as call except performing one step as in the normal decoder. \n",
    "        emb_outputs = self.embedding(tgt_ids)\n",
    "        gru_outputs, state = gru_cell(inputs = emb_outputs, states = initial_state, training = self.training)\n",
    "        attention_outputs = self.attention([gru_outputs, enc_outputs], use_causal_mask = False, training = self.training)\n",
    "        # Need expand dims here cause gru_outputs doesn't have a max_len dimension here.\n",
    "        concat_outputs = self.concat([tf.expand_dims(gru_outputs, axis = 0), attention_outputs])\n",
    "        dec_outputs = self.dense(concat_outputs)\n",
    "        # End\n",
    "        return dec_outputs, state"
   ]
  },
  {
   "cell_type": "markdown",
   "id": "1b5d2a4a",
   "metadata": {},
   "source": []
  },
  {
   "cell_type": "markdown",
   "metadata": {},
   "source": [
    "### 2.3 Seq2seq (10 Points)"
   ]
  },
  {
   "cell_type": "code",
   "execution_count": 78,
   "metadata": {},
   "outputs": [],
   "source": [
    "class Seq2seq(Model):\n",
    "    def __init__(self, src_vocab_size: int, tgt_vocab_size: int, embedding_size: int, units: int, dropout_rate: float):\n",
    "        \"\"\" The sequence to sequence model.\n",
    "            It contains an encoder and a decoder.\n",
    "            \n",
    "        Args:\n",
    "            src_vocab_size: The src vocabulary size\n",
    "            tgt_vocab_size: The tgt vocabulary size\n",
    "            embedding_size: The embedding size for the embedding layer\n",
    "            units: Number of hidden units in the RNN (GRU) layer\n",
    "            dropout_rate: The dropout rate used in the decoder.\n",
    "        \"\"\"\n",
    "        super().__init__()\n",
    "        # Start your code here\n",
    "        # Set up the encoder and decoder models\n",
    "        self.encoder = Encoder(src_vocab_size, embedding_size, units)\n",
    "        self.decoder = Decoder(tgt_vocab_size, embedding_size, units, dropout_rate)\n",
    "        # End\n",
    "        \n",
    "    def set_training(self, training):\n",
    "        # Set the training mode used for the Seq2Seq model's encoder and decoder\n",
    "        self.decoder.training = training\n",
    "        self.encoder.training = training\n",
    "\n",
    "    def call(self, src_ids, src_seq_lens, tgt_ids, tgt_seq_lens):\n",
    "        \"\"\" Seq2seq forward (for the loss calculation in training/validation only).\n",
    "            It is called by model(src_ids=..., src_seq_lens=..., tgt_ids=..., tgt_seq_lens=)\n",
    "            Note: In prediction, we will also need to set `training=False`.\n",
    "\n",
    "        Args:\n",
    "            src_ids: Tensor, (batch_size x max_len), the token ids of src sentences in a batch\n",
    "            src_seq_lens: Tensor, (batch_size, ), the length of src sentences in a batch\n",
    "            tgt_ids: Tensor, (batch_size x max_len), the token ids of tgt sentences in a batch\n",
    "            tgt_seq_lens: Tensor, (batch_size, ), the length of src sentences in a batch\n",
    "        Returns:\n",
    "            dec_outputs: Tensor, (batch_size x max_len x units), the decoder predictions\n",
    "        \"\"\"\n",
    "        # Start your code here\n",
    "        # Step 1. build mask for src and tgt\n",
    "        #      2. encoder forward\n",
    "        #      3. decoder forward\n",
    "        # Create the masks from the provided lengths, then call the encoder and decoder\n",
    "        src_mask = tf.sequence_mask(src_seq_lens)\n",
    "        tgt_mask = tf.sequence_mask(tgt_seq_lens)\n",
    "        enc_outputs, enc_final_state = self.encoder(src_ids, src_mask)\n",
    "        dec_outputs = self.decoder(tgt_ids, enc_final_state, tgt_mask)\n",
    "        # End\n",
    "        return dec_outputs"
   ]
  },
  {
   "cell_type": "code",
   "execution_count": 79,
   "id": "22f2b439",
   "metadata": {},
   "outputs": [],
   "source": [
    "class Seq2seqAttention(Model):\n",
    "    def __init__(self, src_vocab_size: int, tgt_vocab_size: int, embedding_size: int, units: int, dropout_rate: float):\n",
    "        \"\"\" The sequence to sequence + attention model.\n",
    "            It contains an encoder and a decoder with attention.\n",
    "            \n",
    "        Args:\n",
    "            src_vocab_size: The src vocabulary size\n",
    "            tgt_vocab_size: The tgt vocabulary size\n",
    "            embedding_size: The embedding size for the embedding layer\n",
    "            units: Number of hidden units in the RNN (GRU) layer\n",
    "            dropout_rate: The dropout rate used in the decoder.\n",
    "        \"\"\"\n",
    "        super().__init__()\n",
    "        # Start your code here\n",
    "        # Same as base model, but use AttentionDecoder instead\n",
    "        self.encoder = Encoder(src_vocab_size, embedding_size, units)\n",
    "        self.decoder = AttentionDecoder(tgt_vocab_size, embedding_size, units, dropout_rate)\n",
    "        # End\n",
    "        \n",
    "    def set_training(self, training):\n",
    "        self.decoder.training = training\n",
    "        self.encoder.training = training\n",
    "\n",
    "    def call(self, src_ids, src_seq_lens, tgt_ids, tgt_seq_lens):\n",
    "        \"\"\" Seq2seq forward (for the loss calculation in training/validation only).\n",
    "            It is called by model(src_ids=..., src_seq_lens=..., tgt_ids=..., tgt_seq_lens=)\n",
    "            Note: In prediction, we will also need to set `training=False`.\n",
    "\n",
    "        Args:\n",
    "            src_ids: Tensor, (batch_size x max_len), the token ids of src sentences in a batch\n",
    "            src_seq_lens: Tensor, (batch_size, ), the length of src sentences in a batch\n",
    "            tgt_ids: Tensor, (batch_size x max_len), the token ids of tgt sentences in a batch\n",
    "            tgt_seq_lens: Tensor, (batch_size, ), the length of src sentences in a batch\n",
    "        Returns:\n",
    "            dec_outputs: Tensor, (batch_size x max_len x units), the decoder predictions\n",
    "        \"\"\"\n",
    "        # Start your code here\n",
    "        # Step 1. build mask for src and tgt\n",
    "        #      2. encoder forward\n",
    "        #      3. decoder forward\n",
    "        src_mask = tf.sequence_mask(src_seq_lens)\n",
    "        tgt_mask = tf.sequence_mask(tgt_seq_lens)\n",
    "        enc_outputs, enc_final_state = self.encoder(src_ids, src_mask)\n",
    "        # This all is the same as base seq2seq, but using AttentionDecoder requires passing encoder outputs\n",
    "        dec_outputs = self.decoder(tgt_ids, enc_final_state, tgt_mask, enc_outputs)\n",
    "        # End\n",
    "        return dec_outputs"
   ]
  },
  {
   "cell_type": "markdown",
   "metadata": {},
   "source": [
    "### 2.4 Seq2seq loss (5 Points)"
   ]
  },
  {
   "cell_type": "code",
   "execution_count": 80,
   "metadata": {},
   "outputs": [],
   "source": [
    "from tensorflow_addons.seq2seq import sequence_loss\n",
    "\n",
    "def seq2seq_loss(logits, target, seq_lens):\n",
    "    \"\"\" Calculate the sequence to sequence loss using the sequence_loss from tensorflow\n",
    "    \n",
    "    Args:\n",
    "        logits: Tensor (batch_size x max_seq_len x vocab_size). The output of the RNN model.\n",
    "        target: Tensor (batch_size x max_seq_len). The groud-truth of words.\n",
    "        seq_lens: Tensor (batch_size, ). The real sequence length before padding.\n",
    "    \"\"\"\n",
    "    loss = 0\n",
    "    # Start your code here\n",
    "    # 1. make a sequence mask (batch_size x max_seq_len) using tf.sequence_mask. This is to build a mask with 1 and 0.\n",
    "    #    Entry with 1 is the valid time step without padding. Entry with 0 is the time step with padding. We need to exclude this time step.\n",
    "    # 2. calculate the loss with sequence_loss. Carefully read the documentation of each parameter\n",
    "    seq_mask = tf.sequence_mask(seq_lens, dtype=tf.float32)\n",
    "    loss = sequence_loss(logits = logits, targets = target, weights = seq_mask, average_across_batch=False,\n",
    "                         average_across_timesteps=False, sum_over_batch=True, sum_over_timesteps=True)\n",
    "    # End\n",
    "    return loss"
   ]
  },
  {
   "cell_type": "markdown",
   "metadata": {},
   "source": [
    "## 3. Training (50 Points)"
   ]
  },
  {
   "cell_type": "markdown",
   "metadata": {},
   "source": [
    "### 3.1 Pad batch (15 Points)\n",
    "\n",
    "`pad_src_batch`: 5 Points\n",
    "`pad_tgt_batch`: 10 Points\n",
    "\n",
    "Pad the batch to the equal length and make tensors."
   ]
  },
  {
   "cell_type": "code",
   "execution_count": 81,
   "metadata": {},
   "outputs": [],
   "source": [
    "def pad_src_batch(src_batch: List[List[int]], src_seq_lens: List[int], pad_val: int):\n",
    "    \"\"\" Pad the batch for src sentences.\n",
    "        Note: Do not use append/extend that can modify the input inplace.\n",
    "    \n",
    "    Args:\n",
    "        src_batch: A list of src token ids\n",
    "        src_seq_lens: A list of src lens\n",
    "        pad_val: The padding value\n",
    "        \n",
    "    Returns:\n",
    "        src_batch: Tensor, (batch_size x max_len)\n",
    "        src_seq_lens_batch: Tensor, (batch_size, )\n",
    "    \"\"\"\n",
    "    max_src_len = max(src_seq_lens)\n",
    "    # Start your code here\n",
    "    # Please refer to tf.convert_to_tensor. The dtype should be tf.int64\n",
    "    # Padding\n",
    "    padded = tf.keras.utils.pad_sequences(src_batch, maxlen = max_src_len, dtype='int64', padding='post', value = pad_val)\n",
    "    # Convert to tensor\n",
    "    src_batch = tf.convert_to_tensor(padded, dtype=tf.int64)\n",
    "    src_seq_lens_batch = tf.convert_to_tensor(src_seq_lens, dtype=tf.int64)\n",
    "    # End\n",
    "    return src_batch, src_seq_lens_batch"
   ]
  },
  {
   "cell_type": "code",
   "execution_count": 82,
   "metadata": {},
   "outputs": [],
   "source": [
    "def pad_tgt_batch(tgt_batch: List[List[int]], tgt_seq_lens: List[int], pad_val: int):\n",
    "    \"\"\" Pad the batch for tgt sentences.\n",
    "        Note: 1. Do not use append/extend that can modify the input inplace.\n",
    "              2. We need to build the x (feature) and y (label) for tgt sentences.\n",
    "                 Please understand what the feature and label are in translation.\n",
    "    \n",
    "    Args:\n",
    "        tgt_batch: A list of src token ids\n",
    "        tgt_seq_lens: A list of src lens\n",
    "        pad_val: The padding value\n",
    "        \n",
    "    Returns:\n",
    "        tgt_x_batch: Tensor, (batch_size x max_len)\n",
    "        tgt_y_batch: Tensor, (batch_size x max_len)\n",
    "        src_seq_lens_batch: Tensor, (batch_size, )\n",
    "    \"\"\"\n",
    "    tgt_x_batch, tgt_y_batch, tgt_seq_lens_batch = [], [], []\n",
    "    for sent, seq_len in zip(tgt_batch, tgt_seq_lens):\n",
    "        # Start your code here\n",
    "        # Append x, y, and seq_len\n",
    "        # X is the sentence minus the last token (the EOS token)\n",
    "        # Y is the sentence minus the first token (the SOS token)\n",
    "        tgt_x_batch.append(sent[:-1].copy())\n",
    "        tgt_y_batch.append(sent[1:].copy())\n",
    "        tgt_seq_lens_batch.append(seq_len)\n",
    "        # End\n",
    "\n",
    "    max_tgt_len = max(tgt_seq_lens_batch)\n",
    "    # Start your code here\n",
    "    # Please refer to tf.convert_to_tensor. The dtype should be tf.int64\n",
    "    # Padding\n",
    "    padded_x = tf.keras.utils.pad_sequences(tgt_x_batch, maxlen = max_tgt_len, dtype='int64', padding='post', value = pad_val)\n",
    "    padded_y = tf.keras.utils.pad_sequences(tgt_y_batch, maxlen = max_tgt_len, dtype='int64', padding='post', value = pad_val)\n",
    "    # Convert to tensor\n",
    "    tgt_x_batch = tf.convert_to_tensor(padded_x, dtype=tf.int64)\n",
    "    tgt_y_batch = tf.convert_to_tensor(padded_y, dtype=tf.int64)\n",
    "    tgt_seq_lens_batch = tf.convert_to_tensor(tgt_seq_lens_batch, dtype=tf.int64)\n",
    "    # End\n",
    "    return tgt_x_batch, tgt_y_batch, tgt_seq_lens_batch"
   ]
  },
  {
   "cell_type": "code",
   "execution_count": 83,
   "metadata": {},
   "outputs": [],
   "source": [
    "def pad_batch(src_batch: List[List[int]], src_seq_lens: List[int], tgt_batch: List[List[int]], tgt_seq_lens: List[int], pad_val: int):\n",
    "    src_batch, src_seq_lens_batch = pad_src_batch(src_batch, src_seq_lens, pad_val)\n",
    "    tgt_x_batch, tgt_y_batch, tgt_seq_lens_batch = pad_tgt_batch(tgt_batch, tgt_seq_lens, pad_val)\n",
    "    return src_batch, src_seq_lens_batch, tgt_x_batch, tgt_y_batch, tgt_seq_lens_batch"
   ]
  },
  {
   "cell_type": "markdown",
   "metadata": {},
   "source": [
    "### 3.2 Batch Index Sampler (10 Points)\n",
    "\n",
    "Create a index sampler to sample data index for each batch.\n",
    "\n",
    "This is to make the sentences in each batch have similar lengths to speed up training.\n",
    "\n",
    "Example:\n",
    "```\n",
    "Assume the sentence lengths are: [5, 2, 3, 6, 2, 3, 6] and batch_size is 2.\n",
    "We can make the indices in the batches as follows:\n",
    "[1, 4] of length 2\n",
    "[2, 5] of length 3\n",
    "[0, 3] of lengths 5 and 6\n",
    "[6] of length 6\n",
    "```"
   ]
  },
  {
   "cell_type": "code",
   "execution_count": 84,
   "metadata": {},
   "outputs": [],
   "source": [
    "class SeqLenBatchSampler:\n",
    "    def __init__(self, seq_lens: List[int], batch_size: int, seed: int = 6666):\n",
    "        \"\"\" The index sampler.\n",
    "            It can be used with iteration:\n",
    "            ```\n",
    "            n_batch = len(sampler)\n",
    "            for indices in sampler:\n",
    "                ...\n",
    "            ```\n",
    "            \n",
    "            Args:\n",
    "                seq_lens: A list training sequence lengths (src)\n",
    "                batch_size: .\n",
    "                seed: .\n",
    "        \"\"\"\n",
    "        np.random.seed(seed)\n",
    "        self.seq_lens = seq_lens\n",
    "        self.batch_size = batch_size\n",
    "        self.batches = self._make_batch_index()\n",
    "\n",
    "        self.n_batch = len(self.batches)\n",
    "        self.counter = -1\n",
    "        \n",
    "    def _make_batch_index(self) -> List[List[int]]:\n",
    "        \"\"\" Build the indexes in each batch.\n",
    "\n",
    "            Return:\n",
    "                batches: A list of indices batch, e.g., [[0, 2, 8], [3, 6, 4], [5, 1, 7], ...]\n",
    "        \"\"\"\n",
    "        n = len(self.seq_lens)\n",
    "        n_batch = int(np.ceil(n / self.batch_size))\n",
    "        batches = []\n",
    "        # Start your code here\n",
    "        # Step 1. Use np.argsort to get all indices with sorted length\n",
    "        #      2. Split the indices into batches using a for loop: `for i in range(n_batch):`\n",
    "        ordered = np.argsort(self.seq_lens)\n",
    "        for i in range(n_batch):\n",
    "            batches.append(ordered[i * self.batch_size : (i + 1) * self.batch_size])\n",
    "        # End\n",
    "        return batches\n",
    "    \n",
    "    def __len__(self):\n",
    "        return self.n_batch\n",
    "    \n",
    "    def __item__(self, index):\n",
    "        return self.batches[index]\n",
    "    \n",
    "    def __iter__(self):\n",
    "        np.random.shuffle(self.batches)\n",
    "        self.counter = -1\n",
    "        return self\n",
    "\n",
    "    def __next__(self):\n",
    "        self.counter += 1\n",
    "        if self.counter < self.n_batch:\n",
    "            return self.batches[self.counter]\n",
    "        raise StopIteration"
   ]
  },
  {
   "cell_type": "markdown",
   "metadata": {},
   "source": [
    "### 3.3 Running the model"
   ]
  },
  {
   "cell_type": "markdown",
   "metadata": {},
   "source": [
    "Generate the length"
   ]
  },
  {
   "cell_type": "code",
   "execution_count": 85,
   "metadata": {},
   "outputs": [],
   "source": [
    "np.random.seed(6666)\n",
    "train_seq_lens_en = [len(en_sent) for en_sent in train_en]\n",
    "train_seq_lens_fr = [len(fr_sent) for fr_sent in train_fr]\n",
    "valid_seq_lens_en = [len(en_sent) for en_sent in valid_en]\n",
    "valid_seq_lens_fr = [len(fr_sent) for fr_sent in valid_fr]\n",
    "test_seq_lens_en = [len(en_sent) for en_sent in test_en]\n",
    "test_seq_lens_fr = [len(fr_sent) for fr_sent in test_fr]"
   ]
  },
  {
   "cell_type": "markdown",
   "metadata": {},
   "source": [
    "Create np array"
   ]
  },
  {
   "cell_type": "code",
   "execution_count": 86,
   "metadata": {},
   "outputs": [],
   "source": [
    "train_en = np.array(train_en, dtype=object)\n",
    "train_seq_lens_en = np.array(train_seq_lens_en)\n",
    "train_fr = np.array(train_fr, dtype=object)\n",
    "train_seq_lens_fr = np.array(train_seq_lens_fr)"
   ]
  },
  {
   "cell_type": "markdown",
   "metadata": {},
   "source": [
    "Model parameters"
   ]
  },
  {
   "cell_type": "code",
   "execution_count": 87,
   "metadata": {},
   "outputs": [],
   "source": [
    "import random\n",
    "\n",
    "\n",
    "seed = 6666\n",
    "random.seed(seed)\n",
    "np.random.seed(seed)\n",
    "tf.random.set_seed(seed)"
   ]
  },
  {
   "cell_type": "code",
   "execution_count": 88,
   "metadata": {},
   "outputs": [],
   "source": [
    "src_vocab_size = len(fr_tokenizer.get_vocab())\n",
    "tgt_vocab_size = len(en_tokenizer.get_vocab())\n",
    "hidden_units = 256\n",
    "embedding_dim = 128\n",
    "dropout_rate = 0.0"
   ]
  },
  {
   "cell_type": "code",
   "execution_count": 89,
   "metadata": {},
   "outputs": [],
   "source": [
    "model = Seq2seq(src_vocab_size, tgt_vocab_size, embedding_dim, hidden_units, dropout_rate)\n",
    "model.set_training(True)"
   ]
  },
  {
   "cell_type": "code",
   "execution_count": 90,
   "id": "9cf51a5f",
   "metadata": {},
   "outputs": [],
   "source": [
    "attention_model = Seq2seqAttention(src_vocab_size, tgt_vocab_size, embedding_dim, hidden_units, dropout_rate)\n",
    "attention_model.set_training(True)"
   ]
  },
  {
   "cell_type": "code",
   "execution_count": 91,
   "metadata": {},
   "outputs": [],
   "source": [
    "num_epoch = 15\n",
    "batch_size = 256\n",
    "learning_rate = 1e-3"
   ]
  },
  {
   "cell_type": "code",
   "execution_count": 92,
   "metadata": {},
   "outputs": [],
   "source": [
    "optimizer = tf.keras.optimizers.Adam(learning_rate=learning_rate)\n",
    "train_batch_sampler = SeqLenBatchSampler(train_seq_lens_fr, batch_size)"
   ]
  },
  {
   "cell_type": "code",
   "execution_count": 93,
   "id": "ef25b6f2",
   "metadata": {},
   "outputs": [],
   "source": [
    "attention_optimizer = tf.keras.optimizers.Adam(learning_rate=learning_rate)\n",
    "attention_train_batch_sampler = SeqLenBatchSampler(train_seq_lens_fr, batch_size)"
   ]
  },
  {
   "cell_type": "code",
   "execution_count": 94,
   "metadata": {},
   "outputs": [
    {
     "name": "stdout",
     "output_type": "stream",
     "text": [
      "Epoch 1 / 15 - Step 910 / 910 - train loss: 5.6260 - valid loss: 5.4835\n",
      "Epoch 2 / 15 - Step 910 / 910 - train loss: 4.4674 - valid loss: 4.7475\n",
      "Epoch 3 / 15 - Step 910 / 910 - train loss: 3.8955 - valid loss: 4.4737\n",
      "Epoch 4 / 15 - Step 910 / 910 - train loss: 3.5743 - valid loss: 4.3011\n",
      "Epoch 5 / 15 - Step 910 / 910 - train loss: 3.3569 - valid loss: 4.1839\n",
      "Epoch 6 / 15 - Step 910 / 910 - train loss: 3.1933 - valid loss: 4.1135\n",
      "Epoch 7 / 15 - Step 910 / 910 - train loss: 3.0648 - valid loss: 4.0503\n",
      "Epoch 8 / 15 - Step 910 / 910 - train loss: 2.9535 - valid loss: 4.0185\n",
      "Epoch 9 / 15 - Step 910 / 910 - train loss: 2.8594 - valid loss: 3.9759\n",
      "Epoch 10 / 15 - Step 910 / 910 - train loss: 2.7765 - valid loss: 3.9532\n",
      "Epoch 11 / 15 - Step 910 / 910 - train loss: 2.7055 - valid loss: 3.9290\n",
      "Epoch 12 / 15 - Step 910 / 910 - train loss: 2.6423 - valid loss: 3.9189\n",
      "Epoch 13 / 15 - Step 910 / 910 - train loss: 2.5858 - valid loss: 3.9292\n",
      "Epoch 14 / 15 - Step 910 / 910 - train loss: 2.5344 - valid loss: 3.9152\n",
      "Epoch 15 / 15 - Step 910 / 910 - train loss: 2.4884 - valid loss: 3.9026\n"
     ]
    }
   ],
   "source": [
    "n_training_samples = len(train_fr)\n",
    "n_valid_batch = int(np.ceil(len(valid_fr) / batch_size))\n",
    "pad_token_id = fr_tokenizer.token_to_id('<pad>')\n",
    "train_losses, valid_losses = [], []\n",
    "for epoch in range(num_epoch):\n",
    "    epoch_loss = 0.0\n",
    "    for batch_idx, data_index in enumerate(train_batch_sampler):\n",
    "        src_batch, src_seq_lens = train_fr[data_index], train_seq_lens_fr[data_index]\n",
    "        tgt_batch, tgt_seq_lens = train_en[data_index], train_seq_lens_en[data_index]\n",
    "        real_batch_size = len(src_batch)\n",
    "        (src_batch, src_seq_lens_batch,\n",
    "         tgt_x_batch, tgt_y_batch, tgt_seq_lens_batch) = pad_batch(src_batch, src_seq_lens,\n",
    "                                                                   tgt_batch, tgt_seq_lens,\n",
    "                                                                   pad_val=pad_token_id)\n",
    "\n",
    "        with tf.GradientTape() as tape:\n",
    "            output = model(src_batch, src_seq_lens_batch, tgt_x_batch, tgt_seq_lens_batch)\n",
    "            loss = seq2seq_loss(output, tgt_y_batch, tgt_seq_lens_batch)\n",
    "\n",
    "        print_line(f'Epoch {epoch + 1} / {num_epoch} - Step {batch_idx + 1} / {len(train_batch_sampler)} - loss: {loss:.4f}')\n",
    "\n",
    "        trainable_vars = model.trainable_variables\n",
    "        gradients = tape.gradient(loss, trainable_vars)\n",
    "\n",
    "        # Update weights\n",
    "        optimizer.apply_gradients(zip(gradients, trainable_vars))\n",
    "        epoch_loss += loss * real_batch_size\n",
    "\n",
    "    valid_loss = 0.0\n",
    "    for batch_idx in range(n_valid_batch):\n",
    "        start = batch_idx * batch_size\n",
    "        end = start + batch_size\n",
    "        src_batch, src_seq_lens = valid_fr[start:end], valid_seq_lens_fr[start:end]\n",
    "        tgt_batch, tgt_seq_lens = valid_en[start:end], valid_seq_lens_en[start:end]\n",
    "        real_batch_size = len(src_batch)\n",
    "        (src_batch, src_seq_lens_batch,\n",
    "         tgt_x_batch, tgt_y_batch, tgt_seq_lens_batch) = pad_batch(src_batch, src_seq_lens,\n",
    "                                                                   tgt_batch, tgt_seq_lens,\n",
    "                                                                   pad_val=pad_token_id)\n",
    "        output = model(src_batch, src_seq_lens_batch, tgt_x_batch, tgt_seq_lens_batch, training=False)\n",
    "        loss = seq2seq_loss(output, tgt_y_batch, tgt_seq_lens_batch)\n",
    "\n",
    "        if batch_idx % 1 == 0 or batch_idx == len(valid_en) - 1:\n",
    "            print_line(f'Epoch {epoch + 1} / {num_epoch} - Step {batch_idx + 1} / {n_valid_batch} - loss: {loss:.4f}')\n",
    "\n",
    "        valid_loss += loss * real_batch_size\n",
    "    train_epoch_loss = epoch_loss / n_training_samples\n",
    "    valid_epoch_loss = valid_loss / len(valid_en)\n",
    "    train_losses.append(train_epoch_loss)\n",
    "    valid_losses.append(valid_epoch_loss)\n",
    "    print(f'\\rEpoch {epoch + 1} / {num_epoch} - Step {len(train_batch_sampler)} / {len(train_batch_sampler)} - train loss: {train_epoch_loss:.4f} - valid loss: {valid_epoch_loss:.4f}')"
   ]
  },
  {
   "cell_type": "code",
   "execution_count": 95,
   "id": "a62b372f",
   "metadata": {},
   "outputs": [
    {
     "name": "stdout",
     "output_type": "stream",
     "text": [
      "Epoch 1 / 15 - Step 910 / 910 - train loss: 4.9309 - valid loss: 4.9111\n",
      "Epoch 2 / 15 - Step 910 / 910 - train loss: 3.9595 - valid loss: 4.3504\n",
      "Epoch 3 / 15 - Step 910 / 910 - train loss: 3.1371 - valid loss: 3.7715\n",
      "Epoch 4 / 15 - Step 910 / 910 - train loss: 2.6028 - valid loss: 3.4797\n",
      "Epoch 5 / 15 - Step 910 / 910 - train loss: 2.3036 - valid loss: 3.3335\n",
      "Epoch 6 / 15 - Step 910 / 910 - train loss: 2.1162 - valid loss: 3.2452\n",
      "Epoch 7 / 15 - Step 910 / 910 - train loss: 1.9818 - valid loss: 3.1922\n",
      "Epoch 8 / 15 - Step 910 / 910 - train loss: 1.8792 - valid loss: 3.1662\n",
      "Epoch 9 / 15 - Step 910 / 910 - train loss: 1.7937 - valid loss: 3.1542\n",
      "Epoch 10 / 15 - Step 910 / 910 - train loss: 1.7235 - valid loss: 3.1685\n",
      "Epoch 11 / 15 - Step 910 / 910 - train loss: 1.6647 - valid loss: 3.1519\n",
      "Epoch 12 / 15 - Step 910 / 910 - train loss: 1.6078 - valid loss: 3.1478\n",
      "Epoch 13 / 15 - Step 910 / 910 - train loss: 1.5581 - valid loss: 3.1449\n",
      "Epoch 14 / 15 - Step 910 / 910 - train loss: 1.5157 - valid loss: 3.1481\n",
      "Epoch 15 / 15 - Step 910 / 910 - train loss: 1.4761 - valid loss: 3.1847\n"
     ]
    }
   ],
   "source": [
    "n_training_samples = len(train_fr)\n",
    "n_valid_batch = int(np.ceil(len(valid_fr) / batch_size))\n",
    "pad_token_id = fr_tokenizer.token_to_id('<pad>')\n",
    "attention_train_losses, attention_valid_losses = [], []\n",
    "for epoch in range(num_epoch):\n",
    "    epoch_loss = 0.0\n",
    "    for batch_idx, data_index in enumerate(attention_train_batch_sampler):\n",
    "        src_batch, src_seq_lens = train_fr[data_index], train_seq_lens_fr[data_index]\n",
    "        tgt_batch, tgt_seq_lens = train_en[data_index], train_seq_lens_en[data_index]\n",
    "        real_batch_size = len(src_batch)\n",
    "        (src_batch, src_seq_lens_batch,\n",
    "         tgt_x_batch, tgt_y_batch, tgt_seq_lens_batch) = pad_batch(src_batch, src_seq_lens,\n",
    "                                                                   tgt_batch, tgt_seq_lens,\n",
    "                                                                   pad_val=pad_token_id)\n",
    "\n",
    "        with tf.GradientTape() as tape:\n",
    "            output = attention_model(src_batch, src_seq_lens_batch, tgt_x_batch, tgt_seq_lens_batch)\n",
    "            loss = seq2seq_loss(output, tgt_y_batch, tgt_seq_lens_batch)\n",
    "\n",
    "        print_line(f'Epoch {epoch + 1} / {num_epoch} - Step {batch_idx + 1} / {len(train_batch_sampler)} - loss: {loss:.4f}')\n",
    "\n",
    "        trainable_vars = attention_model.trainable_variables\n",
    "        gradients = tape.gradient(loss, trainable_vars)\n",
    "\n",
    "        # Update weights\n",
    "        attention_optimizer.apply_gradients(zip(gradients, trainable_vars))\n",
    "        epoch_loss += loss * real_batch_size\n",
    "\n",
    "    valid_loss = 0.0\n",
    "    for batch_idx in range(n_valid_batch):\n",
    "        start = batch_idx * batch_size\n",
    "        end = start + batch_size\n",
    "        src_batch, src_seq_lens = valid_fr[start:end], valid_seq_lens_fr[start:end]\n",
    "        tgt_batch, tgt_seq_lens = valid_en[start:end], valid_seq_lens_en[start:end]\n",
    "        real_batch_size = len(src_batch)\n",
    "        (src_batch, src_seq_lens_batch,\n",
    "         tgt_x_batch, tgt_y_batch, tgt_seq_lens_batch) = pad_batch(src_batch, src_seq_lens,\n",
    "                                                                   tgt_batch, tgt_seq_lens,\n",
    "                                                                   pad_val=pad_token_id)\n",
    "        output = attention_model(src_batch, src_seq_lens_batch, tgt_x_batch, tgt_seq_lens_batch, training=False)\n",
    "        loss = seq2seq_loss(output, tgt_y_batch, tgt_seq_lens_batch)\n",
    "\n",
    "        if batch_idx % 1 == 0 or batch_idx == len(valid_en) - 1:\n",
    "            print_line(f'Epoch {epoch + 1} / {num_epoch} - Step {batch_idx + 1} / {n_valid_batch} - loss: {loss:.4f}')\n",
    "\n",
    "        valid_loss += loss * real_batch_size\n",
    "    train_epoch_loss = epoch_loss / n_training_samples\n",
    "    valid_epoch_loss = valid_loss / len(valid_en)\n",
    "    attention_train_losses.append(train_epoch_loss)\n",
    "    attention_valid_losses.append(valid_epoch_loss)\n",
    "    print(f'\\rEpoch {epoch + 1} / {num_epoch} - Step {len(attention_train_batch_sampler)} / {len(attention_train_batch_sampler)} - train loss: {train_epoch_loss:.4f} - valid loss: {valid_epoch_loss:.4f}')"
   ]
  },
  {
   "cell_type": "markdown",
   "metadata": {},
   "source": [
    "If you implement everything correctly, the valid loss will be around 4."
   ]
  },
  {
   "cell_type": "code",
   "execution_count": 96,
   "metadata": {},
   "outputs": [
    {
     "name": "stdout",
     "output_type": "stream",
     "text": [
      "Model: \"seq2seq_1\"\n",
      "_________________________________________________________________\n",
      " Layer (type)                Output Shape              Param #   \n",
      "=================================================================\n",
      " encoder_3 (Encoder)         multiple                  1576448   \n",
      "|¯¯¯¯¯¯¯¯¯¯¯¯¯¯¯¯¯¯¯¯¯¯¯¯¯¯¯¯¯¯¯¯¯¯¯¯¯¯¯¯¯¯¯¯¯¯¯¯¯¯¯¯¯¯¯¯¯¯¯¯¯¯¯|\n",
      "| embedding_6 (Embedding)    multiple                  1280000  |\n",
      "|                                                               |\n",
      "| gru_6 (GRU)                multiple                  296448   |\n",
      "_________________________________________________________________\n",
      " Layer (type)                Output Shape              Param #   \n",
      "=================================================================\n",
      " encoder_3 (Encoder)         multiple                  1576448   \n",
      "|¯¯¯¯¯¯¯¯¯¯¯¯¯¯¯¯¯¯¯¯¯¯¯¯¯¯¯¯¯¯¯¯¯¯¯¯¯¯¯¯¯¯¯¯¯¯¯¯¯¯¯¯¯¯¯¯¯¯¯¯¯¯¯|\n",
      "| embedding_6 (Embedding)    multiple                  1280000  |\n",
      "|                                                               |\n",
      "| gru_6 (GRU)                multiple                  296448   |\n",
      "¯¯¯¯¯¯¯¯¯¯¯¯¯¯¯¯¯¯¯¯¯¯¯¯¯¯¯¯¯¯¯¯¯¯¯¯¯¯¯¯¯¯¯¯¯¯¯¯¯¯¯¯¯¯¯¯¯¯¯¯¯¯¯¯¯\n",
      " decoder_1 (Decoder)         multiple                  4146448   \n",
      "|¯¯¯¯¯¯¯¯¯¯¯¯¯¯¯¯¯¯¯¯¯¯¯¯¯¯¯¯¯¯¯¯¯¯¯¯¯¯¯¯¯¯¯¯¯¯¯¯¯¯¯¯¯¯¯¯¯¯¯¯¯¯¯|\n",
      "| embedding_7 (Embedding)    multiple                  1280000  |\n",
      "|                                                               |\n",
      "| gru_7 (GRU)                multiple                  296448   |\n",
      "|                                                               |\n",
      "| dropout_3 (Dropout)        multiple                  0        |\n",
      "|                                                               |\n",
      "| dense_3 (Dense)            multiple                  2570000  |\n",
      "¯¯¯¯¯¯¯¯¯¯¯¯¯¯¯¯¯¯¯¯¯¯¯¯¯¯¯¯¯¯¯¯¯¯¯¯¯¯¯¯¯¯¯¯¯¯¯¯¯¯¯¯¯¯¯¯¯¯¯¯¯¯¯¯¯\n",
      "=================================================================\n",
      "Total params: 5722896 (21.83 MB)\n",
      "Trainable params: 5722896 (21.83 MB)\n",
      "Non-trainable params: 0 (0.00 Byte)\n",
      "_________________________________________________________________\n"
     ]
    }
   ],
   "source": [
    "model.summary(expand_nested=True)"
   ]
  },
  {
   "cell_type": "code",
   "execution_count": 97,
   "id": "592475e9",
   "metadata": {},
   "outputs": [
    {
     "name": "stdout",
     "output_type": "stream",
     "text": [
      "Model: \"seq2seq_attention_2\"\n",
      "_________________________________________________________________\n",
      " Layer (type)                Output Shape              Param #   \n",
      "=================================================================\n",
      " encoder_4 (Encoder)         multiple                  1576448   \n",
      "|¯¯¯¯¯¯¯¯¯¯¯¯¯¯¯¯¯¯¯¯¯¯¯¯¯¯¯¯¯¯¯¯¯¯¯¯¯¯¯¯¯¯¯¯¯¯¯¯¯¯¯¯¯¯¯¯¯¯¯¯¯¯¯|\n",
      "| embedding_8 (Embedding)    multiple                  1280000  |\n",
      "|                                                               |\n",
      "| gru_8 (GRU)                multiple                  296448   |\n",
      "¯¯¯¯¯¯¯¯¯¯¯¯¯¯¯¯¯¯¯¯¯¯¯¯¯¯¯¯¯¯¯¯¯¯¯¯¯¯¯¯¯¯¯¯¯¯¯¯¯¯¯¯¯¯¯¯¯¯¯¯¯¯¯¯¯\n",
      "_________________________________________________________________\n",
      " Layer (type)                Output Shape              Param #   \n",
      "=================================================================\n",
      " encoder_4 (Encoder)         multiple                  1576448   \n",
      "|¯¯¯¯¯¯¯¯¯¯¯¯¯¯¯¯¯¯¯¯¯¯¯¯¯¯¯¯¯¯¯¯¯¯¯¯¯¯¯¯¯¯¯¯¯¯¯¯¯¯¯¯¯¯¯¯¯¯¯¯¯¯¯|\n",
      "| embedding_8 (Embedding)    multiple                  1280000  |\n",
      "|                                                               |\n",
      "| gru_8 (GRU)                multiple                  296448   |\n",
      "¯¯¯¯¯¯¯¯¯¯¯¯¯¯¯¯¯¯¯¯¯¯¯¯¯¯¯¯¯¯¯¯¯¯¯¯¯¯¯¯¯¯¯¯¯¯¯¯¯¯¯¯¯¯¯¯¯¯¯¯¯¯¯¯¯\n",
      " attention_decoder_2 (Atten  multiple                  6706448   \n",
      " tionDecoder)                                                    \n",
      "|¯¯¯¯¯¯¯¯¯¯¯¯¯¯¯¯¯¯¯¯¯¯¯¯¯¯¯¯¯¯¯¯¯¯¯¯¯¯¯¯¯¯¯¯¯¯¯¯¯¯¯¯¯¯¯¯¯¯¯¯¯¯¯|\n",
      "| embedding_9 (Embedding)    multiple                  1280000  |\n",
      "|                                                               |\n",
      "| gru_9 (GRU)                multiple                  296448   |\n",
      "|                                                               |\n",
      "| attention_2 (Attention)    multiple                  0        |\n",
      "|                                                               |\n",
      "| dropout_4 (Dropout)        multiple                  0        |\n",
      "|                                                               |\n",
      "| dense_4 (Dense)            multiple                  5130000  |\n",
      "|                                                               |\n",
      "| concatenate_2 (Concatenat  multiple                  0        |\n",
      "| e)                                                            |\n",
      "¯¯¯¯¯¯¯¯¯¯¯¯¯¯¯¯¯¯¯¯¯¯¯¯¯¯¯¯¯¯¯¯¯¯¯¯¯¯¯¯¯¯¯¯¯¯¯¯¯¯¯¯¯¯¯¯¯¯¯¯¯¯¯¯¯\n",
      "=================================================================\n",
      "Total params: 8282896 (31.60 MB)\n",
      "Trainable params: 8282896 (31.60 MB)\n",
      "Non-trainable params: 0 (0.00 Byte)\n",
      "_________________________________________________________________\n"
     ]
    }
   ],
   "source": [
    "attention_model.summary(expand_nested=True)"
   ]
  },
  {
   "cell_type": "code",
   "execution_count": 98,
   "metadata": {},
   "outputs": [
    {
     "data": {
      "image/png": "[encoded data removed]",
      "text/plain": [
       "<Figure size 640x480 with 1 Axes>"
      ]
     },
     "metadata": {},
     "output_type": "display_data"
    }
   ],
   "source": [
    "%matplotlib inline\n",
    "from matplotlib import pyplot as plt\n",
    "\n",
    "\n",
    "x = np.arange(1, len(train_losses) + 1)\n",
    "plt.plot(x, train_losses, label='Train loss')\n",
    "plt.plot(x, valid_losses, label='Valid loss')\n",
    "plt.legend()\n",
    "plt.ylabel('Loss')\n",
    "plt.xlabel('Epoch')\n",
    "plt.xticks(x)\n",
    "plt.show()"
   ]
  },
  {
   "cell_type": "code",
   "execution_count": 99,
   "id": "005c66f2",
   "metadata": {},
   "outputs": [
    {
     "data": {
      "image/png": "[encoded data removed]",
      "text/plain": [
       "<Figure size 640x480 with 1 Axes>"
      ]
     },
     "metadata": {},
     "output_type": "display_data"
    }
   ],
   "source": [
    "%matplotlib inline\n",
    "from matplotlib import pyplot as plt\n",
    "\n",
    "\n",
    "x = np.arange(1, len(attention_train_losses) + 1)\n",
    "plt.plot(x, attention_train_losses, label='Attention Train loss')\n",
    "plt.plot(x, attention_valid_losses, label='Attention Valid loss')\n",
    "plt.legend()\n",
    "plt.ylabel('Loss')\n",
    "plt.xlabel('Epoch')\n",
    "plt.xticks(x)\n",
    "plt.show()"
   ]
  },
  {
   "cell_type": "markdown",
   "metadata": {},
   "source": [
    "### 3.4 Translate French to English (15 Points)"
   ]
  },
  {
   "cell_type": "code",
   "execution_count": 109,
   "metadata": {},
   "outputs": [],
   "source": [
    "sos_token_id = en_tokenizer.token_to_id('<s>')\n",
    "eos_token_id = en_tokenizer.token_to_id('</s>')\n",
    "max_pred_len = 200\n",
    "def translate(encoder: 'Encoder', decoder: 'Decoder', fr_sentences: List[List[int]], attention = False):\n",
    "    \"\"\" Translate the src (French) sentences to English sentences.\n",
    "        This is a recursive translation.\n",
    "        \n",
    "    Args:\n",
    "        encoder: The encoder part in seq2seq\n",
    "        decoder: The decoder part in seq2seq\n",
    "        fr_sentences: The src token ids of all sentences\n",
    "    Returns:\n",
    "        pred_sentences: The predicted string sentences\n",
    "    \"\"\"\n",
    "    n = len(fr_sentences)\n",
    "    pred_sentences = []\n",
    "    for i, src_ids in enumerate(fr_sentences):\n",
    "        print_line(f'{i + 1} / {n}')\n",
    "        # Shape of src_ids: (1 x seq_len)\n",
    "        src_ids = tf.expand_dims(tf.convert_to_tensor(src_ids, dtype=tf.int64), axis=0)\n",
    "        # pred is the prediction token ids. It starts with <s>\n",
    "        pred = [sos_token_id]\n",
    "        # Start your code here\n",
    "        # Step 1. Calculate the encoder outputs and hidden states (similar to seq2seq2 model)\n",
    "        # Step 2. Run a while loop when the last token in pred is not eos_token_id and the length of pred is less than max_pred_len\n",
    "        # Step 3.     In the while loop, build the input (cur_token) of decoder: the last token of pred. Shape (batch_size, ) -> (1, )\n",
    "        #             For example, if the current pred is [1, 50, 21, 8], the cur_token is [8]\n",
    "        # Step 4.     In the while loop, use decoder.predict to get the decoder output\n",
    "        # Step 5.     In the while loop, find the index with the maximum value. Then you can call tf.squeeze and numpy() to get the index\n",
    "        # Step 6.     In the while loop, append the predicted token to pred\n",
    "        # Step 7. Use en_tokenizer to decode the id to strings: pred_sentence\n",
    "        enc_outputs, state = encoder(src_ids, None)\n",
    "        while pred[-1] != eos_token_id and len(pred) <= max_pred_len:\n",
    "            cur_token = tf.ensure_shape(tf.convert_to_tensor([pred[-1]], dtype='int64'), (1,))\n",
    "            # Since the Decoder and AttentionDecoder layer require different inputs, \n",
    "            # need to check if we are using attention.\n",
    "            if attention:\n",
    "                dec_outputs, state = decoder.predict(cur_token, state, enc_outputs)\n",
    "            else:\n",
    "                dec_outputs, state = decoder.predict(cur_token, state)\n",
    "            index = tf.squeeze(tf.math.argmax(tf.squeeze(dec_outputs))).numpy()\n",
    "            pred.append(index)\n",
    "        # End\n",
    "        pred_sentence = en_tokenizer.decode(pred)\n",
    "        pred_sentences.append(pred_sentence)\n",
    "    print_line('\\n')\n",
    "    return pred_sentences"
   ]
  },
  {
   "cell_type": "code",
   "execution_count": 112,
   "id": "a0bf2f2d",
   "metadata": {},
   "outputs": [
    {
     "name": "stdout",
     "output_type": "stream",
     "text": [
      "8597 / 8597\n"
     ]
    }
   ],
   "source": [
    "model.set_training(False)\n",
    "\n",
    "test_pred = translate(model.encoder, model.decoder, fr_sentences=test_fr)"
   ]
  },
  {
   "cell_type": "code",
   "execution_count": 111,
   "id": "65a3bcbc",
   "metadata": {},
   "outputs": [
    {
     "name": "stdout",
     "output_type": "stream",
     "text": [
      "8597 / 8597\n"
     ]
    }
   ],
   "source": [
    "attention_model.set_training(False)\n",
    "\n",
    "attention_test_pred = translate(attention_model.encoder, attention_model.decoder, fr_sentences=test_fr, attention = True)"
   ]
  },
  {
   "cell_type": "markdown",
   "metadata": {},
   "source": [
    "### 3.5 Demonstrate 10 translation examples (5 Points)"
   ]
  },
  {
   "cell_type": "code",
   "execution_count": 114,
   "metadata": {},
   "outputs": [
    {
     "name": "stdout",
     "output_type": "stream",
     "text": [
      "French:  les bonnes équipes envoient ces informations de façon à ce que les joueurs puissent s'en servir.\n",
      "True English:  the good teams stream it in a way that the players can use.\n",
      "1 / 1\n",
      "Translated English (seq2seq model):  the guys on the screen have to be able to make these kinds of signals that are going to be able to do this.\n",
      "1 / 1\n",
      "Translated English (seq2seq + attention model):  the good teams send these information to what gamers can use.\n",
      "\n",
      "French:  merci.\n",
      "True English:  thank you.\n",
      "1 / 1\n",
      "Translated English (seq2seq model):  thank you.\n",
      "1 / 1\n",
      "Translated English (seq2seq + attention model):  thank you.\n",
      "\n",
      "French:  il y a eu plusieurs cas où c'était vraiment juste.\n",
      "True English:  there have been several close calls.\n",
      "1 / 1\n",
      "Translated English (seq2seq model):  there were many other cases, which was really right.\n",
      "1 / 1\n",
      "Translated English (seq2seq + attention model):  there were several cases where it was really just.\n",
      "\n",
      "French:  mes prières vous accompagnent dans votre combat.\n",
      "True English:  my prayers are with you for your fight.\n",
      "1 / 1\n",
      "Translated English (seq2seq model):  your prayers are in your throat.\n",
      "1 / 1\n",
      "Translated English (seq2seq + attention model):  my prayers will come up with your battles.\n",
      "\n",
      "French:  et la question était : comment la technologie pourrait, les nouvelles technologies, y être ajoutée ?\n",
      "True English:  and the question was: how could technology, new technology,  be added to that?\n",
      "1 / 1\n",
      "Translated English (seq2seq model):  and the question was, how technology could be, new technology, can be?\n",
      "1 / 1\n",
      "Translated English (seq2seq + attention model):  and the question was, how technology could, how technology could, are you addered?\n",
      "\n",
      "French:  combien d'entre vous ont vu l'ordinateur watson d'ibm gagner à jeopardy ?\n",
      "True English:  i mean, how many of you saw the winning of jeopardy  by ibm's watson?\n",
      "1 / 1\n",
      "Translated English (seq2seq model):  how many of you have seen a computer programmer?\n",
      "1 / 1\n",
      "Translated English (seq2seq + attention model):  how many of you have seen the computer, how many of you have seen the computer?\n",
      "\n",
      "French:  j'ai travaillé dans une mine de charbon -- dangereux.\n",
      "True English:  i worked in a coal mine --  dangerous.\n",
      "1 / 1\n",
      "Translated English (seq2seq model):  i worked in a factory that i grew up.\n",
      "1 / 1\n",
      "Translated English (seq2seq + attention model):  i worked in a coal mine -- dangerous.\n",
      "\n",
      "French:  n'importe qui d'autre l'aimerait aussi.\n",
      "True English:  somebody else would love about this woman.\n",
      "1 / 1\n",
      "Translated English (seq2seq model):  anyone else would love to be too.\n",
      "1 / 1\n",
      "Translated English (seq2seq + attention model):  any other would love to love it as well.\n",
      "\n",
      "French:  c'est tragique que les nord-coréens aient à cacher leurs identités et affronter tant de choses seulement pour survivre.\n",
      "True English:  it's tragic that north koreans have to hide their identities  and struggle so hard just to survive.\n",
      "1 / 1\n",
      "Translated English (seq2seq model):  it's been the only way to the north pole, and the only thing that they have been used to be very hard to have to be used to live.\n",
      "1 / 1\n",
      "Translated English (seq2seq + attention model):  it's tragic that the north koreans have to hide their identities and confront them so much for a living.\n",
      "\n",
      "French:  la glace que je photographie dans les icebergs est parfois très jeune -- deux milles ans.\n",
      "True English:  some of the ice in the icebergs that i photograph is very young --  a couple thousand years old.\n",
      "1 / 1\n",
      "Translated English (seq2seq model):  the ice of the glacier's very rare, i found five percent of the last few days.\n",
      "1 / 1\n",
      "Translated English (seq2seq + attention model):  ice i photographed in the ibot in the jiceibus, sometimes very young.\n",
      "\n",
      "French:  nous y avons exposé six différentes sortes de confitures, ou bien 24 sortes différentes, et nous avons observé deux choses : premièrement, dans quel cas les gens allaient-ils plus volontiers s'arrêter pour goûter la confiture ?\n",
      "True English:  we there put out six different flavors of jam  or 24 different flavors of jam,  and we looked at two things:  first, in which case  were people more likely to stop, sample some jam?\n",
      "1 / 1\n",
      "Translated English (seq2seq model):  we've been six different kinds of different kinds of things, and we were going to have a lot of other people, and then we have a lot of other people, and then we can't see the monkeys, and they have a lot of other people who are going to have a good-time, or three-dimensional, so you can't do it.\n",
      "1 / 1\n",
      "Translated English (seq2seq + attention model):  we have exposed six different kinds of speakers, or 24 different kinds, and we looked at two things, first, in which people were going to stop for a confession?\n",
      "\n",
      "French:  cependant, on envoie chacun d'entre eux, y compris moi-même, dans le monde, avec l’avertissement : « sois parfait.\n",
      "True English:  what we do though is we send each one of them, including myself,  out into the world  with the admonition, be perfect.\n",
      "1 / 1\n",
      "Translated English (seq2seq model):  but then we put them in every morning, and we're all in the first, with the god, in the case of the first.\n",
      "1 / 1\n",
      "Translated English (seq2seq + attention model):  however, we send each of them, including me, in the world, with a warning, and the warning, \"be perfect.\n",
      "\n",
      "French:  rendez-vous compte, ces gens n'avaient rien, et ils avaient tellement peur, ils voulaient abandonner mais la femme au centre les a rassemblés pour qu'ils persévèrent, et les abolitionnistes sur le terrain les ont aidés à obtenir leur propre bail pour une carrière, afin qu'ils fassent, à présent, le même travail éreintant, mais c'est pour eux qu'ils le font et ils sont payés pour ça, et ils le font en toute liberté.\n",
      "True English:  i mean, these people had nothing,  and they were so petrified, they wanted to give up,  but the woman in the center rallied for them to persevere,  and abolitionists on the ground  helped them get a quarry lease of their own,  so that now they do the same back-breaking work,  but they do it for themselves, and they get paid for it,  and they do it in freedom.\n",
      "1 / 1\n",
      "Translated English (seq2seq model):  find out that they were all these women, they were all of their jobs, and they were not allowed to be a lawyer, and they were to be a lawyer, and they were to ask, and they were to ask, and they were to ask, and they were to be a lawyer, and they were to ask, and they were to be the same thing, and they were to ask for what they wanted to do, and they were to ask for the women, and they were to be the same.\n",
      "1 / 1\n",
      "Translated English (seq2seq + attention model):  you know, these people have nothing, and they had so scared, and they would have to give up, but the woman to the center and the center of the center and the abolitioners on the ground, that they helped me with their own brad for a career, so that they do now, the same thing that was, and they're paid to be paid for that, and they're paid for that, and they're paid for that, and they're paid for that, and they're paid for that, and they're paid for that, and they're paid for that, and they're paid for that, and they're paid for that, and they're paid for that, and they're paid for that, and they're paid for that, and they're paid for that, and they're paid for that, and they're paid for that, and they're paid for that, and they're paid for that, and they're paid for that, and they\n",
      "\n",
      "French:  vous vous souvenez du feu ?\n",
      "True English:  remember fire?\n",
      "1 / 1\n",
      "Translated English (seq2seq model):  do you remember the fire?\n",
      "1 / 1\n",
      "Translated English (seq2seq + attention model):  remember the gun?\n",
      "\n",
      "French:  c'est un de mes plans d'action. c'est ce que je veux faire.\n",
      "True English:  now this is one of my plans. this is what i want to do.\n",
      "1 / 1\n",
      "Translated English (seq2seq model):  this is a kind of my lab. i want to do that.\n",
      "1 / 1\n",
      "Translated English (seq2seq + attention model):  that's one of my plans. it's what i want to do.\n",
      "\n",
      "French:  nous pouvons peut-être la voir comme du changement.\n",
      "True English:  maybe we can see it as change.\n",
      "1 / 1\n",
      "Translated English (seq2seq model):  we can see that the more changes can change.\n",
      "1 / 1\n",
      "Translated English (seq2seq + attention model):  we can maybe see it as change.\n",
      "\n",
      "French:  on ne peut pas espérer le résoudre du jour au lendemain.\n",
      "True English:  we can't expect to solve it overnight.\n",
      "1 / 1\n",
      "Translated English (seq2seq model):  we can't wait better day to go back.\n",
      "1 / 1\n",
      "Translated English (seq2seq + attention model):  you can't hope to solve the day after the next day.\n",
      "\n",
      "French:  ms: et c'est une société de plusieurs millions de dollars.\n",
      "True English:  ms: and that's a multi-million dollar corporation.\n",
      "1 / 1\n",
      "Translated English (seq2seq model):  ms: and it's a million dollars for a million dollars.\n",
      "1 / 1\n",
      "Translated English (seq2seq + attention model):  ms: and it's a multi-boned society.\n",
      "\n",
      "French:  on prend des armoires chippendale qu'on transforme en gratte-ciel, et les gratte-ciel peuvent être des châteaux médiévaux en verre.\n",
      "True English:  we take chippendale armoires  and we turned those into skyscrapers,  and skyscrapers can be medieval castles made out of glass.\n",
      "1 / 1\n",
      "Translated English (seq2seq model):  we take a metal-speaking toy, and we can put it in the garage, and we can use it to be a little bit like a bass in the wall.\n",
      "1 / 1\n",
      "Translated English (seq2seq + attention model):  we take low-power pressure of that, you turn free to free, and scratch free, can't medititories.\n",
      "\n",
      "French:  et vous aimez ça.\n",
      "True English:  and you love it.\n",
      "1 / 1\n",
      "Translated English (seq2seq model):  and you love that.\n",
      "1 / 1\n",
      "Translated English (seq2seq + attention model):  and you like that.\n",
      "\n"
     ]
    }
   ],
   "source": [
    "model.set_training(False)\n",
    "np.random.seed(6666)\n",
    "sample_num = 20 # Originally 10 but instructions specify to test 20 sentences\n",
    "# Start your code here\n",
    "# Use np.random.choice to sample 10 sentence indices. Remember to set correct replace\n",
    "# Print format:\n",
    "# 1.\n",
    "# French: ...\n",
    "# True English: ...\n",
    "# Translated English: ...\n",
    "# ------------------\n",
    "selection = np.random.choice(len(test_fr), size = sample_num, replace = False)\n",
    "for index in selection:\n",
    "    # Decode the sentences to print them to the screen.\n",
    "    fr_sent = fr_tokenizer.decode(test_fr[index])\n",
    "    en_sent = en_tokenizer.decode(test_en[index])\n",
    "    print(f\"French: {fr_sent}\")\n",
    "    print(f\"True English: {en_sent}\")\n",
    "    print(f\"Translated English (seq2seq model): {translate(model.encoder, model.decoder, [test_fr[index]])[0]}\")\n",
    "    print(f\"Translated English (seq2seq + attention model): {translate(attention_model.encoder, attention_model.decoder, [test_fr[index]], attention = True)[0]}\\n\")\n",
    "\n",
    "# End"
   ]
  },
  {
   "cell_type": "markdown",
   "metadata": {},
   "source": [
    "### 3.6 Compute the bleu score (5 Points)"
   ]
  },
  {
   "cell_type": "code",
   "execution_count": 115,
   "metadata": {},
   "outputs": [
    {
     "name": "stdout",
     "output_type": "stream",
     "text": [
      "Seq2Seq BLEU: 6.56\n",
      "Seq2Seq + attention BLEU: 25.95\n"
     ]
    }
   ],
   "source": [
    "import evaluate\n",
    "\n",
    "\n",
    "sacrebleu = evaluate.load('sacrebleu', cache_dir=dataset_path)\n",
    "# Start your code here\n",
    "# see https://huggingface.co/spaces/evaluate-metric/sacrebleu\n",
    "# Note: please understand the format and meaning of references.\n",
    "references = []\n",
    "for tokens in test_en:\n",
    "    # References are the ground truths. We only have one ground truth translation\n",
    "    # for each french sentence here, so create a reference array containing only\n",
    "    # the decoded ground truth english sentence and append it to references.\n",
    "    references.append([en_tokenizer.decode(tokens)])\n",
    "results = sacrebleu.compute(predictions = test_pred, references = references)\n",
    "attention_results = sacrebleu.compute(predictions = attention_test_pred, references = references)\n",
    "# End\n",
    "score = results['score']\n",
    "attention_score = attention_results['score']\n",
    "print(f\"Seq2Seq BLEU: {round(score, 2)}\")\n",
    "print(f\"Seq2Seq + attention BLEU: {round(attention_score, 2)}\")"
   ]
  },
  {
   "cell_type": "markdown",
   "metadata": {},
   "source": [
    "If you implement everything correctly, the BLEU score will be around 7."
   ]
  },
  {
   "cell_type": "markdown",
   "metadata": {},
   "source": [
    "## Conclusion (5 Points)\n",
    "\n",
    "Including but not limited to: translation example analysis (case study), bleu score analysis, model structure / parameter analysis, etc."
   ]
  },
  {
   "cell_type": "markdown",
   "metadata": {},
   "source": [
    "Answer:\n",
    "\n",
    "Example Analysis:\n",
    "\n",
    "In the translation examples I printed, it's obvious that more context from throughout the sentence is taken into account - in general, the translated sentences from the attention-augments Seq2seq model had word choices aligning with the true translation, though there are still a few mistakes. For example, consider the following translation:\n",
    "\n",
    "\n",
    "French:  ms: et c'est une société de plusieurs millions de dollars.\n",
    "True English:  ms: and that's a multi-million dollar corporation.\n",
    "1 / 1\n",
    "Translated English (seq2seq model):  ms: and it's a million dollars for a million dollars.\n",
    "1 / 1\n",
    "Translated English (seq2seq + attention model):  ms: and it's a multi-boned society.\n",
    "\n",
    "\n",
    "Obviously, the attention model misses the mark here, but such awkward and incorrect choices are more abundant in the non-attention model.\n",
    "\n",
    "BLEU Scores:\n",
    "\n",
    "This is corroborated by the models' respective BLEU scores. The BLEU score of the attention model is about 4 times greater than the basic Seq2Seq model, indicating more accurate translations over the whole test corpus. \n",
    "\n",
    "Parameters and Structure:\n",
    "\n",
    "The attention model has about 1.5x more training parameters than the basic model, because the dense classification layer has more inputs as a result of the concatenation of the GRU layer output and the attention layer output. This difference also means that the decoder layer of the attention model requires both the output of the encoder layer AND the final state of its GRU component, instead of just the final state. \n",
    "\n",
    "However, these differences only resulted in an increase of required training time for equal training sets and number of epochs of about 9-10% (55 mins to 60 mins). For the experienced improvement in model performance, I'd say that is worth it.\n",
    "\n",
    "Training Performance:\n",
    "\n",
    "The non-attention model finished with a training error of about 2.5 and a validation loss of about 4. The attention model finished with a training loss of about 1.5 and a validation loss of about 3.1. \n",
    "\n",
    "In both cases, the training loss had not plateaued and would have continued to improve over more epochs. However, that would have likely led to overfitting.\n",
    "\n",
    "In both cases, the validation loss had plateaued by the end of training. The attention model bottomed out much earlier than the non-attention model (non-attention plateaued around epoch 12 while the attention did so around epoch 6). Indeed, the attention model showed signs of approaching overfitting conditions, as the validation loss actually increased for epoch 15. \n",
    "\n",
    "This indicates far more the improvement to model learning efficiency than the training times, since it took far less time for the attention model to reach its best validation loss as compared to the the non-attention model, and it had a better loss even then.\n",
    "\n",
    "Overall Conclusion:\n",
    "\n",
    "The addition of JUST target attending to source improved both Seq2Seq's learning efficiency and its final performance by very significant amounts. It is obvious that attention is a very useful tool for such tasks. "
   ]
  }
 ],
 "metadata": {
  "kernelspec": {
   "display_name": "Python 3",
   "language": "python",
   "name": "python3"
  },
  "language_info": {
   "codemirror_mode": {
    "name": "ipython",
    "version": 3
   },
   "file_extension": ".py",
   "mimetype": "text/x-python",
   "name": "python",
   "nbconvert_exporter": "python",
   "pygments_lexer": "ipython3",
   "version": "3.9.19"
  }
 },
 "nbformat": 4,
 "nbformat_minor": 5
}
